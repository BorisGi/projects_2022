{
 "cells": [
  {
   "cell_type": "code",
   "execution_count": 1,
   "id": "49c54995",
   "metadata": {},
   "outputs": [],
   "source": [
    "# импорт библиотек\n",
    "\n",
    "import os\n",
    "\n",
    "import pandas as pd\n",
    "pd.options.mode.chained_assignment = None  # отключаю предупреждения default='warn'\n",
    "\n",
    "\n",
    "import re # регулярки"
   ]
  },
  {
   "cell_type": "code",
   "execution_count": 2,
   "id": "8a10984d",
   "metadata": {},
   "outputs": [],
   "source": [
    "file_path = 'C:/00_Projects/RIA/2022/02_elk_accidents/00_data/'"
   ]
  },
  {
   "cell_type": "code",
   "execution_count": 3,
   "id": "87d451e8",
   "metadata": {},
   "outputs": [],
   "source": [
    "# вытаскиваю названия файлов в список file_list\n",
    "\n",
    "file_list = []\n",
    "\n",
    "for root, dirs, files in os.walk(file_path):\n",
    "    \n",
    "    for filename in files:\n",
    "        file_list += [filename]"
   ]
  },
  {
   "cell_type": "code",
   "execution_count": 4,
   "id": "c337ebb8",
   "metadata": {},
   "outputs": [
    {
     "data": {
      "text/plain": [
       "['animal_accidents_general.xlsx',\n",
       " 'mammals_dynamics_flat.xlsx',\n",
       " 'mammals_dynamics_original.xlsx',\n",
       " 'mammals_flat.xlsx',\n",
       " 'mammals_original.xlsx',\n",
       " 'minprirody_1_4_flat.xlsx',\n",
       " 'minprirody_1_4_original.xlsx',\n",
       " 'moscow_animals.xlsx',\n",
       " '2011 формы 1.1 и  1.4.xls',\n",
       " '2012 формы 1.1 и 1.4.xls',\n",
       " '2013 формы 1.1 и 1.4.xls',\n",
       " '2014 формы 1.1 и 1.4.xls',\n",
       " '2015 формы 1.1 и 1.4.xls',\n",
       " '2016 формы 1.1 и 1.4.xls',\n",
       " '2017 формы 1.1 и 1.4.xls',\n",
       " '2018 формы 1.1 и 1.4.xlsx',\n",
       " '2019 формы 1.1 и 1.4.xlsx',\n",
       " '2020 формы 1.1 и 1.4.xlsx',\n",
       " 'Форма 1.7 Итог.xlsx',\n",
       " 'population_RF.xlsx',\n",
       " 'road_length.xls',\n",
       " 'elks_temp.xlsx',\n",
       " 'new_bears.csv',\n",
       " 'new_elks.csv',\n",
       " 'new_elks_res.csv',\n",
       " 'old_elks.csv',\n",
       " 'sudact_temp.xlsx',\n",
       " 'sudrf_elks_2021.csv',\n",
       " 'sudrf_elks_2021.xlsx',\n",
       " 'sudrf_elks_2021_win.csv',\n",
       " 'temp.xlsx',\n",
       " 'temp_666.csv',\n",
       " 'urls_elk.xlsx']"
      ]
     },
     "execution_count": 4,
     "metadata": {},
     "output_type": "execute_result"
    }
   ],
   "source": [
    "file_list"
   ]
  },
  {
   "cell_type": "code",
   "execution_count": 5,
   "id": "3bf46a59",
   "metadata": {},
   "outputs": [
    {
     "name": "stdout",
     "output_type": "stream",
     "text": [
      "animal_accidents_tech\n"
     ]
    }
   ],
   "source": [
    "file_name = input() + '.xlsx'"
   ]
  },
  {
   "cell_type": "code",
   "execution_count": 7,
   "id": "af3be1f2",
   "metadata": {},
   "outputs": [],
   "source": [
    "work = pd.read_excel(file_path + file_name, sheet_name='temp_road')"
   ]
  },
  {
   "cell_type": "code",
   "execution_count": 11,
   "id": "bca289c3",
   "metadata": {},
   "outputs": [],
   "source": [
    "work = pd.read_excel(file_path + file_name, sheet_name='temp_road')"
   ]
  },
  {
   "cell_type": "code",
   "execution_count": 13,
   "id": "95039b6f",
   "metadata": {},
   "outputs": [],
   "source": [
    "work_2 = pd.read_excel(file_path + file_name, sheet_name='general')"
   ]
  },
  {
   "cell_type": "code",
   "execution_count": 14,
   "id": "d8d8c50b",
   "metadata": {},
   "outputs": [],
   "source": [
    "work_2 = work_2.merge(work, how='left', on=['region', 'year'])"
   ]
  },
  {
   "cell_type": "code",
   "execution_count": 17,
   "id": "881d20d7",
   "metadata": {},
   "outputs": [],
   "source": [
    "work_2.to_excel(file_path + 'temp.xlsx')"
   ]
  },
  {
   "cell_type": "code",
   "execution_count": 9,
   "id": "6c0eb7d2",
   "metadata": {},
   "outputs": [],
   "source": [
    "new_column_list = work.columns"
   ]
  },
  {
   "cell_type": "code",
   "execution_count": 10,
   "id": "fd5de852",
   "metadata": {},
   "outputs": [
    {
     "data": {
      "text/plain": [
       "7"
      ]
     },
     "execution_count": 10,
     "metadata": {},
     "output_type": "execute_result"
    }
   ],
   "source": [
    "len(new_column_list)"
   ]
  },
  {
   "cell_type": "code",
   "execution_count": null,
   "id": "57762707",
   "metadata": {},
   "outputs": [],
   "source": []
  },
  {
   "cell_type": "markdown",
   "id": "6aab1632",
   "metadata": {},
   "source": [
    "####  Форма 1.4"
   ]
  },
  {
   "cell_type": "code",
   "execution_count": null,
   "id": "f2a3d60f",
   "metadata": {},
   "outputs": [],
   "source": [
    "work_new = pd.DataFrame()\n",
    "\n",
    "for need_sheet in pd.read_excel(file_path + file_name, sheet_name=None).keys():\n",
    "    \n",
    "    temp_work_1 = pd.read_excel(file_path + file_name, sheet_name=need_sheet)\n",
    "    \n",
    "    for i in range(17):\n",
    "        temp_work_2 = temp_work_1.iloc[:, :6]\n",
    "        temp_work_2['year'] = need_sheet\n",
    "        temp_work_2['animal'] = temp_work_2.columns[1].split(';')[0]\n",
    "                        \n",
    "        temp_work_2.columns=['region', 'total', 'disease', 'accident', 'poaching', 'other', 'year', 'animal']\n",
    "        \n",
    "        temp_work_1.drop(temp_work_1.iloc[:, 1:6], axis=1, inplace=True)        \n",
    "        \n",
    "        work_new = work_new.append(temp_work_2, ignore_index=True)\n",
    "        \n",
    "work_new['region'] = work_new['region'].str.replace('\\s+', ' ', regex=True)\n",
    "work_new['region'] = work_new['region'].str.strip()\n",
    "\n",
    "work_new = work_new[['region', 'animal', 'year', 'disease', 'accident', 'poaching', 'other']]"
   ]
  },
  {
   "cell_type": "code",
   "execution_count": null,
   "id": "450b780b",
   "metadata": {},
   "outputs": [],
   "source": [
    "work_new.head(5)"
   ]
  },
  {
   "cell_type": "code",
   "execution_count": null,
   "id": "a3caa666",
   "metadata": {},
   "outputs": [],
   "source": [
    "work_new.to_excel(file_path + 'temp.xlsx', index=False, sheet_name='data')"
   ]
  },
  {
   "cell_type": "code",
   "execution_count": null,
   "id": "3188873d",
   "metadata": {},
   "outputs": [],
   "source": []
  },
  {
   "cell_type": "code",
   "execution_count": null,
   "id": "7fb11462",
   "metadata": {},
   "outputs": [],
   "source": []
  },
  {
   "cell_type": "markdown",
   "id": "adea69ae",
   "metadata": {},
   "source": [
    "#### Код для погибших медведей"
   ]
  },
  {
   "cell_type": "code",
   "execution_count": null,
   "id": "ebb1aa97",
   "metadata": {},
   "outputs": [],
   "source": [
    "work = pd.read_excel(file_path + 'bear_deaths.xlsx', sheet_name=need_sheet)\n",
    "work = work[['region', 'Медведи;']]\n",
    "work.sort_values('region', inplace=True)\n",
    "work.columns=['region', 'total']\n",
    "work['year'] = 2015\n",
    "work['animal'] = 'Медведи'\n",
    "work = work[['region', 'year', 'animal', 'total']]\n",
    "\n",
    "\n",
    "for need_sheet in list(pd.read_excel(file_path + 'bear_deaths.xlsx', sheet_name=None).keys())[1:]:\n",
    "    \n",
    "    temp_work = pd.read_excel(file_path + 'bear_deaths.xlsx', sheet_name=need_sheet)\n",
    "    temp_work = temp_work[['region', 'Медведи;']]\n",
    "    temp_work.sort_values('region', inplace=True)\n",
    "    temp_work.columns=['region', 'total']\n",
    "    temp_work['year'] = need_sheet\n",
    "    temp_work['animal'] = 'Медведи'\n",
    "    temp_work = temp_work[['region', 'year', 'animal', 'total']]\n",
    "    \n",
    "    work = work.append(temp_work)"
   ]
  },
  {
   "cell_type": "code",
   "execution_count": null,
   "id": "da2e0d60",
   "metadata": {},
   "outputs": [],
   "source": []
  },
  {
   "cell_type": "markdown",
   "id": "0cc743cf",
   "metadata": {},
   "source": [
    "#### Код для численности животных"
   ]
  },
  {
   "cell_type": "code",
   "execution_count": null,
   "id": "a077ce67",
   "metadata": {},
   "outputs": [],
   "source": [
    "work = pd.DataFrame()\n",
    "\n",
    "for need_sheet in pd.read_excel(file_path + file_name, sheet_name=None).keys():\n",
    "    \n",
    "    temp_work_1 = pd.read_excel(file_path + file_name, sheet_name=need_sheet)\n",
    "    temp_work_1.sort_values('region', inplace=True)\n",
    "           \n",
    "\n",
    "    for need_column in temp_work_1.columns[1:]:\n",
    "        temp_work_2 = temp_work_1[['region']]\n",
    "        temp_work_2['year'] = str(need_sheet)\n",
    "        \n",
    "        temp_work_2['animal'] = need_column\n",
    "        temp_work_2['number'] = temp_work_1[[need_column]]\n",
    "        \n",
    "        work = work.append(temp_work_2)"
   ]
  },
  {
   "cell_type": "code",
   "execution_count": null,
   "id": "bc153de9",
   "metadata": {},
   "outputs": [],
   "source": [
    "work.sample(3)"
   ]
  },
  {
   "cell_type": "markdown",
   "id": "54891000",
   "metadata": {},
   "source": [
    "### Код для динамики численности животных"
   ]
  },
  {
   "cell_type": "code",
   "execution_count": null,
   "id": "9661c82e",
   "metadata": {},
   "outputs": [],
   "source": [
    "work = pd.DataFrame()\n",
    "\n",
    "for need_sheet in pd.read_excel(file_path + file_name, sheet_name=None).keys():\n",
    "    \n",
    "    temp_work_1 = pd.read_excel(file_path + file_name, sheet_name=need_sheet)\n",
    "    temp_work_1.sort_values('region', inplace=True)\n",
    "           \n",
    "\n",
    "    for need_column in temp_work_1.columns[1:]:\n",
    "        temp_work_2 = temp_work_1[['region']]\n",
    "        temp_work_2['animal'] = need_sheet\n",
    "        \n",
    "        temp_work_2['year'] = need_column\n",
    "        temp_work_2['number'] = temp_work_1[[need_column]]\n",
    "        \n",
    "        work = work.append(temp_work_2)"
   ]
  },
  {
   "cell_type": "code",
   "execution_count": null,
   "id": "9441ec2e",
   "metadata": {},
   "outputs": [],
   "source": [
    "work.sample(3)"
   ]
  },
  {
   "cell_type": "code",
   "execution_count": null,
   "id": "ac8c4cf7",
   "metadata": {},
   "outputs": [],
   "source": []
  },
  {
   "cell_type": "code",
   "execution_count": null,
   "id": "abeed6e2",
   "metadata": {},
   "outputs": [],
   "source": [
    "work.to_excel(file_path + 'temp.xlsx', index=False)"
   ]
  },
  {
   "cell_type": "code",
   "execution_count": null,
   "id": "53907e6d",
   "metadata": {},
   "outputs": [],
   "source": []
  }
 ],
 "metadata": {
  "kernelspec": {
   "display_name": "Python 3",
   "language": "python",
   "name": "python3"
  },
  "language_info": {
   "codemirror_mode": {
    "name": "ipython",
    "version": 3
   },
   "file_extension": ".py",
   "mimetype": "text/x-python",
   "name": "python",
   "nbconvert_exporter": "python",
   "pygments_lexer": "ipython3",
   "version": "3.8.8"
  }
 },
 "nbformat": 4,
 "nbformat_minor": 5
}
