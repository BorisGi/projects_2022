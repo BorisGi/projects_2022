{
 "cells": [
  {
   "cell_type": "code",
   "execution_count": 104,
   "metadata": {},
   "outputs": [],
   "source": [
    "# импорт библиотек\n",
    "\n",
    "import pandas as pd \n",
    "\n",
    "import re # регулярки\n",
    "\n",
    "# прогресс-бар\n",
    "from tqdm.notebook import trange, tqdm"
   ]
  },
  {
   "cell_type": "code",
   "execution_count": 2,
   "metadata": {},
   "outputs": [],
   "source": [
    "# путь к файлам\n",
    "\n",
    "file_path = 'C:/01_Projects/02_elk_accidents/'"
   ]
  },
  {
   "cell_type": "code",
   "execution_count": 7,
   "metadata": {},
   "outputs": [],
   "source": [
    "# выгружаю файл в датафрейм\n",
    "\n",
    "work = pd.read_csv(file_path + 'elks.csv')"
   ]
  },
  {
   "cell_type": "code",
   "execution_count": 8,
   "metadata": {},
   "outputs": [
    {
     "data": {
      "text/html": [
       "<div>\n",
       "<style scoped>\n",
       "    .dataframe tbody tr th:only-of-type {\n",
       "        vertical-align: middle;\n",
       "    }\n",
       "\n",
       "    .dataframe tbody tr th {\n",
       "        vertical-align: top;\n",
       "    }\n",
       "\n",
       "    .dataframe thead th {\n",
       "        text-align: right;\n",
       "    }\n",
       "</style>\n",
       "<table border=\"1\" class=\"dataframe\">\n",
       "  <thead>\n",
       "    <tr style=\"text-align: right;\">\n",
       "      <th></th>\n",
       "      <th>act_name</th>\n",
       "      <th>court_info</th>\n",
       "      <th>act_text</th>\n",
       "      <th>act_url</th>\n",
       "      <th>instance</th>\n",
       "      <th>queries</th>\n",
       "    </tr>\n",
       "  </thead>\n",
       "  <tbody>\n",
       "    <tr>\n",
       "      <th>2645</th>\n",
       "      <td>Решение № 2-141/2016 от 27 июня 2016 г. по дел...</td>\n",
       "      <td>Саянский районный суд (Красноярский край) - Гр...</td>\n",
       "      <td>Решение № 2-141/2016 от 27 июня 2016 г. по дел...</td>\n",
       "      <td>https://sudact.ru/regular/doc/18jP0rcthFVl/</td>\n",
       "      <td>10</td>\n",
       "      <td>['столкновение с медведем']</td>\n",
       "    </tr>\n",
       "    <tr>\n",
       "      <th>311</th>\n",
       "      <td>Постановление № 5-27/2013 от 23 октября 2013 г.</td>\n",
       "      <td>Якшур-Бодьинский районный суд (Удмуртская Респ...</td>\n",
       "      <td>Постановление № 5-27/2013 от 23 октября 2013 г...</td>\n",
       "      <td>https://sudact.ru/regular/doc/67zn4rGDv5mT/</td>\n",
       "      <td>10</td>\n",
       "      <td>['наезд на лося', 'столкновение с лосем', 'авт...</td>\n",
       "    </tr>\n",
       "    <tr>\n",
       "      <th>224</th>\n",
       "      <td>Постановление № 5-1041/2015 от 6 ноября 2015 г...</td>\n",
       "      <td>Рыбинский городской суд (Ярославская область) ...</td>\n",
       "      <td>Постановление № 5-1041/2015 от 6 ноября 2015 г...</td>\n",
       "      <td>https://sudact.ru/regular/doc/gGILJdXa5ixR/</td>\n",
       "      <td>10</td>\n",
       "      <td>['наезд на лося']</td>\n",
       "    </tr>\n",
       "  </tbody>\n",
       "</table>\n",
       "</div>"
      ],
      "text/plain": [
       "                                               act_name  \\\n",
       "2645  Решение № 2-141/2016 от 27 июня 2016 г. по дел...   \n",
       "311     Постановление № 5-27/2013 от 23 октября 2013 г.   \n",
       "224   Постановление № 5-1041/2015 от 6 ноября 2015 г...   \n",
       "\n",
       "                                             court_info  \\\n",
       "2645  Саянский районный суд (Красноярский край) - Гр...   \n",
       "311   Якшур-Бодьинский районный суд (Удмуртская Респ...   \n",
       "224   Рыбинский городской суд (Ярославская область) ...   \n",
       "\n",
       "                                               act_text  \\\n",
       "2645  Решение № 2-141/2016 от 27 июня 2016 г. по дел...   \n",
       "311   Постановление № 5-27/2013 от 23 октября 2013 г...   \n",
       "224   Постановление № 5-1041/2015 от 6 ноября 2015 г...   \n",
       "\n",
       "                                          act_url  instance  \\\n",
       "2645  https://sudact.ru/regular/doc/18jP0rcthFVl/        10   \n",
       "311   https://sudact.ru/regular/doc/67zn4rGDv5mT/        10   \n",
       "224   https://sudact.ru/regular/doc/gGILJdXa5ixR/        10   \n",
       "\n",
       "                                                queries  \n",
       "2645                        ['столкновение с медведем']  \n",
       "311   ['наезд на лося', 'столкновение с лосем', 'авт...  \n",
       "224                                   ['наезд на лося']  "
      ]
     },
     "execution_count": 8,
     "metadata": {},
     "output_type": "execute_result"
    }
   ],
   "source": [
    "# смотрю случайные строки\n",
    "\n",
    "work.sample(3)"
   ]
  },
  {
   "cell_type": "code",
   "execution_count": 9,
   "metadata": {},
   "outputs": [
    {
     "data": {
      "text/plain": [
       "(3165, 6)"
      ]
     },
     "execution_count": 9,
     "metadata": {},
     "output_type": "execute_result"
    }
   ],
   "source": [
    "# количество строк и столбцов\n",
    "\n",
    "work.shape"
   ]
  },
  {
   "cell_type": "code",
   "execution_count": 37,
   "metadata": {},
   "outputs": [],
   "source": [
    "# меняю типы столбцов\n",
    "\n",
    "work = work.astype({'instance': 'int32', 'text_len': 'int32'})"
   ]
  },
  {
   "cell_type": "code",
   "execution_count": 38,
   "metadata": {},
   "outputs": [
    {
     "data": {
      "text/plain": [
       "act_name      object\n",
       "court_info    object\n",
       "act_text      object\n",
       "act_url       object\n",
       "instance       int32\n",
       "queries       object\n",
       "text_len       int32\n",
       "dtype: object"
      ]
     },
     "execution_count": 38,
     "metadata": {},
     "output_type": "execute_result"
    }
   ],
   "source": [
    "# типы данных\n",
    "\n",
    "work.dtypes"
   ]
  },
  {
   "cell_type": "code",
   "execution_count": 35,
   "metadata": {},
   "outputs": [
    {
     "data": {
      "text/plain": [
       "act_name      0\n",
       "court_info    0\n",
       "act_text      0\n",
       "act_url       0\n",
       "instance      0\n",
       "queries       0\n",
       "text_len      0\n",
       "dtype: int64"
      ]
     },
     "execution_count": 35,
     "metadata": {},
     "output_type": "execute_result"
    }
   ],
   "source": [
    "# проверка на пустые значения\n",
    "\n",
    "work.isnull().sum()"
   ]
  },
  {
   "cell_type": "code",
   "execution_count": null,
   "metadata": {},
   "outputs": [],
   "source": []
  },
  {
   "cell_type": "markdown",
   "metadata": {},
   "source": [
    "### Чищу тексты дел"
   ]
  },
  {
   "cell_type": "code",
   "execution_count": 103,
   "metadata": {},
   "outputs": [
    {
     "data": {
      "text/plain": [
       "Index(['act_name', 'court_info', 'act_text', 'act_url', 'instance', 'queries',\n",
       "       'text_len', 'act_date'],\n",
       "      dtype='object')"
      ]
     },
     "execution_count": 103,
     "metadata": {},
     "output_type": "execute_result"
    }
   ],
   "source": [
    "work.columns"
   ]
  },
  {
   "cell_type": "code",
   "execution_count": 105,
   "metadata": {},
   "outputs": [
    {
     "data": {
      "application/vnd.jupyter.widget-view+json": {
       "model_id": "aed5839c2ad84e10a7a12b6edc9cacc8",
       "version_major": 2,
       "version_minor": 0
      },
      "text/plain": [
       "  0%|          | 0/5 [00:00<?, ?it/s]"
      ]
     },
     "metadata": {},
     "output_type": "display_data"
    }
   ],
   "source": [
    "\n",
    "# список столбцов со строковыми значениями\n",
    "colum_str_list = ['act_name', 'court_info', 'act_text', 'act_url', 'act_date']\n",
    "\n",
    "for column in tqdm(colum_str_list):\n",
    "    work[column] = work[column].str.replace('ё', 'е')\n",
    "    work[column] = work[column].str.replace('\\s+', ' ', regex=True)    "
   ]
  },
  {
   "cell_type": "code",
   "execution_count": 106,
   "metadata": {},
   "outputs": [],
   "source": [
    "# считаю длину текста судебных решений\n",
    "\n",
    "work['text_len'] = work['act_text'].apply(lambda text: len(text))"
   ]
  },
  {
   "cell_type": "code",
   "execution_count": null,
   "metadata": {},
   "outputs": [],
   "source": []
  },
  {
   "cell_type": "code",
   "execution_count": 108,
   "metadata": {},
   "outputs": [],
   "source": [
    "# дата решения\n",
    "\n",
    "work['act_date'] = work['act_name'].str.replace(r'.+ от ', ' ', regex=True)\n",
    "work['act_date'] = work['act_date'].str.replace(r' г\\. .+', ' ', regex=True)\n",
    "work['act_date'] = work['act_date'].str.replace(r' г\\.', ' ', regex=True)"
   ]
  },
  {
   "cell_type": "code",
   "execution_count": 109,
   "metadata": {},
   "outputs": [
    {
     "data": {
      "text/html": [
       "<div>\n",
       "<style scoped>\n",
       "    .dataframe tbody tr th:only-of-type {\n",
       "        vertical-align: middle;\n",
       "    }\n",
       "\n",
       "    .dataframe tbody tr th {\n",
       "        vertical-align: top;\n",
       "    }\n",
       "\n",
       "    .dataframe thead th {\n",
       "        text-align: right;\n",
       "    }\n",
       "</style>\n",
       "<table border=\"1\" class=\"dataframe\">\n",
       "  <thead>\n",
       "    <tr style=\"text-align: right;\">\n",
       "      <th></th>\n",
       "      <th>act_name</th>\n",
       "      <th>court_info</th>\n",
       "      <th>act_text</th>\n",
       "      <th>act_url</th>\n",
       "      <th>instance</th>\n",
       "      <th>queries</th>\n",
       "      <th>text_len</th>\n",
       "      <th>act_date</th>\n",
       "    </tr>\n",
       "  </thead>\n",
       "  <tbody>\n",
       "    <tr>\n",
       "      <th>371</th>\n",
       "      <td>Приговор № 1-412/2011 от 2 августа 2011 г. по ...</td>\n",
       "      <td>Головинский районный суд (Город Москва) - Угол...</td>\n",
       "      <td>Приговор № 1-412/2011 от 2 августа 2011 г. по ...</td>\n",
       "      <td>https://sudact.ru/regular/doc/k1WSfnbcrAlC/</td>\n",
       "      <td>10</td>\n",
       "      <td>['наезд на лося', 'столкновение с лосем', 'авт...</td>\n",
       "      <td>23231</td>\n",
       "      <td>2 августа 2011</td>\n",
       "    </tr>\n",
       "    <tr>\n",
       "      <th>1311</th>\n",
       "      <td>Апелляционное постановление № 22-2221/2019 от ...</td>\n",
       "      <td>Верховный Суд Удмуртской Республики (Удмуртска...</td>\n",
       "      <td>Апелляционное постановление № 22-2221/2019 от ...</td>\n",
       "      <td>https://sudact.ru/regular/doc/8diuLPVqprLQ/</td>\n",
       "      <td>20</td>\n",
       "      <td>['автомобиль лось']</td>\n",
       "      <td>19074</td>\n",
       "      <td>26 декабря 2019</td>\n",
       "    </tr>\n",
       "    <tr>\n",
       "      <th>2860</th>\n",
       "      <td>Приговор № 1-96/2014 от 14 октября 2014 г. по ...</td>\n",
       "      <td>Солецкий районный суд (Новгородская область) -...</td>\n",
       "      <td>Приговор № 1-96/2014 от 14 октября 2014 г. по ...</td>\n",
       "      <td>https://sudact.ru/regular/doc/trNPV4jtevL1/</td>\n",
       "      <td>10</td>\n",
       "      <td>['автомобиль лось']</td>\n",
       "      <td>165067</td>\n",
       "      <td>14 октября 2014</td>\n",
       "    </tr>\n",
       "  </tbody>\n",
       "</table>\n",
       "</div>"
      ],
      "text/plain": [
       "                                               act_name  \\\n",
       "371   Приговор № 1-412/2011 от 2 августа 2011 г. по ...   \n",
       "1311  Апелляционное постановление № 22-2221/2019 от ...   \n",
       "2860  Приговор № 1-96/2014 от 14 октября 2014 г. по ...   \n",
       "\n",
       "                                             court_info  \\\n",
       "371   Головинский районный суд (Город Москва) - Угол...   \n",
       "1311  Верховный Суд Удмуртской Республики (Удмуртска...   \n",
       "2860  Солецкий районный суд (Новгородская область) -...   \n",
       "\n",
       "                                               act_text  \\\n",
       "371   Приговор № 1-412/2011 от 2 августа 2011 г. по ...   \n",
       "1311  Апелляционное постановление № 22-2221/2019 от ...   \n",
       "2860  Приговор № 1-96/2014 от 14 октября 2014 г. по ...   \n",
       "\n",
       "                                          act_url  instance  \\\n",
       "371   https://sudact.ru/regular/doc/k1WSfnbcrAlC/        10   \n",
       "1311  https://sudact.ru/regular/doc/8diuLPVqprLQ/        20   \n",
       "2860  https://sudact.ru/regular/doc/trNPV4jtevL1/        10   \n",
       "\n",
       "                                                queries  text_len  \\\n",
       "371   ['наезд на лося', 'столкновение с лосем', 'авт...     23231   \n",
       "1311                                ['автомобиль лось']     19074   \n",
       "2860                                ['автомобиль лось']    165067   \n",
       "\n",
       "               act_date  \n",
       "371     2 августа 2011   \n",
       "1311   26 декабря 2019   \n",
       "2860   14 октября 2014   "
      ]
     },
     "execution_count": 109,
     "metadata": {},
     "output_type": "execute_result"
    }
   ],
   "source": [
    "work.sample(3)"
   ]
  },
  {
   "cell_type": "code",
   "execution_count": 111,
   "metadata": {},
   "outputs": [],
   "source": [
    "temp = work.act_url.value_counts().reset_index()"
   ]
  },
  {
   "cell_type": "code",
   "execution_count": 115,
   "metadata": {},
   "outputs": [],
   "source": [
    "temp = temp[temp.act_url > 1]['index'].to_list()"
   ]
  },
  {
   "cell_type": "code",
   "execution_count": 118,
   "metadata": {},
   "outputs": [],
   "source": [
    "temp_work = pd.DataFrame()\n",
    "\n",
    "for i in temp:\n",
    "    temp_work = temp_work.append(work[work.act_url == i])\n",
    "    "
   ]
  },
  {
   "cell_type": "code",
   "execution_count": 119,
   "metadata": {},
   "outputs": [
    {
     "data": {
      "text/html": [
       "<div>\n",
       "<style scoped>\n",
       "    .dataframe tbody tr th:only-of-type {\n",
       "        vertical-align: middle;\n",
       "    }\n",
       "\n",
       "    .dataframe tbody tr th {\n",
       "        vertical-align: top;\n",
       "    }\n",
       "\n",
       "    .dataframe thead th {\n",
       "        text-align: right;\n",
       "    }\n",
       "</style>\n",
       "<table border=\"1\" class=\"dataframe\">\n",
       "  <thead>\n",
       "    <tr style=\"text-align: right;\">\n",
       "      <th></th>\n",
       "      <th>act_name</th>\n",
       "      <th>court_info</th>\n",
       "      <th>act_text</th>\n",
       "      <th>act_url</th>\n",
       "      <th>instance</th>\n",
       "      <th>queries</th>\n",
       "      <th>text_len</th>\n",
       "      <th>act_date</th>\n",
       "    </tr>\n",
       "  </thead>\n",
       "  <tbody>\n",
       "    <tr>\n",
       "      <th>0</th>\n",
       "      <td>Решение № 2-141/2018 2-141/2018 (2-5541/2017;)...</td>\n",
       "      <td>Ленинский районный суд г. Кирова (Кировская об...</td>\n",
       "      <td>Решение № 2-141/2018 2-141/2018 (2-5541/2017;)...</td>\n",
       "      <td>https://sudact.ru/regular/doc/OEVBjmP8HEx9/</td>\n",
       "      <td>10</td>\n",
       "      <td>['наезд на лося', 'столкновение с лосем', 'авт...</td>\n",
       "      <td>21533</td>\n",
       "      <td>12 февраля 2018</td>\n",
       "    </tr>\n",
       "    <tr>\n",
       "      <th>501</th>\n",
       "      <td>Решение № 2-141/2018 2-141/2018 (2-5541/2017;)...</td>\n",
       "      <td>Ленинский районный суд г. Кирова (Кировская об...</td>\n",
       "      <td>Решение № 2-141/2018 2-141/2018 (2-5541/2017;)...</td>\n",
       "      <td>https://sudact.ru/regular/doc/OEVBjmP8HEx9/</td>\n",
       "      <td>10</td>\n",
       "      <td>['наезд на лося', 'столкновение с лосем', 'авт...</td>\n",
       "      <td>21541</td>\n",
       "      <td>12 февраля 2018</td>\n",
       "    </tr>\n",
       "    <tr>\n",
       "      <th>1873</th>\n",
       "      <td>Решение № 2-429/2019 2-429/2019~М-389/2019 М-3...</td>\n",
       "      <td>Далматовский районный суд (Курганская область)...</td>\n",
       "      <td>Решение № 2-429/2019 2-429/2019~М-389/2019 М-3...</td>\n",
       "      <td>https://sudact.ru/regular/doc/XvMg57oaJQbZ/</td>\n",
       "      <td>10</td>\n",
       "      <td>['автомобиль лось']</td>\n",
       "      <td>20936</td>\n",
       "      <td>26 декабря 2019</td>\n",
       "    </tr>\n",
       "    <tr>\n",
       "      <th>2834</th>\n",
       "      <td>Решение № 2-429/2019 2-429/2019~М-389/2019 М-3...</td>\n",
       "      <td>Далматовский районный суд (Курганская область)...</td>\n",
       "      <td>Решение № 2-429/2019 2-429/2019~М-389/2019 М-3...</td>\n",
       "      <td>https://sudact.ru/regular/doc/XvMg57oaJQbZ/</td>\n",
       "      <td>10</td>\n",
       "      <td>['автомобиль лось']</td>\n",
       "      <td>20944</td>\n",
       "      <td>26 декабря 2019</td>\n",
       "    </tr>\n",
       "    <tr>\n",
       "      <th>1702</th>\n",
       "      <td>Решение № 2-140/2012 от 29 марта 2012 г. по де...</td>\n",
       "      <td>Центральный районный суд г. Кемерово (Кемеровс...</td>\n",
       "      <td>Решение № 2-140/2012 от 29 марта 2012 г. по де...</td>\n",
       "      <td>https://sudact.ru/regular/doc/r9J1eLvStU68/</td>\n",
       "      <td>10</td>\n",
       "      <td>['автомобиль лось']</td>\n",
       "      <td>21537</td>\n",
       "      <td>29 марта 2012</td>\n",
       "    </tr>\n",
       "    <tr>\n",
       "      <th>1703</th>\n",
       "      <td>Решение № 2-140/2012 от 29 марта 2012 г. по де...</td>\n",
       "      <td>Центральный районный суд г. Кемерово (Кемеровс...</td>\n",
       "      <td>Решение № 2-140/2012 от 29 марта 2012 г. по де...</td>\n",
       "      <td>https://sudact.ru/regular/doc/r9J1eLvStU68/</td>\n",
       "      <td>10</td>\n",
       "      <td>['автомобиль лось']</td>\n",
       "      <td>21529</td>\n",
       "      <td>29 марта 2012</td>\n",
       "    </tr>\n",
       "    <tr>\n",
       "      <th>472</th>\n",
       "      <td>Постановление № 10-3-2014 10-3/2014 от 26 мая ...</td>\n",
       "      <td>Ижморский районный суд (Кемеровская область) -...</td>\n",
       "      <td>Постановление № 10-3-2014 10-3/2014 от 26 мая ...</td>\n",
       "      <td>https://sudact.ru/regular/doc/PIixYwrlhxml/</td>\n",
       "      <td>20</td>\n",
       "      <td>['наезд на лося', 'автомобиль лось']</td>\n",
       "      <td>8751</td>\n",
       "      <td>26 мая 2014</td>\n",
       "    </tr>\n",
       "    <tr>\n",
       "      <th>502</th>\n",
       "      <td>Постановление № 10-3-2014 10-3/2014 от 26 мая ...</td>\n",
       "      <td>Ижморский районный суд (Кемеровская область) -...</td>\n",
       "      <td>Постановление № 10-3-2014 10-3/2014 от 26 мая ...</td>\n",
       "      <td>https://sudact.ru/regular/doc/PIixYwrlhxml/</td>\n",
       "      <td>20</td>\n",
       "      <td>['наезд на лося', 'автомобиль лось']</td>\n",
       "      <td>8743</td>\n",
       "      <td>26 мая 2014</td>\n",
       "    </tr>\n",
       "  </tbody>\n",
       "</table>\n",
       "</div>"
      ],
      "text/plain": [
       "                                               act_name  \\\n",
       "0     Решение № 2-141/2018 2-141/2018 (2-5541/2017;)...   \n",
       "501   Решение № 2-141/2018 2-141/2018 (2-5541/2017;)...   \n",
       "1873  Решение № 2-429/2019 2-429/2019~М-389/2019 М-3...   \n",
       "2834  Решение № 2-429/2019 2-429/2019~М-389/2019 М-3...   \n",
       "1702  Решение № 2-140/2012 от 29 марта 2012 г. по де...   \n",
       "1703  Решение № 2-140/2012 от 29 марта 2012 г. по де...   \n",
       "472   Постановление № 10-3-2014 10-3/2014 от 26 мая ...   \n",
       "502   Постановление № 10-3-2014 10-3/2014 от 26 мая ...   \n",
       "\n",
       "                                             court_info  \\\n",
       "0     Ленинский районный суд г. Кирова (Кировская об...   \n",
       "501   Ленинский районный суд г. Кирова (Кировская об...   \n",
       "1873  Далматовский районный суд (Курганская область)...   \n",
       "2834  Далматовский районный суд (Курганская область)...   \n",
       "1702  Центральный районный суд г. Кемерово (Кемеровс...   \n",
       "1703  Центральный районный суд г. Кемерово (Кемеровс...   \n",
       "472   Ижморский районный суд (Кемеровская область) -...   \n",
       "502   Ижморский районный суд (Кемеровская область) -...   \n",
       "\n",
       "                                               act_text  \\\n",
       "0     Решение № 2-141/2018 2-141/2018 (2-5541/2017;)...   \n",
       "501   Решение № 2-141/2018 2-141/2018 (2-5541/2017;)...   \n",
       "1873  Решение № 2-429/2019 2-429/2019~М-389/2019 М-3...   \n",
       "2834  Решение № 2-429/2019 2-429/2019~М-389/2019 М-3...   \n",
       "1702  Решение № 2-140/2012 от 29 марта 2012 г. по де...   \n",
       "1703  Решение № 2-140/2012 от 29 марта 2012 г. по де...   \n",
       "472   Постановление № 10-3-2014 10-3/2014 от 26 мая ...   \n",
       "502   Постановление № 10-3-2014 10-3/2014 от 26 мая ...   \n",
       "\n",
       "                                          act_url  instance  \\\n",
       "0     https://sudact.ru/regular/doc/OEVBjmP8HEx9/        10   \n",
       "501   https://sudact.ru/regular/doc/OEVBjmP8HEx9/        10   \n",
       "1873  https://sudact.ru/regular/doc/XvMg57oaJQbZ/        10   \n",
       "2834  https://sudact.ru/regular/doc/XvMg57oaJQbZ/        10   \n",
       "1702  https://sudact.ru/regular/doc/r9J1eLvStU68/        10   \n",
       "1703  https://sudact.ru/regular/doc/r9J1eLvStU68/        10   \n",
       "472   https://sudact.ru/regular/doc/PIixYwrlhxml/        20   \n",
       "502   https://sudact.ru/regular/doc/PIixYwrlhxml/        20   \n",
       "\n",
       "                                                queries  text_len  \\\n",
       "0     ['наезд на лося', 'столкновение с лосем', 'авт...     21533   \n",
       "501   ['наезд на лося', 'столкновение с лосем', 'авт...     21541   \n",
       "1873                                ['автомобиль лось']     20936   \n",
       "2834                                ['автомобиль лось']     20944   \n",
       "1702                                ['автомобиль лось']     21537   \n",
       "1703                                ['автомобиль лось']     21529   \n",
       "472                ['наезд на лося', 'автомобиль лось']      8751   \n",
       "502                ['наезд на лося', 'автомобиль лось']      8743   \n",
       "\n",
       "               act_date  \n",
       "0      12 февраля 2018   \n",
       "501    12 февраля 2018   \n",
       "1873   26 декабря 2019   \n",
       "2834   26 декабря 2019   \n",
       "1702     29 марта 2012   \n",
       "1703     29 марта 2012   \n",
       "472        26 мая 2014   \n",
       "502        26 мая 2014   "
      ]
     },
     "execution_count": 119,
     "metadata": {},
     "output_type": "execute_result"
    }
   ],
   "source": [
    "temp_work"
   ]
  },
  {
   "cell_type": "code",
   "execution_count": null,
   "metadata": {},
   "outputs": [],
   "source": []
  },
  {
   "cell_type": "code",
   "execution_count": null,
   "metadata": {},
   "outputs": [],
   "source": []
  },
  {
   "cell_type": "code",
   "execution_count": 76,
   "metadata": {},
   "outputs": [],
   "source": [
    "work_temp = work[~(\n",
    "    \n",
    "    (work.act_text.str.contains(' лося', case=False)) |\n",
    "    (work.act_text.str.contains(' лосем', case=False)) |\n",
    "    (work.act_text.str.contains(' лосенка', case=False)) |\n",
    "    (work.act_text.str.contains(' лосих', case=False)) |\n",
    "    (work.act_text.str.contains(' лось', case=False)) |\n",
    "    (work.act_text.str.contains(' медвед', case=False))\n",
    "    \n",
    "    \n",
    ")]"
   ]
  },
  {
   "cell_type": "code",
   "execution_count": 77,
   "metadata": {},
   "outputs": [
    {
     "data": {
      "text/html": [
       "<div>\n",
       "<style scoped>\n",
       "    .dataframe tbody tr th:only-of-type {\n",
       "        vertical-align: middle;\n",
       "    }\n",
       "\n",
       "    .dataframe tbody tr th {\n",
       "        vertical-align: top;\n",
       "    }\n",
       "\n",
       "    .dataframe thead th {\n",
       "        text-align: right;\n",
       "    }\n",
       "</style>\n",
       "<table border=\"1\" class=\"dataframe\">\n",
       "  <thead>\n",
       "    <tr style=\"text-align: right;\">\n",
       "      <th></th>\n",
       "      <th>act_name</th>\n",
       "      <th>court_info</th>\n",
       "      <th>act_text</th>\n",
       "      <th>act_url</th>\n",
       "      <th>instance</th>\n",
       "      <th>queries</th>\n",
       "      <th>text_len</th>\n",
       "    </tr>\n",
       "  </thead>\n",
       "  <tbody>\n",
       "    <tr>\n",
       "      <th>12</th>\n",
       "      <td>Решение № 2-225/2017 2-225/2017(2-9924/2016;)~...</td>\n",
       "      <td>Череповецкий городской суд (Вологодская област...</td>\n",
       "      <td>Решение № 2-225/2017 2-225/2017(2-9924/2016;)~...</td>\n",
       "      <td>https://sudact.ru/regular/doc/NQDG3zkUu31v/</td>\n",
       "      <td>10</td>\n",
       "      <td>['наезд на лося', 'столкновение с лосем', 'авт...</td>\n",
       "      <td>16031</td>\n",
       "    </tr>\n",
       "    <tr>\n",
       "      <th>91</th>\n",
       "      <td>Постановление № 5-2350/2020 от 17 ноября 2020 ...</td>\n",
       "      <td>Псковский городской суд (Псковская область) - ...</td>\n",
       "      <td>Постановление № 5-2350/2020 от 17 ноября 2020 ...</td>\n",
       "      <td>https://sudact.ru/regular/doc/sGp5SKGtHe5t/</td>\n",
       "      <td>10</td>\n",
       "      <td>['наезд на лося', 'столкновение с лосем', 'авт...</td>\n",
       "      <td>7943</td>\n",
       "    </tr>\n",
       "    <tr>\n",
       "      <th>99</th>\n",
       "      <td>Постановление № 5-25/2020 от 17 июля 2020 г. п...</td>\n",
       "      <td>Тобольский районный суд (Тюменская область) - ...</td>\n",
       "      <td>Постановление № 5-25/2020 от 17 июля 2020 г. п...</td>\n",
       "      <td>https://sudact.ru/regular/doc/zJuDnmbRnNrK/</td>\n",
       "      <td>10</td>\n",
       "      <td>['наезд на лося', 'столкновение с лосем', 'авт...</td>\n",
       "      <td>12437</td>\n",
       "    </tr>\n",
       "    <tr>\n",
       "      <th>103</th>\n",
       "      <td>Постановление № 5-40/2020 от 27 мая 2020 г. по...</td>\n",
       "      <td>Ржевский городской суд (Тверская область) - Ад...</td>\n",
       "      <td>Постановление № 5-40/2020 от 27 мая 2020 г. по...</td>\n",
       "      <td>https://sudact.ru/regular/doc/Xge5yWFLVWg9/</td>\n",
       "      <td>10</td>\n",
       "      <td>['наезд на лося', 'автомобиль лось']</td>\n",
       "      <td>16054</td>\n",
       "    </tr>\n",
       "    <tr>\n",
       "      <th>104</th>\n",
       "      <td>Решение № 2-274/2020 2-274/2020~М-164/2020 М-1...</td>\n",
       "      <td>Красноперекопский районный суд (Республика Кры...</td>\n",
       "      <td>Решение № 2-274/2020 2-274/2020~М-164/2020 М-1...</td>\n",
       "      <td>https://sudact.ru/regular/doc/2nwgFMJ287Zv/</td>\n",
       "      <td>10</td>\n",
       "      <td>['наезд на лося', 'автомобиль лось']</td>\n",
       "      <td>19882</td>\n",
       "    </tr>\n",
       "    <tr>\n",
       "      <th>...</th>\n",
       "      <td>...</td>\n",
       "      <td>...</td>\n",
       "      <td>...</td>\n",
       "      <td>...</td>\n",
       "      <td>...</td>\n",
       "      <td>...</td>\n",
       "      <td>...</td>\n",
       "    </tr>\n",
       "    <tr>\n",
       "      <th>3160</th>\n",
       "      <td>Приговор № 1-183/2013 от 27 декабря 2013 г. по...</td>\n",
       "      <td>Ефремовский районный суд (Тульская область) - ...</td>\n",
       "      <td>Приговор № 1-183/2013 от 27 декабря 2013 г. по...</td>\n",
       "      <td>https://sudact.ru/regular/doc/U6nMLjGbk8JQ/</td>\n",
       "      <td>10</td>\n",
       "      <td>['автомобиль лось']</td>\n",
       "      <td>118227</td>\n",
       "    </tr>\n",
       "    <tr>\n",
       "      <th>3161</th>\n",
       "      <td>Приговор № 1-367/2013 от 26 декабря 2013 г. по...</td>\n",
       "      <td>Сарапульский городской суд (Удмуртская Республ...</td>\n",
       "      <td>Приговор № 1-367/2013 от 26 декабря 2013 г. по...</td>\n",
       "      <td>https://sudact.ru/regular/doc/nDm0bdU62Fv/</td>\n",
       "      <td>10</td>\n",
       "      <td>['автомобиль лось']</td>\n",
       "      <td>37245</td>\n",
       "    </tr>\n",
       "    <tr>\n",
       "      <th>3162</th>\n",
       "      <td>Приговор № 1-171/2013 от 24 декабря 2013 г. по...</td>\n",
       "      <td>Донецкий городской суд (Ростовская область) - ...</td>\n",
       "      <td>Приговор № 1-171/2013 от 24 декабря 2013 г. по...</td>\n",
       "      <td>https://sudact.ru/regular/doc/lf9U6Ia4gxWv/</td>\n",
       "      <td>10</td>\n",
       "      <td>['автомобиль лось']</td>\n",
       "      <td>53736</td>\n",
       "    </tr>\n",
       "    <tr>\n",
       "      <th>3163</th>\n",
       "      <td>Приговор № 1-298/2013 от 20 декабря 2013 г. по...</td>\n",
       "      <td>Пятигорский городской суд (Ставропольский край...</td>\n",
       "      <td>Приговор № 1-298/2013 от 20 декабря 2013 г. по...</td>\n",
       "      <td>https://sudact.ru/regular/doc/2oZ4qZ0LTZUu/</td>\n",
       "      <td>10</td>\n",
       "      <td>['автомобиль лось']</td>\n",
       "      <td>43707</td>\n",
       "    </tr>\n",
       "    <tr>\n",
       "      <th>3164</th>\n",
       "      <td>Решение № М-9030/2013 2-8478/13 2-8478/2013~М-...</td>\n",
       "      <td>Промышленный районный суд г. Ставрополя (Ставр...</td>\n",
       "      <td>Решение № М-9030/2013 2-8478/13 2-8478/2013~М-...</td>\n",
       "      <td>https://sudact.ru/regular/doc/qAyHto9ifwmZ/</td>\n",
       "      <td>10</td>\n",
       "      <td>['автомобиль лось']</td>\n",
       "      <td>18852</td>\n",
       "    </tr>\n",
       "  </tbody>\n",
       "</table>\n",
       "<p>1166 rows × 7 columns</p>\n",
       "</div>"
      ],
      "text/plain": [
       "                                               act_name  \\\n",
       "12    Решение № 2-225/2017 2-225/2017(2-9924/2016;)~...   \n",
       "91    Постановление № 5-2350/2020 от 17 ноября 2020 ...   \n",
       "99    Постановление № 5-25/2020 от 17 июля 2020 г. п...   \n",
       "103   Постановление № 5-40/2020 от 27 мая 2020 г. по...   \n",
       "104   Решение № 2-274/2020 2-274/2020~М-164/2020 М-1...   \n",
       "...                                                 ...   \n",
       "3160  Приговор № 1-183/2013 от 27 декабря 2013 г. по...   \n",
       "3161  Приговор № 1-367/2013 от 26 декабря 2013 г. по...   \n",
       "3162  Приговор № 1-171/2013 от 24 декабря 2013 г. по...   \n",
       "3163  Приговор № 1-298/2013 от 20 декабря 2013 г. по...   \n",
       "3164  Решение № М-9030/2013 2-8478/13 2-8478/2013~М-...   \n",
       "\n",
       "                                             court_info  \\\n",
       "12    Череповецкий городской суд (Вологодская област...   \n",
       "91    Псковский городской суд (Псковская область) - ...   \n",
       "99    Тобольский районный суд (Тюменская область) - ...   \n",
       "103   Ржевский городской суд (Тверская область) - Ад...   \n",
       "104   Красноперекопский районный суд (Республика Кры...   \n",
       "...                                                 ...   \n",
       "3160  Ефремовский районный суд (Тульская область) - ...   \n",
       "3161  Сарапульский городской суд (Удмуртская Республ...   \n",
       "3162  Донецкий городской суд (Ростовская область) - ...   \n",
       "3163  Пятигорский городской суд (Ставропольский край...   \n",
       "3164  Промышленный районный суд г. Ставрополя (Ставр...   \n",
       "\n",
       "                                               act_text  \\\n",
       "12    Решение № 2-225/2017 2-225/2017(2-9924/2016;)~...   \n",
       "91    Постановление № 5-2350/2020 от 17 ноября 2020 ...   \n",
       "99    Постановление № 5-25/2020 от 17 июля 2020 г. п...   \n",
       "103   Постановление № 5-40/2020 от 27 мая 2020 г. по...   \n",
       "104   Решение № 2-274/2020 2-274/2020~М-164/2020 М-1...   \n",
       "...                                                 ...   \n",
       "3160  Приговор № 1-183/2013 от 27 декабря 2013 г. по...   \n",
       "3161  Приговор № 1-367/2013 от 26 декабря 2013 г. по...   \n",
       "3162  Приговор № 1-171/2013 от 24 декабря 2013 г. по...   \n",
       "3163  Приговор № 1-298/2013 от 20 декабря 2013 г. по...   \n",
       "3164  Решение № М-9030/2013 2-8478/13 2-8478/2013~М-...   \n",
       "\n",
       "                                          act_url  instance  \\\n",
       "12    https://sudact.ru/regular/doc/NQDG3zkUu31v/        10   \n",
       "91    https://sudact.ru/regular/doc/sGp5SKGtHe5t/        10   \n",
       "99    https://sudact.ru/regular/doc/zJuDnmbRnNrK/        10   \n",
       "103   https://sudact.ru/regular/doc/Xge5yWFLVWg9/        10   \n",
       "104   https://sudact.ru/regular/doc/2nwgFMJ287Zv/        10   \n",
       "...                                           ...       ...   \n",
       "3160  https://sudact.ru/regular/doc/U6nMLjGbk8JQ/        10   \n",
       "3161   https://sudact.ru/regular/doc/nDm0bdU62Fv/        10   \n",
       "3162  https://sudact.ru/regular/doc/lf9U6Ia4gxWv/        10   \n",
       "3163  https://sudact.ru/regular/doc/2oZ4qZ0LTZUu/        10   \n",
       "3164  https://sudact.ru/regular/doc/qAyHto9ifwmZ/        10   \n",
       "\n",
       "                                                queries  text_len  \n",
       "12    ['наезд на лося', 'столкновение с лосем', 'авт...     16031  \n",
       "91    ['наезд на лося', 'столкновение с лосем', 'авт...      7943  \n",
       "99    ['наезд на лося', 'столкновение с лосем', 'авт...     12437  \n",
       "103                ['наезд на лося', 'автомобиль лось']     16054  \n",
       "104                ['наезд на лося', 'автомобиль лось']     19882  \n",
       "...                                                 ...       ...  \n",
       "3160                                ['автомобиль лось']    118227  \n",
       "3161                                ['автомобиль лось']     37245  \n",
       "3162                                ['автомобиль лось']     53736  \n",
       "3163                                ['автомобиль лось']     43707  \n",
       "3164                                ['автомобиль лось']     18852  \n",
       "\n",
       "[1166 rows x 7 columns]"
      ]
     },
     "execution_count": 77,
     "metadata": {},
     "output_type": "execute_result"
    }
   ],
   "source": [
    "work_temp"
   ]
  },
  {
   "cell_type": "code",
   "execution_count": 92,
   "metadata": {},
   "outputs": [],
   "source": []
  },
  {
   "cell_type": "code",
   "execution_count": 93,
   "metadata": {},
   "outputs": [
    {
     "data": {
      "text/html": [
       "<div>\n",
       "<style scoped>\n",
       "    .dataframe tbody tr th:only-of-type {\n",
       "        vertical-align: middle;\n",
       "    }\n",
       "\n",
       "    .dataframe tbody tr th {\n",
       "        vertical-align: top;\n",
       "    }\n",
       "\n",
       "    .dataframe thead th {\n",
       "        text-align: right;\n",
       "    }\n",
       "</style>\n",
       "<table border=\"1\" class=\"dataframe\">\n",
       "  <thead>\n",
       "    <tr style=\"text-align: right;\">\n",
       "      <th></th>\n",
       "      <th>act_name</th>\n",
       "      <th>court_info</th>\n",
       "      <th>act_text</th>\n",
       "      <th>act_url</th>\n",
       "      <th>instance</th>\n",
       "      <th>queries</th>\n",
       "      <th>text_len</th>\n",
       "      <th>act_date</th>\n",
       "    </tr>\n",
       "  </thead>\n",
       "  <tbody>\n",
       "    <tr>\n",
       "      <th>1207</th>\n",
       "      <td>Кассационное определение от 28 ноября 2012 г.</td>\n",
       "      <td>Кемеровский областной суд (Кемеровская область...</td>\n",
       "      <td>Кассационное определение от 28 ноября 2012 г.\\...</td>\n",
       "      <td>https://sudact.ru/regular/doc/aaNmUlF7rQxu/</td>\n",
       "      <td>30</td>\n",
       "      <td>['автомобиль лось']</td>\n",
       "      <td>7451</td>\n",
       "      <td>28 ноября 2012</td>\n",
       "    </tr>\n",
       "    <tr>\n",
       "      <th>711</th>\n",
       "      <td>Решение № 2-150/2012 2-150/2012~М-128/2012 М-1...</td>\n",
       "      <td>Жуковский районный суд (Калужская область) - Г...</td>\n",
       "      <td>Решение № 2-150/2012 2-150/2012~М-128/2012 М-1...</td>\n",
       "      <td>https://sudact.ru/regular/doc/6CBIfN10X3rw/</td>\n",
       "      <td>10</td>\n",
       "      <td>['столкновение с лосем', 'автомобиль лось']</td>\n",
       "      <td>9948</td>\n",
       "      <td>11 мая 2012</td>\n",
       "    </tr>\n",
       "    <tr>\n",
       "      <th>3085</th>\n",
       "      <td>Решение № 2-4473/2016 2-4473/2016~М-5992/2016 ...</td>\n",
       "      <td>Октябрьский районный суд г. Ростова-на-Дону (Р...</td>\n",
       "      <td>Решение № 2-4473/2016 2-4473/2016~М-5992/2016 ...</td>\n",
       "      <td>https://sudact.ru/regular/doc/rKNyqjeIqhZb/</td>\n",
       "      <td>10</td>\n",
       "      <td>['автомобиль лось']</td>\n",
       "      <td>25227</td>\n",
       "      <td>27 октября 2016</td>\n",
       "    </tr>\n",
       "  </tbody>\n",
       "</table>\n",
       "</div>"
      ],
      "text/plain": [
       "                                               act_name  \\\n",
       "1207      Кассационное определение от 28 ноября 2012 г.   \n",
       "711   Решение № 2-150/2012 2-150/2012~М-128/2012 М-1...   \n",
       "3085  Решение № 2-4473/2016 2-4473/2016~М-5992/2016 ...   \n",
       "\n",
       "                                             court_info  \\\n",
       "1207  Кемеровский областной суд (Кемеровская область...   \n",
       "711   Жуковский районный суд (Калужская область) - Г...   \n",
       "3085  Октябрьский районный суд г. Ростова-на-Дону (Р...   \n",
       "\n",
       "                                               act_text  \\\n",
       "1207  Кассационное определение от 28 ноября 2012 г.\\...   \n",
       "711   Решение № 2-150/2012 2-150/2012~М-128/2012 М-1...   \n",
       "3085  Решение № 2-4473/2016 2-4473/2016~М-5992/2016 ...   \n",
       "\n",
       "                                          act_url  instance  \\\n",
       "1207  https://sudact.ru/regular/doc/aaNmUlF7rQxu/        30   \n",
       "711   https://sudact.ru/regular/doc/6CBIfN10X3rw/        10   \n",
       "3085  https://sudact.ru/regular/doc/rKNyqjeIqhZb/        10   \n",
       "\n",
       "                                          queries  text_len           act_date  \n",
       "1207                          ['автомобиль лось']      7451    28 ноября 2012   \n",
       "711   ['столкновение с лосем', 'автомобиль лось']      9948       11 мая 2012   \n",
       "3085                          ['автомобиль лось']     25227   27 октября 2016   "
      ]
     },
     "execution_count": 93,
     "metadata": {},
     "output_type": "execute_result"
    }
   ],
   "source": [
    "work.sample(3)"
   ]
  },
  {
   "cell_type": "code",
   "execution_count": 94,
   "metadata": {},
   "outputs": [],
   "source": [
    "work.to_excel(file_path + 'temp_666.xlsx')"
   ]
  },
  {
   "cell_type": "code",
   "execution_count": null,
   "metadata": {},
   "outputs": [],
   "source": []
  },
  {
   "cell_type": "code",
   "execution_count": 2,
   "metadata": {},
   "outputs": [],
   "source": [
    "# для визуализации\n",
    "import seaborn as sns\n",
    "import matplotlib.pyplot as plt"
   ]
  },
  {
   "cell_type": "code",
   "execution_count": null,
   "metadata": {},
   "outputs": [],
   "source": [
    "# убирает  переводы строки\n",
    "\n",
    "df.column = df.column.str.replace('\\n', ' ')"
   ]
  },
  {
   "cell_type": "code",
   "execution_count": 3,
   "metadata": {},
   "outputs": [],
   "source": [
    "# статистических\n",
    "\n",
    "import statistics\n",
    "\n",
    "%matplotlib inline"
   ]
  },
  {
   "cell_type": "code",
   "execution_count": null,
   "metadata": {},
   "outputs": [],
   "source": []
  },
  {
   "cell_type": "code",
   "execution_count": null,
   "metadata": {},
   "outputs": [],
   "source": [
    "[i for i in list(students_df) if 'score' in i]"
   ]
  },
  {
   "cell_type": "code",
   "execution_count": null,
   "metadata": {},
   "outputs": [],
   "source": [
    "[i for i in students_df.columns if 'score' in i]"
   ]
  },
  {
   "cell_type": "code",
   "execution_count": null,
   "metadata": {},
   "outputs": [],
   "source": [
    "students_df.filter(like='score')"
   ]
  },
  {
   "cell_type": "code",
   "execution_count": null,
   "metadata": {},
   "outputs": [],
   "source": [
    "# axis=0 - строки (в индексе), axis=1 - столбцы \n",
    "\n",
    "students_df.filter(like='1', axis=0)"
   ]
  },
  {
   "cell_type": "code",
   "execution_count": null,
   "metadata": {},
   "outputs": [],
   "source": [
    "(\n",
    "    students_df.groupby('gender', as_index=False)\n",
    "    .agg({'math_score': 'mean'})\n",
    "    .rename(columns={'math_score': 'math_score_mean'})\n",
    ")"
   ]
  },
  {
   "cell_type": "code",
   "execution_count": null,
   "metadata": {},
   "outputs": [],
   "source": []
  },
  {
   "cell_type": "code",
   "execution_count": null,
   "metadata": {},
   "outputs": [],
   "source": [
    "# доля пропусков в данных\n",
    "\n",
    "round(titanic_data.isna().mean() * 100, 2)"
   ]
  },
  {
   "cell_type": "code",
   "execution_count": null,
   "metadata": {},
   "outputs": [],
   "source": []
  },
  {
   "cell_type": "code",
   "execution_count": null,
   "metadata": {},
   "outputs": [],
   "source": []
  },
  {
   "cell_type": "code",
   "execution_count": null,
   "metadata": {},
   "outputs": [],
   "source": []
  }
 ],
 "metadata": {
  "kernelspec": {
   "display_name": "Python 3 (ipykernel)",
   "language": "python",
   "name": "python3"
  },
  "language_info": {
   "codemirror_mode": {
    "name": "ipython",
    "version": 3
   },
   "file_extension": ".py",
   "mimetype": "text/x-python",
   "name": "python",
   "nbconvert_exporter": "python",
   "pygments_lexer": "ipython3",
   "version": "3.9.7"
  }
 },
 "nbformat": 4,
 "nbformat_minor": 2
}
