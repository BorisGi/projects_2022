{
 "cells": [
  {
   "cell_type": "code",
   "execution_count": null,
   "metadata": {},
   "outputs": [],
   "source": []
  },
  {
   "cell_type": "markdown",
   "metadata": {},
   "source": [
    "## Библиотеки и настройки"
   ]
  },
  {
   "cell_type": "code",
   "execution_count": null,
   "metadata": {},
   "outputs": [],
   "source": [
    "# импорт библиотек\n",
    "\n",
    "import pandas as pd\n",
    "\n",
    "# регулярки\n",
    "import re\n",
    "\n",
    "from datetime import datetime\n",
    "\n",
    "# прогресс-бар\n",
    "from tqdm.notebook import trange, tqdm\n",
    "\n",
    "\n",
    "import nltk\n",
    "from nltk.corpus import stopwords\n",
    "from nltk.stem import WordNetLemmatizer\n",
    "\n",
    "from pymystem3 import Mystem\n",
    "from tqdm import tqdm_notebook\n",
    "\n",
    "import warnings\n",
    "warnings.filterwarnings(\"ignore\",category=DeprecationWarning)"
   ]
  },
  {
   "cell_type": "code",
   "execution_count": null,
   "metadata": {},
   "outputs": [],
   "source": [
    "# путь к файлам\n",
    "\n",
    "file_path = 'C:/00_Projects/RIA/2022/02_elk_accidents/00_data/'"
   ]
  },
  {
   "cell_type": "code",
   "execution_count": null,
   "metadata": {},
   "outputs": [],
   "source": [
    "file_name = 'new_' + input() + '.csv'"
   ]
  },
  {
   "cell_type": "code",
   "execution_count": null,
   "metadata": {},
   "outputs": [],
   "source": []
  },
  {
   "cell_type": "markdown",
   "metadata": {},
   "source": [
    "### Выгружаю датасет"
   ]
  },
  {
   "cell_type": "code",
   "execution_count": null,
   "metadata": {},
   "outputs": [],
   "source": [
    "# выгружаю файл в датафрейм\n",
    "\n",
    "work = pd.read_csv(file_path + file_name)"
   ]
  },
  {
   "cell_type": "code",
   "execution_count": null,
   "metadata": {},
   "outputs": [],
   "source": [
    "# смотрю случайные строки\n",
    "\n",
    "work.sample(3)"
   ]
  },
  {
   "cell_type": "code",
   "execution_count": null,
   "metadata": {},
   "outputs": [],
   "source": [
    "# количество строк и столбцов\n",
    "\n",
    "work.shape"
   ]
  },
  {
   "cell_type": "code",
   "execution_count": null,
   "metadata": {},
   "outputs": [],
   "source": [
    "# типы данных\n",
    "\n",
    "work.dtypes"
   ]
  },
  {
   "cell_type": "code",
   "execution_count": null,
   "metadata": {},
   "outputs": [],
   "source": [
    "# проверка на пустые значения\n",
    "\n",
    "work.isnull().sum()"
   ]
  },
  {
   "cell_type": "code",
   "execution_count": null,
   "metadata": {},
   "outputs": [],
   "source": []
  },
  {
   "cell_type": "markdown",
   "metadata": {},
   "source": [
    "### Разделяю столбцы"
   ]
  },
  {
   "cell_type": "code",
   "execution_count": null,
   "metadata": {},
   "outputs": [],
   "source": [
    "# дата решения\n",
    "\n",
    "work['act_date'] = work['act_name'].str.replace(r'.+ от ', ' ', regex=True)\n",
    "work['act_date'] = work['act_date'].str.replace(r' г\\. .+', ' ', regex=True)\n",
    "work['act_date'] = work['act_date'].str.replace(r' г\\.', ' ', regex=True)\n",
    "\n",
    "# меняю месяц на число\n",
    "work['act_date'] = work['act_date'].str.replace('января', '-01-', regex=True)\n",
    "work['act_date'] = work['act_date'].str.replace('февраля', '-02-', regex=True)\n",
    "work['act_date'] = work['act_date'].str.replace('марта', '-03-', regex=True)\n",
    "work['act_date'] = work['act_date'].str.replace('апреля', '-04-', regex=True)\n",
    "work['act_date'] = work['act_date'].str.replace('мая', '-05-', regex=True)\n",
    "work['act_date'] = work['act_date'].str.replace('июня', '-06-', regex=True)\n",
    "work['act_date'] = work['act_date'].str.replace('июля', '-07-', regex=True)\n",
    "work['act_date'] = work['act_date'].str.replace('августа', '-08-', regex=True)\n",
    "work['act_date'] = work['act_date'].str.replace('сентября', '-09-', regex=True)\n",
    "work['act_date'] = work['act_date'].str.replace('октября', '-10-', regex=True)\n",
    "work['act_date'] = work['act_date'].str.replace('ноября', '-11-', regex=True)\n",
    "work['act_date'] = work['act_date'].str.replace('декабря', '-12-', regex=True)\n",
    "work['act_date'] = work['act_date'].str.replace(' ', '', regex=True)"
   ]
  },
  {
   "cell_type": "code",
   "execution_count": null,
   "metadata": {},
   "outputs": [],
   "source": [
    "%%time\n",
    "\n",
    "# вытаскиваю номер дела\n",
    "\n",
    "def find_act_id(df):\n",
    "    try:\n",
    "        act_id = re.findall(r'(?<=дел[о|у] №)\\S+', work['act_text'].str.lower())[0]\n",
    "        \n",
    "    except:\n",
    "        act_id = 'none'\n",
    "        \n",
    "    return act_id\n",
    "\n",
    "#work['act_id'] = work.apply(find_act_id, axis=1)"
   ]
  },
  {
   "cell_type": "code",
   "execution_count": null,
   "metadata": {},
   "outputs": [],
   "source": [
    "# считаю длину текста судебных решений\n",
    "\n",
    "#work['text_len'] = work['act_text'].apply(lambda text: len(text))\n",
    "#work = work.astype({'text_len': 'int32'})"
   ]
  },
  {
   "cell_type": "code",
   "execution_count": null,
   "metadata": {},
   "outputs": [],
   "source": [
    "# проверяю гипотезу о равенстве названия текста и заголовка в самом тексте\n",
    "\n",
    "#def split_title_from_act(df):\n",
    "    \n",
    "#    return df['act_text'][:len(df['act_name'])]\n",
    "\n",
    "#work['new_title'] = work.apply(split_title_from_act, axis=1)\n",
    "\n",
    "#work['test'] = work.act_name == work.new_title\n",
    "\n",
    "#work.test.value_counts()\n",
    "\n",
    "#work.drop(['new_title', 'test'], axis=1, inplace=True)"
   ]
  },
  {
   "cell_type": "code",
   "execution_count": null,
   "metadata": {},
   "outputs": [],
   "source": [
    "# удаляю заголовок из текста дела\n",
    "\n",
    "def delete_title_from_act(df):\n",
    "    \n",
    "    return df['act_text'][len(df['act_name']):]\n",
    "\n",
    "work['act_text'] = work.apply(delete_title_from_act, axis=1)\n",
    "\n",
    "work['act_text'] = work['act_text'].str.strip()"
   ]
  },
  {
   "cell_type": "code",
   "execution_count": null,
   "metadata": {},
   "outputs": [],
   "source": [
    "# проверяю гипотезу о равенстве названия текста и заголовка в самом тексте\n",
    "\n",
    "#def split_court_info_from_act(df):\n",
    "    \n",
    "#    return df['act_text'][:len(df['court_info'])]\n",
    "\n",
    "#work['new_court'] = work.apply(split_court_info_from_act, axis=1)\n",
    "\n",
    "#work['test'] = work.court_info == work.new_court\n",
    "\n",
    "#work.test.value_counts()\n",
    "\n",
    "#work.drop(['new_court', 'test'], axis=1, inplace=True)"
   ]
  },
  {
   "cell_type": "code",
   "execution_count": null,
   "metadata": {},
   "outputs": [],
   "source": [
    "# удаляю court_info из текста\n",
    "\n",
    "def delete_court_info_from_act(df):\n",
    "    \n",
    "    return df['act_text'][len(df['court_info']):]\n",
    "\n",
    "work['act_text'] = work.apply(delete_court_info_from_act, axis=1)\n",
    "\n",
    "work['act_text'] = work['act_text'].str.strip()"
   ]
  },
  {
   "cell_type": "code",
   "execution_count": null,
   "metadata": {
    "scrolled": true
   },
   "outputs": [],
   "source": [
    "work.sample(3)"
   ]
  },
  {
   "cell_type": "code",
   "execution_count": null,
   "metadata": {},
   "outputs": [],
   "source": [
    "# делю court_info на два столбца\n",
    "\n",
    "temp_work = work['court_info'].str.split(' - ', expand=True, n=1)\n",
    "temp_work.columns = ['court', 'act_info']\n",
    "work = pd.concat([work, temp_work], axis=1)"
   ]
  },
  {
   "cell_type": "code",
   "execution_count": null,
   "metadata": {},
   "outputs": [],
   "source": [
    "# отщипываю act_text судебную практику (статьи)\n",
    "\n",
    "temp_work = work['act_text'].str.split('Судебная практика по:', expand=True, n=1)\n",
    "temp_work.columns = ['act_text', 'rest']\n",
    "temp_work['rest'] = temp_work['rest'].str.strip()\n",
    "temp_work['rest'] = temp_work['rest'].str.replace(r' Судебная практика.+ нормы? ', ' ', regex=True) # убираю артефакты\n",
    "temp_work['rest'] = temp_work['rest'].str.replace('РФ', 'РФstop_word') # делю по статьям\n",
    "temp_work['rest'] = temp_work['rest'].str.split('stop_word')\n",
    "\n",
    "work.drop(columns=['act_text'], inplace=True)\n",
    "work = pd.concat([work, temp_work], axis=1)\n",
    "work.rename(columns={'rest': 'articles'}, inplace=True)"
   ]
  },
  {
   "cell_type": "code",
   "execution_count": null,
   "metadata": {},
   "outputs": [],
   "source": [
    "# отщипываю act_text другие документы по делу\n",
    "\n",
    "temp_work = work['act_text'].str.split('Последние документы по делу:', expand=True, n=1)\n",
    "temp_work.columns = ['act_text', 'rest']\n",
    "temp_work['rest'] = temp_work['rest'].str.strip()\n",
    "\n",
    "work.drop(columns=['act_text'], inplace=True)\n",
    "work = pd.concat([work, temp_work], axis=1)\n",
    "work.rename(columns={'rest': 'associated_acts'}, inplace=True)"
   ]
  },
  {
   "cell_type": "code",
   "execution_count": null,
   "metadata": {},
   "outputs": [],
   "source": [
    "# список сторон дела\n",
    "\n",
    "parties_list = ['Суд:', 'Истцы:', 'Подсудимые:', 'Ответчики:', 'Иные лица:', 'Судьи дела:']"
   ]
  },
  {
   "cell_type": "code",
   "execution_count": null,
   "metadata": {},
   "outputs": [],
   "source": [
    "# отщипываю блок с участниками дела\n",
    "\n",
    "def split_act_parties(df):\n",
    "    for item in parties_list:\n",
    "        act_parties = re.findall(f'{item}\\s.+', df['act_text'])\n",
    "        if act_parties != []:\n",
    "            break\n",
    "    \n",
    "    temp_dict = {}\n",
    "    temp_dict['block_len'] = len(act_parties[0])\n",
    "    \n",
    "    act_parties = act_parties[0].strip()\n",
    "    \n",
    "    for item in parties_list:\n",
    "        temp_dict[item] = (re.findall(f'(?<={item} ).*?(?= \\(подробнее)', act_parties))\n",
    "        \n",
    "            \n",
    "    return temp_dict\n",
    "\n",
    "work['act_parties'] = work.apply(split_act_parties, axis=1)"
   ]
  },
  {
   "cell_type": "code",
   "execution_count": null,
   "metadata": {},
   "outputs": [],
   "source": [
    "# удаляю блок из act_text\n",
    "\n",
    "def split_parties_block_from_act(df):\n",
    "    \n",
    "    return df['act_text'][:-(df['act_parties']['block_len'])]\n",
    "\n",
    "work['act_text'] = work.apply(split_parties_block_from_act, axis=1)"
   ]
  },
  {
   "cell_type": "code",
   "execution_count": null,
   "metadata": {},
   "outputs": [],
   "source": [
    "work.sample(3)"
   ]
  },
  {
   "cell_type": "code",
   "execution_count": null,
   "metadata": {},
   "outputs": [],
   "source": []
  },
  {
   "cell_type": "code",
   "execution_count": null,
   "metadata": {},
   "outputs": [],
   "source": []
  },
  {
   "cell_type": "code",
   "execution_count": null,
   "metadata": {},
   "outputs": [],
   "source": []
  },
  {
   "cell_type": "code",
   "execution_count": null,
   "metadata": {},
   "outputs": [],
   "source": [
    "work.drop(columns=['act_text'], inplace=True)\n",
    "work = pd.concat([work, temp_work], axis=1)\n",
    "work.rename(columns={'rest': 'associated_acts'}, inplace=True)"
   ]
  },
  {
   "cell_type": "code",
   "execution_count": null,
   "metadata": {},
   "outputs": [],
   "source": [
    "temp_work.head()"
   ]
  },
  {
   "cell_type": "code",
   "execution_count": null,
   "metadata": {},
   "outputs": [],
   "source": []
  },
  {
   "cell_type": "code",
   "execution_count": null,
   "metadata": {},
   "outputs": [],
   "source": []
  },
  {
   "cell_type": "code",
   "execution_count": null,
   "metadata": {},
   "outputs": [],
   "source": [
    "work.head()"
   ]
  },
  {
   "cell_type": "code",
   "execution_count": null,
   "metadata": {},
   "outputs": [],
   "source": [
    "test = re.findall(r'Суд: .+\\(подробнее\\)', work.act_text[1456])"
   ]
  },
  {
   "cell_type": "code",
   "execution_count": null,
   "metadata": {},
   "outputs": [],
   "source": []
  },
  {
   "cell_type": "code",
   "execution_count": null,
   "metadata": {},
   "outputs": [],
   "source": [
    "# считаю длину текста судебных решений\n",
    "\n",
    "temp_work['text_len'] = temp_work['act_text'].apply(lambda text: len(text))\n",
    "temp_work = temp_work.astype({'text_len': 'int32'})"
   ]
  },
  {
   "cell_type": "code",
   "execution_count": null,
   "metadata": {},
   "outputs": [],
   "source": [
    "temp_work['rest'] = temp_work['rest'].str.strip()"
   ]
  },
  {
   "cell_type": "code",
   "execution_count": null,
   "metadata": {},
   "outputs": [],
   "source": []
  },
  {
   "cell_type": "code",
   "execution_count": null,
   "metadata": {},
   "outputs": [],
   "source": [
    "work = pd.concat([work, temp_work], axis=1)"
   ]
  },
  {
   "cell_type": "code",
   "execution_count": null,
   "metadata": {},
   "outputs": [],
   "source": []
  },
  {
   "cell_type": "code",
   "execution_count": null,
   "metadata": {},
   "outputs": [],
   "source": [
    "re.findall('Последние документы по делу:',)\n",
    "\n",
    "work.act_text[1456]"
   ]
  },
  {
   "cell_type": "code",
   "execution_count": null,
   "metadata": {},
   "outputs": [],
   "source": []
  },
  {
   "cell_type": "code",
   "execution_count": null,
   "metadata": {},
   "outputs": [],
   "source": []
  },
  {
   "cell_type": "code",
   "execution_count": null,
   "metadata": {},
   "outputs": [],
   "source": [
    "work = work[['act_name', 'act_date', 'court', 'act_info', 'act_text', 'text_len', 'act_url', 'instance', 'queries']]"
   ]
  },
  {
   "cell_type": "code",
   "execution_count": null,
   "metadata": {},
   "outputs": [],
   "source": [
    "work.sample(3)"
   ]
  },
  {
   "cell_type": "code",
   "execution_count": null,
   "metadata": {},
   "outputs": [],
   "source": []
  },
  {
   "cell_type": "code",
   "execution_count": null,
   "metadata": {},
   "outputs": [],
   "source": [
    "re.search(r'Истцы:.+(подробнее)?', work.act_text[6])"
   ]
  },
  {
   "cell_type": "code",
   "execution_count": null,
   "metadata": {},
   "outputs": [],
   "source": [
    "work.act_text[1456]"
   ]
  },
  {
   "cell_type": "code",
   "execution_count": null,
   "metadata": {},
   "outputs": [],
   "source": []
  },
  {
   "cell_type": "code",
   "execution_count": null,
   "metadata": {},
   "outputs": [],
   "source": [
    "test = re.findall(r'Суд: .+\\(подробнее\\)', work.act_text[1456])"
   ]
  },
  {
   "cell_type": "code",
   "execution_count": null,
   "metadata": {},
   "outputs": [],
   "source": [
    "test[0].split(' (подробнее) ')"
   ]
  },
  {
   "cell_type": "code",
   "execution_count": null,
   "metadata": {},
   "outputs": [],
   "source": [
    "work.act_text[344]"
   ]
  },
  {
   "cell_type": "code",
   "execution_count": null,
   "metadata": {},
   "outputs": [],
   "source": [
    "# создаю датафрейм только с лосями\n",
    "\n",
    "work_elks = work[work.queries.str.contains('лос', case=False)]"
   ]
  },
  {
   "cell_type": "code",
   "execution_count": null,
   "metadata": {},
   "outputs": [],
   "source": [
    "work_elks.shape"
   ]
  },
  {
   "cell_type": "code",
   "execution_count": null,
   "metadata": {},
   "outputs": [],
   "source": [
    "work.head(1)"
   ]
  },
  {
   "cell_type": "code",
   "execution_count": null,
   "metadata": {},
   "outputs": [],
   "source": [
    "work."
   ]
  },
  {
   "cell_type": "code",
   "execution_count": null,
   "metadata": {},
   "outputs": [],
   "source": []
  },
  {
   "cell_type": "code",
   "execution_count": null,
   "metadata": {},
   "outputs": [],
   "source": [
    "temp = work.act_url.value_counts().reset_index()"
   ]
  },
  {
   "cell_type": "code",
   "execution_count": null,
   "metadata": {},
   "outputs": [],
   "source": [
    "temp = temp[temp.act_url > 1]['index'].to_list()"
   ]
  },
  {
   "cell_type": "code",
   "execution_count": null,
   "metadata": {},
   "outputs": [],
   "source": [
    "temp_work = pd.DataFrame()\n",
    "\n",
    "for i in temp:\n",
    "    temp_work = temp_work.append(work[work.act_url == i])\n",
    "    "
   ]
  },
  {
   "cell_type": "code",
   "execution_count": null,
   "metadata": {},
   "outputs": [],
   "source": [
    "list(work.act_date.unique())"
   ]
  },
  {
   "cell_type": "code",
   "execution_count": null,
   "metadata": {},
   "outputs": [],
   "source": []
  },
  {
   "cell_type": "code",
   "execution_count": null,
   "metadata": {},
   "outputs": [],
   "source": []
  },
  {
   "cell_type": "code",
   "execution_count": null,
   "metadata": {},
   "outputs": [],
   "source": [
    "work_temp = work[~(\n",
    "    \n",
    "    (work.act_text.str.contains(' лося', case=False)) |\n",
    "    (work.act_text.str.contains(' лосем', case=False)) |\n",
    "    (work.act_text.str.contains(' лосенка', case=False)) |\n",
    "    (work.act_text.str.contains(' лосих', case=False)) |\n",
    "    (work.act_text.str.contains(' лось', case=False)) |\n",
    "    (work.act_text.str.contains(' медвед', case=False))\n",
    "    \n",
    "    \n",
    ")]"
   ]
  },
  {
   "cell_type": "code",
   "execution_count": null,
   "metadata": {},
   "outputs": [],
   "source": [
    "work_temp"
   ]
  },
  {
   "cell_type": "code",
   "execution_count": null,
   "metadata": {},
   "outputs": [],
   "source": []
  },
  {
   "cell_type": "code",
   "execution_count": null,
   "metadata": {},
   "outputs": [],
   "source": [
    "work.sample(3)"
   ]
  },
  {
   "cell_type": "code",
   "execution_count": null,
   "metadata": {},
   "outputs": [],
   "source": [
    "work.to_excel(file_path + 'temp_666.xlsx')"
   ]
  },
  {
   "cell_type": "code",
   "execution_count": null,
   "metadata": {},
   "outputs": [],
   "source": []
  }
 ],
 "metadata": {
  "kernelspec": {
   "display_name": "Python 3",
   "language": "python",
   "name": "python3"
  },
  "language_info": {
   "codemirror_mode": {
    "name": "ipython",
    "version": 3
   },
   "file_extension": ".py",
   "mimetype": "text/x-python",
   "name": "python",
   "nbconvert_exporter": "python",
   "pygments_lexer": "ipython3",
   "version": "3.8.8"
  }
 },
 "nbformat": 4,
 "nbformat_minor": 2
}
