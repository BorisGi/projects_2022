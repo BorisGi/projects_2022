{
 "cells": [
  {
   "cell_type": "code",
   "execution_count": null,
   "metadata": {},
   "outputs": [],
   "source": []
  },
  {
   "cell_type": "markdown",
   "metadata": {},
   "source": [
    "## Библиотеки и настройки"
   ]
  },
  {
   "cell_type": "code",
   "execution_count": 1,
   "metadata": {},
   "outputs": [],
   "source": [
    "# импорт библиотек\n",
    "\n",
    "import pandas as pd \n",
    "\n",
    "# регулярки\n",
    "import re\n",
    "\n",
    "from datetime import datetime\n",
    "\n",
    "# прогресс-бар\n",
    "from tqdm.notebook import trange, tqdm\n",
    "\n",
    "\n",
    "import nltk\n",
    "from nltk.corpus import stopwords\n",
    "from nltk.stem import WordNetLemmatizer\n",
    "\n",
    "from pymystem3 import Mystem\n",
    "from tqdm import tqdm_notebook\n",
    "\n",
    "import warnings\n",
    "warnings.filterwarnings(\"ignore\",category=DeprecationWarning)"
   ]
  },
  {
   "cell_type": "code",
   "execution_count": 2,
   "metadata": {},
   "outputs": [],
   "source": [
    "# путь к файлам\n",
    "\n",
    "file_path = 'C:/01_Projects/02_elk_accidents/'"
   ]
  },
  {
   "cell_type": "code",
   "execution_count": null,
   "metadata": {},
   "outputs": [],
   "source": []
  },
  {
   "cell_type": "markdown",
   "metadata": {},
   "source": [
    "### Выгружаю датасет"
   ]
  },
  {
   "cell_type": "code",
   "execution_count": 3,
   "metadata": {},
   "outputs": [],
   "source": [
    "# выгружаю файл в датафрейм\n",
    "\n",
    "work = pd.read_csv(file_path + 'elks.csv')"
   ]
  },
  {
   "cell_type": "code",
   "execution_count": 4,
   "metadata": {},
   "outputs": [
    {
     "data": {
      "text/html": [
       "<div>\n",
       "<style scoped>\n",
       "    .dataframe tbody tr th:only-of-type {\n",
       "        vertical-align: middle;\n",
       "    }\n",
       "\n",
       "    .dataframe tbody tr th {\n",
       "        vertical-align: top;\n",
       "    }\n",
       "\n",
       "    .dataframe thead th {\n",
       "        text-align: right;\n",
       "    }\n",
       "</style>\n",
       "<table border=\"1\" class=\"dataframe\">\n",
       "  <thead>\n",
       "    <tr style=\"text-align: right;\">\n",
       "      <th></th>\n",
       "      <th>act_name</th>\n",
       "      <th>court_info</th>\n",
       "      <th>act_text</th>\n",
       "      <th>act_url</th>\n",
       "      <th>instance</th>\n",
       "      <th>queries</th>\n",
       "    </tr>\n",
       "  </thead>\n",
       "  <tbody>\n",
       "    <tr>\n",
       "      <th>2112</th>\n",
       "      <td>Постановление № 5-91/2017 от 6 марта 2017 г. п...</td>\n",
       "      <td>Верхнепышминский городской суд (Свердловская о...</td>\n",
       "      <td>Постановление № 5-91/2017 от 6 марта 2017 г. п...</td>\n",
       "      <td>https://sudact.ru/regular/doc/HeJVRDAXd9N9/</td>\n",
       "      <td>первая</td>\n",
       "      <td>['автомобиль лось']</td>\n",
       "    </tr>\n",
       "    <tr>\n",
       "      <th>2832</th>\n",
       "      <td>Приговор № 1-37/2017 от 9 ноября 2017 г. по де...</td>\n",
       "      <td>Ардатовский районный суд (Республика Мордовия)...</td>\n",
       "      <td>Приговор № 1-37/2017 от 9 ноября 2017 г. по де...</td>\n",
       "      <td>https://sudact.ru/regular/doc/p4S1fkarHlbx/</td>\n",
       "      <td>первая</td>\n",
       "      <td>['автомобиль лось']</td>\n",
       "    </tr>\n",
       "    <tr>\n",
       "      <th>1577</th>\n",
       "      <td>Решение № 12-147/2013 от 11 марта 2013 г. по д...</td>\n",
       "      <td>Измайловский районный суд (Город Москва) - Адм...</td>\n",
       "      <td>Решение № 12-147/2013 от 11 марта 2013 г. по д...</td>\n",
       "      <td>https://sudact.ru/regular/doc/TVr1T7k6YAWu/</td>\n",
       "      <td>аппеляция</td>\n",
       "      <td>['автомобиль лось']</td>\n",
       "    </tr>\n",
       "  </tbody>\n",
       "</table>\n",
       "</div>"
      ],
      "text/plain": [
       "                                               act_name  \\\n",
       "2112  Постановление № 5-91/2017 от 6 марта 2017 г. п...   \n",
       "2832  Приговор № 1-37/2017 от 9 ноября 2017 г. по де...   \n",
       "1577  Решение № 12-147/2013 от 11 марта 2013 г. по д...   \n",
       "\n",
       "                                             court_info  \\\n",
       "2112  Верхнепышминский городской суд (Свердловская о...   \n",
       "2832  Ардатовский районный суд (Республика Мордовия)...   \n",
       "1577  Измайловский районный суд (Город Москва) - Адм...   \n",
       "\n",
       "                                               act_text  \\\n",
       "2112  Постановление № 5-91/2017 от 6 марта 2017 г. п...   \n",
       "2832  Приговор № 1-37/2017 от 9 ноября 2017 г. по де...   \n",
       "1577  Решение № 12-147/2013 от 11 марта 2013 г. по д...   \n",
       "\n",
       "                                          act_url   instance  \\\n",
       "2112  https://sudact.ru/regular/doc/HeJVRDAXd9N9/     первая   \n",
       "2832  https://sudact.ru/regular/doc/p4S1fkarHlbx/     первая   \n",
       "1577  https://sudact.ru/regular/doc/TVr1T7k6YAWu/  аппеляция   \n",
       "\n",
       "                  queries  \n",
       "2112  ['автомобиль лось']  \n",
       "2832  ['автомобиль лось']  \n",
       "1577  ['автомобиль лось']  "
      ]
     },
     "execution_count": 4,
     "metadata": {},
     "output_type": "execute_result"
    }
   ],
   "source": [
    "# смотрю случайные строки\n",
    "\n",
    "work.sample(3)"
   ]
  },
  {
   "cell_type": "code",
   "execution_count": 5,
   "metadata": {},
   "outputs": [
    {
     "data": {
      "text/plain": [
       "(3165, 6)"
      ]
     },
     "execution_count": 5,
     "metadata": {},
     "output_type": "execute_result"
    }
   ],
   "source": [
    "# количество строк и столбцов\n",
    "\n",
    "work.shape"
   ]
  },
  {
   "cell_type": "code",
   "execution_count": 6,
   "metadata": {},
   "outputs": [
    {
     "data": {
      "text/plain": [
       "act_name      object\n",
       "court_info    object\n",
       "act_text      object\n",
       "act_url       object\n",
       "instance      object\n",
       "queries       object\n",
       "dtype: object"
      ]
     },
     "execution_count": 6,
     "metadata": {},
     "output_type": "execute_result"
    }
   ],
   "source": [
    "# типы данных\n",
    "\n",
    "work.dtypes"
   ]
  },
  {
   "cell_type": "code",
   "execution_count": 7,
   "metadata": {},
   "outputs": [
    {
     "data": {
      "text/plain": [
       "act_name      0\n",
       "court_info    0\n",
       "act_text      0\n",
       "act_url       0\n",
       "instance      0\n",
       "queries       0\n",
       "dtype: int64"
      ]
     },
     "execution_count": 7,
     "metadata": {},
     "output_type": "execute_result"
    }
   ],
   "source": [
    "# проверка на пустые значения\n",
    "\n",
    "work.isnull().sum()"
   ]
  },
  {
   "cell_type": "code",
   "execution_count": null,
   "metadata": {},
   "outputs": [],
   "source": []
  },
  {
   "cell_type": "markdown",
   "metadata": {},
   "source": [
    "### Чищу тексты дел"
   ]
  },
  {
   "cell_type": "code",
   "execution_count": 8,
   "metadata": {},
   "outputs": [
    {
     "data": {
      "text/plain": [
       "Index(['act_name', 'court_info', 'act_text', 'act_url', 'instance', 'queries'], dtype='object')"
      ]
     },
     "execution_count": 8,
     "metadata": {},
     "output_type": "execute_result"
    }
   ],
   "source": [
    "work.columns"
   ]
  },
  {
   "cell_type": "code",
   "execution_count": 9,
   "metadata": {},
   "outputs": [
    {
     "data": {
      "application/vnd.jupyter.widget-view+json": {
       "model_id": "a01f2319c1a34e058c243aa909350117",
       "version_major": 2,
       "version_minor": 0
      },
      "text/plain": [
       "  0%|          | 0/4 [00:00<?, ?it/s]"
      ]
     },
     "metadata": {},
     "output_type": "display_data"
    }
   ],
   "source": [
    "# список столбцов со строковыми значениями\n",
    "colum_str_list = ['act_name', 'court_info', 'act_text', 'act_url']\n",
    "\n",
    "for column in tqdm(colum_str_list):\n",
    "    work[column] = work[column].str.replace('ё', 'е')\n",
    "    work[column] = work[column].str.replace('\\s+', ' ', regex=True)    "
   ]
  },
  {
   "cell_type": "code",
   "execution_count": 10,
   "metadata": {},
   "outputs": [],
   "source": [
    "# дата решения\n",
    "\n",
    "work['act_date'] = work['act_name'].str.replace(r'.+ от ', ' ', regex=True)\n",
    "work['act_date'] = work['act_date'].str.replace(r' г\\. .+', ' ', regex=True)\n",
    "work['act_date'] = work['act_date'].str.replace(r' г\\.', ' ', regex=True)\n",
    "\n",
    "# меняю месяц на число\n",
    "work['act_date'] = work['act_date'].str.replace('января', '-01-', regex=True)\n",
    "work['act_date'] = work['act_date'].str.replace('февраля', '-02-', regex=True)\n",
    "work['act_date'] = work['act_date'].str.replace('марта', '-03-', regex=True)\n",
    "work['act_date'] = work['act_date'].str.replace('апреля', '-04-', regex=True)\n",
    "work['act_date'] = work['act_date'].str.replace('мая', '-05-', regex=True)\n",
    "work['act_date'] = work['act_date'].str.replace('июня', '-06-', regex=True)\n",
    "work['act_date'] = work['act_date'].str.replace('июля', '-07-', regex=True)\n",
    "work['act_date'] = work['act_date'].str.replace('августа', '-08-', regex=True)\n",
    "work['act_date'] = work['act_date'].str.replace('сентября', '-09-', regex=True)\n",
    "work['act_date'] = work['act_date'].str.replace('октября', '-10-', regex=True)\n",
    "work['act_date'] = work['act_date'].str.replace('ноября', '-11-', regex=True)\n",
    "work['act_date'] = work['act_date'].str.replace('декабря', '-12-', regex=True)\n",
    "work['act_date'] = work['act_date'].str.replace(' ', '', regex=True)"
   ]
  },
  {
   "cell_type": "code",
   "execution_count": null,
   "metadata": {},
   "outputs": [],
   "source": []
  },
  {
   "cell_type": "code",
   "execution_count": null,
   "metadata": {},
   "outputs": [],
   "source": [
    "# делю court_info на два столбца\n",
    "\n",
    "temp_work = work['court_info'].str.split(' - ', expand=True, n=1)\n",
    "temp_work.columns = ['court', 'act_info']\n",
    "work = pd.concat([work, temp_work], axis=1)\n",
    "\n",
    "work = work[['act_name', 'act_date', 'court', 'act_info', 'act_text', 'act_url', 'instance', 'queries', 'text_len']]"
   ]
  },
  {
   "cell_type": "code",
   "execution_count": 11,
   "metadata": {},
   "outputs": [],
   "source": [
    "# проверяю гипотезу о равенстве названия текста и заголовка в самом тексте\n",
    "\n",
    "#def split_title_from_act(df):\n",
    "    \n",
    "#    return df['act_text'][:len(df['act_name'])]\n",
    "\n",
    "#work['new_title'] = work.apply(split_title_from_act, axis=1)\n",
    "\n",
    "#work['test'] = work.act_name == work.new_title\n",
    "\n",
    "#work.test.value_counts()\n",
    "\n",
    "#work.drop(['new_title', 'test'], axis=1, inplace=True)"
   ]
  },
  {
   "cell_type": "code",
   "execution_count": 12,
   "metadata": {},
   "outputs": [],
   "source": [
    "# удаляю заголовок из текста дела\n",
    "\n",
    "def delete_title_from_act(df):\n",
    "    \n",
    "    return df['act_text'][len(df['act_name']):]\n",
    "\n",
    "work['act_text'] = work.apply(delete_title_from_act, axis=1)\n",
    "\n",
    "work['act_text'] = work['act_text'].str.strip()"
   ]
  },
  {
   "cell_type": "code",
   "execution_count": 15,
   "metadata": {},
   "outputs": [
    {
     "data": {
      "text/html": [
       "<div>\n",
       "<style scoped>\n",
       "    .dataframe tbody tr th:only-of-type {\n",
       "        vertical-align: middle;\n",
       "    }\n",
       "\n",
       "    .dataframe tbody tr th {\n",
       "        vertical-align: top;\n",
       "    }\n",
       "\n",
       "    .dataframe thead th {\n",
       "        text-align: right;\n",
       "    }\n",
       "</style>\n",
       "<table border=\"1\" class=\"dataframe\">\n",
       "  <thead>\n",
       "    <tr style=\"text-align: right;\">\n",
       "      <th></th>\n",
       "      <th>act_name</th>\n",
       "      <th>court_info</th>\n",
       "      <th>act_text</th>\n",
       "      <th>act_url</th>\n",
       "      <th>instance</th>\n",
       "      <th>queries</th>\n",
       "      <th>act_date</th>\n",
       "    </tr>\n",
       "  </thead>\n",
       "  <tbody>\n",
       "    <tr>\n",
       "      <th>2107</th>\n",
       "      <td>Приговор № 1-1/2017 1-24/2014 1-315/2013 1-4/2...</td>\n",
       "      <td>Калининский районный суд г. Уфы (Республика Ба...</td>\n",
       "      <td>Калининский районный суд г. Уфы (Республика Ба...</td>\n",
       "      <td>https://sudact.ru/regular/doc/g8RLxRygTF6g/</td>\n",
       "      <td>первая</td>\n",
       "      <td>['автомобиль лось']</td>\n",
       "      <td>12-04-2017</td>\n",
       "    </tr>\n",
       "    <tr>\n",
       "      <th>1297</th>\n",
       "      <td>Решение № 12-107/2020 от 28 июля 2020 г. по де...</td>\n",
       "      <td>Игринский районный суд (Удмуртская Республика)...</td>\n",
       "      <td>Игринский районный суд (Удмуртская Республика)...</td>\n",
       "      <td>https://sudact.ru/regular/doc/wa2DM2baqmxT/</td>\n",
       "      <td>аппеляция</td>\n",
       "      <td>['автомобиль лось']</td>\n",
       "      <td>28-07-2020</td>\n",
       "    </tr>\n",
       "    <tr>\n",
       "      <th>1991</th>\n",
       "      <td>Приговор № 1-19/2019 1-226/2018 от 4 февраля 2...</td>\n",
       "      <td>Баймакский районный суд (Республика Башкортост...</td>\n",
       "      <td>Баймакский районный суд (Республика Башкортост...</td>\n",
       "      <td>https://sudact.ru/regular/doc/So2LUyqLLLb8/</td>\n",
       "      <td>первая</td>\n",
       "      <td>['автомобиль лось']</td>\n",
       "      <td>4-02-2019</td>\n",
       "    </tr>\n",
       "  </tbody>\n",
       "</table>\n",
       "</div>"
      ],
      "text/plain": [
       "                                               act_name  \\\n",
       "2107  Приговор № 1-1/2017 1-24/2014 1-315/2013 1-4/2...   \n",
       "1297  Решение № 12-107/2020 от 28 июля 2020 г. по де...   \n",
       "1991  Приговор № 1-19/2019 1-226/2018 от 4 февраля 2...   \n",
       "\n",
       "                                             court_info  \\\n",
       "2107  Калининский районный суд г. Уфы (Республика Ба...   \n",
       "1297  Игринский районный суд (Удмуртская Республика)...   \n",
       "1991  Баймакский районный суд (Республика Башкортост...   \n",
       "\n",
       "                                               act_text  \\\n",
       "2107  Калининский районный суд г. Уфы (Республика Ба...   \n",
       "1297  Игринский районный суд (Удмуртская Республика)...   \n",
       "1991  Баймакский районный суд (Республика Башкортост...   \n",
       "\n",
       "                                          act_url   instance  \\\n",
       "2107  https://sudact.ru/regular/doc/g8RLxRygTF6g/     первая   \n",
       "1297  https://sudact.ru/regular/doc/wa2DM2baqmxT/  аппеляция   \n",
       "1991  https://sudact.ru/regular/doc/So2LUyqLLLb8/     первая   \n",
       "\n",
       "                  queries    act_date  \n",
       "2107  ['автомобиль лось']  12-04-2017  \n",
       "1297  ['автомобиль лось']  28-07-2020  \n",
       "1991  ['автомобиль лось']   4-02-2019  "
      ]
     },
     "execution_count": 15,
     "metadata": {},
     "output_type": "execute_result"
    }
   ],
   "source": [
    "work.sample(3)"
   ]
  },
  {
   "cell_type": "code",
   "execution_count": null,
   "metadata": {},
   "outputs": [],
   "source": []
  },
  {
   "cell_type": "code",
   "execution_count": 25,
   "metadata": {},
   "outputs": [],
   "source": [
    "# проверяю гипотезу о равенстве названия текста и заголовка в самом тексте\n",
    "\n",
    "#def split_court_info_from_act(df):\n",
    "    \n",
    "#    return df['act_text'][:len(df['court_info'])]\n",
    "\n",
    "#work['new_court'] = work.apply(split_court_info_from_act, axis=1)\n",
    "\n",
    "#work['test'] = work.court_info == work.new_court\n",
    "\n",
    "#work.test.value_counts()\n",
    "\n",
    "#work.drop(['new_court', 'test'], axis=1, inplace=True)"
   ]
  },
  {
   "cell_type": "code",
   "execution_count": 27,
   "metadata": {},
   "outputs": [],
   "source": [
    "# удаляю court_info из текста\n",
    "\n",
    "def delete_court_info_from_act(df):\n",
    "    \n",
    "    return df['act_text'][len(df['court_info']):]\n",
    "\n",
    "work['act_text'] = work.apply(delete_court_info_from_act, axis=1)\n",
    "\n",
    "work['act_text'] = work['act_text'].str.strip()"
   ]
  },
  {
   "cell_type": "code",
   "execution_count": 28,
   "metadata": {},
   "outputs": [
    {
     "data": {
      "text/html": [
       "<div>\n",
       "<style scoped>\n",
       "    .dataframe tbody tr th:only-of-type {\n",
       "        vertical-align: middle;\n",
       "    }\n",
       "\n",
       "    .dataframe tbody tr th {\n",
       "        vertical-align: top;\n",
       "    }\n",
       "\n",
       "    .dataframe thead th {\n",
       "        text-align: right;\n",
       "    }\n",
       "</style>\n",
       "<table border=\"1\" class=\"dataframe\">\n",
       "  <thead>\n",
       "    <tr style=\"text-align: right;\">\n",
       "      <th></th>\n",
       "      <th>act_name</th>\n",
       "      <th>court_info</th>\n",
       "      <th>act_text</th>\n",
       "      <th>act_url</th>\n",
       "      <th>instance</th>\n",
       "      <th>queries</th>\n",
       "      <th>act_date</th>\n",
       "    </tr>\n",
       "  </thead>\n",
       "  <tbody>\n",
       "    <tr>\n",
       "      <th>942</th>\n",
       "      <td>Определение № 11-6831/2014 от 8 июля 2014 г. п...</td>\n",
       "      <td>Челябинский областной суд (Челябинская область...</td>\n",
       "      <td>Дело№ 11-6831/2014 Судья Аганина Т.А. АПЕЛЛЯЦИ...</td>\n",
       "      <td>https://sudact.ru/regular/doc/eHTVRfpdU0H4/</td>\n",
       "      <td>аппеляция</td>\n",
       "      <td>['столкновение с лосем', 'автомобиль лось']</td>\n",
       "      <td>8-07-2014</td>\n",
       "    </tr>\n",
       "    <tr>\n",
       "      <th>34</th>\n",
       "      <td>Постановление № 5-28/2015 от 7 августа 2015 г....</td>\n",
       "      <td>Стругокрасненский районный суд (Псковская обла...</td>\n",
       "      <td>ПОСТАНОВЛЕНИЕ Дело № 5-28/2015 07 августа 2015...</td>\n",
       "      <td>https://sudact.ru/regular/doc/BtaIXZiB1JgS/</td>\n",
       "      <td>первая</td>\n",
       "      <td>['наезд на лося', 'автомобиль лось']</td>\n",
       "      <td>7-08-2015</td>\n",
       "    </tr>\n",
       "    <tr>\n",
       "      <th>1069</th>\n",
       "      <td>Постановление № А3-001264-05/2011 от 27 декабр...</td>\n",
       "      <td>Челябинский областной суд (Челябинская область...</td>\n",
       "      <td>Челябинский Областной суд - Судебный акт №А3-0...</td>\n",
       "      <td>https://sudact.ru/regular/doc/yvLDX0eMCfxj/</td>\n",
       "      <td>надзор</td>\n",
       "      <td>['автомобиль лось']</td>\n",
       "      <td>27-12-2011</td>\n",
       "    </tr>\n",
       "  </tbody>\n",
       "</table>\n",
       "</div>"
      ],
      "text/plain": [
       "                                               act_name  \\\n",
       "942   Определение № 11-6831/2014 от 8 июля 2014 г. п...   \n",
       "34    Постановление № 5-28/2015 от 7 августа 2015 г....   \n",
       "1069  Постановление № А3-001264-05/2011 от 27 декабр...   \n",
       "\n",
       "                                             court_info  \\\n",
       "942   Челябинский областной суд (Челябинская область...   \n",
       "34    Стругокрасненский районный суд (Псковская обла...   \n",
       "1069  Челябинский областной суд (Челябинская область...   \n",
       "\n",
       "                                               act_text  \\\n",
       "942   Дело№ 11-6831/2014 Судья Аганина Т.А. АПЕЛЛЯЦИ...   \n",
       "34    ПОСТАНОВЛЕНИЕ Дело № 5-28/2015 07 августа 2015...   \n",
       "1069  Челябинский Областной суд - Судебный акт №А3-0...   \n",
       "\n",
       "                                          act_url   instance  \\\n",
       "942   https://sudact.ru/regular/doc/eHTVRfpdU0H4/  аппеляция   \n",
       "34    https://sudact.ru/regular/doc/BtaIXZiB1JgS/     первая   \n",
       "1069  https://sudact.ru/regular/doc/yvLDX0eMCfxj/     надзор   \n",
       "\n",
       "                                          queries    act_date  \n",
       "942   ['столкновение с лосем', 'автомобиль лось']   8-07-2014  \n",
       "34           ['наезд на лося', 'автомобиль лось']   7-08-2015  \n",
       "1069                          ['автомобиль лось']  27-12-2011  "
      ]
     },
     "execution_count": 28,
     "metadata": {},
     "output_type": "execute_result"
    }
   ],
   "source": [
    "work.sample(3)"
   ]
  },
  {
   "cell_type": "code",
   "execution_count": null,
   "metadata": {},
   "outputs": [],
   "source": []
  },
  {
   "cell_type": "code",
   "execution_count": null,
   "metadata": {},
   "outputs": [],
   "source": []
  },
  {
   "cell_type": "code",
   "execution_count": null,
   "metadata": {},
   "outputs": [],
   "source": [
    "# считаю длину текста судебных решений\n",
    "\n",
    "work['text_len'] = work['act_text'].apply(lambda text: len(text))\n",
    "work = work.astype({'text_len': 'int32'})"
   ]
  },
  {
   "cell_type": "code",
   "execution_count": null,
   "metadata": {},
   "outputs": [],
   "source": []
  },
  {
   "cell_type": "code",
   "execution_count": null,
   "metadata": {},
   "outputs": [],
   "source": [
    "work_elks = work[work.queries.str.contains('лос', case=False)]"
   ]
  },
  {
   "cell_type": "code",
   "execution_count": null,
   "metadata": {},
   "outputs": [],
   "source": [
    "work_elks = work[work]"
   ]
  },
  {
   "cell_type": "code",
   "execution_count": null,
   "metadata": {},
   "outputs": [],
   "source": []
  },
  {
   "cell_type": "code",
   "execution_count": null,
   "metadata": {},
   "outputs": [],
   "source": []
  },
  {
   "cell_type": "code",
   "execution_count": null,
   "metadata": {},
   "outputs": [],
   "source": []
  },
  {
   "cell_type": "code",
   "execution_count": null,
   "metadata": {},
   "outputs": [],
   "source": [
    "temp = work.act_url.value_counts().reset_index()"
   ]
  },
  {
   "cell_type": "code",
   "execution_count": null,
   "metadata": {},
   "outputs": [],
   "source": [
    "temp = temp[temp.act_url > 1]['index'].to_list()"
   ]
  },
  {
   "cell_type": "code",
   "execution_count": null,
   "metadata": {},
   "outputs": [],
   "source": [
    "temp_work = pd.DataFrame()\n",
    "\n",
    "for i in temp:\n",
    "    temp_work = temp_work.append(work[work.act_url == i])\n",
    "    "
   ]
  },
  {
   "cell_type": "code",
   "execution_count": null,
   "metadata": {},
   "outputs": [],
   "source": [
    "list(work.act_date.unique())"
   ]
  },
  {
   "cell_type": "code",
   "execution_count": null,
   "metadata": {},
   "outputs": [],
   "source": []
  },
  {
   "cell_type": "code",
   "execution_count": null,
   "metadata": {},
   "outputs": [],
   "source": []
  },
  {
   "cell_type": "code",
   "execution_count": null,
   "metadata": {},
   "outputs": [],
   "source": [
    "work_temp = work[~(\n",
    "    \n",
    "    (work.act_text.str.contains(' лося', case=False)) |\n",
    "    (work.act_text.str.contains(' лосем', case=False)) |\n",
    "    (work.act_text.str.contains(' лосенка', case=False)) |\n",
    "    (work.act_text.str.contains(' лосих', case=False)) |\n",
    "    (work.act_text.str.contains(' лось', case=False)) |\n",
    "    (work.act_text.str.contains(' медвед', case=False))\n",
    "    \n",
    "    \n",
    ")]"
   ]
  },
  {
   "cell_type": "code",
   "execution_count": null,
   "metadata": {},
   "outputs": [],
   "source": [
    "work_temp"
   ]
  },
  {
   "cell_type": "code",
   "execution_count": null,
   "metadata": {},
   "outputs": [],
   "source": []
  },
  {
   "cell_type": "code",
   "execution_count": null,
   "metadata": {},
   "outputs": [],
   "source": [
    "work.sample(3)"
   ]
  },
  {
   "cell_type": "code",
   "execution_count": 30,
   "metadata": {},
   "outputs": [],
   "source": [
    "work.to_excel(file_path + 'temp_666.xlsx')"
   ]
  },
  {
   "cell_type": "code",
   "execution_count": null,
   "metadata": {},
   "outputs": [],
   "source": []
  },
  {
   "cell_type": "code",
   "execution_count": null,
   "metadata": {},
   "outputs": [],
   "source": [
    "# для визуализации\n",
    "import seaborn as sns\n",
    "import matplotlib.pyplot as plt"
   ]
  },
  {
   "cell_type": "code",
   "execution_count": null,
   "metadata": {},
   "outputs": [],
   "source": [
    "# убирает  переводы строки\n",
    "\n",
    "df.column = df.column.str.replace('\\n', ' ')"
   ]
  },
  {
   "cell_type": "code",
   "execution_count": null,
   "metadata": {},
   "outputs": [],
   "source": [
    "# статистических\n",
    "\n",
    "import statistics\n",
    "\n",
    "%matplotlib inline"
   ]
  },
  {
   "cell_type": "code",
   "execution_count": null,
   "metadata": {},
   "outputs": [],
   "source": []
  },
  {
   "cell_type": "code",
   "execution_count": null,
   "metadata": {},
   "outputs": [],
   "source": [
    "[i for i in list(students_df) if 'score' in i]"
   ]
  },
  {
   "cell_type": "code",
   "execution_count": null,
   "metadata": {},
   "outputs": [],
   "source": [
    "[i for i in students_df.columns if 'score' in i]"
   ]
  },
  {
   "cell_type": "code",
   "execution_count": null,
   "metadata": {},
   "outputs": [],
   "source": [
    "students_df.filter(like='score')"
   ]
  },
  {
   "cell_type": "code",
   "execution_count": null,
   "metadata": {},
   "outputs": [],
   "source": [
    "# axis=0 - строки (в индексе), axis=1 - столбцы \n",
    "\n",
    "students_df.filter(like='1', axis=0)"
   ]
  },
  {
   "cell_type": "code",
   "execution_count": null,
   "metadata": {},
   "outputs": [],
   "source": [
    "(\n",
    "    students_df.groupby('gender', as_index=False)\n",
    "    .agg({'math_score': 'mean'})\n",
    "    .rename(columns={'math_score': 'math_score_mean'})\n",
    ")"
   ]
  },
  {
   "cell_type": "code",
   "execution_count": null,
   "metadata": {},
   "outputs": [],
   "source": []
  },
  {
   "cell_type": "code",
   "execution_count": null,
   "metadata": {},
   "outputs": [],
   "source": []
  },
  {
   "cell_type": "code",
   "execution_count": null,
   "metadata": {},
   "outputs": [],
   "source": []
  },
  {
   "cell_type": "code",
   "execution_count": null,
   "metadata": {},
   "outputs": [],
   "source": []
  }
 ],
 "metadata": {
  "kernelspec": {
   "display_name": "Python 3 (ipykernel)",
   "language": "python",
   "name": "python3"
  },
  "language_info": {
   "codemirror_mode": {
    "name": "ipython",
    "version": 3
   },
   "file_extension": ".py",
   "mimetype": "text/x-python",
   "name": "python",
   "nbconvert_exporter": "python",
   "pygments_lexer": "ipython3",
   "version": "3.9.7"
  }
 },
 "nbformat": 4,
 "nbformat_minor": 2
}
