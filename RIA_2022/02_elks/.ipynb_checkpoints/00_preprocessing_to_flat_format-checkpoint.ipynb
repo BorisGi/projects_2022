{
 "cells": [
  {
   "cell_type": "code",
   "execution_count": null,
   "id": "49c54995",
   "metadata": {},
   "outputs": [],
   "source": [
    "# импорт библиотек\n",
    "\n",
    "import os\n",
    "\n",
    "import pandas as pd\n",
    "pd.options.mode.chained_assignment = None  # отключаю предупреждения default='warn'\n",
    "\n",
    "\n",
    "import re # регулярки"
   ]
  },
  {
   "cell_type": "code",
   "execution_count": null,
   "id": "8a10984d",
   "metadata": {},
   "outputs": [],
   "source": [
    "file_path = 'C:/00_Projects/RIA/2022/02_elk_accidents/00_data/'"
   ]
  },
  {
   "cell_type": "code",
   "execution_count": null,
   "id": "87d451e8",
   "metadata": {},
   "outputs": [],
   "source": [
    "# вытаскиваю названия файлов в список file_list\n",
    "\n",
    "file_list = []\n",
    "\n",
    "for root, dirs, files in os.walk(file_path):\n",
    "    \n",
    "    for filename in files:\n",
    "        file_list += [filename]"
   ]
  },
  {
   "cell_type": "code",
   "execution_count": null,
   "id": "c337ebb8",
   "metadata": {},
   "outputs": [],
   "source": [
    "file_list"
   ]
  },
  {
   "cell_type": "code",
   "execution_count": null,
   "id": "3bf46a59",
   "metadata": {},
   "outputs": [],
   "source": [
    "file_name = input() + '.xlsx'"
   ]
  },
  {
   "cell_type": "code",
   "execution_count": null,
   "id": "af3be1f2",
   "metadata": {},
   "outputs": [],
   "source": [
    "work = pd.read_excel(file_path + file_name)"
   ]
  },
  {
   "cell_type": "code",
   "execution_count": null,
   "id": "881d20d7",
   "metadata": {},
   "outputs": [],
   "source": [
    "work.head(3)"
   ]
  },
  {
   "cell_type": "code",
   "execution_count": null,
   "id": "6c0eb7d2",
   "metadata": {},
   "outputs": [],
   "source": [
    "new_column_list = work.columns"
   ]
  },
  {
   "cell_type": "code",
   "execution_count": null,
   "id": "fd5de852",
   "metadata": {},
   "outputs": [],
   "source": [
    "len(new_column_list)"
   ]
  },
  {
   "cell_type": "code",
   "execution_count": null,
   "id": "57762707",
   "metadata": {},
   "outputs": [],
   "source": []
  },
  {
   "cell_type": "markdown",
   "id": "6aab1632",
   "metadata": {},
   "source": [
    "####  Форма 1.4"
   ]
  },
  {
   "cell_type": "code",
   "execution_count": null,
   "id": "f2a3d60f",
   "metadata": {},
   "outputs": [],
   "source": [
    "work_new = pd.DataFrame()\n",
    "\n",
    "for need_sheet in pd.read_excel(file_path + file_name, sheet_name=None).keys():\n",
    "    \n",
    "    temp_work_1 = pd.read_excel(file_path + file_name, sheet_name=need_sheet)\n",
    "    \n",
    "    for i in range(17):\n",
    "        temp_work_2 = temp_work_1.iloc[:, :6]\n",
    "        temp_work_2['year'] = need_sheet\n",
    "        temp_work_2['animal'] = temp_work_2.columns[1].split(';')[0]\n",
    "                        \n",
    "        temp_work_2.columns=['region', 'total', 'disease', 'accident', 'poaching', 'other', 'year', 'animal']\n",
    "        \n",
    "        temp_work_1.drop(temp_work_1.iloc[:, 1:6], axis=1, inplace=True)        \n",
    "        \n",
    "        work_new = work_new.append(temp_work_2, ignore_index=True)\n",
    "        \n",
    "work_new['region'] = work_new['region'].str.replace('\\s+', ' ', regex=True)\n",
    "work_new['region'] = work_new['region'].str.strip()\n",
    "\n",
    "work_new = work_new[['region', 'animal', 'year', 'disease', 'accident', 'poaching', 'other']]"
   ]
  },
  {
   "cell_type": "code",
   "execution_count": null,
   "id": "450b780b",
   "metadata": {},
   "outputs": [],
   "source": [
    "work_new.head(5)"
   ]
  },
  {
   "cell_type": "code",
   "execution_count": null,
   "id": "a3caa666",
   "metadata": {},
   "outputs": [],
   "source": [
    "work_new.to_excel(file_path + 'temp.xlsx', index=False, sheet_name='data')"
   ]
  },
  {
   "cell_type": "code",
   "execution_count": null,
   "id": "3188873d",
   "metadata": {},
   "outputs": [],
   "source": []
  },
  {
   "cell_type": "code",
   "execution_count": null,
   "id": "7fb11462",
   "metadata": {},
   "outputs": [],
   "source": []
  },
  {
   "cell_type": "markdown",
   "id": "adea69ae",
   "metadata": {},
   "source": [
    "#### Код для погибших медведей"
   ]
  },
  {
   "cell_type": "code",
   "execution_count": null,
   "id": "ebb1aa97",
   "metadata": {},
   "outputs": [],
   "source": [
    "work = pd.read_excel(file_path + 'bear_deaths.xlsx', sheet_name=need_sheet)\n",
    "work = work[['region', 'Медведи;']]\n",
    "work.sort_values('region', inplace=True)\n",
    "work.columns=['region', 'total']\n",
    "work['year'] = 2015\n",
    "work['animal'] = 'Медведи'\n",
    "work = work[['region', 'year', 'animal', 'total']]\n",
    "\n",
    "\n",
    "for need_sheet in list(pd.read_excel(file_path + 'bear_deaths.xlsx', sheet_name=None).keys())[1:]:\n",
    "    \n",
    "    temp_work = pd.read_excel(file_path + 'bear_deaths.xlsx', sheet_name=need_sheet)\n",
    "    temp_work = temp_work[['region', 'Медведи;']]\n",
    "    temp_work.sort_values('region', inplace=True)\n",
    "    temp_work.columns=['region', 'total']\n",
    "    temp_work['year'] = need_sheet\n",
    "    temp_work['animal'] = 'Медведи'\n",
    "    temp_work = temp_work[['region', 'year', 'animal', 'total']]\n",
    "    \n",
    "    work = work.append(temp_work)"
   ]
  },
  {
   "cell_type": "code",
   "execution_count": null,
   "id": "da2e0d60",
   "metadata": {},
   "outputs": [],
   "source": []
  },
  {
   "cell_type": "markdown",
   "id": "0cc743cf",
   "metadata": {},
   "source": [
    "#### Код для численности животных"
   ]
  },
  {
   "cell_type": "code",
   "execution_count": null,
   "id": "a077ce67",
   "metadata": {},
   "outputs": [],
   "source": [
    "work = pd.DataFrame()\n",
    "\n",
    "for need_sheet in pd.read_excel(file_path + file_name, sheet_name=None).keys():\n",
    "    \n",
    "    temp_work_1 = pd.read_excel(file_path + file_name, sheet_name=need_sheet)\n",
    "    temp_work_1.sort_values('region', inplace=True)\n",
    "           \n",
    "\n",
    "    for need_column in temp_work_1.columns[1:]:\n",
    "        temp_work_2 = temp_work_1[['region']]\n",
    "        temp_work_2['year'] = str(need_sheet)\n",
    "        \n",
    "        temp_work_2['animal'] = need_column\n",
    "        temp_work_2['number'] = temp_work_1[[need_column]]\n",
    "        \n",
    "        work = work.append(temp_work_2)"
   ]
  },
  {
   "cell_type": "code",
   "execution_count": null,
   "id": "bc153de9",
   "metadata": {},
   "outputs": [],
   "source": [
    "work.sample(3)"
   ]
  },
  {
   "cell_type": "markdown",
   "id": "54891000",
   "metadata": {},
   "source": [
    "### Код для динамики численности животных"
   ]
  },
  {
   "cell_type": "code",
   "execution_count": null,
   "id": "9661c82e",
   "metadata": {},
   "outputs": [],
   "source": [
    "work = pd.DataFrame()\n",
    "\n",
    "for need_sheet in pd.read_excel(file_path + file_name, sheet_name=None).keys():\n",
    "    \n",
    "    temp_work_1 = pd.read_excel(file_path + file_name, sheet_name=need_sheet)\n",
    "    temp_work_1.sort_values('region', inplace=True)\n",
    "           \n",
    "\n",
    "    for need_column in temp_work_1.columns[1:]:\n",
    "        temp_work_2 = temp_work_1[['region']]\n",
    "        temp_work_2['animal'] = need_sheet\n",
    "        \n",
    "        temp_work_2['year'] = need_column\n",
    "        temp_work_2['number'] = temp_work_1[[need_column]]\n",
    "        \n",
    "        work = work.append(temp_work_2)"
   ]
  },
  {
   "cell_type": "code",
   "execution_count": null,
   "id": "9441ec2e",
   "metadata": {},
   "outputs": [],
   "source": [
    "work.sample(3)"
   ]
  },
  {
   "cell_type": "code",
   "execution_count": null,
   "id": "ac8c4cf7",
   "metadata": {},
   "outputs": [],
   "source": []
  },
  {
   "cell_type": "code",
   "execution_count": null,
   "id": "abeed6e2",
   "metadata": {},
   "outputs": [],
   "source": [
    "work.to_excel(file_path + 'temp.xlsx', index=False)"
   ]
  },
  {
   "cell_type": "code",
   "execution_count": null,
   "id": "53907e6d",
   "metadata": {},
   "outputs": [],
   "source": []
  }
 ],
 "metadata": {
  "kernelspec": {
   "display_name": "Python 3",
   "language": "python",
   "name": "python3"
  },
  "language_info": {
   "codemirror_mode": {
    "name": "ipython",
    "version": 3
   },
   "file_extension": ".py",
   "mimetype": "text/x-python",
   "name": "python",
   "nbconvert_exporter": "python",
   "pygments_lexer": "ipython3",
   "version": "3.8.8"
  }
 },
 "nbformat": 4,
 "nbformat_minor": 5
}
