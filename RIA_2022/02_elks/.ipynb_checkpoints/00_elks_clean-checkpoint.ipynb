{
 "cells": [
  {
   "cell_type": "markdown",
   "metadata": {},
   "source": [
    "Удаляю лишние строки"
   ]
  },
  {
   "cell_type": "markdown",
   "metadata": {},
   "source": [
    "## Библиотеки и настройки"
   ]
  },
  {
   "cell_type": "code",
   "execution_count": null,
   "metadata": {},
   "outputs": [],
   "source": [
    "# импорт библиотек\n",
    "\n",
    "import pandas as pd\n",
    "\n",
    "# регулярки\n",
    "import re\n",
    "\n",
    "# прогресс-бар\n",
    "from tqdm.notebook import trange, tqdm"
   ]
  },
  {
   "cell_type": "code",
   "execution_count": null,
   "metadata": {},
   "outputs": [],
   "source": [
    "# путь к файлам\n",
    "\n",
    "file_path = 'C:/00_Projects/RIA/2022/02_elk_accidents/'"
   ]
  },
  {
   "cell_type": "code",
   "execution_count": null,
   "metadata": {},
   "outputs": [],
   "source": []
  },
  {
   "cell_type": "markdown",
   "metadata": {},
   "source": [
    "### Выгружаю датасет"
   ]
  },
  {
   "cell_type": "code",
   "execution_count": null,
   "metadata": {},
   "outputs": [],
   "source": [
    "# выгружаю файл в датафрейм\n",
    "\n",
    "work = pd.read_csv(file_path + 'elks_old.csv')"
   ]
  },
  {
   "cell_type": "code",
   "execution_count": null,
   "metadata": {},
   "outputs": [],
   "source": [
    "# смотрю случайные строки\n",
    "\n",
    "work.sample(3)"
   ]
  },
  {
   "cell_type": "code",
   "execution_count": null,
   "metadata": {},
   "outputs": [],
   "source": [
    "# количество строк и столбцов\n",
    "\n",
    "work.shape"
   ]
  },
  {
   "cell_type": "code",
   "execution_count": null,
   "metadata": {},
   "outputs": [],
   "source": [
    "# типы данных\n",
    "\n",
    "work.dtypes"
   ]
  },
  {
   "cell_type": "code",
   "execution_count": null,
   "metadata": {},
   "outputs": [],
   "source": [
    "# проверка на пустые значения\n",
    "\n",
    "work.isnull().sum()"
   ]
  },
  {
   "cell_type": "code",
   "execution_count": null,
   "metadata": {},
   "outputs": [],
   "source": [
    "work.sample(3)"
   ]
  },
  {
   "cell_type": "code",
   "execution_count": null,
   "metadata": {},
   "outputs": [],
   "source": []
  },
  {
   "cell_type": "markdown",
   "metadata": {},
   "source": [
    "### Чищу тексты дел"
   ]
  },
  {
   "cell_type": "code",
   "execution_count": null,
   "metadata": {},
   "outputs": [],
   "source": [
    "work.columns"
   ]
  },
  {
   "cell_type": "code",
   "execution_count": null,
   "metadata": {},
   "outputs": [],
   "source": [
    "# убираю \"артефакты\" из act_text\n",
    "\n",
    "work['act_text'] = work['act_text'].str.replace('РЕКЛАМА', '')"
   ]
  },
  {
   "cell_type": "code",
   "execution_count": null,
   "metadata": {},
   "outputs": [],
   "source": [
    "# список столбцов со строковыми значениями\n",
    "colum_str_list = ['act_name', 'court_info', 'act_text', 'act_url']\n",
    "\n",
    "for column in tqdm(colum_str_list):\n",
    "    work[column] = work[column].str.replace('ё', 'е')\n",
    "    work[column] = work[column].str.replace('\\s+', ' ', regex=True)\n",
    "    work[column] = work[column].str.replace('№ ', '№', regex=True)"
   ]
  },
  {
   "cell_type": "code",
   "execution_count": null,
   "metadata": {},
   "outputs": [],
   "source": [
    "# создаю столбец для чистого текста\n",
    "\n",
    "work['act_text_clear'] = work['act_text'].copy()"
   ]
  },
  {
   "cell_type": "code",
   "execution_count": null,
   "metadata": {},
   "outputs": [],
   "source": [
    "%%time\n",
    "\n",
    "# удаляю знаки препинания, цифры и перевожу в нижний регистр\n",
    "\n",
    "work['act_text_clear'] = work['act_text_clear'].str.replace('\\n', ' ')\n",
    "work['act_text_clear'] = work['act_text_clear'].str.replace(r'[^\\w\\s]+', ' ', regex=True)\n",
    "work['act_text_clear'] = work['act_text_clear'].str.replace(r'[0-9]+', ' ', regex=True)\n",
    "work['act_text_clear'] = work['act_text_clear'].str.lower()\n",
    "work['act_text_clear'] = work['act_text_clear'].str.replace('\\s+', ' ', regex=True)"
   ]
  },
  {
   "cell_type": "code",
   "execution_count": null,
   "metadata": {},
   "outputs": [],
   "source": [
    "work.sample(3)"
   ]
  },
  {
   "cell_type": "code",
   "execution_count": null,
   "metadata": {},
   "outputs": [],
   "source": []
  },
  {
   "cell_type": "markdown",
   "metadata": {},
   "source": [
    "### Чищу лосей"
   ]
  },
  {
   "cell_type": "code",
   "execution_count": null,
   "metadata": {},
   "outputs": [],
   "source": [
    "# создаю лосиный датасет\n",
    "\n",
    "work_elks = work[\n",
    "    (work.queries.str.contains('лос', case=False))]"
   ]
  },
  {
   "cell_type": "code",
   "execution_count": null,
   "metadata": {},
   "outputs": [],
   "source": [
    "work_elks.shape"
   ]
  },
  {
   "cell_type": "code",
   "execution_count": null,
   "metadata": {},
   "outputs": [],
   "source": [
    "work_elks.head(2)"
   ]
  },
  {
   "cell_type": "code",
   "execution_count": null,
   "metadata": {},
   "outputs": [],
   "source": [
    "# количество дел с фамилиями Лось, но без лосей\n",
    "\n",
    "(work_elks[(\n",
    "    (work_elks.act_text.str.contains(r' Лос[ь|я|ю] [А-Я]\\.[А-Я]\\.', case=True)) &\n",
    "    ~(work_elks.act_text.str.contains(' лос', case=True))\n",
    "       )]\n",
    ").shape"
   ]
  },
  {
   "cell_type": "code",
   "execution_count": null,
   "metadata": {},
   "outputs": [],
   "source": [
    "# удаляю эти дела\n",
    "\n",
    "work_elks = (work_elks[~(\n",
    "    (work_elks.act_text.str.contains(r' Лос[ь|я|ю] [А-Я]\\.[А-Я]\\.', case=True)) &\n",
    "    ~(work_elks.act_text.str.contains(' лос', case=True))\n",
    "       )]\n",
    ")"
   ]
  },
  {
   "cell_type": "code",
   "execution_count": null,
   "metadata": {},
   "outputs": [],
   "source": [
    "work_elks.shape"
   ]
  },
  {
   "cell_type": "code",
   "execution_count": null,
   "metadata": {},
   "outputs": [],
   "source": [
    "# дела, которые попали в результаты поиска из-за неудачных переводов строки\n",
    "\n",
    "work_elks[~(work_elks.act_text.str.contains(' лос', case=False))].shape"
   ]
  },
  {
   "cell_type": "code",
   "execution_count": null,
   "metadata": {},
   "outputs": [],
   "source": [
    "# удаляю эти дела\n",
    "\n",
    "work_elks = work_elks[(work_elks.act_text.str.contains(' лос', case=False))]"
   ]
  },
  {
   "cell_type": "code",
   "execution_count": null,
   "metadata": {},
   "outputs": [],
   "source": [
    "work_elks.shape"
   ]
  },
  {
   "cell_type": "code",
   "execution_count": null,
   "metadata": {},
   "outputs": [],
   "source": [
    "# количество дел с карабинами \"Лось\"\n",
    "\n",
    "word_list = ['карабин', 'оружие', 'ружье']\n",
    "\n",
    "for word in word_list:\n",
    "    print(work_elks[\n",
    "        (work_elks.act_text_clear.str.contains(f'{word} лось', case=False)) &\n",
    "        (~work_elks.act_text.str.contains(f'(?<!{word}) лос', case=False, regex=True))\n",
    "    ].shape)"
   ]
  },
  {
   "cell_type": "code",
   "execution_count": null,
   "metadata": {},
   "outputs": [],
   "source": [
    "# регулярки неэффективны, удаляю, проверив вручную\n",
    "\n",
    "#work_elks[work_elks.act_text_clear.str.contains('карабин лось', case=False)].act_url\n",
    "\n",
    "print(work_elks[work_elks.act_text_clear.str.contains('карабин лось', case=False)].shape)\n",
    "\n",
    "work_elks = work_elks[~work_elks.act_text_clear.str.contains('карабин лось', case=False)]"
   ]
  },
  {
   "cell_type": "code",
   "execution_count": null,
   "metadata": {},
   "outputs": [],
   "source": [
    "work_elks.shape"
   ]
  },
  {
   "cell_type": "code",
   "execution_count": null,
   "metadata": {},
   "outputs": [],
   "source": [
    "# аналогично с ружьем и оружием\n",
    "\n",
    "#work_elks[work_elks.act_text_clear.str.contains('ружье лось', case=False)].act_url\n",
    "\n",
    "print(work_elks[work_elks.act_text_clear.str.contains('ружье лось', case=False)].shape)\n",
    "\n",
    "work_elks = work_elks[~work_elks.act_text_clear.str.contains('ружье лось', case=False)]"
   ]
  },
  {
   "cell_type": "code",
   "execution_count": null,
   "metadata": {},
   "outputs": [],
   "source": [
    "work_elks.shape"
   ]
  },
  {
   "cell_type": "code",
   "execution_count": null,
   "metadata": {},
   "outputs": [],
   "source": [
    "#work_elks[work_elks.act_text_clear.str.contains('оружие лось', case=False)].act_url\n",
    "\n",
    "print(work_elks[work_elks.act_text_clear.str.contains('оружие лось', case=False)].shape)\n",
    "\n",
    "work_elks = work_elks[~work_elks.act_text_clear.str.contains('оружие лось', case=False)]"
   ]
  },
  {
   "cell_type": "code",
   "execution_count": null,
   "metadata": {},
   "outputs": [],
   "source": [
    "work_elks.shape"
   ]
  },
  {
   "cell_type": "code",
   "execution_count": null,
   "metadata": {},
   "outputs": [],
   "source": [
    "work_elks.to_csv(file_path + 'new_elks.csv', index=False)"
   ]
  },
  {
   "cell_type": "code",
   "execution_count": null,
   "metadata": {},
   "outputs": [],
   "source": []
  },
  {
   "cell_type": "markdown",
   "metadata": {},
   "source": [
    "### Чищу медведей"
   ]
  },
  {
   "cell_type": "code",
   "execution_count": null,
   "metadata": {},
   "outputs": [],
   "source": [
    "# создаю медвежий датасет\n",
    "\n",
    "work_bears = work[\n",
    "    (work.queries.str.contains('медвед', case=False))]"
   ]
  },
  {
   "cell_type": "code",
   "execution_count": null,
   "metadata": {},
   "outputs": [],
   "source": [
    "work_bears.shape"
   ]
  },
  {
   "cell_type": "code",
   "execution_count": null,
   "metadata": {},
   "outputs": [],
   "source": [
    "# количество дел с фамилиями Медведь, но без медведей\n",
    "\n",
    "(work_bears[(\n",
    "    (work_bears.act_text.str.contains(r' Медвед[ь|я|ю] [А-Я]\\.[А-Я]\\.', case=True)) &\n",
    "    ~(work_bears.act_text.str.contains(' медвед', case=True))\n",
    "       )]\n",
    ").shape"
   ]
  },
  {
   "cell_type": "code",
   "execution_count": null,
   "metadata": {},
   "outputs": [],
   "source": [
    "# удаляю эти дела\n",
    "\n",
    "work_bears = work_bears[~(\n",
    "    (work_bears.act_text.str.contains(r' Медвед[ь|я|ю] [А-Я]\\.[А-Я]\\.', case=True)) &\n",
    "    ~(work_bears.act_text.str.contains(' медвед', case=True))\n",
    ")]"
   ]
  },
  {
   "cell_type": "code",
   "execution_count": null,
   "metadata": {},
   "outputs": [],
   "source": [
    "work_bears.shape"
   ]
  },
  {
   "cell_type": "code",
   "execution_count": null,
   "metadata": {},
   "outputs": [],
   "source": [
    "# количество дел с карабинами \"Медведь\"\n",
    "\n",
    "word_list = ['карабин', 'оружие', 'ружье']\n",
    "\n",
    "for word in word_list:\n",
    "    print(work_bears[\n",
    "        (work_bears.act_text_clear.str.contains(f'{word} медвед', case=False)) &\n",
    "        (~work_bears.act_text.str.contains(f'(?<!{word}) медвед', case=False, regex=True))\n",
    "    ].shape)"
   ]
  },
  {
   "cell_type": "code",
   "execution_count": null,
   "metadata": {},
   "outputs": [],
   "source": [
    "# количество дел только с \"Медведями\", только с именами собственными\n",
    "\n",
    "(work_bears[\n",
    "    (work_bears.act_text.str.contains('«медведь»', case=False)) &    \n",
    "    (~work_bears.act_text.str.contains('(?<!«)медвед', case=False))\n",
    "     ]\n",
    ").shape"
   ]
  },
  {
   "cell_type": "code",
   "execution_count": null,
   "metadata": {},
   "outputs": [],
   "source": [
    "# удаляю\n",
    "\n",
    "work_bears = work_bears.drop(work_bears[\n",
    "    (work_bears.act_text.str.contains('«медведь»', case=False)) &\n",
    "    (~work_bears.act_text.str.contains('(?<!«)медвед', case=False))\n",
    "].index)"
   ]
  },
  {
   "cell_type": "code",
   "execution_count": null,
   "metadata": {},
   "outputs": [],
   "source": [
    "work_bears.shape"
   ]
  },
  {
   "cell_type": "code",
   "execution_count": null,
   "metadata": {},
   "outputs": [],
   "source": [
    "work_bears.to_csv(file_path + 'new_bears.csv', index=False)"
   ]
  },
  {
   "cell_type": "code",
   "execution_count": null,
   "metadata": {},
   "outputs": [],
   "source": []
  }
 ],
 "metadata": {
  "kernelspec": {
   "display_name": "Python 3",
   "language": "python",
   "name": "python3"
  },
  "language_info": {
   "codemirror_mode": {
    "name": "ipython",
    "version": 3
   },
   "file_extension": ".py",
   "mimetype": "text/x-python",
   "name": "python",
   "nbconvert_exporter": "python",
   "pygments_lexer": "ipython3",
   "version": "3.8.8"
  }
 },
 "nbformat": 4,
 "nbformat_minor": 2
}
