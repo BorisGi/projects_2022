{
 "cells": [
  {
   "cell_type": "code",
   "execution_count": null,
   "metadata": {},
   "outputs": [],
   "source": []
  },
  {
   "cell_type": "markdown",
   "metadata": {},
   "source": [
    "## Библиотеки и настройки"
   ]
  },
  {
   "cell_type": "code",
   "execution_count": null,
   "metadata": {},
   "outputs": [],
   "source": [
    "# импорт библиотек\n",
    "\n",
    "import geojson\n",
    "import json\n",
    "import pandas as pd\n",
    "\n",
    "import os\n",
    "\n",
    "# регулярки\n",
    "import re\n",
    "\n",
    "# время\n",
    "from datetime import datetime\n",
    "\n",
    "# прогресс-бар\n",
    "from tqdm.notebook import trange, tqdm"
   ]
  },
  {
   "cell_type": "code",
   "execution_count": null,
   "metadata": {},
   "outputs": [],
   "source": [
    "# рекурсия для поиска значений\n",
    "\n",
    "def recurs_find_key(key, obj):\n",
    "    if key in obj:\n",
    "        return obj[key]\n",
    "    \n",
    "    for k, v in obj.items():\n",
    "        if type(v) == dict:\n",
    "            result = recurs_find_key(key, v)\n",
    "            \n",
    "            if result is not None:\n",
    "                return result"
   ]
  },
  {
   "cell_type": "code",
   "execution_count": null,
   "metadata": {},
   "outputs": [],
   "source": [
    "# путь к файлам\n",
    "\n",
    "file_path = 'C:/00_Data/dtp-stat/'"
   ]
  },
  {
   "cell_type": "code",
   "execution_count": null,
   "metadata": {},
   "outputs": [],
   "source": [
    "# вытаскиваю названия файлов в список file_list\n",
    "\n",
    "file_list = []\n",
    "\n",
    "for root, dirs, files in os.walk(file_path):\n",
    "    \n",
    "    for filename in files:\n",
    "        file_list += [filename]"
   ]
  },
  {
   "cell_type": "code",
   "execution_count": null,
   "metadata": {},
   "outputs": [],
   "source": []
  },
  {
   "cell_type": "markdown",
   "metadata": {},
   "source": [
    "#### Код парсера"
   ]
  },
  {
   "cell_type": "code",
   "execution_count": null,
   "metadata": {},
   "outputs": [],
   "source": [
    "data = [] # список для данных\n",
    "\n",
    "for file in tqdm(file_list): # цикл доя перебора файлов\n",
    "    full_path = file_path + file\n",
    "    \n",
    "    with open(full_path, 'r', encoding='utf-8') as j: # открываю файл json\n",
    "        contents = json.loads(j.read())\n",
    "        \n",
    "        all_accidents = contents['features'] # содержимое\n",
    "        for accident in all_accidents:\n",
    "            if recurs_find_key('category', accident) == 'Наезд на животное':\n",
    "                category = recurs_find_key('category', accident)\n",
    "                region = recurs_find_key('region', accident)\n",
    "                address = recurs_find_key('address', accident)\n",
    "                location = recurs_find_key('nearby', accident)\n",
    "                \n",
    "                datetime = recurs_find_key('datetime', accident)\n",
    "                day_period = recurs_find_key('light', accident)\n",
    "                weather = recurs_find_key('weather', accident)\n",
    "                \n",
    "                severity = recurs_find_key('severity', accident)\n",
    "                participants_count = recurs_find_key('participants_count', accident)\n",
    "                dead_count = recurs_find_key('dead_count', accident)\n",
    "                injured_count = recurs_find_key('injured_count', accident)\n",
    "                \n",
    "                other_participants = recurs_find_key('participants', accident)\n",
    "                \n",
    "                coordinates = recurs_find_key('point', accident)\n",
    "                type_coordinates = recurs_find_key('type', accident)\n",
    "                accident_id = recurs_find_key('id', accident)\n",
    "                accident_type =  recurs_find_key('tags', accident)\n",
    "                \n",
    "                vehicles = recurs_find_key('vehicles', accident)\n",
    "                \n",
    "                \n",
    "                for item in vehicles:\n",
    "                    \n",
    "                    auto_type = recurs_find_key('category', item)\n",
    "                    participants = recurs_find_key('participants', item)\n",
    "                    \n",
    "                    for i in participants:\n",
    "                        role = recurs_find_key('role', i)\n",
    "                        violations = recurs_find_key('violations', i)\n",
    "                        health_status = recurs_find_key('health_status', i)\n",
    "                        years_of_driving_experience = recurs_find_key('years_of_driving_experience', i)\n",
    "                        \n",
    "                        \n",
    "                        \n",
    "                        data.append([category,\n",
    "                             region, address, location,\n",
    "                             datetime, day_period, weather,\n",
    "                             auto_type,\n",
    "                             severity, participants_count,\n",
    "                             dead_count, injured_count,\n",
    "                             other_participants,\n",
    "                             role, years_of_driving_experience,\n",
    "                             violations, health_status,\n",
    "                             coordinates, type_coordinates,\n",
    "                             accident_id, accident_type])"
   ]
  },
  {
   "cell_type": "code",
   "execution_count": null,
   "metadata": {},
   "outputs": [],
   "source": [
    "headers = ['category',\n",
    "            'region', 'address', 'location',\n",
    "            'datetime', 'day_period', 'weather',\n",
    "            'auto_type','severity', 'participants_count',\n",
    "            'dead_count', 'injured_count',\n",
    "            'other_participants',\n",
    "            'role', 'years_of_driving_experience',\n",
    "            'violations', 'health_status',\n",
    "            'coordinates', 'type_coordinates',\n",
    "            'accident_id', 'accident_type']\n",
    "           \n",
    "work = pd.DataFrame(data, columns=headers)"
   ]
  },
  {
   "cell_type": "code",
   "execution_count": null,
   "metadata": {},
   "outputs": [],
   "source": [
    "work.shape"
   ]
  },
  {
   "cell_type": "code",
   "execution_count": null,
   "metadata": {},
   "outputs": [],
   "source": [
    "work.accident_id.nunique()"
   ]
  },
  {
   "cell_type": "code",
   "execution_count": null,
   "metadata": {},
   "outputs": [],
   "source": [
    "work"
   ]
  },
  {
   "cell_type": "code",
   "execution_count": null,
   "metadata": {},
   "outputs": [],
   "source": [
    "work.to_excel('C:/00_Projects/RIA/2022/accident.xlsx', index=False, sheet_name='original')"
   ]
  },
  {
   "cell_type": "code",
   "execution_count": null,
   "metadata": {},
   "outputs": [],
   "source": []
  }
 ],
 "metadata": {
  "kernelspec": {
   "display_name": "Python 3",
   "language": "python",
   "name": "python3"
  },
  "language_info": {
   "codemirror_mode": {
    "name": "ipython",
    "version": 3
   },
   "file_extension": ".py",
   "mimetype": "text/x-python",
   "name": "python",
   "nbconvert_exporter": "python",
   "pygments_lexer": "ipython3",
   "version": "3.8.8"
  }
 },
 "nbformat": 4,
 "nbformat_minor": 2
}
