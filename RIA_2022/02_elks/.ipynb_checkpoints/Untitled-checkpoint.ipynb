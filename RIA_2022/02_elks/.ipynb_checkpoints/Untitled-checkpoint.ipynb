{
 "cells": [
  {
   "cell_type": "code",
   "execution_count": null,
   "id": "f24ac668",
   "metadata": {},
   "outputs": [],
   "source": []
  },
  {
   "cell_type": "markdown",
   "id": "5807084f",
   "metadata": {},
   "source": [
    "## Библиотеки и настройки"
   ]
  },
  {
   "cell_type": "code",
   "execution_count": 2,
   "id": "c4246d8a",
   "metadata": {},
   "outputs": [],
   "source": [
    "# импорт библиотек\n",
    "\n",
    "import pandas as pd # панды\n",
    "\n",
    "import re # регулярки\n",
    "\n",
    "import os # для работы с папками и файлами"
   ]
  },
  {
   "cell_type": "code",
   "execution_count": 3,
   "id": "d8f9cf27",
   "metadata": {},
   "outputs": [],
   "source": [
    "# путь к файлам\n",
    "\n",
    "file_path = 'C:/00_Projects/RIA/2022/02_elk_accidents/'"
   ]
  },
  {
   "cell_type": "code",
   "execution_count": 4,
   "id": "a85c7c67",
   "metadata": {},
   "outputs": [],
   "source": [
    "# вытаскиваю названия файлов в список file_list\n",
    "\n",
    "file_list = []\n",
    "\n",
    "for root, dirs, files in os.walk(file_path):\n",
    "    \n",
    "    for filename in files:\n",
    "        file_list += [filename]"
   ]
  },
  {
   "cell_type": "code",
   "execution_count": 5,
   "id": "2882cba8",
   "metadata": {},
   "outputs": [
    {
     "name": "stdout",
     "output_type": "stream",
     "text": [
      "['bears.xlsx', 'bear_deaths.xlsx', 'elk_deaths.xlsx', 'elk_deaths_original.xlsx', 'RF_regions.xlsx', '~$RF_regions.xlsx', 'elks_old.csv', 'new_bears.csv', 'new_elks.csv', '2011 формы 1.1 и  1.4.xls', '2012 формы 1.1 и 1.4.xls', '2013 формы 1.1 и 1.4.xls', '2014 формы 1.1 и 1.4.xls', '2015 формы 1.1 и 1.4.xls', '2016 формы 1.1 и 1.4.xls', '2017 формы 1.1 и 1.4.xls', '2018 формы 1.1 и 1.4.xlsx', '2019 формы 1.1 и 1.4.xlsx', '2020 формы 1.1 и 1.4.xlsx', 'Форма 1.7 Итог.xlsx']\n"
     ]
    }
   ],
   "source": [
    "print(file_list)"
   ]
  },
  {
   "cell_type": "code",
   "execution_count": 13,
   "id": "cf44b502",
   "metadata": {},
   "outputs": [],
   "source": [
    "# выгрузка файла в датафрейм\n",
    "\n",
    "work = pd.read_excel(file_path + 'animal_accidents.xlsx', sheet_name='regions')"
   ]
  },
  {
   "cell_type": "code",
   "execution_count": 14,
   "id": "132a4eb9",
   "metadata": {},
   "outputs": [
    {
     "data": {
      "text/html": [
       "<div>\n",
       "<style scoped>\n",
       "    .dataframe tbody tr th:only-of-type {\n",
       "        vertical-align: middle;\n",
       "    }\n",
       "\n",
       "    .dataframe tbody tr th {\n",
       "        vertical-align: top;\n",
       "    }\n",
       "\n",
       "    .dataframe thead th {\n",
       "        text-align: right;\n",
       "    }\n",
       "</style>\n",
       "<table border=\"1\" class=\"dataframe\">\n",
       "  <thead>\n",
       "    <tr style=\"text-align: right;\">\n",
       "      <th></th>\n",
       "      <th>region_code</th>\n",
       "      <th>federal_disrict</th>\n",
       "      <th>region</th>\n",
       "      <th>year</th>\n",
       "      <th>animal</th>\n",
       "      <th>total</th>\n",
       "      <th>disease</th>\n",
       "      <th>accident</th>\n",
       "      <th>poaching</th>\n",
       "      <th>other</th>\n",
       "    </tr>\n",
       "  </thead>\n",
       "  <tbody>\n",
       "    <tr>\n",
       "      <th>1894</th>\n",
       "      <td>25</td>\n",
       "      <td>Дальневосточный ФО</td>\n",
       "      <td>Приморский край</td>\n",
       "      <td>2016</td>\n",
       "      <td>Кабан</td>\n",
       "      <td>32</td>\n",
       "      <td>0</td>\n",
       "      <td>0</td>\n",
       "      <td>32</td>\n",
       "      <td>0</td>\n",
       "    </tr>\n",
       "  </tbody>\n",
       "</table>\n",
       "</div>"
      ],
      "text/plain": [
       "      region_code     federal_disrict           region  year animal  total  \\\n",
       "1894           25  Дальневосточный ФО  Приморский край  2016  Кабан     32   \n",
       "\n",
       "     disease accident poaching other  \n",
       "1894       0        0       32     0  "
      ]
     },
     "execution_count": 14,
     "metadata": {},
     "output_type": "execute_result"
    }
   ],
   "source": [
    "work.sample()"
   ]
  },
  {
   "cell_type": "code",
   "execution_count": 15,
   "id": "19cae024",
   "metadata": {},
   "outputs": [
    {
     "data": {
      "text/plain": [
       "(9180, 10)"
      ]
     },
     "execution_count": 15,
     "metadata": {},
     "output_type": "execute_result"
    }
   ],
   "source": [
    "# количество строк и столбцов\n",
    "\n",
    "work.shape"
   ]
  },
  {
   "cell_type": "code",
   "execution_count": 16,
   "id": "0152b426",
   "metadata": {},
   "outputs": [
    {
     "data": {
      "text/plain": [
       "region_code         int64\n",
       "federal_disrict    object\n",
       "region             object\n",
       "year                int64\n",
       "animal             object\n",
       "total               int64\n",
       "disease            object\n",
       "accident           object\n",
       "poaching           object\n",
       "other              object\n",
       "dtype: object"
      ]
     },
     "execution_count": 16,
     "metadata": {},
     "output_type": "execute_result"
    }
   ],
   "source": [
    "# типы данных\n",
    "\n",
    "work.dtypes"
   ]
  },
  {
   "cell_type": "code",
   "execution_count": 17,
   "id": "07ec9306",
   "metadata": {},
   "outputs": [
    {
     "data": {
      "text/plain": [
       "region_code        0\n",
       "federal_disrict    0\n",
       "region             0\n",
       "year               0\n",
       "animal             0\n",
       "total              0\n",
       "disease            0\n",
       "accident           0\n",
       "poaching           0\n",
       "other              0\n",
       "dtype: int64"
      ]
     },
     "execution_count": 17,
     "metadata": {},
     "output_type": "execute_result"
    }
   ],
   "source": [
    "# проверка на пустые значения\n",
    "\n",
    "work.isnull().sum()"
   ]
  },
  {
   "cell_type": "code",
   "execution_count": 18,
   "id": "8d2b6e8b",
   "metadata": {},
   "outputs": [],
   "source": [
    "# меняю типы столбцов\n",
    "\n",
    "work = work.astype({'region_code': 'int32', 'total': 'int32', 'year': 'object'})"
   ]
  },
  {
   "cell_type": "code",
   "execution_count": null,
   "id": "a7fe3ba0",
   "metadata": {},
   "outputs": [],
   "source": []
  },
  {
   "cell_type": "code",
   "execution_count": 26,
   "id": "08ba9438",
   "metadata": {},
   "outputs": [],
   "source": [
    "# удаляю медведей\n",
    "\n",
    "work = work[work.animal != 'Медведи']"
   ]
  },
  {
   "cell_type": "code",
   "execution_count": null,
   "id": "5dfca094",
   "metadata": {},
   "outputs": [],
   "source": []
  },
  {
   "cell_type": "code",
   "execution_count": 19,
   "id": "5381f87e",
   "metadata": {},
   "outputs": [
    {
     "data": {
      "text/html": [
       "<div>\n",
       "<style scoped>\n",
       "    .dataframe tbody tr th:only-of-type {\n",
       "        vertical-align: middle;\n",
       "    }\n",
       "\n",
       "    .dataframe tbody tr th {\n",
       "        vertical-align: top;\n",
       "    }\n",
       "\n",
       "    .dataframe thead th {\n",
       "        text-align: right;\n",
       "    }\n",
       "</style>\n",
       "<table border=\"1\" class=\"dataframe\">\n",
       "  <thead>\n",
       "    <tr style=\"text-align: right;\">\n",
       "      <th></th>\n",
       "      <th>region_code</th>\n",
       "      <th>federal_disrict</th>\n",
       "      <th>region</th>\n",
       "      <th>year</th>\n",
       "      <th>animal</th>\n",
       "      <th>total</th>\n",
       "      <th>disease</th>\n",
       "      <th>accident</th>\n",
       "      <th>poaching</th>\n",
       "      <th>other</th>\n",
       "    </tr>\n",
       "  </thead>\n",
       "  <tbody>\n",
       "    <tr>\n",
       "      <th>2372</th>\n",
       "      <td>78</td>\n",
       "      <td>Северо-Западный ФО</td>\n",
       "      <td>г. Санкт-Петербург</td>\n",
       "      <td>2016</td>\n",
       "      <td>Медведи</td>\n",
       "      <td>0</td>\n",
       "      <td>none</td>\n",
       "      <td>none</td>\n",
       "      <td>none</td>\n",
       "      <td>none</td>\n",
       "    </tr>\n",
       "  </tbody>\n",
       "</table>\n",
       "</div>"
      ],
      "text/plain": [
       "      region_code     federal_disrict              region  year   animal  \\\n",
       "2372           78  Северо-Западный ФО  г. Санкт-Петербург  2016  Медведи   \n",
       "\n",
       "      total disease accident poaching other  \n",
       "2372      0    none     none     none  none  "
      ]
     },
     "execution_count": 19,
     "metadata": {},
     "output_type": "execute_result"
    }
   ],
   "source": [
    "work.sample()"
   ]
  },
  {
   "cell_type": "code",
   "execution_count": 28,
   "id": "83e6a27f",
   "metadata": {},
   "outputs": [],
   "source": [
    "total_deaths = (work.groupby('animal', as_index=False)\n",
    "                .agg({'total': 'sum', 'accident': 'sum'})\n",
    "                .sort_values('total', ascending=False)\n",
    "               )"
   ]
  },
  {
   "cell_type": "code",
   "execution_count": 35,
   "id": "6836c23a",
   "metadata": {},
   "outputs": [],
   "source": [
    "total_deaths['accident_part'] = round((total_deaths.accident / total_deaths.total) * 100, 1)"
   ]
  },
  {
   "cell_type": "code",
   "execution_count": 36,
   "id": "d7f9cc65",
   "metadata": {},
   "outputs": [
    {
     "data": {
      "text/html": [
       "<div>\n",
       "<style scoped>\n",
       "    .dataframe tbody tr th:only-of-type {\n",
       "        vertical-align: middle;\n",
       "    }\n",
       "\n",
       "    .dataframe tbody tr th {\n",
       "        vertical-align: top;\n",
       "    }\n",
       "\n",
       "    .dataframe thead th {\n",
       "        text-align: right;\n",
       "    }\n",
       "</style>\n",
       "<table border=\"1\" class=\"dataframe\">\n",
       "  <thead>\n",
       "    <tr style=\"text-align: right;\">\n",
       "      <th></th>\n",
       "      <th>animal</th>\n",
       "      <th>total</th>\n",
       "      <th>accident</th>\n",
       "      <th>accident_part</th>\n",
       "    </tr>\n",
       "  </thead>\n",
       "  <tbody>\n",
       "    <tr>\n",
       "      <th>1</th>\n",
       "      <td>Все копытные</td>\n",
       "      <td>39290</td>\n",
       "      <td>11915</td>\n",
       "      <td>30.3</td>\n",
       "    </tr>\n",
       "    <tr>\n",
       "      <th>8</th>\n",
       "      <td>Лось</td>\n",
       "      <td>17470</td>\n",
       "      <td>8943</td>\n",
       "      <td>51.2</td>\n",
       "    </tr>\n",
       "    <tr>\n",
       "      <th>6</th>\n",
       "      <td>Косули</td>\n",
       "      <td>11595</td>\n",
       "      <td>1870</td>\n",
       "      <td>16.1</td>\n",
       "    </tr>\n",
       "    <tr>\n",
       "      <th>4</th>\n",
       "      <td>Кабан</td>\n",
       "      <td>6669</td>\n",
       "      <td>1309</td>\n",
       "      <td>19.6</td>\n",
       "    </tr>\n",
       "    <tr>\n",
       "      <th>3</th>\n",
       "      <td>Дикий северный олень</td>\n",
       "      <td>1596</td>\n",
       "      <td>3</td>\n",
       "      <td>0.2</td>\n",
       "    </tr>\n",
       "    <tr>\n",
       "      <th>0</th>\n",
       "      <td>Благородный олень</td>\n",
       "      <td>1066</td>\n",
       "      <td>69</td>\n",
       "      <td>6.5</td>\n",
       "    </tr>\n",
       "    <tr>\n",
       "      <th>5</th>\n",
       "      <td>Кабарга</td>\n",
       "      <td>330</td>\n",
       "      <td>1</td>\n",
       "      <td>0.3</td>\n",
       "    </tr>\n",
       "    <tr>\n",
       "      <th>11</th>\n",
       "      <td>Пятнистый олень</td>\n",
       "      <td>159</td>\n",
       "      <td>66</td>\n",
       "      <td>41.5</td>\n",
       "    </tr>\n",
       "    <tr>\n",
       "      <th>15</th>\n",
       "      <td>Снежный баран</td>\n",
       "      <td>41</td>\n",
       "      <td>0</td>\n",
       "      <td>0.0</td>\n",
       "    </tr>\n",
       "    <tr>\n",
       "      <th>12</th>\n",
       "      <td>Сайгак</td>\n",
       "      <td>34</td>\n",
       "      <td>0</td>\n",
       "      <td>0.0</td>\n",
       "    </tr>\n",
       "    <tr>\n",
       "      <th>10</th>\n",
       "      <td>Овцебык</td>\n",
       "      <td>10</td>\n",
       "      <td>0</td>\n",
       "      <td>0.0</td>\n",
       "    </tr>\n",
       "    <tr>\n",
       "      <th>14</th>\n",
       "      <td>Сибирский горный козел</td>\n",
       "      <td>4</td>\n",
       "      <td>0</td>\n",
       "      <td>0.0</td>\n",
       "    </tr>\n",
       "    <tr>\n",
       "      <th>9</th>\n",
       "      <td>Муфлон</td>\n",
       "      <td>3</td>\n",
       "      <td>0</td>\n",
       "      <td>0.0</td>\n",
       "    </tr>\n",
       "    <tr>\n",
       "      <th>16</th>\n",
       "      <td>Туры</td>\n",
       "      <td>3</td>\n",
       "      <td>0</td>\n",
       "      <td>0.0</td>\n",
       "    </tr>\n",
       "    <tr>\n",
       "      <th>7</th>\n",
       "      <td>Лань</td>\n",
       "      <td>2</td>\n",
       "      <td>0</td>\n",
       "      <td>0.0</td>\n",
       "    </tr>\n",
       "    <tr>\n",
       "      <th>2</th>\n",
       "      <td>Гибрид зубра с бизоном</td>\n",
       "      <td>2</td>\n",
       "      <td>1</td>\n",
       "      <td>50.0</td>\n",
       "    </tr>\n",
       "    <tr>\n",
       "      <th>13</th>\n",
       "      <td>Серна</td>\n",
       "      <td>0</td>\n",
       "      <td>0</td>\n",
       "      <td>NaN</td>\n",
       "    </tr>\n",
       "  </tbody>\n",
       "</table>\n",
       "</div>"
      ],
      "text/plain": [
       "                    animal  total  accident  accident_part\n",
       "1             Все копытные  39290     11915           30.3\n",
       "8                     Лось  17470      8943           51.2\n",
       "6                   Косули  11595      1870           16.1\n",
       "4                    Кабан   6669      1309           19.6\n",
       "3     Дикий северный олень   1596         3            0.2\n",
       "0        Благородный олень   1066        69            6.5\n",
       "5                  Кабарга    330         1            0.3\n",
       "11         Пятнистый олень    159        66           41.5\n",
       "15           Снежный баран     41         0            0.0\n",
       "12                  Сайгак     34         0            0.0\n",
       "10                 Овцебык     10         0            0.0\n",
       "14  Сибирский горный козел      4         0            0.0\n",
       "9                   Муфлон      3         0            0.0\n",
       "16                    Туры      3         0            0.0\n",
       "7                     Лань      2         0            0.0\n",
       "2   Гибрид зубра с бизоном      2         1           50.0\n",
       "13                   Серна      0         0            NaN"
      ]
     },
     "execution_count": 36,
     "metadata": {},
     "output_type": "execute_result"
    }
   ],
   "source": [
    "total_deaths"
   ]
  },
  {
   "cell_type": "code",
   "execution_count": null,
   "id": "e82e9451",
   "metadata": {},
   "outputs": [],
   "source": []
  },
  {
   "cell_type": "code",
   "execution_count": null,
   "id": "e2f8d609",
   "metadata": {},
   "outputs": [],
   "source": []
  },
  {
   "cell_type": "code",
   "execution_count": null,
   "id": "c35a56e1",
   "metadata": {},
   "outputs": [],
   "source": []
  },
  {
   "cell_type": "code",
   "execution_count": null,
   "id": "830b115e",
   "metadata": {},
   "outputs": [],
   "source": []
  },
  {
   "cell_type": "code",
   "execution_count": null,
   "id": "19805487",
   "metadata": {},
   "outputs": [],
   "source": []
  },
  {
   "cell_type": "code",
   "execution_count": null,
   "id": "42309fcd",
   "metadata": {},
   "outputs": [],
   "source": []
  }
 ],
 "metadata": {
  "kernelspec": {
   "display_name": "Python 3",
   "language": "python",
   "name": "python3"
  },
  "language_info": {
   "codemirror_mode": {
    "name": "ipython",
    "version": 3
   },
   "file_extension": ".py",
   "mimetype": "text/x-python",
   "name": "python",
   "nbconvert_exporter": "python",
   "pygments_lexer": "ipython3",
   "version": "3.8.8"
  }
 },
 "nbformat": 4,
 "nbformat_minor": 5
}
