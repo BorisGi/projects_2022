{
 "cells": [
  {
   "cell_type": "code",
   "execution_count": null,
   "id": "23aa097b",
   "metadata": {},
   "outputs": [],
   "source": []
  },
  {
   "cell_type": "markdown",
   "id": "6027a679",
   "metadata": {},
   "source": [
    "## Библиотеки и настройки"
   ]
  },
  {
   "cell_type": "code",
   "execution_count": null,
   "id": "4f5c5adc",
   "metadata": {},
   "outputs": [],
   "source": [
    "# импорт библиотек\n",
    "\n",
    "import pandas as pd # панды\n",
    "pd.options.mode.chained_assignment = None  # отключаю предупреждения default='warn'\n",
    "import numpy as np\n",
    "\n",
    "\n",
    "import re # регулярки\n",
    "\n",
    "import os # для работы с папками и файлами\n",
    "\n",
    "\n",
    "import matplotlib.pyplot as plt\n",
    "import seaborn as sns\n",
    "sns.set(style='white')\n",
    "\n",
    "import squarify \n",
    "\n",
    "import statistics\n",
    "from scipy.stats import t\n",
    "from scipy.stats import norm\n",
    "from scipy import stats\n",
    "\n",
    "from scipy.stats import pearsonr\n",
    "\n",
    "from scipy.stats import shapiro\n",
    "from scipy.stats import chi2_contingency\n",
    "\n",
    "# для КА\n",
    "from sklearn import preprocessing\n",
    "from sklearn.cluster import KMeans\n",
    "\n",
    "from scipy.spatial.distance import pdist\n",
    "from scipy.cluster.hierarchy import dendrogram, linkage, fcluster\n",
    "\n",
    "\n",
    "import io\n",
    "import requests\n",
    "from IPython.display import Image\n",
    "\n",
    "%matplotlib inline"
   ]
  },
  {
   "cell_type": "code",
   "execution_count": null,
   "id": "c85e9942",
   "metadata": {},
   "outputs": [],
   "source": [
    "# путь к файлам\n",
    "\n",
    "file_path = 'C:/00_Projects/RIA/2022/02_elk_accidents/'"
   ]
  },
  {
   "cell_type": "code",
   "execution_count": null,
   "id": "e7da3f38",
   "metadata": {},
   "outputs": [],
   "source": [
    "# вытаскиваю названия файлов в список file_list\n",
    "\n",
    "file_list = []\n",
    "\n",
    "for root, dirs, files in os.walk(file_path):\n",
    "    \n",
    "    for filename in files:\n",
    "        file_list += [filename]"
   ]
  },
  {
   "cell_type": "code",
   "execution_count": null,
   "id": "64e2a17c",
   "metadata": {},
   "outputs": [],
   "source": [
    "print(file_list)"
   ]
  },
  {
   "cell_type": "code",
   "execution_count": null,
   "id": "57110b4d",
   "metadata": {},
   "outputs": [],
   "source": [
    "# выгрузка файла в датафрейм\n",
    "\n",
    "work = pd.read_excel(file_path + 'animal_accidents.xlsx', sheet_name='1_4_death_causes')"
   ]
  },
  {
   "cell_type": "code",
   "execution_count": null,
   "id": "225d6c17",
   "metadata": {},
   "outputs": [],
   "source": [
    "# количество строк и столбцов\n",
    "\n",
    "work.shape"
   ]
  },
  {
   "cell_type": "code",
   "execution_count": null,
   "id": "886aa8c9",
   "metadata": {},
   "outputs": [],
   "source": [
    "# типы данных\n",
    "\n",
    "work.dtypes"
   ]
  },
  {
   "cell_type": "code",
   "execution_count": null,
   "id": "0474c32c",
   "metadata": {},
   "outputs": [],
   "source": [
    "# проверка на пустые значения\n",
    "\n",
    "work.isnull().sum()"
   ]
  },
  {
   "cell_type": "code",
   "execution_count": null,
   "id": "16338e93",
   "metadata": {},
   "outputs": [],
   "source": [
    "# меняю типы столбцов\n",
    "\n",
    "work = work.astype({'region_code': 'int32', 'total': 'int32', 'year': 'object'})"
   ]
  },
  {
   "cell_type": "code",
   "execution_count": null,
   "id": "0754f426",
   "metadata": {},
   "outputs": [],
   "source": [
    "work.sample()"
   ]
  },
  {
   "cell_type": "code",
   "execution_count": null,
   "id": "201cc885",
   "metadata": {},
   "outputs": [],
   "source": []
  },
  {
   "cell_type": "markdown",
   "id": "73316905",
   "metadata": {},
   "source": [
    "#### Общее количество погибших животных"
   ]
  },
  {
   "cell_type": "code",
   "execution_count": null,
   "id": "fb3da33d",
   "metadata": {},
   "outputs": [],
   "source": [
    "all_total_deaths = (work.groupby('animal', as_index=False)\n",
    "                .agg({'total': 'sum', 'accident': 'sum', 'disease': 'sum',\n",
    "                      'accident': 'sum', 'poaching': 'sum', 'other': 'sum'})\n",
    "                .sort_values('accident', ascending=False)\n",
    "               )"
   ]
  },
  {
   "cell_type": "code",
   "execution_count": null,
   "id": "2a3b27d3",
   "metadata": {},
   "outputs": [],
   "source": [
    "(all_total_deaths\n",
    " .head()\n",
    " #.to_excel(file_path + 'temp.xlsx', index=False)\n",
    ")"
   ]
  },
  {
   "cell_type": "code",
   "execution_count": null,
   "id": "b9af7f93",
   "metadata": {},
   "outputs": [],
   "source": [
    "total_deaths = (work.groupby('animal', as_index=False)\n",
    "                .agg({'total': 'sum', 'accident': 'sum'})\n",
    "                .sort_values('accident', ascending=False)\n",
    "               )"
   ]
  },
  {
   "cell_type": "code",
   "execution_count": null,
   "id": "ac66bf51",
   "metadata": {},
   "outputs": [],
   "source": [
    "total_deaths['accident_part'] = round((total_deaths.accident / total_deaths.total) * 100, 1)"
   ]
  },
  {
   "cell_type": "code",
   "execution_count": null,
   "id": "e6e71075",
   "metadata": {},
   "outputs": [],
   "source": [
    "(total_deaths[1:]\n",
    " .head()\n",
    "#.to_excel(file_path + 'temp.xlsx', index=False)\n",
    ")"
   ]
  },
  {
   "cell_type": "code",
   "execution_count": null,
   "id": "d5c6f543",
   "metadata": {},
   "outputs": [],
   "source": [
    "# среднее\n",
    "\n",
    "total_deaths_mean = (work.groupby('animal', as_index=False)\n",
    "                .agg({'total': 'mean', 'accident': 'mean'})\n",
    "                .sort_values('accident', ascending=False)\n",
    "               )"
   ]
  },
  {
   "cell_type": "code",
   "execution_count": null,
   "id": "74b41a36",
   "metadata": {},
   "outputs": [],
   "source": [
    "total_deaths_mean['accident_part'] = round((total_deaths_mean.accident / total_deaths_mean.total) * 100, 1)"
   ]
  },
  {
   "cell_type": "code",
   "execution_count": null,
   "id": "d0ac3361",
   "metadata": {},
   "outputs": [],
   "source": [
    "(total_deaths[1:]\n",
    " .head()\n",
    "#.to_excel(file_path + 'temp.xlsx', index=False)\n",
    ")"
   ]
  },
  {
   "cell_type": "code",
   "execution_count": null,
   "id": "de26b726",
   "metadata": {},
   "outputs": [],
   "source": [
    "# медиана\n",
    "\n",
    "total_deaths_median = (work.groupby('animal', as_index=False)\n",
    "                .agg({'total': 'median', 'accident': 'median'})\n",
    "                .sort_values('accident', ascending=False)\n",
    "               )"
   ]
  },
  {
   "cell_type": "code",
   "execution_count": null,
   "id": "436a05d1",
   "metadata": {},
   "outputs": [],
   "source": [
    "(total_deaths_median[1:]\n",
    " .head()\n",
    "#.to_excel(file_path + 'temp.xlsx', index=False)\n",
    ")"
   ]
  },
  {
   "cell_type": "code",
   "execution_count": null,
   "id": "711a0681",
   "metadata": {},
   "outputs": [],
   "source": []
  },
  {
   "cell_type": "markdown",
   "id": "f565b515",
   "metadata": {},
   "source": [
    "#### Регионы, в которых гибнет больше всего лосей, кабанов и косуль"
   ]
  },
  {
   "cell_type": "code",
   "execution_count": null,
   "id": "e8e274ac",
   "metadata": {},
   "outputs": [],
   "source": [
    "# выгрузка файла в датафрейм\n",
    "\n",
    "work_most = pd.read_excel(file_path + 'animal_accidents.xlsx', sheet_name='most_dying')"
   ]
  },
  {
   "cell_type": "code",
   "execution_count": null,
   "id": "794c6f3c",
   "metadata": {},
   "outputs": [],
   "source": [
    "work_most.shape"
   ]
  },
  {
   "cell_type": "code",
   "execution_count": null,
   "id": "f992b09a",
   "metadata": {},
   "outputs": [],
   "source": [
    "work_most.sample(3)"
   ]
  },
  {
   "cell_type": "code",
   "execution_count": null,
   "id": "42521087",
   "metadata": {},
   "outputs": [],
   "source": [
    "# доля смертей в ДТП и процент популяции\n",
    "\n",
    "work_most['accident_part'] = work_most.accident / work_most.total\n",
    "\n",
    "work_most['number_part'] = work_most.accident / work_most.mammal_number"
   ]
  },
  {
   "cell_type": "code",
   "execution_count": null,
   "id": "459f93c0",
   "metadata": {},
   "outputs": [],
   "source": []
  },
  {
   "cell_type": "code",
   "execution_count": null,
   "id": "240175ef",
   "metadata": {},
   "outputs": [],
   "source": [
    "region_animal_death = (work_most.groupby(['animal', 'region'], as_index=False)\n",
    "                       .agg({'total': 'sum', 'accident': 'sum', 'mammal_number': 'sum'})\n",
    "                       .sort_values('accident', ascending=False)\n",
    "                      ).round(1)"
   ]
  },
  {
   "cell_type": "code",
   "execution_count": null,
   "id": "33882b95",
   "metadata": {},
   "outputs": [],
   "source": [
    "region_animal_death['number_part'] = region_animal_death['accident'] / region_animal_death['mammal_number']"
   ]
  },
  {
   "cell_type": "code",
   "execution_count": null,
   "id": "06cecc16",
   "metadata": {},
   "outputs": [],
   "source": [
    "(region_animal_death\n",
    " .head(10)\n",
    " #to_excel(file_path + 'temp.xlsx', index=False)\n",
    ")"
   ]
  },
  {
   "cell_type": "code",
   "execution_count": null,
   "id": "9a9acecd",
   "metadata": {},
   "outputs": [],
   "source": []
  },
  {
   "cell_type": "markdown",
   "id": "e9cef5d6",
   "metadata": {},
   "source": [
    "### Топ видов, которые гибнут в ДТП по регионам"
   ]
  },
  {
   "cell_type": "code",
   "execution_count": null,
   "id": "23e78b63",
   "metadata": {},
   "outputs": [],
   "source": [
    "# оставляю только более-менее массово гибнущих животных\n",
    "\n",
    "region_death_top = region_animal_death[region_animal_death.accident >= 50]"
   ]
  },
  {
   "cell_type": "code",
   "execution_count": null,
   "id": "0bb6cbc4",
   "metadata": {},
   "outputs": [],
   "source": [
    "# нахожу животных, которые лидируют по смертям в ДТП\n",
    "\n",
    "max_deaths = (region_death_top\n",
    "              .groupby('region', as_index=False)\n",
    "              .agg({'accident': 'max'})\n",
    "             )\n",
    "\n",
    "max_deaths['top_value'] = 1\n",
    "\n",
    "region_death_top = region_death_top.merge(max_deaths, how='left', on=['region', 'accident'])"
   ]
  },
  {
   "cell_type": "code",
   "execution_count": null,
   "id": "11c0481e",
   "metadata": {},
   "outputs": [],
   "source": [
    "# нахожу второе место\n",
    "\n",
    "temp_second = region_death_top[region_death_top.top_value != 1].iloc[:, :6] # убираю 1 место и столбец top_value\n",
    "\n",
    "max_deaths = (temp_second\n",
    "              .groupby('region', as_index=False)\n",
    "              .agg({'accident': 'max'})\n",
    "             )\n",
    "\n",
    "max_deaths['second_value'] = 2\n",
    "\n",
    "region_death_top_2 = temp_second.merge(max_deaths, how='left', on=['region', 'accident'])\n",
    "\n",
    "region_death_top_2 = region_death_top_2[region_death_top_2.second_value == 2].iloc[:, :6]\n",
    "\n",
    "region_death_top_2.columns=['second_animal', 'region', 'second_total', 'second_accident', 'second_number', 'second_np']"
   ]
  },
  {
   "cell_type": "code",
   "execution_count": null,
   "id": "bca156d7",
   "metadata": {},
   "outputs": [],
   "source": [
    "# присоединяю к первому месту второе \n",
    "\n",
    "region_death_top = region_death_top[region_death_top.top_value == 1].iloc[:, :6]\n",
    "region_death_top.columns=['first_animal', 'region', 'first_total', 'first_accident', 'first_number', 'first_np']\n",
    "region_death_top = region_death_top.merge(region_death_top_2, how='left', on='region')"
   ]
  },
  {
   "cell_type": "code",
   "execution_count": null,
   "id": "a7758687",
   "metadata": {},
   "outputs": [],
   "source": [
    "region_death_top = region_death_top[['region', 'first_animal', 'first_total',\n",
    "                                     'first_accident', 'first_np',                                     \n",
    "                                     'second_animal', 'second_total',\n",
    "                                     'second_accident', 'second_np']]"
   ]
  },
  {
   "cell_type": "code",
   "execution_count": null,
   "id": "13b6866c",
   "metadata": {},
   "outputs": [],
   "source": [
    "(region_death_top\n",
    " .head(10)\n",
    " #.to_excel(file_path + 'temp.xlsx', index=False)\n",
    ")"
   ]
  },
  {
   "cell_type": "code",
   "execution_count": null,
   "id": "b2e42b81",
   "metadata": {},
   "outputs": [],
   "source": []
  },
  {
   "cell_type": "markdown",
   "id": "458c1b59",
   "metadata": {},
   "source": [
    "### Регионы, в которых лосей гибнет больше всего"
   ]
  },
  {
   "cell_type": "code",
   "execution_count": null,
   "id": "5e1aac63",
   "metadata": {},
   "outputs": [],
   "source": [
    "elks = work_most[work_most['animal'] == 'Лось']"
   ]
  },
  {
   "cell_type": "code",
   "execution_count": null,
   "id": "d3780278",
   "metadata": {},
   "outputs": [],
   "source": [
    "elks.head(3)"
   ]
  },
  {
   "cell_type": "code",
   "execution_count": null,
   "id": "2fb90810",
   "metadata": {},
   "outputs": [],
   "source": [
    "# ДТП по регионам за все 6 лет\n",
    "\n",
    "elk_region_accidents = (elks.groupby(['region'], as_index=False)\n",
    " .agg({'total': 'sum', 'accident': 'sum', 'accident_part': 'mean', 'number_part': 'mean', 'mammal_number': 'sum'})\n",
    " .sort_values('accident_part', ascending=False)        )"
   ]
  },
  {
   "cell_type": "code",
   "execution_count": null,
   "id": "1f25a0db",
   "metadata": {},
   "outputs": [],
   "source": [
    "# доля смертей в ДТП и процент популяции\n",
    "\n",
    "elk_region_accidents['accident_part_2'] = elk_region_accidents.accident / elk_region_accidents.total\n",
    "\n",
    "elk_region_accidents['number_part_2'] = elk_region_accidents.accident / elk_region_accidents.mammal_number"
   ]
  },
  {
   "cell_type": "code",
   "execution_count": null,
   "id": "a692845f",
   "metadata": {},
   "outputs": [],
   "source": [
    "(elk_region_accidents\n",
    " .head()\n",
    " #.to_excel(file_path + 'temp.xlsx', index=False)\n",
    ")"
   ]
  },
  {
   "cell_type": "code",
   "execution_count": null,
   "id": "be032ef4",
   "metadata": {},
   "outputs": [],
   "source": [
    "elk_region_accidents[elk_region_accidents.accident >= 50].accident.median()"
   ]
  },
  {
   "cell_type": "code",
   "execution_count": null,
   "id": "4858ef3e",
   "metadata": {},
   "outputs": [],
   "source": []
  },
  {
   "cell_type": "markdown",
   "id": "fec569dd",
   "metadata": {},
   "source": [
    "### Самые опасные регионы для лосей"
   ]
  },
  {
   "cell_type": "code",
   "execution_count": null,
   "id": "bcb8c9e8",
   "metadata": {},
   "outputs": [],
   "source": [
    "elks.sort_values(['region', 'year']).head(3)"
   ]
  },
  {
   "cell_type": "code",
   "execution_count": null,
   "id": "b9ddd65a",
   "metadata": {},
   "outputs": [],
   "source": [
    "# ДТП по регионам по годам абсолютные\n",
    "\n",
    "# elks_death_years = \n",
    "(elks.groupby(['region', 'year'], as_index=False)\n",
    " .agg({'total': 'sum', 'accident': 'sum'})\n",
    " #.sort_values('region', #ascending=False)\n",
    "        )#.to_excel(file_path + 'temp.xlsx', index=False)"
   ]
  },
  {
   "cell_type": "code",
   "execution_count": null,
   "id": "71719b87",
   "metadata": {},
   "outputs": [],
   "source": [
    "# ДТП по регионам по годам относительные\n",
    "\n",
    "# elks_death_years = \n",
    "(elks.groupby(['region', 'year'], as_index=False)\n",
    " .agg({'number_part': 'sum'})\n",
    " #.sort_values('region', #ascending=False)\n",
    "        ).to_excel(file_path + 'temp.xlsx', index=False)\n",
    "\n"
   ]
  },
  {
   "cell_type": "markdown",
   "id": "a029fef6",
   "metadata": {},
   "source": [
    "#### Смерть кабанов"
   ]
  },
  {
   "cell_type": "code",
   "execution_count": null,
   "id": "c74d7b9a",
   "metadata": {},
   "outputs": [],
   "source": [
    "hogs = work_most[work_most['animal'] == 'Кабан']"
   ]
  },
  {
   "cell_type": "code",
   "execution_count": null,
   "id": "a1d61040",
   "metadata": {},
   "outputs": [],
   "source": [
    "# кабаньи ДТП по регионам по годам абсолютные\n",
    "\n",
    "# hogs_death_years = \n",
    "(hogs.groupby(['region', 'year'], as_index=False)\n",
    " .agg({'total': 'sum', 'accident': 'sum'})\n",
    " #.sort_values('region', #ascending=False)\n",
    "        )#.to_excel(file_path + 'temp.xlsx', index=False)"
   ]
  },
  {
   "cell_type": "code",
   "execution_count": null,
   "id": "b8f12975",
   "metadata": {},
   "outputs": [],
   "source": [
    "# кабаньи ДТП по регионам по годам относительные\n",
    "\n",
    "# hogs_death_years = \n",
    "(hogs.groupby(['region', 'year'], as_index=False)\n",
    " .agg({'number_part': 'sum'})\n",
    " #.sort_values('region', #ascending=False)\n",
    "        )#.to_excel(file_path + 'temp.xlsx', index=False)"
   ]
  },
  {
   "cell_type": "code",
   "execution_count": null,
   "id": "6f3cc8b7",
   "metadata": {},
   "outputs": [],
   "source": []
  },
  {
   "cell_type": "markdown",
   "id": "44ae2bab",
   "metadata": {},
   "source": [
    "#### Смерть и популяция"
   ]
  },
  {
   "cell_type": "code",
   "execution_count": null,
   "id": "4612d65f",
   "metadata": {},
   "outputs": [],
   "source": [
    "elks.sample()"
   ]
  },
  {
   "cell_type": "code",
   "execution_count": null,
   "id": "f28cfb67",
   "metadata": {},
   "outputs": [],
   "source": [
    "(elks\n",
    " .groupby('year', as_index=False)\n",
    " .agg({'accident': 'sum', 'mammal_number': 'sum'})\n",
    ").to_excel(file_path + 'temp.xlsx', index=False)"
   ]
  },
  {
   "cell_type": "code",
   "execution_count": null,
   "id": "ae5b6d69",
   "metadata": {},
   "outputs": [],
   "source": []
  },
  {
   "cell_type": "markdown",
   "id": "a9d783d8",
   "metadata": {},
   "source": [
    "#### Кореляция между плотностью дорог и гибелью"
   ]
  },
  {
   "cell_type": "code",
   "execution_count": null,
   "id": "71e20399",
   "metadata": {},
   "outputs": [],
   "source": [
    "work_most.sample(2)"
   ]
  },
  {
   "cell_type": "markdown",
   "id": "72e72c27",
   "metadata": {},
   "source": [
    "#### Все данные"
   ]
  },
  {
   "cell_type": "code",
   "execution_count": null,
   "id": "0df210d1",
   "metadata": {},
   "outputs": [],
   "source": [
    "# плостность дорог\n",
    "\n",
    "x = work_most[work_most.accident > 50].accident\n",
    "y = work_most[work_most.accident > 50].highway_density\n",
    "\n",
    "corr, p_value = pearsonr(x, y)\n",
    "plt.scatter(x, y, marker='.')\n",
    "print('Коэффициент корреляции Пирсона:', corr)"
   ]
  },
  {
   "cell_type": "code",
   "execution_count": null,
   "id": "550e8d56",
   "metadata": {},
   "outputs": [],
   "source": [
    "# плотность населения\n",
    "\n",
    "x = work_most[work_most.accident > 50].accident\n",
    "y = work_most[work_most.accident > 50].population_density\n",
    "\n",
    "corr, p_value = pearsonr(x, y)\n",
    "plt.scatter(x, y, marker='.')\n",
    "print('Коэффициент корреляции Пирсона:', corr)"
   ]
  },
  {
   "cell_type": "code",
   "execution_count": null,
   "id": "24939f98",
   "metadata": {},
   "outputs": [],
   "source": [
    "# количество авто\n",
    "\n",
    "x = work_most[work_most.accident > 50].accident\n",
    "y = work_most[work_most.accident > 50].auto_number\n",
    "\n",
    "corr, p_value = pearsonr(x, y)\n",
    "plt.scatter(x, y, marker='.')\n",
    "print('Коэффициент корреляции Пирсона:', corr)"
   ]
  },
  {
   "cell_type": "code",
   "execution_count": null,
   "id": "295b05ed",
   "metadata": {},
   "outputs": [],
   "source": []
  },
  {
   "cell_type": "markdown",
   "id": "a7a2838c",
   "metadata": {},
   "source": [
    "#### Лоси"
   ]
  },
  {
   "cell_type": "code",
   "execution_count": null,
   "id": "d4511d20",
   "metadata": {},
   "outputs": [],
   "source": [
    "# плотность населения\n",
    "\n",
    "x = elks[elks.accident > 50].accident\n",
    "y = elks[elks.accident > 50].population_density\n",
    "\n",
    "corr, p_value = pearsonr(x, y)\n",
    "plt.scatter(x, y, marker='.')\n",
    "print('Коэффициент корреляции Пирсона:', corr)"
   ]
  },
  {
   "cell_type": "code",
   "execution_count": null,
   "id": "e9e54c72",
   "metadata": {},
   "outputs": [],
   "source": [
    "# плотность дорог\n",
    "\n",
    "x = elks[elks.accident > 50].accident\n",
    "y = elks[elks.accident > 50].highway_density\n",
    "\n",
    "corr, p_value = pearsonr(x, y)\n",
    "plt.scatter(x, y, marker='.')\n",
    "print('Коэффициент корреляции Пирсона:', corr)"
   ]
  },
  {
   "cell_type": "code",
   "execution_count": null,
   "id": "f3d5eded",
   "metadata": {},
   "outputs": [],
   "source": [
    "# количество автомобилей\n",
    "\n",
    "x = elks[elks.accident > 50].accident\n",
    "y = elks[elks.accident > 50].auto_number\n",
    "\n",
    "corr, p_value = pearsonr(x, y)\n",
    "plt.scatter(x, y, marker='.')\n",
    "print('Коэффициент корреляции Пирсона:', corr)"
   ]
  },
  {
   "cell_type": "code",
   "execution_count": null,
   "id": "314cf124",
   "metadata": {},
   "outputs": [],
   "source": [
    "coef, p = stats.spearmanr(x, y)\n",
    "print('Spearmans correlation coefficient: %.3f' % coef)\n",
    "\n",
    "coef, p = stats.kendalltau(x, y)\n",
    "print('Kendall correlation coefficient: %.3f' % coef)"
   ]
  },
  {
   "cell_type": "code",
   "execution_count": null,
   "id": "e3f3f79a",
   "metadata": {},
   "outputs": [],
   "source": []
  },
  {
   "cell_type": "code",
   "execution_count": null,
   "id": "65081f60",
   "metadata": {},
   "outputs": [],
   "source": []
  },
  {
   "cell_type": "markdown",
   "id": "bdb887f8",
   "metadata": {},
   "source": [
    "## dtp-stat"
   ]
  },
  {
   "cell_type": "code",
   "execution_count": null,
   "id": "7de5c973",
   "metadata": {},
   "outputs": [],
   "source": [
    "work_dtp = pd.read_excel('C:/00_Projects/RIA/2022/02_elk_accidents/dtp_stat.xlsx', sheet_name='data')"
   ]
  },
  {
   "cell_type": "code",
   "execution_count": null,
   "id": "9d93669e",
   "metadata": {},
   "outputs": [],
   "source": [
    "work_dtp[work_dtp.role == 'Водитель'].shape"
   ]
  },
  {
   "cell_type": "code",
   "execution_count": null,
   "id": "98b5dcae",
   "metadata": {},
   "outputs": [],
   "source": [
    "work_dtp[(work_dtp.role == 'Водитель') &\n",
    "         (work_dtp.violations == 'none')].shape"
   ]
  },
  {
   "cell_type": "code",
   "execution_count": null,
   "id": "d9de9710",
   "metadata": {},
   "outputs": [],
   "source": [
    "round(426 / 1952, 2)"
   ]
  },
  {
   "cell_type": "code",
   "execution_count": null,
   "id": "fd6379c8",
   "metadata": {},
   "outputs": [],
   "source": [
    "round(203 / 1952, 2)"
   ]
  },
  {
   "cell_type": "code",
   "execution_count": null,
   "id": "77531480",
   "metadata": {},
   "outputs": [],
   "source": [
    "680 / 1952"
   ]
  },
  {
   "cell_type": "code",
   "execution_count": null,
   "id": "27972826",
   "metadata": {},
   "outputs": [],
   "source": [
    "list_violations = work_dtp[work_dtp.role == 'Водитель'].violations.to_list()"
   ]
  },
  {
   "cell_type": "code",
   "execution_count": null,
   "id": "ae7069e7",
   "metadata": {},
   "outputs": [],
   "source": [
    "list_violations = list(set(list_violations))"
   ]
  },
  {
   "cell_type": "code",
   "execution_count": null,
   "id": "b10d1f90",
   "metadata": {},
   "outputs": [],
   "source": [
    "new_list_violations = []\n",
    "\n",
    "for item in list_violations[1:]:\n",
    "    new_list_violations += item.split(';')"
   ]
  },
  {
   "cell_type": "code",
   "execution_count": null,
   "id": "2ee579bb",
   "metadata": {},
   "outputs": [],
   "source": [
    "new_list_violations = list(set(new_list_violations))"
   ]
  },
  {
   "cell_type": "code",
   "execution_count": null,
   "id": "50736d46",
   "metadata": {},
   "outputs": [],
   "source": [
    "len(new_list_violations)"
   ]
  },
  {
   "cell_type": "code",
   "execution_count": null,
   "id": "cdadef77",
   "metadata": {},
   "outputs": [],
   "source": [
    "new_list_violations"
   ]
  },
  {
   "cell_type": "code",
   "execution_count": null,
   "id": "f0e70213",
   "metadata": {},
   "outputs": [],
   "source": []
  }
 ],
 "metadata": {
  "kernelspec": {
   "display_name": "Python 3",
   "language": "python",
   "name": "python3"
  },
  "language_info": {
   "codemirror_mode": {
    "name": "ipython",
    "version": 3
   },
   "file_extension": ".py",
   "mimetype": "text/x-python",
   "name": "python",
   "nbconvert_exporter": "python",
   "pygments_lexer": "ipython3",
   "version": "3.8.8"
  }
 },
 "nbformat": 4,
 "nbformat_minor": 5
}
