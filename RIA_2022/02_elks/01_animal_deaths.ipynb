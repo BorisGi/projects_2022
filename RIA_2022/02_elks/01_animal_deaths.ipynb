{
 "cells": [
  {
   "cell_type": "code",
   "execution_count": null,
   "id": "23aa097b",
   "metadata": {},
   "outputs": [],
   "source": []
  },
  {
   "cell_type": "markdown",
   "id": "6027a679",
   "metadata": {},
   "source": [
    "## Библиотеки и настройки"
   ]
  },
  {
   "cell_type": "code",
   "execution_count": 1,
   "id": "4f5c5adc",
   "metadata": {},
   "outputs": [],
   "source": [
    "# импорт библиотек\n",
    "\n",
    "import pandas as pd # панды\n",
    "pd.options.mode.chained_assignment = None  # отключаю предупреждения default='warn'\n",
    "import numpy as np\n",
    "\n",
    "\n",
    "import re # регулярки\n",
    "\n",
    "import os # для работы с папками и файлами\n",
    "\n",
    "\n",
    "import matplotlib.pyplot as plt\n",
    "import seaborn as sns\n",
    "sns.set(style='white')\n",
    "\n",
    "import squarify \n",
    "\n",
    "import statistics\n",
    "from scipy.stats import t\n",
    "from scipy.stats import norm\n",
    "from scipy import stats\n",
    "\n",
    "from scipy.stats import pearsonr\n",
    "\n",
    "from scipy.stats import shapiro\n",
    "from scipy.stats import chi2_contingency\n",
    "\n",
    "# для КА\n",
    "from sklearn import preprocessing\n",
    "from sklearn.cluster import KMeans\n",
    "\n",
    "from scipy.spatial.distance import pdist\n",
    "from scipy.cluster.hierarchy import dendrogram, linkage, fcluster\n",
    "\n",
    "\n",
    "import io\n",
    "import requests\n",
    "from IPython.display import Image\n",
    "\n",
    "%matplotlib inline"
   ]
  },
  {
   "cell_type": "code",
   "execution_count": 2,
   "id": "c85e9942",
   "metadata": {},
   "outputs": [],
   "source": [
    "# путь к файлам\n",
    "\n",
    "file_path = 'C:/00_Projects/RIA/2022/02_elk_accidents/00_data/'"
   ]
  },
  {
   "cell_type": "code",
   "execution_count": 3,
   "id": "e7da3f38",
   "metadata": {},
   "outputs": [],
   "source": [
    "# вытаскиваю названия файлов в список file_list\n",
    "\n",
    "file_list = []\n",
    "\n",
    "for root, dirs, files in os.walk(file_path):\n",
    "    \n",
    "    for filename in files:\n",
    "        file_list += [filename]"
   ]
  },
  {
   "cell_type": "code",
   "execution_count": 4,
   "id": "64e2a17c",
   "metadata": {},
   "outputs": [
    {
     "name": "stdout",
     "output_type": "stream",
     "text": [
      "['animal_accidents.xlsx', 'animal_accidents_general.xlsx', 'animal_accidents_tech.xlsx', '~$animal_accidents.xlsx', 'mammals_dynamics_flat.xlsx', 'mammals_dynamics_original.xlsx', 'mammals_flat.xlsx', 'mammals_original.xlsx', 'minprirody_1_4_flat.xlsx', 'minprirody_1_4_original.xlsx', 'moscow_animals.xlsx', '2011 формы 1.1 и  1.4.xls', '2012 формы 1.1 и 1.4.xls', '2013 формы 1.1 и 1.4.xls', '2014 формы 1.1 и 1.4.xls', '2015 формы 1.1 и 1.4.xls', '2016 формы 1.1 и 1.4.xls', '2017 формы 1.1 и 1.4.xls', '2018 формы 1.1 и 1.4.xlsx', '2019 формы 1.1 и 1.4.xlsx', '2020 формы 1.1 и 1.4.xlsx', 'Форма 1.7 Итог.xlsx', 'population_RF.xlsx', 'road_length.xls', 'elks_temp.xlsx', 'new_bears.csv', 'new_elks.csv', 'new_elks_res.csv', 'old_elks.csv', 'sudact_temp.xlsx', 'sudrf_elks_2021.csv', 'sudrf_elks_2021.xlsx', 'sudrf_elks_2021_win.csv', 'temp.xlsx', 'temp_666.csv', 'urls_elk.xlsx']\n"
     ]
    }
   ],
   "source": [
    "print(file_list)"
   ]
  },
  {
   "cell_type": "code",
   "execution_count": 53,
   "id": "57110b4d",
   "metadata": {},
   "outputs": [],
   "source": [
    "# выгрузка файла в датафрейм\n",
    "\n",
    "work = pd.read_excel(file_path + 'animal_accidents.xlsx', sheet_name='1_4_death_causes')"
   ]
  },
  {
   "cell_type": "code",
   "execution_count": null,
   "id": "cfa39117",
   "metadata": {},
   "outputs": [],
   "source": []
  },
  {
   "cell_type": "code",
   "execution_count": 6,
   "id": "225d6c17",
   "metadata": {},
   "outputs": [
    {
     "data": {
      "text/plain": [
       "(8160, 17)"
      ]
     },
     "execution_count": 6,
     "metadata": {},
     "output_type": "execute_result"
    }
   ],
   "source": [
    "# количество строк и столбцов\n",
    "\n",
    "work.shape"
   ]
  },
  {
   "cell_type": "code",
   "execution_count": 7,
   "id": "886aa8c9",
   "metadata": {},
   "outputs": [
    {
     "data": {
      "text/plain": [
       "region_code             int64\n",
       "federal_disrict        object\n",
       "region                 object\n",
       "animal                 object\n",
       "year                    int64\n",
       "disease                 int64\n",
       "accident                int64\n",
       "poaching                int64\n",
       "other                   int64\n",
       "total                   int64\n",
       "highway_density       float64\n",
       "population              int64\n",
       "squere                  int64\n",
       "population_density    float64\n",
       "auto_number           float64\n",
       "super_road            float64\n",
       "super_road_density    float64\n",
       "dtype: object"
      ]
     },
     "execution_count": 7,
     "metadata": {},
     "output_type": "execute_result"
    }
   ],
   "source": [
    "# типы данных\n",
    "\n",
    "work.dtypes"
   ]
  },
  {
   "cell_type": "code",
   "execution_count": 8,
   "id": "0474c32c",
   "metadata": {},
   "outputs": [
    {
     "data": {
      "text/plain": [
       "region_code           0\n",
       "federal_disrict       0\n",
       "region                0\n",
       "animal                0\n",
       "year                  0\n",
       "disease               0\n",
       "accident              0\n",
       "poaching              0\n",
       "other                 0\n",
       "total                 0\n",
       "highway_density       0\n",
       "population            0\n",
       "squere                0\n",
       "population_density    0\n",
       "auto_number           0\n",
       "super_road            0\n",
       "super_road_density    0\n",
       "dtype: int64"
      ]
     },
     "execution_count": 8,
     "metadata": {},
     "output_type": "execute_result"
    }
   ],
   "source": [
    "# проверка на пустые значения\n",
    "\n",
    "work.isnull().sum()"
   ]
  },
  {
   "cell_type": "code",
   "execution_count": 9,
   "id": "16338e93",
   "metadata": {},
   "outputs": [],
   "source": [
    "# меняю типы столбцов\n",
    "\n",
    "work = work.astype({'region_code': 'int32', 'total': 'int32', 'year': 'object'})"
   ]
  },
  {
   "cell_type": "code",
   "execution_count": 10,
   "id": "0754f426",
   "metadata": {},
   "outputs": [
    {
     "data": {
      "text/html": [
       "<div>\n",
       "<style scoped>\n",
       "    .dataframe tbody tr th:only-of-type {\n",
       "        vertical-align: middle;\n",
       "    }\n",
       "\n",
       "    .dataframe tbody tr th {\n",
       "        vertical-align: top;\n",
       "    }\n",
       "\n",
       "    .dataframe thead th {\n",
       "        text-align: right;\n",
       "    }\n",
       "</style>\n",
       "<table border=\"1\" class=\"dataframe\">\n",
       "  <thead>\n",
       "    <tr style=\"text-align: right;\">\n",
       "      <th></th>\n",
       "      <th>region_code</th>\n",
       "      <th>federal_disrict</th>\n",
       "      <th>region</th>\n",
       "      <th>animal</th>\n",
       "      <th>year</th>\n",
       "      <th>disease</th>\n",
       "      <th>accident</th>\n",
       "      <th>poaching</th>\n",
       "      <th>other</th>\n",
       "      <th>total</th>\n",
       "      <th>highway_density</th>\n",
       "      <th>population</th>\n",
       "      <th>squere</th>\n",
       "      <th>population_density</th>\n",
       "      <th>auto_number</th>\n",
       "      <th>super_road</th>\n",
       "      <th>super_road_density</th>\n",
       "    </tr>\n",
       "  </thead>\n",
       "  <tbody>\n",
       "    <tr>\n",
       "      <th>3960</th>\n",
       "      <td>59</td>\n",
       "      <td>Приволжский ФО</td>\n",
       "      <td>Пермский край</td>\n",
       "      <td>Снежный баран</td>\n",
       "      <td>2017</td>\n",
       "      <td>0</td>\n",
       "      <td>0</td>\n",
       "      <td>0</td>\n",
       "      <td>0</td>\n",
       "      <td>0</td>\n",
       "      <td>135.6</td>\n",
       "      <td>2627609</td>\n",
       "      <td>160236</td>\n",
       "      <td>16.4</td>\n",
       "      <td>309.9</td>\n",
       "      <td>9471.7</td>\n",
       "      <td>59.1</td>\n",
       "    </tr>\n",
       "  </tbody>\n",
       "</table>\n",
       "</div>"
      ],
      "text/plain": [
       "      region_code federal_disrict         region         animal  year  \\\n",
       "3960           59  Приволжский ФО  Пермский край  Снежный баран  2017   \n",
       "\n",
       "      disease  accident  poaching  other  total  highway_density  population  \\\n",
       "3960        0         0         0      0      0            135.6     2627609   \n",
       "\n",
       "      squere  population_density  auto_number  super_road  super_road_density  \n",
       "3960  160236                16.4        309.9      9471.7                59.1  "
      ]
     },
     "execution_count": 10,
     "metadata": {},
     "output_type": "execute_result"
    }
   ],
   "source": [
    "work.sample()"
   ]
  },
  {
   "cell_type": "code",
   "execution_count": null,
   "id": "201cc885",
   "metadata": {},
   "outputs": [],
   "source": []
  },
  {
   "cell_type": "markdown",
   "id": "73316905",
   "metadata": {},
   "source": [
    "#### Общее количество погибших животных"
   ]
  },
  {
   "cell_type": "code",
   "execution_count": 11,
   "id": "fb3da33d",
   "metadata": {},
   "outputs": [],
   "source": [
    "all_total_deaths = (work.groupby('animal', as_index=False)\n",
    "                .agg({'total': 'sum', 'accident': 'sum', 'disease': 'sum',\n",
    "                      'accident': 'sum', 'poaching': 'sum', 'other': 'sum'})\n",
    "                .sort_values('accident', ascending=False)\n",
    "               )"
   ]
  },
  {
   "cell_type": "code",
   "execution_count": 14,
   "id": "2a3b27d3",
   "metadata": {},
   "outputs": [
    {
     "data": {
      "text/html": [
       "<div>\n",
       "<style scoped>\n",
       "    .dataframe tbody tr th:only-of-type {\n",
       "        vertical-align: middle;\n",
       "    }\n",
       "\n",
       "    .dataframe tbody tr th {\n",
       "        vertical-align: top;\n",
       "    }\n",
       "\n",
       "    .dataframe thead th {\n",
       "        text-align: right;\n",
       "    }\n",
       "</style>\n",
       "<table border=\"1\" class=\"dataframe\">\n",
       "  <thead>\n",
       "    <tr style=\"text-align: right;\">\n",
       "      <th></th>\n",
       "      <th>animal</th>\n",
       "      <th>total</th>\n",
       "      <th>accident</th>\n",
       "      <th>disease</th>\n",
       "      <th>poaching</th>\n",
       "      <th>other</th>\n",
       "    </tr>\n",
       "  </thead>\n",
       "  <tbody>\n",
       "    <tr>\n",
       "      <th>7</th>\n",
       "      <td>Лось</td>\n",
       "      <td>17466</td>\n",
       "      <td>8943</td>\n",
       "      <td>85</td>\n",
       "      <td>6322</td>\n",
       "      <td>2116</td>\n",
       "    </tr>\n",
       "    <tr>\n",
       "      <th>5</th>\n",
       "      <td>Косули</td>\n",
       "      <td>11615</td>\n",
       "      <td>1870</td>\n",
       "      <td>147</td>\n",
       "      <td>7026</td>\n",
       "      <td>2572</td>\n",
       "    </tr>\n",
       "    <tr>\n",
       "      <th>3</th>\n",
       "      <td>Кабан</td>\n",
       "      <td>6630</td>\n",
       "      <td>1309</td>\n",
       "      <td>1943</td>\n",
       "      <td>1700</td>\n",
       "      <td>1678</td>\n",
       "    </tr>\n",
       "    <tr>\n",
       "      <th>0</th>\n",
       "      <td>Благородный олень</td>\n",
       "      <td>1065</td>\n",
       "      <td>69</td>\n",
       "      <td>5</td>\n",
       "      <td>311</td>\n",
       "      <td>680</td>\n",
       "    </tr>\n",
       "    <tr>\n",
       "      <th>10</th>\n",
       "      <td>Пятнистый олень</td>\n",
       "      <td>159</td>\n",
       "      <td>66</td>\n",
       "      <td>2</td>\n",
       "      <td>60</td>\n",
       "      <td>31</td>\n",
       "    </tr>\n",
       "  </tbody>\n",
       "</table>\n",
       "</div>"
      ],
      "text/plain": [
       "               animal  total  accident  disease  poaching  other\n",
       "7                Лось  17466      8943       85      6322   2116\n",
       "5              Косули  11615      1870      147      7026   2572\n",
       "3               Кабан   6630      1309     1943      1700   1678\n",
       "0   Благородный олень   1065        69        5       311    680\n",
       "10    Пятнистый олень    159        66        2        60     31"
      ]
     },
     "execution_count": 14,
     "metadata": {},
     "output_type": "execute_result"
    }
   ],
   "source": [
    "(all_total_deaths\n",
    " .head()\n",
    " #.to_excel(file_path + 'temp.xlsx', index=False)\n",
    ")"
   ]
  },
  {
   "cell_type": "code",
   "execution_count": 15,
   "id": "b9af7f93",
   "metadata": {},
   "outputs": [],
   "source": [
    "total_deaths = (work.groupby('animal', as_index=False)\n",
    "                .agg({'total': 'sum', 'accident': 'sum'})\n",
    "                .sort_values('accident', ascending=False)\n",
    "               )"
   ]
  },
  {
   "cell_type": "code",
   "execution_count": 16,
   "id": "ac66bf51",
   "metadata": {},
   "outputs": [],
   "source": [
    "total_deaths['accident_part'] = round((total_deaths.accident / total_deaths.total) * 100, 1)"
   ]
  },
  {
   "cell_type": "code",
   "execution_count": 17,
   "id": "e6e71075",
   "metadata": {},
   "outputs": [
    {
     "data": {
      "text/html": [
       "<div>\n",
       "<style scoped>\n",
       "    .dataframe tbody tr th:only-of-type {\n",
       "        vertical-align: middle;\n",
       "    }\n",
       "\n",
       "    .dataframe tbody tr th {\n",
       "        vertical-align: top;\n",
       "    }\n",
       "\n",
       "    .dataframe thead th {\n",
       "        text-align: right;\n",
       "    }\n",
       "</style>\n",
       "<table border=\"1\" class=\"dataframe\">\n",
       "  <thead>\n",
       "    <tr style=\"text-align: right;\">\n",
       "      <th></th>\n",
       "      <th>animal</th>\n",
       "      <th>total</th>\n",
       "      <th>accident</th>\n",
       "      <th>accident_part</th>\n",
       "    </tr>\n",
       "  </thead>\n",
       "  <tbody>\n",
       "    <tr>\n",
       "      <th>5</th>\n",
       "      <td>Косули</td>\n",
       "      <td>11615</td>\n",
       "      <td>1870</td>\n",
       "      <td>16.1</td>\n",
       "    </tr>\n",
       "    <tr>\n",
       "      <th>3</th>\n",
       "      <td>Кабан</td>\n",
       "      <td>6630</td>\n",
       "      <td>1309</td>\n",
       "      <td>19.7</td>\n",
       "    </tr>\n",
       "    <tr>\n",
       "      <th>0</th>\n",
       "      <td>Благородный олень</td>\n",
       "      <td>1065</td>\n",
       "      <td>69</td>\n",
       "      <td>6.5</td>\n",
       "    </tr>\n",
       "    <tr>\n",
       "      <th>10</th>\n",
       "      <td>Пятнистый олень</td>\n",
       "      <td>159</td>\n",
       "      <td>66</td>\n",
       "      <td>41.5</td>\n",
       "    </tr>\n",
       "    <tr>\n",
       "      <th>2</th>\n",
       "      <td>Дикий северный олень</td>\n",
       "      <td>1426</td>\n",
       "      <td>3</td>\n",
       "      <td>0.2</td>\n",
       "    </tr>\n",
       "  </tbody>\n",
       "</table>\n",
       "</div>"
      ],
      "text/plain": [
       "                  animal  total  accident  accident_part\n",
       "5                 Косули  11615      1870           16.1\n",
       "3                  Кабан   6630      1309           19.7\n",
       "0      Благородный олень   1065        69            6.5\n",
       "10       Пятнистый олень    159        66           41.5\n",
       "2   Дикий северный олень   1426         3            0.2"
      ]
     },
     "execution_count": 17,
     "metadata": {},
     "output_type": "execute_result"
    }
   ],
   "source": [
    "(total_deaths[1:]\n",
    " .head()\n",
    "#.to_excel(file_path + 'temp.xlsx', index=False)\n",
    ")"
   ]
  },
  {
   "cell_type": "code",
   "execution_count": 18,
   "id": "d5c6f543",
   "metadata": {},
   "outputs": [],
   "source": [
    "# среднее\n",
    "\n",
    "total_deaths_mean = (work.groupby('animal', as_index=False)\n",
    "                .agg({'total': 'mean', 'accident': 'mean'})\n",
    "                .sort_values('accident', ascending=False)\n",
    "               )"
   ]
  },
  {
   "cell_type": "code",
   "execution_count": 19,
   "id": "74b41a36",
   "metadata": {},
   "outputs": [],
   "source": [
    "total_deaths_mean['accident_part'] = round((total_deaths_mean.accident / total_deaths_mean.total) * 100, 1)"
   ]
  },
  {
   "cell_type": "code",
   "execution_count": 20,
   "id": "d0ac3361",
   "metadata": {},
   "outputs": [
    {
     "data": {
      "text/html": [
       "<div>\n",
       "<style scoped>\n",
       "    .dataframe tbody tr th:only-of-type {\n",
       "        vertical-align: middle;\n",
       "    }\n",
       "\n",
       "    .dataframe tbody tr th {\n",
       "        vertical-align: top;\n",
       "    }\n",
       "\n",
       "    .dataframe thead th {\n",
       "        text-align: right;\n",
       "    }\n",
       "</style>\n",
       "<table border=\"1\" class=\"dataframe\">\n",
       "  <thead>\n",
       "    <tr style=\"text-align: right;\">\n",
       "      <th></th>\n",
       "      <th>animal</th>\n",
       "      <th>total</th>\n",
       "      <th>accident</th>\n",
       "      <th>accident_part</th>\n",
       "    </tr>\n",
       "  </thead>\n",
       "  <tbody>\n",
       "    <tr>\n",
       "      <th>5</th>\n",
       "      <td>Косули</td>\n",
       "      <td>11615</td>\n",
       "      <td>1870</td>\n",
       "      <td>16.1</td>\n",
       "    </tr>\n",
       "    <tr>\n",
       "      <th>3</th>\n",
       "      <td>Кабан</td>\n",
       "      <td>6630</td>\n",
       "      <td>1309</td>\n",
       "      <td>19.7</td>\n",
       "    </tr>\n",
       "    <tr>\n",
       "      <th>0</th>\n",
       "      <td>Благородный олень</td>\n",
       "      <td>1065</td>\n",
       "      <td>69</td>\n",
       "      <td>6.5</td>\n",
       "    </tr>\n",
       "    <tr>\n",
       "      <th>10</th>\n",
       "      <td>Пятнистый олень</td>\n",
       "      <td>159</td>\n",
       "      <td>66</td>\n",
       "      <td>41.5</td>\n",
       "    </tr>\n",
       "    <tr>\n",
       "      <th>2</th>\n",
       "      <td>Дикий северный олень</td>\n",
       "      <td>1426</td>\n",
       "      <td>3</td>\n",
       "      <td>0.2</td>\n",
       "    </tr>\n",
       "  </tbody>\n",
       "</table>\n",
       "</div>"
      ],
      "text/plain": [
       "                  animal  total  accident  accident_part\n",
       "5                 Косули  11615      1870           16.1\n",
       "3                  Кабан   6630      1309           19.7\n",
       "0      Благородный олень   1065        69            6.5\n",
       "10       Пятнистый олень    159        66           41.5\n",
       "2   Дикий северный олень   1426         3            0.2"
      ]
     },
     "execution_count": 20,
     "metadata": {},
     "output_type": "execute_result"
    }
   ],
   "source": [
    "(total_deaths[1:]\n",
    " .head()\n",
    "#.to_excel(file_path + 'temp.xlsx', index=False)\n",
    ")"
   ]
  },
  {
   "cell_type": "code",
   "execution_count": 21,
   "id": "de26b726",
   "metadata": {},
   "outputs": [],
   "source": [
    "# медиана\n",
    "\n",
    "total_deaths_median = (work.groupby('animal', as_index=False)\n",
    "                .agg({'total': 'median', 'accident': 'median'})\n",
    "                .sort_values('accident', ascending=False)\n",
    "               )"
   ]
  },
  {
   "cell_type": "code",
   "execution_count": 22,
   "id": "436a05d1",
   "metadata": {},
   "outputs": [
    {
     "data": {
      "text/html": [
       "<div>\n",
       "<style scoped>\n",
       "    .dataframe tbody tr th:only-of-type {\n",
       "        vertical-align: middle;\n",
       "    }\n",
       "\n",
       "    .dataframe tbody tr th {\n",
       "        vertical-align: top;\n",
       "    }\n",
       "\n",
       "    .dataframe thead th {\n",
       "        text-align: right;\n",
       "    }\n",
       "</style>\n",
       "<table border=\"1\" class=\"dataframe\">\n",
       "  <thead>\n",
       "    <tr style=\"text-align: right;\">\n",
       "      <th></th>\n",
       "      <th>animal</th>\n",
       "      <th>total</th>\n",
       "      <th>accident</th>\n",
       "    </tr>\n",
       "  </thead>\n",
       "  <tbody>\n",
       "    <tr>\n",
       "      <th>0</th>\n",
       "      <td>Благородный олень</td>\n",
       "      <td>0</td>\n",
       "      <td>0</td>\n",
       "    </tr>\n",
       "    <tr>\n",
       "      <th>1</th>\n",
       "      <td>Гибрид зубра с бизоном</td>\n",
       "      <td>0</td>\n",
       "      <td>0</td>\n",
       "    </tr>\n",
       "    <tr>\n",
       "      <th>2</th>\n",
       "      <td>Дикий северный олень</td>\n",
       "      <td>0</td>\n",
       "      <td>0</td>\n",
       "    </tr>\n",
       "    <tr>\n",
       "      <th>3</th>\n",
       "      <td>Кабан</td>\n",
       "      <td>3</td>\n",
       "      <td>0</td>\n",
       "    </tr>\n",
       "    <tr>\n",
       "      <th>4</th>\n",
       "      <td>Кабарга</td>\n",
       "      <td>0</td>\n",
       "      <td>0</td>\n",
       "    </tr>\n",
       "  </tbody>\n",
       "</table>\n",
       "</div>"
      ],
      "text/plain": [
       "                   animal  total  accident\n",
       "0       Благородный олень      0         0\n",
       "1  Гибрид зубра с бизоном      0         0\n",
       "2    Дикий северный олень      0         0\n",
       "3                   Кабан      3         0\n",
       "4                 Кабарга      0         0"
      ]
     },
     "execution_count": 22,
     "metadata": {},
     "output_type": "execute_result"
    }
   ],
   "source": [
    "(total_deaths_median[1:]\n",
    " .head()\n",
    "#.to_excel(file_path + 'temp.xlsx', index=False)\n",
    ")"
   ]
  },
  {
   "cell_type": "code",
   "execution_count": null,
   "id": "711a0681",
   "metadata": {},
   "outputs": [],
   "source": []
  },
  {
   "cell_type": "markdown",
   "id": "f565b515",
   "metadata": {},
   "source": [
    "#### Регионы, в которых гибнет больше всего лосей, кабанов и косуль"
   ]
  },
  {
   "cell_type": "code",
   "execution_count": 54,
   "id": "e8e274ac",
   "metadata": {},
   "outputs": [],
   "source": [
    "# выгрузка файла в датафрейм\n",
    "\n",
    "work_most = pd.read_excel(file_path + 'animal_accidents.xlsx', sheet_name='most_dying')"
   ]
  },
  {
   "cell_type": "code",
   "execution_count": 55,
   "id": "794c6f3c",
   "metadata": {},
   "outputs": [
    {
     "data": {
      "text/plain": [
       "(1530, 18)"
      ]
     },
     "execution_count": 55,
     "metadata": {},
     "output_type": "execute_result"
    }
   ],
   "source": [
    "work_most.shape"
   ]
  },
  {
   "cell_type": "code",
   "execution_count": 56,
   "id": "f992b09a",
   "metadata": {},
   "outputs": [
    {
     "data": {
      "text/html": [
       "<div>\n",
       "<style scoped>\n",
       "    .dataframe tbody tr th:only-of-type {\n",
       "        vertical-align: middle;\n",
       "    }\n",
       "\n",
       "    .dataframe tbody tr th {\n",
       "        vertical-align: top;\n",
       "    }\n",
       "\n",
       "    .dataframe thead th {\n",
       "        text-align: right;\n",
       "    }\n",
       "</style>\n",
       "<table border=\"1\" class=\"dataframe\">\n",
       "  <thead>\n",
       "    <tr style=\"text-align: right;\">\n",
       "      <th></th>\n",
       "      <th>region_code</th>\n",
       "      <th>federal_disrict</th>\n",
       "      <th>region</th>\n",
       "      <th>animal</th>\n",
       "      <th>year</th>\n",
       "      <th>disease</th>\n",
       "      <th>accident</th>\n",
       "      <th>poaching</th>\n",
       "      <th>other</th>\n",
       "      <th>total</th>\n",
       "      <th>mammal_number</th>\n",
       "      <th>highway_density</th>\n",
       "      <th>population</th>\n",
       "      <th>squere</th>\n",
       "      <th>population_density</th>\n",
       "      <th>auto_number</th>\n",
       "      <th>super_road</th>\n",
       "      <th>super_road_density</th>\n",
       "    </tr>\n",
       "  </thead>\n",
       "  <tbody>\n",
       "    <tr>\n",
       "      <th>309</th>\n",
       "      <td>7</td>\n",
       "      <td>Северо-Кавказский ФО</td>\n",
       "      <td>Кабардино-Балкарская Республика</td>\n",
       "      <td>Кабан</td>\n",
       "      <td>2016</td>\n",
       "      <td>0</td>\n",
       "      <td>0</td>\n",
       "      <td>0</td>\n",
       "      <td>0</td>\n",
       "      <td>0</td>\n",
       "      <td>986</td>\n",
       "      <td>570.7</td>\n",
       "      <td>863354</td>\n",
       "      <td>12470</td>\n",
       "      <td>69.2</td>\n",
       "      <td>236.8</td>\n",
       "      <td>3464.952</td>\n",
       "      <td>277.9</td>\n",
       "    </tr>\n",
       "    <tr>\n",
       "      <th>230</th>\n",
       "      <td>92</td>\n",
       "      <td>Южный ФО</td>\n",
       "      <td>г. Севастополь</td>\n",
       "      <td>Лось</td>\n",
       "      <td>2019</td>\n",
       "      <td>0</td>\n",
       "      <td>0</td>\n",
       "      <td>0</td>\n",
       "      <td>0</td>\n",
       "      <td>0</td>\n",
       "      <td>0</td>\n",
       "      <td>1168.2</td>\n",
       "      <td>446174</td>\n",
       "      <td>864</td>\n",
       "      <td>516.4</td>\n",
       "      <td>302.9</td>\n",
       "      <td>884.973</td>\n",
       "      <td>1024.3</td>\n",
       "    </tr>\n",
       "    <tr>\n",
       "      <th>228</th>\n",
       "      <td>92</td>\n",
       "      <td>Южный ФО</td>\n",
       "      <td>г. Севастополь</td>\n",
       "      <td>Кабан</td>\n",
       "      <td>2019</td>\n",
       "      <td>0</td>\n",
       "      <td>0</td>\n",
       "      <td>1</td>\n",
       "      <td>0</td>\n",
       "      <td>1</td>\n",
       "      <td>252</td>\n",
       "      <td>1168.2</td>\n",
       "      <td>446174</td>\n",
       "      <td>864</td>\n",
       "      <td>516.4</td>\n",
       "      <td>302.9</td>\n",
       "      <td>884.973</td>\n",
       "      <td>1024.3</td>\n",
       "    </tr>\n",
       "  </tbody>\n",
       "</table>\n",
       "</div>"
      ],
      "text/plain": [
       "     region_code       federal_disrict                           region  \\\n",
       "309            7  Северо-Кавказский ФО  Кабардино-Балкарская Республика   \n",
       "230           92              Южный ФО                   г. Севастополь   \n",
       "228           92              Южный ФО                   г. Севастополь   \n",
       "\n",
       "    animal  year  disease  accident  poaching  other  total  mammal_number  \\\n",
       "309  Кабан  2016        0         0         0      0      0            986   \n",
       "230   Лось  2019        0         0         0      0      0              0   \n",
       "228  Кабан  2019        0         0         1      0      1            252   \n",
       "\n",
       "     highway_density  population  squere  population_density  auto_number  \\\n",
       "309            570.7      863354   12470                69.2        236.8   \n",
       "230           1168.2      446174     864               516.4        302.9   \n",
       "228           1168.2      446174     864               516.4        302.9   \n",
       "\n",
       "     super_road  super_road_density  \n",
       "309    3464.952               277.9  \n",
       "230     884.973              1024.3  \n",
       "228     884.973              1024.3  "
      ]
     },
     "execution_count": 56,
     "metadata": {},
     "output_type": "execute_result"
    }
   ],
   "source": [
    "work_most.sample(3)"
   ]
  },
  {
   "cell_type": "code",
   "execution_count": 26,
   "id": "42521087",
   "metadata": {},
   "outputs": [],
   "source": [
    "# доля смертей в ДТП и процент популяции\n",
    "\n",
    "work_most['accident_part'] = work_most.accident / work_most.total\n",
    "\n",
    "work_most['number_part'] = work_most.accident / work_most.mammal_number"
   ]
  },
  {
   "cell_type": "code",
   "execution_count": null,
   "id": "459f93c0",
   "metadata": {},
   "outputs": [],
   "source": []
  },
  {
   "cell_type": "code",
   "execution_count": 27,
   "id": "240175ef",
   "metadata": {},
   "outputs": [],
   "source": [
    "region_animal_death = (work_most.groupby(['animal', 'region'], as_index=False)\n",
    "                       .agg({'total': 'sum', 'accident': 'sum', 'mammal_number': 'sum'})\n",
    "                       .sort_values('accident', ascending=False)\n",
    "                      ).round(1)"
   ]
  },
  {
   "cell_type": "code",
   "execution_count": 28,
   "id": "33882b95",
   "metadata": {},
   "outputs": [],
   "source": [
    "region_animal_death['number_part'] = region_animal_death['accident'] / region_animal_death['mammal_number']"
   ]
  },
  {
   "cell_type": "code",
   "execution_count": 29,
   "id": "06cecc16",
   "metadata": {},
   "outputs": [
    {
     "data": {
      "text/html": [
       "<div>\n",
       "<style scoped>\n",
       "    .dataframe tbody tr th:only-of-type {\n",
       "        vertical-align: middle;\n",
       "    }\n",
       "\n",
       "    .dataframe tbody tr th {\n",
       "        vertical-align: top;\n",
       "    }\n",
       "\n",
       "    .dataframe thead th {\n",
       "        text-align: right;\n",
       "    }\n",
       "</style>\n",
       "<table border=\"1\" class=\"dataframe\">\n",
       "  <thead>\n",
       "    <tr style=\"text-align: right;\">\n",
       "      <th></th>\n",
       "      <th>animal</th>\n",
       "      <th>region</th>\n",
       "      <th>total</th>\n",
       "      <th>accident</th>\n",
       "      <th>mammal_number</th>\n",
       "      <th>number_part</th>\n",
       "    </tr>\n",
       "  </thead>\n",
       "  <tbody>\n",
       "    <tr>\n",
       "      <th>199</th>\n",
       "      <td>Лось</td>\n",
       "      <td>Московская область</td>\n",
       "      <td>1178</td>\n",
       "      <td>997</td>\n",
       "      <td>61838</td>\n",
       "      <td>0.016123</td>\n",
       "    </tr>\n",
       "    <tr>\n",
       "      <th>196</th>\n",
       "      <td>Лось</td>\n",
       "      <td>Ленинградская область</td>\n",
       "      <td>977</td>\n",
       "      <td>813</td>\n",
       "      <td>110253</td>\n",
       "      <td>0.007374</td>\n",
       "    </tr>\n",
       "    <tr>\n",
       "      <th>242</th>\n",
       "      <td>Лось</td>\n",
       "      <td>Удмуртская Республика</td>\n",
       "      <td>1752</td>\n",
       "      <td>756</td>\n",
       "      <td>110285</td>\n",
       "      <td>0.006855</td>\n",
       "    </tr>\n",
       "    <tr>\n",
       "      <th>235</th>\n",
       "      <td>Лось</td>\n",
       "      <td>Смоленская область</td>\n",
       "      <td>1025</td>\n",
       "      <td>665</td>\n",
       "      <td>116577</td>\n",
       "      <td>0.005704</td>\n",
       "    </tr>\n",
       "    <tr>\n",
       "      <th>251</th>\n",
       "      <td>Лось</td>\n",
       "      <td>Ярославская область</td>\n",
       "      <td>1169</td>\n",
       "      <td>663</td>\n",
       "      <td>129876</td>\n",
       "      <td>0.005105</td>\n",
       "    </tr>\n",
       "    <tr>\n",
       "      <th>178</th>\n",
       "      <td>Лось</td>\n",
       "      <td>Вологодская область</td>\n",
       "      <td>880</td>\n",
       "      <td>611</td>\n",
       "      <td>265081</td>\n",
       "      <td>0.002305</td>\n",
       "    </tr>\n",
       "    <tr>\n",
       "      <th>209</th>\n",
       "      <td>Лось</td>\n",
       "      <td>Пермский край</td>\n",
       "      <td>1083</td>\n",
       "      <td>485</td>\n",
       "      <td>223989</td>\n",
       "      <td>0.002165</td>\n",
       "    </tr>\n",
       "    <tr>\n",
       "      <th>234</th>\n",
       "      <td>Лось</td>\n",
       "      <td>Свердловская область</td>\n",
       "      <td>888</td>\n",
       "      <td>385</td>\n",
       "      <td>258877</td>\n",
       "      <td>0.001487</td>\n",
       "    </tr>\n",
       "    <tr>\n",
       "      <th>238</th>\n",
       "      <td>Лось</td>\n",
       "      <td>Тверская область</td>\n",
       "      <td>665</td>\n",
       "      <td>352</td>\n",
       "      <td>172192</td>\n",
       "      <td>0.002044</td>\n",
       "    </tr>\n",
       "    <tr>\n",
       "      <th>149</th>\n",
       "      <td>Косули</td>\n",
       "      <td>Свердловская область</td>\n",
       "      <td>955</td>\n",
       "      <td>340</td>\n",
       "      <td>229938</td>\n",
       "      <td>0.001479</td>\n",
       "    </tr>\n",
       "  </tbody>\n",
       "</table>\n",
       "</div>"
      ],
      "text/plain": [
       "     animal                 region  total  accident  mammal_number  \\\n",
       "199    Лось     Московская область   1178       997          61838   \n",
       "196    Лось  Ленинградская область    977       813         110253   \n",
       "242    Лось  Удмуртская Республика   1752       756         110285   \n",
       "235    Лось     Смоленская область   1025       665         116577   \n",
       "251    Лось    Ярославская область   1169       663         129876   \n",
       "178    Лось    Вологодская область    880       611         265081   \n",
       "209    Лось          Пермский край   1083       485         223989   \n",
       "234    Лось   Свердловская область    888       385         258877   \n",
       "238    Лось       Тверская область    665       352         172192   \n",
       "149  Косули   Свердловская область    955       340         229938   \n",
       "\n",
       "     number_part  \n",
       "199     0.016123  \n",
       "196     0.007374  \n",
       "242     0.006855  \n",
       "235     0.005704  \n",
       "251     0.005105  \n",
       "178     0.002305  \n",
       "209     0.002165  \n",
       "234     0.001487  \n",
       "238     0.002044  \n",
       "149     0.001479  "
      ]
     },
     "execution_count": 29,
     "metadata": {},
     "output_type": "execute_result"
    }
   ],
   "source": [
    "(region_animal_death\n",
    " .head(10)\n",
    " #to_excel(file_path + 'temp.xlsx', index=False)\n",
    ")"
   ]
  },
  {
   "cell_type": "code",
   "execution_count": null,
   "id": "9a9acecd",
   "metadata": {},
   "outputs": [],
   "source": []
  },
  {
   "cell_type": "markdown",
   "id": "e9cef5d6",
   "metadata": {},
   "source": [
    "### Топ видов, которые гибнут в ДТП по регионам"
   ]
  },
  {
   "cell_type": "code",
   "execution_count": 30,
   "id": "23e78b63",
   "metadata": {},
   "outputs": [],
   "source": [
    "# оставляю только более-менее массово гибнущих животных\n",
    "\n",
    "region_death_top = region_animal_death[region_animal_death.accident >= 50]"
   ]
  },
  {
   "cell_type": "code",
   "execution_count": 31,
   "id": "0bb6cbc4",
   "metadata": {},
   "outputs": [],
   "source": [
    "# нахожу животных, которые лидируют по смертям в ДТП\n",
    "\n",
    "max_deaths = (region_death_top\n",
    "              .groupby('region', as_index=False)\n",
    "              .agg({'accident': 'max'})\n",
    "             )\n",
    "\n",
    "max_deaths['top_value'] = 1\n",
    "\n",
    "region_death_top = region_death_top.merge(max_deaths, how='left', on=['region', 'accident'])"
   ]
  },
  {
   "cell_type": "code",
   "execution_count": 32,
   "id": "11c0481e",
   "metadata": {},
   "outputs": [],
   "source": [
    "# нахожу второе место\n",
    "\n",
    "temp_second = region_death_top[region_death_top.top_value != 1].iloc[:, :6] # убираю 1 место и столбец top_value\n",
    "\n",
    "max_deaths = (temp_second\n",
    "              .groupby('region', as_index=False)\n",
    "              .agg({'accident': 'max'})\n",
    "             )\n",
    "\n",
    "max_deaths['second_value'] = 2\n",
    "\n",
    "region_death_top_2 = temp_second.merge(max_deaths, how='left', on=['region', 'accident'])\n",
    "\n",
    "region_death_top_2 = region_death_top_2[region_death_top_2.second_value == 2].iloc[:, :6]\n",
    "\n",
    "region_death_top_2.columns=['second_animal', 'region', 'second_total', 'second_accident', 'second_number', 'second_np']"
   ]
  },
  {
   "cell_type": "code",
   "execution_count": 33,
   "id": "bca156d7",
   "metadata": {},
   "outputs": [],
   "source": [
    "# присоединяю к первому месту второе \n",
    "\n",
    "region_death_top = region_death_top[region_death_top.top_value == 1].iloc[:, :6]\n",
    "region_death_top.columns=['first_animal', 'region', 'first_total', 'first_accident', 'first_number', 'first_np']\n",
    "region_death_top = region_death_top.merge(region_death_top_2, how='left', on='region')"
   ]
  },
  {
   "cell_type": "code",
   "execution_count": 34,
   "id": "a7758687",
   "metadata": {},
   "outputs": [],
   "source": [
    "region_death_top = region_death_top[['region', 'first_animal', 'first_total',\n",
    "                                     'first_accident', 'first_np',                                     \n",
    "                                     'second_animal', 'second_total',\n",
    "                                     'second_accident', 'second_np']]"
   ]
  },
  {
   "cell_type": "code",
   "execution_count": 35,
   "id": "13b6866c",
   "metadata": {},
   "outputs": [
    {
     "data": {
      "text/html": [
       "<div>\n",
       "<style scoped>\n",
       "    .dataframe tbody tr th:only-of-type {\n",
       "        vertical-align: middle;\n",
       "    }\n",
       "\n",
       "    .dataframe tbody tr th {\n",
       "        vertical-align: top;\n",
       "    }\n",
       "\n",
       "    .dataframe thead th {\n",
       "        text-align: right;\n",
       "    }\n",
       "</style>\n",
       "<table border=\"1\" class=\"dataframe\">\n",
       "  <thead>\n",
       "    <tr style=\"text-align: right;\">\n",
       "      <th></th>\n",
       "      <th>region</th>\n",
       "      <th>first_animal</th>\n",
       "      <th>first_total</th>\n",
       "      <th>first_accident</th>\n",
       "      <th>first_np</th>\n",
       "      <th>second_animal</th>\n",
       "      <th>second_total</th>\n",
       "      <th>second_accident</th>\n",
       "      <th>second_np</th>\n",
       "    </tr>\n",
       "  </thead>\n",
       "  <tbody>\n",
       "    <tr>\n",
       "      <th>0</th>\n",
       "      <td>Московская область</td>\n",
       "      <td>Лось</td>\n",
       "      <td>1178</td>\n",
       "      <td>997</td>\n",
       "      <td>0.016123</td>\n",
       "      <td>Косули</td>\n",
       "      <td>174.0</td>\n",
       "      <td>148.0</td>\n",
       "      <td>0.006529</td>\n",
       "    </tr>\n",
       "    <tr>\n",
       "      <th>1</th>\n",
       "      <td>Ленинградская область</td>\n",
       "      <td>Лось</td>\n",
       "      <td>977</td>\n",
       "      <td>813</td>\n",
       "      <td>0.007374</td>\n",
       "      <td>Кабан</td>\n",
       "      <td>204.0</td>\n",
       "      <td>129.0</td>\n",
       "      <td>0.003276</td>\n",
       "    </tr>\n",
       "    <tr>\n",
       "      <th>2</th>\n",
       "      <td>Удмуртская Республика</td>\n",
       "      <td>Лось</td>\n",
       "      <td>1752</td>\n",
       "      <td>756</td>\n",
       "      <td>0.006855</td>\n",
       "      <td>Кабан</td>\n",
       "      <td>234.0</td>\n",
       "      <td>69.0</td>\n",
       "      <td>0.003030</td>\n",
       "    </tr>\n",
       "    <tr>\n",
       "      <th>3</th>\n",
       "      <td>Смоленская область</td>\n",
       "      <td>Лось</td>\n",
       "      <td>1025</td>\n",
       "      <td>665</td>\n",
       "      <td>0.005704</td>\n",
       "      <td>Косули</td>\n",
       "      <td>133.0</td>\n",
       "      <td>100.0</td>\n",
       "      <td>0.001965</td>\n",
       "    </tr>\n",
       "    <tr>\n",
       "      <th>4</th>\n",
       "      <td>Ярославская область</td>\n",
       "      <td>Лось</td>\n",
       "      <td>1169</td>\n",
       "      <td>663</td>\n",
       "      <td>0.005105</td>\n",
       "      <td>NaN</td>\n",
       "      <td>NaN</td>\n",
       "      <td>NaN</td>\n",
       "      <td>NaN</td>\n",
       "    </tr>\n",
       "    <tr>\n",
       "      <th>5</th>\n",
       "      <td>Вологодская область</td>\n",
       "      <td>Лось</td>\n",
       "      <td>880</td>\n",
       "      <td>611</td>\n",
       "      <td>0.002305</td>\n",
       "      <td>Кабан</td>\n",
       "      <td>83.0</td>\n",
       "      <td>58.0</td>\n",
       "      <td>0.001822</td>\n",
       "    </tr>\n",
       "    <tr>\n",
       "      <th>6</th>\n",
       "      <td>Пермский край</td>\n",
       "      <td>Лось</td>\n",
       "      <td>1083</td>\n",
       "      <td>485</td>\n",
       "      <td>0.002165</td>\n",
       "      <td>NaN</td>\n",
       "      <td>NaN</td>\n",
       "      <td>NaN</td>\n",
       "      <td>NaN</td>\n",
       "    </tr>\n",
       "    <tr>\n",
       "      <th>7</th>\n",
       "      <td>Свердловская область</td>\n",
       "      <td>Лось</td>\n",
       "      <td>888</td>\n",
       "      <td>385</td>\n",
       "      <td>0.001487</td>\n",
       "      <td>Косули</td>\n",
       "      <td>955.0</td>\n",
       "      <td>340.0</td>\n",
       "      <td>0.001479</td>\n",
       "    </tr>\n",
       "    <tr>\n",
       "      <th>8</th>\n",
       "      <td>Тверская область</td>\n",
       "      <td>Лось</td>\n",
       "      <td>665</td>\n",
       "      <td>352</td>\n",
       "      <td>0.002044</td>\n",
       "      <td>NaN</td>\n",
       "      <td>NaN</td>\n",
       "      <td>NaN</td>\n",
       "      <td>NaN</td>\n",
       "    </tr>\n",
       "    <tr>\n",
       "      <th>9</th>\n",
       "      <td>Новгородская область</td>\n",
       "      <td>Лось</td>\n",
       "      <td>373</td>\n",
       "      <td>269</td>\n",
       "      <td>0.002334</td>\n",
       "      <td>NaN</td>\n",
       "      <td>NaN</td>\n",
       "      <td>NaN</td>\n",
       "      <td>NaN</td>\n",
       "    </tr>\n",
       "  </tbody>\n",
       "</table>\n",
       "</div>"
      ],
      "text/plain": [
       "                  region first_animal  first_total  first_accident  first_np  \\\n",
       "0     Московская область         Лось         1178             997  0.016123   \n",
       "1  Ленинградская область         Лось          977             813  0.007374   \n",
       "2  Удмуртская Республика         Лось         1752             756  0.006855   \n",
       "3     Смоленская область         Лось         1025             665  0.005704   \n",
       "4    Ярославская область         Лось         1169             663  0.005105   \n",
       "5    Вологодская область         Лось          880             611  0.002305   \n",
       "6          Пермский край         Лось         1083             485  0.002165   \n",
       "7   Свердловская область         Лось          888             385  0.001487   \n",
       "8       Тверская область         Лось          665             352  0.002044   \n",
       "9   Новгородская область         Лось          373             269  0.002334   \n",
       "\n",
       "  second_animal  second_total  second_accident  second_np  \n",
       "0        Косули         174.0            148.0   0.006529  \n",
       "1         Кабан         204.0            129.0   0.003276  \n",
       "2         Кабан         234.0             69.0   0.003030  \n",
       "3        Косули         133.0            100.0   0.001965  \n",
       "4           NaN           NaN              NaN        NaN  \n",
       "5         Кабан          83.0             58.0   0.001822  \n",
       "6           NaN           NaN              NaN        NaN  \n",
       "7        Косули         955.0            340.0   0.001479  \n",
       "8           NaN           NaN              NaN        NaN  \n",
       "9           NaN           NaN              NaN        NaN  "
      ]
     },
     "execution_count": 35,
     "metadata": {},
     "output_type": "execute_result"
    }
   ],
   "source": [
    "(region_death_top\n",
    " .head(10)\n",
    " #.to_excel(file_path + 'temp.xlsx', index=False)\n",
    ")"
   ]
  },
  {
   "cell_type": "code",
   "execution_count": null,
   "id": "b2e42b81",
   "metadata": {},
   "outputs": [],
   "source": []
  },
  {
   "cell_type": "markdown",
   "id": "458c1b59",
   "metadata": {},
   "source": [
    "### Регионы, в которых лосей гибнет больше всего"
   ]
  },
  {
   "cell_type": "code",
   "execution_count": 36,
   "id": "5e1aac63",
   "metadata": {},
   "outputs": [],
   "source": [
    "elks = work_most[work_most['animal'] == 'Лось']"
   ]
  },
  {
   "cell_type": "code",
   "execution_count": 37,
   "id": "d3780278",
   "metadata": {},
   "outputs": [
    {
     "data": {
      "text/html": [
       "<div>\n",
       "<style scoped>\n",
       "    .dataframe tbody tr th:only-of-type {\n",
       "        vertical-align: middle;\n",
       "    }\n",
       "\n",
       "    .dataframe tbody tr th {\n",
       "        vertical-align: top;\n",
       "    }\n",
       "\n",
       "    .dataframe thead th {\n",
       "        text-align: right;\n",
       "    }\n",
       "</style>\n",
       "<table border=\"1\" class=\"dataframe\">\n",
       "  <thead>\n",
       "    <tr style=\"text-align: right;\">\n",
       "      <th></th>\n",
       "      <th>region_code</th>\n",
       "      <th>federal_disrict</th>\n",
       "      <th>region</th>\n",
       "      <th>animal</th>\n",
       "      <th>year</th>\n",
       "      <th>disease</th>\n",
       "      <th>accident</th>\n",
       "      <th>poaching</th>\n",
       "      <th>other</th>\n",
       "      <th>total</th>\n",
       "      <th>mammal_number</th>\n",
       "      <th>highway_density</th>\n",
       "      <th>population</th>\n",
       "      <th>squere</th>\n",
       "      <th>population_density</th>\n",
       "      <th>auto_number</th>\n",
       "      <th>super_road</th>\n",
       "      <th>super_road_density</th>\n",
       "      <th>accident_part</th>\n",
       "      <th>number_part</th>\n",
       "    </tr>\n",
       "  </thead>\n",
       "  <tbody>\n",
       "    <tr>\n",
       "      <th>2</th>\n",
       "      <td>22</td>\n",
       "      <td>Сибирский ФО</td>\n",
       "      <td>Алтайский край</td>\n",
       "      <td>Лось</td>\n",
       "      <td>2015</td>\n",
       "      <td>0</td>\n",
       "      <td>8</td>\n",
       "      <td>10</td>\n",
       "      <td>2</td>\n",
       "      <td>20</td>\n",
       "      <td>7632</td>\n",
       "      <td>220.7</td>\n",
       "      <td>2380793</td>\n",
       "      <td>167996</td>\n",
       "      <td>14.2</td>\n",
       "      <td>276.2</td>\n",
       "      <td>19403.800</td>\n",
       "      <td>115.5</td>\n",
       "      <td>0.400000</td>\n",
       "      <td>0.001048</td>\n",
       "    </tr>\n",
       "    <tr>\n",
       "      <th>5</th>\n",
       "      <td>22</td>\n",
       "      <td>Сибирский ФО</td>\n",
       "      <td>Алтайский край</td>\n",
       "      <td>Лось</td>\n",
       "      <td>2016</td>\n",
       "      <td>0</td>\n",
       "      <td>2</td>\n",
       "      <td>35</td>\n",
       "      <td>4</td>\n",
       "      <td>41</td>\n",
       "      <td>9069</td>\n",
       "      <td>220.5</td>\n",
       "      <td>2371227</td>\n",
       "      <td>167996</td>\n",
       "      <td>14.1</td>\n",
       "      <td>277.0</td>\n",
       "      <td>19216.942</td>\n",
       "      <td>114.4</td>\n",
       "      <td>0.048780</td>\n",
       "      <td>0.000221</td>\n",
       "    </tr>\n",
       "    <tr>\n",
       "      <th>8</th>\n",
       "      <td>22</td>\n",
       "      <td>Сибирский ФО</td>\n",
       "      <td>Алтайский край</td>\n",
       "      <td>Лось</td>\n",
       "      <td>2017</td>\n",
       "      <td>2</td>\n",
       "      <td>11</td>\n",
       "      <td>39</td>\n",
       "      <td>1</td>\n",
       "      <td>53</td>\n",
       "      <td>8659</td>\n",
       "      <td>220.8</td>\n",
       "      <td>2357880</td>\n",
       "      <td>167996</td>\n",
       "      <td>14.0</td>\n",
       "      <td>291.5</td>\n",
       "      <td>19184.300</td>\n",
       "      <td>114.2</td>\n",
       "      <td>0.207547</td>\n",
       "      <td>0.001270</td>\n",
       "    </tr>\n",
       "  </tbody>\n",
       "</table>\n",
       "</div>"
      ],
      "text/plain": [
       "   region_code federal_disrict          region animal  year  disease  \\\n",
       "2           22    Сибирский ФО  Алтайский край   Лось  2015        0   \n",
       "5           22    Сибирский ФО  Алтайский край   Лось  2016        0   \n",
       "8           22    Сибирский ФО  Алтайский край   Лось  2017        2   \n",
       "\n",
       "   accident  poaching  other  total  mammal_number  highway_density  \\\n",
       "2         8        10      2     20           7632            220.7   \n",
       "5         2        35      4     41           9069            220.5   \n",
       "8        11        39      1     53           8659            220.8   \n",
       "\n",
       "   population  squere  population_density  auto_number  super_road  \\\n",
       "2     2380793  167996                14.2        276.2   19403.800   \n",
       "5     2371227  167996                14.1        277.0   19216.942   \n",
       "8     2357880  167996                14.0        291.5   19184.300   \n",
       "\n",
       "   super_road_density  accident_part  number_part  \n",
       "2               115.5       0.400000     0.001048  \n",
       "5               114.4       0.048780     0.000221  \n",
       "8               114.2       0.207547     0.001270  "
      ]
     },
     "execution_count": 37,
     "metadata": {},
     "output_type": "execute_result"
    }
   ],
   "source": [
    "elks.head(3)"
   ]
  },
  {
   "cell_type": "code",
   "execution_count": 38,
   "id": "2fb90810",
   "metadata": {},
   "outputs": [],
   "source": [
    "# ДТП по регионам за все 6 лет\n",
    "\n",
    "elk_region_accidents = (elks.groupby(['region'], as_index=False)\n",
    " .agg({'total': 'sum', 'accident': 'sum', 'accident_part': 'mean', 'number_part': 'mean', 'mammal_number': 'sum'})\n",
    " .sort_values('accident_part', ascending=False)        )"
   ]
  },
  {
   "cell_type": "code",
   "execution_count": 39,
   "id": "1f25a0db",
   "metadata": {},
   "outputs": [],
   "source": [
    "# доля смертей в ДТП и процент популяции\n",
    "\n",
    "elk_region_accidents['accident_part_2'] = elk_region_accidents.accident / elk_region_accidents.total\n",
    "\n",
    "elk_region_accidents['number_part_2'] = elk_region_accidents.accident / elk_region_accidents.mammal_number"
   ]
  },
  {
   "cell_type": "code",
   "execution_count": 40,
   "id": "a692845f",
   "metadata": {},
   "outputs": [
    {
     "data": {
      "text/html": [
       "<div>\n",
       "<style scoped>\n",
       "    .dataframe tbody tr th:only-of-type {\n",
       "        vertical-align: middle;\n",
       "    }\n",
       "\n",
       "    .dataframe tbody tr th {\n",
       "        vertical-align: top;\n",
       "    }\n",
       "\n",
       "    .dataframe thead th {\n",
       "        text-align: right;\n",
       "    }\n",
       "</style>\n",
       "<table border=\"1\" class=\"dataframe\">\n",
       "  <thead>\n",
       "    <tr style=\"text-align: right;\">\n",
       "      <th></th>\n",
       "      <th>region</th>\n",
       "      <th>total</th>\n",
       "      <th>accident</th>\n",
       "      <th>accident_part</th>\n",
       "      <th>number_part</th>\n",
       "      <th>mammal_number</th>\n",
       "      <th>accident_part_2</th>\n",
       "      <th>number_part_2</th>\n",
       "    </tr>\n",
       "  </thead>\n",
       "  <tbody>\n",
       "    <tr>\n",
       "      <th>82</th>\n",
       "      <td>г. Москва</td>\n",
       "      <td>3</td>\n",
       "      <td>3</td>\n",
       "      <td>1.000000</td>\n",
       "      <td>0.018750</td>\n",
       "      <td>269</td>\n",
       "      <td>1.000000</td>\n",
       "      <td>0.011152</td>\n",
       "    </tr>\n",
       "    <tr>\n",
       "      <th>56</th>\n",
       "      <td>Республика Татарстан (Татарстан)</td>\n",
       "      <td>227</td>\n",
       "      <td>191</td>\n",
       "      <td>0.874856</td>\n",
       "      <td>0.003992</td>\n",
       "      <td>48134</td>\n",
       "      <td>0.841410</td>\n",
       "      <td>0.003968</td>\n",
       "    </tr>\n",
       "    <tr>\n",
       "      <th>29</th>\n",
       "      <td>Московская область</td>\n",
       "      <td>1178</td>\n",
       "      <td>997</td>\n",
       "      <td>0.846021</td>\n",
       "      <td>0.016305</td>\n",
       "      <td>61838</td>\n",
       "      <td>0.846350</td>\n",
       "      <td>0.016123</td>\n",
       "    </tr>\n",
       "    <tr>\n",
       "      <th>26</th>\n",
       "      <td>Ленинградская область</td>\n",
       "      <td>977</td>\n",
       "      <td>813</td>\n",
       "      <td>0.827147</td>\n",
       "      <td>0.007359</td>\n",
       "      <td>110253</td>\n",
       "      <td>0.832139</td>\n",
       "      <td>0.007374</td>\n",
       "    </tr>\n",
       "    <tr>\n",
       "      <th>50</th>\n",
       "      <td>Республика Коми</td>\n",
       "      <td>93</td>\n",
       "      <td>70</td>\n",
       "      <td>0.755069</td>\n",
       "      <td>0.000377</td>\n",
       "      <td>201595</td>\n",
       "      <td>0.752688</td>\n",
       "      <td>0.000347</td>\n",
       "    </tr>\n",
       "  </tbody>\n",
       "</table>\n",
       "</div>"
      ],
      "text/plain": [
       "                              region  total  accident  accident_part  \\\n",
       "82                         г. Москва      3         3       1.000000   \n",
       "56  Республика Татарстан (Татарстан)    227       191       0.874856   \n",
       "29                Московская область   1178       997       0.846021   \n",
       "26             Ленинградская область    977       813       0.827147   \n",
       "50                   Республика Коми     93        70       0.755069   \n",
       "\n",
       "    number_part  mammal_number  accident_part_2  number_part_2  \n",
       "82     0.018750            269         1.000000       0.011152  \n",
       "56     0.003992          48134         0.841410       0.003968  \n",
       "29     0.016305          61838         0.846350       0.016123  \n",
       "26     0.007359         110253         0.832139       0.007374  \n",
       "50     0.000377         201595         0.752688       0.000347  "
      ]
     },
     "execution_count": 40,
     "metadata": {},
     "output_type": "execute_result"
    }
   ],
   "source": [
    "(elk_region_accidents\n",
    " .head()\n",
    " #.to_excel(file_path + 'temp.xlsx', index=False)\n",
    ")"
   ]
  },
  {
   "cell_type": "code",
   "execution_count": 41,
   "id": "be032ef4",
   "metadata": {},
   "outputs": [
    {
     "data": {
      "text/plain": [
       "176.0"
      ]
     },
     "execution_count": 41,
     "metadata": {},
     "output_type": "execute_result"
    }
   ],
   "source": [
    "elk_region_accidents[elk_region_accidents.accident >= 50].accident.median()"
   ]
  },
  {
   "cell_type": "code",
   "execution_count": null,
   "id": "4858ef3e",
   "metadata": {},
   "outputs": [],
   "source": []
  },
  {
   "cell_type": "markdown",
   "id": "fec569dd",
   "metadata": {},
   "source": [
    "### Самые опасные регионы для лосей"
   ]
  },
  {
   "cell_type": "code",
   "execution_count": 42,
   "id": "bcb8c9e8",
   "metadata": {},
   "outputs": [
    {
     "data": {
      "text/html": [
       "<div>\n",
       "<style scoped>\n",
       "    .dataframe tbody tr th:only-of-type {\n",
       "        vertical-align: middle;\n",
       "    }\n",
       "\n",
       "    .dataframe tbody tr th {\n",
       "        vertical-align: top;\n",
       "    }\n",
       "\n",
       "    .dataframe thead th {\n",
       "        text-align: right;\n",
       "    }\n",
       "</style>\n",
       "<table border=\"1\" class=\"dataframe\">\n",
       "  <thead>\n",
       "    <tr style=\"text-align: right;\">\n",
       "      <th></th>\n",
       "      <th>region_code</th>\n",
       "      <th>federal_disrict</th>\n",
       "      <th>region</th>\n",
       "      <th>animal</th>\n",
       "      <th>year</th>\n",
       "      <th>disease</th>\n",
       "      <th>accident</th>\n",
       "      <th>poaching</th>\n",
       "      <th>other</th>\n",
       "      <th>total</th>\n",
       "      <th>mammal_number</th>\n",
       "      <th>highway_density</th>\n",
       "      <th>population</th>\n",
       "      <th>squere</th>\n",
       "      <th>population_density</th>\n",
       "      <th>auto_number</th>\n",
       "      <th>super_road</th>\n",
       "      <th>super_road_density</th>\n",
       "      <th>accident_part</th>\n",
       "      <th>number_part</th>\n",
       "    </tr>\n",
       "  </thead>\n",
       "  <tbody>\n",
       "    <tr>\n",
       "      <th>2</th>\n",
       "      <td>22</td>\n",
       "      <td>Сибирский ФО</td>\n",
       "      <td>Алтайский край</td>\n",
       "      <td>Лось</td>\n",
       "      <td>2015</td>\n",
       "      <td>0</td>\n",
       "      <td>8</td>\n",
       "      <td>10</td>\n",
       "      <td>2</td>\n",
       "      <td>20</td>\n",
       "      <td>7632</td>\n",
       "      <td>220.7</td>\n",
       "      <td>2380793</td>\n",
       "      <td>167996</td>\n",
       "      <td>14.2</td>\n",
       "      <td>276.2</td>\n",
       "      <td>19403.800</td>\n",
       "      <td>115.5</td>\n",
       "      <td>0.400000</td>\n",
       "      <td>0.001048</td>\n",
       "    </tr>\n",
       "    <tr>\n",
       "      <th>5</th>\n",
       "      <td>22</td>\n",
       "      <td>Сибирский ФО</td>\n",
       "      <td>Алтайский край</td>\n",
       "      <td>Лось</td>\n",
       "      <td>2016</td>\n",
       "      <td>0</td>\n",
       "      <td>2</td>\n",
       "      <td>35</td>\n",
       "      <td>4</td>\n",
       "      <td>41</td>\n",
       "      <td>9069</td>\n",
       "      <td>220.5</td>\n",
       "      <td>2371227</td>\n",
       "      <td>167996</td>\n",
       "      <td>14.1</td>\n",
       "      <td>277.0</td>\n",
       "      <td>19216.942</td>\n",
       "      <td>114.4</td>\n",
       "      <td>0.048780</td>\n",
       "      <td>0.000221</td>\n",
       "    </tr>\n",
       "    <tr>\n",
       "      <th>8</th>\n",
       "      <td>22</td>\n",
       "      <td>Сибирский ФО</td>\n",
       "      <td>Алтайский край</td>\n",
       "      <td>Лось</td>\n",
       "      <td>2017</td>\n",
       "      <td>2</td>\n",
       "      <td>11</td>\n",
       "      <td>39</td>\n",
       "      <td>1</td>\n",
       "      <td>53</td>\n",
       "      <td>8659</td>\n",
       "      <td>220.8</td>\n",
       "      <td>2357880</td>\n",
       "      <td>167996</td>\n",
       "      <td>14.0</td>\n",
       "      <td>291.5</td>\n",
       "      <td>19184.300</td>\n",
       "      <td>114.2</td>\n",
       "      <td>0.207547</td>\n",
       "      <td>0.001270</td>\n",
       "    </tr>\n",
       "  </tbody>\n",
       "</table>\n",
       "</div>"
      ],
      "text/plain": [
       "   region_code federal_disrict          region animal  year  disease  \\\n",
       "2           22    Сибирский ФО  Алтайский край   Лось  2015        0   \n",
       "5           22    Сибирский ФО  Алтайский край   Лось  2016        0   \n",
       "8           22    Сибирский ФО  Алтайский край   Лось  2017        2   \n",
       "\n",
       "   accident  poaching  other  total  mammal_number  highway_density  \\\n",
       "2         8        10      2     20           7632            220.7   \n",
       "5         2        35      4     41           9069            220.5   \n",
       "8        11        39      1     53           8659            220.8   \n",
       "\n",
       "   population  squere  population_density  auto_number  super_road  \\\n",
       "2     2380793  167996                14.2        276.2   19403.800   \n",
       "5     2371227  167996                14.1        277.0   19216.942   \n",
       "8     2357880  167996                14.0        291.5   19184.300   \n",
       "\n",
       "   super_road_density  accident_part  number_part  \n",
       "2               115.5       0.400000     0.001048  \n",
       "5               114.4       0.048780     0.000221  \n",
       "8               114.2       0.207547     0.001270  "
      ]
     },
     "execution_count": 42,
     "metadata": {},
     "output_type": "execute_result"
    }
   ],
   "source": [
    "elks.sort_values(['region', 'year']).head(3)"
   ]
  },
  {
   "cell_type": "code",
   "execution_count": 43,
   "id": "b9ddd65a",
   "metadata": {},
   "outputs": [],
   "source": [
    "# ДТП по регионам по годам абсолютные\n",
    "\n",
    "# elks_death_years = \n",
    "(elks.groupby(['region', 'year'], as_index=False)\n",
    " .agg({'accident': 'sum'})\n",
    " #.sort_values('region', #ascending=False)\n",
    "        ).to_excel(file_path + 'temp.xlsx', index=False)"
   ]
  },
  {
   "cell_type": "code",
   "execution_count": 44,
   "id": "71719b87",
   "metadata": {},
   "outputs": [],
   "source": [
    "# ДТП по регионам по годам относительные\n",
    "\n",
    "# elks_death_years = \n",
    "(elks.groupby(['year'], as_index=False)\n",
    " .agg({'accident': 'sum', 'mammal_number': 'sum', 'number_part': 'mean'})\n",
    " #.sort_values('region', #ascending=False)\n",
    "        ).to_excel(file_path + 'temp.xlsx', index=False)\n",
    "\n"
   ]
  },
  {
   "cell_type": "markdown",
   "id": "a029fef6",
   "metadata": {},
   "source": [
    "#### Смерть кабанов"
   ]
  },
  {
   "cell_type": "code",
   "execution_count": 45,
   "id": "c74d7b9a",
   "metadata": {},
   "outputs": [],
   "source": [
    "hogs = work_most[work_most['animal'] == 'Кабан']"
   ]
  },
  {
   "cell_type": "code",
   "execution_count": 46,
   "id": "a1d61040",
   "metadata": {},
   "outputs": [
    {
     "data": {
      "text/html": [
       "<div>\n",
       "<style scoped>\n",
       "    .dataframe tbody tr th:only-of-type {\n",
       "        vertical-align: middle;\n",
       "    }\n",
       "\n",
       "    .dataframe tbody tr th {\n",
       "        vertical-align: top;\n",
       "    }\n",
       "\n",
       "    .dataframe thead th {\n",
       "        text-align: right;\n",
       "    }\n",
       "</style>\n",
       "<table border=\"1\" class=\"dataframe\">\n",
       "  <thead>\n",
       "    <tr style=\"text-align: right;\">\n",
       "      <th></th>\n",
       "      <th>region</th>\n",
       "      <th>year</th>\n",
       "      <th>total</th>\n",
       "      <th>accident</th>\n",
       "    </tr>\n",
       "  </thead>\n",
       "  <tbody>\n",
       "    <tr>\n",
       "      <th>0</th>\n",
       "      <td>Алтайский край</td>\n",
       "      <td>2015</td>\n",
       "      <td>2</td>\n",
       "      <td>1</td>\n",
       "    </tr>\n",
       "    <tr>\n",
       "      <th>1</th>\n",
       "      <td>Алтайский край</td>\n",
       "      <td>2016</td>\n",
       "      <td>4</td>\n",
       "      <td>0</td>\n",
       "    </tr>\n",
       "    <tr>\n",
       "      <th>2</th>\n",
       "      <td>Алтайский край</td>\n",
       "      <td>2017</td>\n",
       "      <td>1</td>\n",
       "      <td>0</td>\n",
       "    </tr>\n",
       "    <tr>\n",
       "      <th>3</th>\n",
       "      <td>Алтайский край</td>\n",
       "      <td>2018</td>\n",
       "      <td>0</td>\n",
       "      <td>0</td>\n",
       "    </tr>\n",
       "    <tr>\n",
       "      <th>4</th>\n",
       "      <td>Алтайский край</td>\n",
       "      <td>2019</td>\n",
       "      <td>1</td>\n",
       "      <td>0</td>\n",
       "    </tr>\n",
       "    <tr>\n",
       "      <th>...</th>\n",
       "      <td>...</td>\n",
       "      <td>...</td>\n",
       "      <td>...</td>\n",
       "      <td>...</td>\n",
       "    </tr>\n",
       "    <tr>\n",
       "      <th>505</th>\n",
       "      <td>г. Севастополь</td>\n",
       "      <td>2016</td>\n",
       "      <td>0</td>\n",
       "      <td>0</td>\n",
       "    </tr>\n",
       "    <tr>\n",
       "      <th>506</th>\n",
       "      <td>г. Севастополь</td>\n",
       "      <td>2017</td>\n",
       "      <td>1</td>\n",
       "      <td>1</td>\n",
       "    </tr>\n",
       "    <tr>\n",
       "      <th>507</th>\n",
       "      <td>г. Севастополь</td>\n",
       "      <td>2018</td>\n",
       "      <td>1</td>\n",
       "      <td>0</td>\n",
       "    </tr>\n",
       "    <tr>\n",
       "      <th>508</th>\n",
       "      <td>г. Севастополь</td>\n",
       "      <td>2019</td>\n",
       "      <td>1</td>\n",
       "      <td>0</td>\n",
       "    </tr>\n",
       "    <tr>\n",
       "      <th>509</th>\n",
       "      <td>г. Севастополь</td>\n",
       "      <td>2020</td>\n",
       "      <td>3</td>\n",
       "      <td>1</td>\n",
       "    </tr>\n",
       "  </tbody>\n",
       "</table>\n",
       "<p>510 rows × 4 columns</p>\n",
       "</div>"
      ],
      "text/plain": [
       "             region  year  total  accident\n",
       "0    Алтайский край  2015      2         1\n",
       "1    Алтайский край  2016      4         0\n",
       "2    Алтайский край  2017      1         0\n",
       "3    Алтайский край  2018      0         0\n",
       "4    Алтайский край  2019      1         0\n",
       "..              ...   ...    ...       ...\n",
       "505  г. Севастополь  2016      0         0\n",
       "506  г. Севастополь  2017      1         1\n",
       "507  г. Севастополь  2018      1         0\n",
       "508  г. Севастополь  2019      1         0\n",
       "509  г. Севастополь  2020      3         1\n",
       "\n",
       "[510 rows x 4 columns]"
      ]
     },
     "execution_count": 46,
     "metadata": {},
     "output_type": "execute_result"
    }
   ],
   "source": [
    "# кабаньи ДТП по регионам по годам абсолютные\n",
    "\n",
    "# hogs_death_years = \n",
    "(hogs.groupby(['region', 'year'], as_index=False)\n",
    " .agg({'total': 'sum', 'accident': 'sum'})\n",
    " #.sort_values('region', #ascending=False)\n",
    "        )#.to_excel(file_path + 'temp.xlsx', index=False)"
   ]
  },
  {
   "cell_type": "code",
   "execution_count": 47,
   "id": "b8f12975",
   "metadata": {},
   "outputs": [
    {
     "data": {
      "text/html": [
       "<div>\n",
       "<style scoped>\n",
       "    .dataframe tbody tr th:only-of-type {\n",
       "        vertical-align: middle;\n",
       "    }\n",
       "\n",
       "    .dataframe tbody tr th {\n",
       "        vertical-align: top;\n",
       "    }\n",
       "\n",
       "    .dataframe thead th {\n",
       "        text-align: right;\n",
       "    }\n",
       "</style>\n",
       "<table border=\"1\" class=\"dataframe\">\n",
       "  <thead>\n",
       "    <tr style=\"text-align: right;\">\n",
       "      <th></th>\n",
       "      <th>region</th>\n",
       "      <th>year</th>\n",
       "      <th>number_part</th>\n",
       "    </tr>\n",
       "  </thead>\n",
       "  <tbody>\n",
       "    <tr>\n",
       "      <th>0</th>\n",
       "      <td>Алтайский край</td>\n",
       "      <td>2015</td>\n",
       "      <td>0.000233</td>\n",
       "    </tr>\n",
       "    <tr>\n",
       "      <th>1</th>\n",
       "      <td>Алтайский край</td>\n",
       "      <td>2016</td>\n",
       "      <td>0.000000</td>\n",
       "    </tr>\n",
       "    <tr>\n",
       "      <th>2</th>\n",
       "      <td>Алтайский край</td>\n",
       "      <td>2017</td>\n",
       "      <td>0.000000</td>\n",
       "    </tr>\n",
       "    <tr>\n",
       "      <th>3</th>\n",
       "      <td>Алтайский край</td>\n",
       "      <td>2018</td>\n",
       "      <td>0.000000</td>\n",
       "    </tr>\n",
       "    <tr>\n",
       "      <th>4</th>\n",
       "      <td>Алтайский край</td>\n",
       "      <td>2019</td>\n",
       "      <td>0.000000</td>\n",
       "    </tr>\n",
       "    <tr>\n",
       "      <th>...</th>\n",
       "      <td>...</td>\n",
       "      <td>...</td>\n",
       "      <td>...</td>\n",
       "    </tr>\n",
       "    <tr>\n",
       "      <th>505</th>\n",
       "      <td>г. Севастополь</td>\n",
       "      <td>2016</td>\n",
       "      <td>0.000000</td>\n",
       "    </tr>\n",
       "    <tr>\n",
       "      <th>506</th>\n",
       "      <td>г. Севастополь</td>\n",
       "      <td>2017</td>\n",
       "      <td>0.003333</td>\n",
       "    </tr>\n",
       "    <tr>\n",
       "      <th>507</th>\n",
       "      <td>г. Севастополь</td>\n",
       "      <td>2018</td>\n",
       "      <td>0.000000</td>\n",
       "    </tr>\n",
       "    <tr>\n",
       "      <th>508</th>\n",
       "      <td>г. Севастополь</td>\n",
       "      <td>2019</td>\n",
       "      <td>0.000000</td>\n",
       "    </tr>\n",
       "    <tr>\n",
       "      <th>509</th>\n",
       "      <td>г. Севастополь</td>\n",
       "      <td>2020</td>\n",
       "      <td>0.003636</td>\n",
       "    </tr>\n",
       "  </tbody>\n",
       "</table>\n",
       "<p>510 rows × 3 columns</p>\n",
       "</div>"
      ],
      "text/plain": [
       "             region  year  number_part\n",
       "0    Алтайский край  2015     0.000233\n",
       "1    Алтайский край  2016     0.000000\n",
       "2    Алтайский край  2017     0.000000\n",
       "3    Алтайский край  2018     0.000000\n",
       "4    Алтайский край  2019     0.000000\n",
       "..              ...   ...          ...\n",
       "505  г. Севастополь  2016     0.000000\n",
       "506  г. Севастополь  2017     0.003333\n",
       "507  г. Севастополь  2018     0.000000\n",
       "508  г. Севастополь  2019     0.000000\n",
       "509  г. Севастополь  2020     0.003636\n",
       "\n",
       "[510 rows x 3 columns]"
      ]
     },
     "execution_count": 47,
     "metadata": {},
     "output_type": "execute_result"
    }
   ],
   "source": [
    "# кабаньи ДТП по регионам по годам относительные\n",
    "\n",
    "# hogs_death_years = \n",
    "(hogs.groupby(['region', 'year'], as_index=False)\n",
    " .agg({'number_part': 'sum'})\n",
    " #.sort_values('region', #ascending=False)\n",
    "        )#.to_excel(file_path + 'temp.xlsx', index=False)"
   ]
  },
  {
   "cell_type": "code",
   "execution_count": null,
   "id": "6f3cc8b7",
   "metadata": {},
   "outputs": [],
   "source": []
  },
  {
   "cell_type": "markdown",
   "id": "44ae2bab",
   "metadata": {},
   "source": [
    "#### Смерть и популяция"
   ]
  },
  {
   "cell_type": "code",
   "execution_count": 48,
   "id": "4612d65f",
   "metadata": {},
   "outputs": [
    {
     "data": {
      "text/html": [
       "<div>\n",
       "<style scoped>\n",
       "    .dataframe tbody tr th:only-of-type {\n",
       "        vertical-align: middle;\n",
       "    }\n",
       "\n",
       "    .dataframe tbody tr th {\n",
       "        vertical-align: top;\n",
       "    }\n",
       "\n",
       "    .dataframe thead th {\n",
       "        text-align: right;\n",
       "    }\n",
       "</style>\n",
       "<table border=\"1\" class=\"dataframe\">\n",
       "  <thead>\n",
       "    <tr style=\"text-align: right;\">\n",
       "      <th></th>\n",
       "      <th>region_code</th>\n",
       "      <th>federal_disrict</th>\n",
       "      <th>region</th>\n",
       "      <th>animal</th>\n",
       "      <th>year</th>\n",
       "      <th>disease</th>\n",
       "      <th>accident</th>\n",
       "      <th>poaching</th>\n",
       "      <th>other</th>\n",
       "      <th>total</th>\n",
       "      <th>mammal_number</th>\n",
       "      <th>highway_density</th>\n",
       "      <th>population</th>\n",
       "      <th>squere</th>\n",
       "      <th>population_density</th>\n",
       "      <th>auto_number</th>\n",
       "      <th>super_road</th>\n",
       "      <th>super_road_density</th>\n",
       "      <th>accident_part</th>\n",
       "      <th>number_part</th>\n",
       "    </tr>\n",
       "  </thead>\n",
       "  <tbody>\n",
       "    <tr>\n",
       "      <th>110</th>\n",
       "      <td>33</td>\n",
       "      <td>Центральный ФО</td>\n",
       "      <td>Владимирская область</td>\n",
       "      <td>Лось</td>\n",
       "      <td>2015</td>\n",
       "      <td>0</td>\n",
       "      <td>55</td>\n",
       "      <td>20</td>\n",
       "      <td>2</td>\n",
       "      <td>77</td>\n",
       "      <td>8402</td>\n",
       "      <td>335.6</td>\n",
       "      <td>1401390</td>\n",
       "      <td>29084</td>\n",
       "      <td>48.2</td>\n",
       "      <td>288.4</td>\n",
       "      <td>7553.0</td>\n",
       "      <td>259.7</td>\n",
       "      <td>0.714286</td>\n",
       "      <td>0.006546</td>\n",
       "    </tr>\n",
       "  </tbody>\n",
       "</table>\n",
       "</div>"
      ],
      "text/plain": [
       "     region_code federal_disrict                region animal  year  disease  \\\n",
       "110           33  Центральный ФО  Владимирская область   Лось  2015        0   \n",
       "\n",
       "     accident  poaching  other  total  mammal_number  highway_density  \\\n",
       "110        55        20      2     77           8402            335.6   \n",
       "\n",
       "     population  squere  population_density  auto_number  super_road  \\\n",
       "110     1401390   29084                48.2        288.4      7553.0   \n",
       "\n",
       "     super_road_density  accident_part  number_part  \n",
       "110               259.7       0.714286     0.006546  "
      ]
     },
     "execution_count": 48,
     "metadata": {},
     "output_type": "execute_result"
    }
   ],
   "source": [
    "elks.sample()"
   ]
  },
  {
   "cell_type": "code",
   "execution_count": 49,
   "id": "f28cfb67",
   "metadata": {},
   "outputs": [],
   "source": [
    "(elks\n",
    " .groupby('year', as_index=False)\n",
    " .agg({'accident': 'sum', 'mammal_number': 'sum'})\n",
    ").to_excel(file_path + 'temp.xlsx', index=False)"
   ]
  },
  {
   "cell_type": "code",
   "execution_count": null,
   "id": "ae5b6d69",
   "metadata": {},
   "outputs": [],
   "source": []
  },
  {
   "cell_type": "markdown",
   "id": "a9d783d8",
   "metadata": {},
   "source": [
    "#### Кореляция между плотностью дорог и гибелью"
   ]
  },
  {
   "cell_type": "code",
   "execution_count": 58,
   "id": "71e20399",
   "metadata": {},
   "outputs": [
    {
     "data": {
      "text/html": [
       "<div>\n",
       "<style scoped>\n",
       "    .dataframe tbody tr th:only-of-type {\n",
       "        vertical-align: middle;\n",
       "    }\n",
       "\n",
       "    .dataframe tbody tr th {\n",
       "        vertical-align: top;\n",
       "    }\n",
       "\n",
       "    .dataframe thead th {\n",
       "        text-align: right;\n",
       "    }\n",
       "</style>\n",
       "<table border=\"1\" class=\"dataframe\">\n",
       "  <thead>\n",
       "    <tr style=\"text-align: right;\">\n",
       "      <th></th>\n",
       "      <th>region_code</th>\n",
       "      <th>federal_disrict</th>\n",
       "      <th>region</th>\n",
       "      <th>animal</th>\n",
       "      <th>year</th>\n",
       "      <th>disease</th>\n",
       "      <th>accident</th>\n",
       "      <th>poaching</th>\n",
       "      <th>other</th>\n",
       "      <th>total</th>\n",
       "      <th>mammal_number</th>\n",
       "      <th>highway_density</th>\n",
       "      <th>population</th>\n",
       "      <th>squere</th>\n",
       "      <th>population_density</th>\n",
       "      <th>auto_number</th>\n",
       "      <th>super_road</th>\n",
       "      <th>super_road_density</th>\n",
       "    </tr>\n",
       "  </thead>\n",
       "  <tbody>\n",
       "    <tr>\n",
       "      <th>1317</th>\n",
       "      <td>71</td>\n",
       "      <td>Центральный ФО</td>\n",
       "      <td>Тульская область</td>\n",
       "      <td>Кабан</td>\n",
       "      <td>2016</td>\n",
       "      <td>0</td>\n",
       "      <td>9</td>\n",
       "      <td>3</td>\n",
       "      <td>0</td>\n",
       "      <td>12</td>\n",
       "      <td>1808</td>\n",
       "      <td>394.2</td>\n",
       "      <td>1502930</td>\n",
       "      <td>25679</td>\n",
       "      <td>58.5</td>\n",
       "      <td>322.4</td>\n",
       "      <td>7146.027</td>\n",
       "      <td>278.3</td>\n",
       "    </tr>\n",
       "    <tr>\n",
       "      <th>1142</th>\n",
       "      <td>62</td>\n",
       "      <td>Центральный ФО</td>\n",
       "      <td>Рязанская область</td>\n",
       "      <td>Лось</td>\n",
       "      <td>2017</td>\n",
       "      <td>0</td>\n",
       "      <td>12</td>\n",
       "      <td>24</td>\n",
       "      <td>0</td>\n",
       "      <td>36</td>\n",
       "      <td>3767</td>\n",
       "      <td>268.7</td>\n",
       "      <td>1124107</td>\n",
       "      <td>39605</td>\n",
       "      <td>28.4</td>\n",
       "      <td>362.7</td>\n",
       "      <td>8227.800</td>\n",
       "      <td>207.7</td>\n",
       "    </tr>\n",
       "  </tbody>\n",
       "</table>\n",
       "</div>"
      ],
      "text/plain": [
       "      region_code federal_disrict             region animal  year  disease  \\\n",
       "1317           71  Центральный ФО   Тульская область  Кабан  2016        0   \n",
       "1142           62  Центральный ФО  Рязанская область   Лось  2017        0   \n",
       "\n",
       "      accident  poaching  other  total  mammal_number  highway_density  \\\n",
       "1317         9         3      0     12           1808            394.2   \n",
       "1142        12        24      0     36           3767            268.7   \n",
       "\n",
       "      population  squere  population_density  auto_number  super_road  \\\n",
       "1317     1502930   25679                58.5        322.4    7146.027   \n",
       "1142     1124107   39605                28.4        362.7    8227.800   \n",
       "\n",
       "      super_road_density  \n",
       "1317               278.3  \n",
       "1142               207.7  "
      ]
     },
     "execution_count": 58,
     "metadata": {},
     "output_type": "execute_result"
    }
   ],
   "source": [
    "work_most.sample(2)"
   ]
  },
  {
   "cell_type": "markdown",
   "id": "72e72c27",
   "metadata": {},
   "source": [
    "#### Все данные"
   ]
  },
  {
   "cell_type": "code",
   "execution_count": 59,
   "id": "0df210d1",
   "metadata": {},
   "outputs": [
    {
     "name": "stdout",
     "output_type": "stream",
     "text": [
      "Коэффициент корреляции Пирсона: 0.44218522370096713\n"
     ]
    },
    {
     "data": {
      "image/png": "[encoded data removed]",
      "text/plain": [
       "<Figure size 432x288 with 1 Axes>"
      ]
     },
     "metadata": {
      "needs_background": "light"
     },
     "output_type": "display_data"
    }
   ],
   "source": [
    "# плотность дорог\n",
    "\n",
    "x = work_most[work_most.accident > 50].accident\n",
    "y = work_most[work_most.accident > 50].super_road_density\n",
    "\n",
    "corr, p_value = pearsonr(x, y)\n",
    "plt.scatter(x, y, marker='.')\n",
    "print('Коэффициент корреляции Пирсона:', corr)"
   ]
  },
  {
   "cell_type": "code",
   "execution_count": null,
   "id": "550e8d56",
   "metadata": {},
   "outputs": [],
   "source": [
    "# плотность населения\n",
    "\n",
    "x = work_most[work_most.accident > 50].accident\n",
    "y = work_most[work_most.accident > 50].population_density\n",
    "\n",
    "corr, p_value = pearsonr(x, y)\n",
    "plt.scatter(x, y, marker='.')\n",
    "print('Коэффициент корреляции Пирсона:', corr)"
   ]
  },
  {
   "cell_type": "code",
   "execution_count": null,
   "id": "24939f98",
   "metadata": {},
   "outputs": [],
   "source": [
    "# количество авто\n",
    "\n",
    "x = work_most[work_most.accident > 50].accident\n",
    "y = work_most[work_most.accident > 50].auto_number\n",
    "\n",
    "corr, p_value = pearsonr(x, y)\n",
    "plt.scatter(x, y, marker='.')\n",
    "print('Коэффициент корреляции Пирсона:', corr)"
   ]
  },
  {
   "cell_type": "code",
   "execution_count": null,
   "id": "295b05ed",
   "metadata": {},
   "outputs": [],
   "source": []
  },
  {
   "cell_type": "markdown",
   "id": "a7a2838c",
   "metadata": {},
   "source": [
    "#### Лоси"
   ]
  },
  {
   "cell_type": "code",
   "execution_count": null,
   "id": "d4511d20",
   "metadata": {},
   "outputs": [],
   "source": [
    "# плотность населения\n",
    "\n",
    "x = elks[elks.accident > 50].accident\n",
    "y = elks[elks.accident > 50].population_density\n",
    "\n",
    "corr, p_value = pearsonr(x, y)\n",
    "plt.scatter(x, y, marker='.')\n",
    "print('Коэффициент корреляции Пирсона:', corr)"
   ]
  },
  {
   "cell_type": "code",
   "execution_count": 68,
   "id": "e9e54c72",
   "metadata": {},
   "outputs": [
    {
     "name": "stdout",
     "output_type": "stream",
     "text": [
      "Коэффициент корреляции Пирсона: 0.6182170014202473\n"
     ]
    },
    {
     "data": {
      "image/png": "[encoded data removed]",
      "text/plain": [
       "<Figure size 432x288 with 1 Axes>"
      ]
     },
     "metadata": {
      "needs_background": "light"
     },
     "output_type": "display_data"
    }
   ],
   "source": [
    "# плотность дорог\n",
    "\n",
    "x = elks[elks.accident > 70].accident\n",
    "y = elks[elks.accident > 70].highway_density\n",
    "\n",
    "corr, p_value = pearsonr(x, y)\n",
    "plt.scatter(x, y, marker='.')\n",
    "print('Коэффициент корреляции Пирсона:', corr)"
   ]
  },
  {
   "cell_type": "code",
   "execution_count": 67,
   "id": "cb059c9d",
   "metadata": {},
   "outputs": [
    {
     "name": "stdout",
     "output_type": "stream",
     "text": [
      "Коэффициент корреляции Пирсона: 0.4897747297660273\n"
     ]
    },
    {
     "data": {
      "image/png": "[encoded data removed]",
      "text/plain": [
       "<Figure size 432x288 with 1 Axes>"
      ]
     },
     "metadata": {
      "needs_background": "light"
     },
     "output_type": "display_data"
    }
   ],
   "source": [
    "# плотность дорог\n",
    "\n",
    "x = elks[elks.accident > 50].accident\n",
    "y = elks[elks.accident > 50].super_road_density\n",
    "\n",
    "corr, p_value = pearsonr(x, y)\n",
    "plt.scatter(x, y, marker='.')\n",
    "print('Коэффициент корреляции Пирсона:', corr)"
   ]
  },
  {
   "cell_type": "code",
   "execution_count": null,
   "id": "f3d5eded",
   "metadata": {},
   "outputs": [],
   "source": [
    "# количество автомобилей\n",
    "\n",
    "x = elks[elks.accident > 50].accident\n",
    "y = elks[elks.accident > 50].auto_number\n",
    "\n",
    "corr, p_value = pearsonr(x, y)\n",
    "plt.scatter(x, y, marker='.')\n",
    "print('Коэффициент корреляции Пирсона:', corr)"
   ]
  },
  {
   "cell_type": "code",
   "execution_count": null,
   "id": "314cf124",
   "metadata": {},
   "outputs": [],
   "source": [
    "coef, p = stats.spearmanr(x, y)\n",
    "print('Spearmans correlation coefficient: %.3f' % coef)\n",
    "\n",
    "coef, p = stats.kendalltau(x, y)\n",
    "print('Kendall correlation coefficient: %.3f' % coef)"
   ]
  },
  {
   "cell_type": "code",
   "execution_count": null,
   "id": "e3f3f79a",
   "metadata": {},
   "outputs": [],
   "source": []
  },
  {
   "cell_type": "code",
   "execution_count": null,
   "id": "65081f60",
   "metadata": {},
   "outputs": [],
   "source": []
  },
  {
   "cell_type": "markdown",
   "id": "bdb887f8",
   "metadata": {},
   "source": [
    "## dtp-stat"
   ]
  },
  {
   "cell_type": "code",
   "execution_count": 69,
   "id": "7de5c973",
   "metadata": {},
   "outputs": [],
   "source": [
    "work_dtp = pd.read_excel('C:/00_Projects/RIA/2022/02_elk_accidents/dtp_stat.xlsx', sheet_name='data')"
   ]
  },
  {
   "cell_type": "code",
   "execution_count": 74,
   "id": "9d93669e",
   "metadata": {},
   "outputs": [
    {
     "data": {
      "text/plain": [
       "0    1749\n",
       "1     174\n",
       "2      23\n",
       "3       3\n",
       "4       3\n",
       "Name: dead_count, dtype: int64"
      ]
     },
     "execution_count": 74,
     "metadata": {},
     "output_type": "execute_result"
    }
   ],
   "source": [
    "work_dtp[work_dtp.role == 'Водитель'].dead_count.value_counts()"
   ]
  },
  {
   "cell_type": "code",
   "execution_count": null,
   "id": "e2d69d56",
   "metadata": {},
   "outputs": [],
   "source": []
  },
  {
   "cell_type": "code",
   "execution_count": null,
   "id": "4126cda3",
   "metadata": {},
   "outputs": [],
   "source": []
  },
  {
   "cell_type": "code",
   "execution_count": 71,
   "id": "98b5dcae",
   "metadata": {},
   "outputs": [
    {
     "data": {
      "text/plain": [
       "(426, 23)"
      ]
     },
     "execution_count": 71,
     "metadata": {},
     "output_type": "execute_result"
    }
   ],
   "source": [
    "work_dtp[(work_dtp.role == 'Водитель') &\n",
    "         (work_dtp.violations == 'none')].shape"
   ]
  },
  {
   "cell_type": "code",
   "execution_count": 73,
   "id": "28279ebe",
   "metadata": {},
   "outputs": [
    {
     "data": {
      "text/plain": [
       "Index(['category', 'federal_district', 'region', 'district', 'address',\n",
       "       'location', 'datetime', 'day_period', 'weather', 'auto_type',\n",
       "       'severity', 'participants_count', 'dead_count', 'injured_count',\n",
       "       'other_participants', 'role', 'years_of_driving_experience',\n",
       "       'violations', 'health_status', 'coordinates', 'type_coordinates',\n",
       "       'accident_id', 'accident_type'],\n",
       "      dtype='object')"
      ]
     },
     "execution_count": 73,
     "metadata": {},
     "output_type": "execute_result"
    }
   ],
   "source": [
    "work_dtp.columns"
   ]
  },
  {
   "cell_type": "code",
   "execution_count": null,
   "id": "b44b7311",
   "metadata": {},
   "outputs": [],
   "source": [
    "(work_dtp.groupby(['region', ])"
   ]
  },
  {
   "cell_type": "code",
   "execution_count": null,
   "id": "8ad24158",
   "metadata": {},
   "outputs": [],
   "source": [
    "dead_count"
   ]
  },
  {
   "cell_type": "code",
   "execution_count": null,
   "id": "14b5cf70",
   "metadata": {},
   "outputs": [],
   "source": []
  },
  {
   "cell_type": "code",
   "execution_count": null,
   "id": "d9de9710",
   "metadata": {},
   "outputs": [],
   "source": [
    "round(426 / 1952, 2)"
   ]
  },
  {
   "cell_type": "code",
   "execution_count": null,
   "id": "fd6379c8",
   "metadata": {},
   "outputs": [],
   "source": [
    "round(203 / 1952, 2)"
   ]
  },
  {
   "cell_type": "code",
   "execution_count": null,
   "id": "77531480",
   "metadata": {},
   "outputs": [],
   "source": [
    "680 / 1952"
   ]
  },
  {
   "cell_type": "code",
   "execution_count": null,
   "id": "27972826",
   "metadata": {},
   "outputs": [],
   "source": [
    "list_violations = work_dtp[work_dtp.role == 'Водитель'].violations.to_list()"
   ]
  },
  {
   "cell_type": "code",
   "execution_count": null,
   "id": "ae7069e7",
   "metadata": {},
   "outputs": [],
   "source": [
    "list_violations = list(set(list_violations))"
   ]
  },
  {
   "cell_type": "code",
   "execution_count": null,
   "id": "b10d1f90",
   "metadata": {},
   "outputs": [],
   "source": [
    "new_list_violations = []\n",
    "\n",
    "for item in list_violations[1:]:\n",
    "    new_list_violations += item.split(';')"
   ]
  },
  {
   "cell_type": "code",
   "execution_count": null,
   "id": "2ee579bb",
   "metadata": {},
   "outputs": [],
   "source": [
    "new_list_violations = list(set(new_list_violations))"
   ]
  },
  {
   "cell_type": "code",
   "execution_count": null,
   "id": "50736d46",
   "metadata": {},
   "outputs": [],
   "source": [
    "len(new_list_violations)"
   ]
  },
  {
   "cell_type": "code",
   "execution_count": null,
   "id": "cdadef77",
   "metadata": {},
   "outputs": [],
   "source": [
    "new_list_violations"
   ]
  },
  {
   "cell_type": "code",
   "execution_count": null,
   "id": "f0e70213",
   "metadata": {},
   "outputs": [],
   "source": []
  }
 ],
 "metadata": {
  "kernelspec": {
   "display_name": "Python 3",
   "language": "python",
   "name": "python3"
  },
  "language_info": {
   "codemirror_mode": {
    "name": "ipython",
    "version": 3
   },
   "file_extension": ".py",
   "mimetype": "text/x-python",
   "name": "python",
   "nbconvert_exporter": "python",
   "pygments_lexer": "ipython3",
   "version": "3.8.8"
  }
 },
 "nbformat": 4,
 "nbformat_minor": 5
}
