{
 "cells": [
  {
   "cell_type": "code",
   "execution_count": null,
   "metadata": {},
   "outputs": [],
   "source": []
  },
  {
   "cell_type": "markdown",
   "metadata": {},
   "source": [
    "## Библиотеки и настройки"
   ]
  },
  {
   "cell_type": "code",
   "execution_count": 1,
   "metadata": {},
   "outputs": [],
   "source": [
    "# импорт библиотек\n",
    "\n",
    "import pandas as pd\n",
    "pd.options.mode.chained_assignment = None  # отключаю предупреждения default='warn'\n",
    "\n",
    "# регулярки\n",
    "import re\n",
    "\n",
    "import datetime\n",
    "\n",
    "# прогресс-бар\n",
    "from tqdm.notebook import trange, tqdm\n",
    "\n",
    "\n",
    "import nltk\n",
    "from nltk.corpus import stopwords\n",
    "from nltk.stem import WordNetLemmatizer\n",
    "\n",
    "from pymystem3 import Mystem\n",
    "from tqdm import tqdm_notebook\n",
    "\n",
    "import warnings\n",
    "warnings.filterwarnings(\"ignore\",category=DeprecationWarning)"
   ]
  },
  {
   "cell_type": "code",
   "execution_count": 2,
   "metadata": {},
   "outputs": [],
   "source": [
    "# путь к файлам\n",
    "\n",
    "file_path = 'C:/00_Projects/RIA/2022/02_elk_accidents/00_data/sudact/'"
   ]
  },
  {
   "cell_type": "code",
   "execution_count": 3,
   "metadata": {},
   "outputs": [],
   "source": [
    "file_name= 'new_elks.csv'"
   ]
  },
  {
   "cell_type": "code",
   "execution_count": 4,
   "metadata": {},
   "outputs": [],
   "source": [
    "# загружаю датасет\n",
    "\n",
    "work = pd.read_csv(file_path + file_name)"
   ]
  },
  {
   "cell_type": "code",
   "execution_count": 5,
   "metadata": {},
   "outputs": [
    {
     "data": {
      "text/plain": [
       "(464, 18)"
      ]
     },
     "execution_count": 5,
     "metadata": {},
     "output_type": "execute_result"
    }
   ],
   "source": [
    "work.shape"
   ]
  },
  {
   "cell_type": "code",
   "execution_count": null,
   "metadata": {},
   "outputs": [],
   "source": []
  },
  {
   "cell_type": "code",
   "execution_count": 145,
   "metadata": {},
   "outputs": [],
   "source": [
    "temp = pd.read_excel(file_path + 'elks_temp.xlsx', sheet_name='temp')"
   ]
  },
  {
   "cell_type": "code",
   "execution_count": 146,
   "metadata": {},
   "outputs": [],
   "source": [
    "work = work.merge(temp, how='left', on='act_url')"
   ]
  },
  {
   "cell_type": "code",
   "execution_count": 147,
   "metadata": {},
   "outputs": [
    {
     "data": {
      "text/html": [
       "<div>\n",
       "<style scoped>\n",
       "    .dataframe tbody tr th:only-of-type {\n",
       "        vertical-align: middle;\n",
       "    }\n",
       "\n",
       "    .dataframe tbody tr th {\n",
       "        vertical-align: top;\n",
       "    }\n",
       "\n",
       "    .dataframe thead th {\n",
       "        text-align: right;\n",
       "    }\n",
       "</style>\n",
       "<table border=\"1\" class=\"dataframe\">\n",
       "  <thead>\n",
       "    <tr style=\"text-align: right;\">\n",
       "      <th></th>\n",
       "      <th>act_name</th>\n",
       "      <th>act_type</th>\n",
       "      <th>court</th>\n",
       "      <th>act_date</th>\n",
       "      <th>instance</th>\n",
       "      <th>act_info</th>\n",
       "      <th>act_subject</th>\n",
       "      <th>act_parties</th>\n",
       "      <th>act_url</th>\n",
       "      <th>html_text</th>\n",
       "      <th>queries</th>\n",
       "      <th>need_morpheme</th>\n",
       "      <th>articles_list</th>\n",
       "      <th>associated_acts</th>\n",
       "      <th>stop</th>\n",
       "      <th>act_id</th>\n",
       "      <th>text_head</th>\n",
       "      <th>act_text</th>\n",
       "      <th>new_stop</th>\n",
       "    </tr>\n",
       "  </thead>\n",
       "  <tbody>\n",
       "    <tr>\n",
       "      <th>0</th>\n",
       "      <td>Решение №2-141/2018 2-141/2018 (2-5541/2017;) ...</td>\n",
       "      <td>Решение</td>\n",
       "      <td>Ленинский районный суд г. Кирова (Кировская об...</td>\n",
       "      <td>2018-02-12</td>\n",
       "      <td>первая</td>\n",
       "      <td>Гражданские и административные</td>\n",
       "      <td>NaN</td>\n",
       "      <td>{'block_len': 190, 'Суд:': ['Ленинский районны...</td>\n",
       "      <td>https://sudact.ru/regular/doc/OEVBjmP8HEx9/</td>\n",
       "      <td>Решение № 2-141/2018 2-141/2018 (2-5541/2017;)...</td>\n",
       "      <td>['наезд на лося', 'столкновение с лосем', 'авт...</td>\n",
       "      <td>10</td>\n",
       "      <td>['Упущенная выгода ст. 15 ГК РФ', '']</td>\n",
       "      <td>Решение от 3 октября 2018 г. по делу №2-141/20...</td>\n",
       "      <td>NaN</td>\n",
       "      <td>none</td>\n",
       "      <td>Дело №2-141/2018 РЕШЕНИЕ ИМЕНЕМ РОССИЙСКОЙ ФЕД...</td>\n",
       "      <td>УСТАНОВИЛ: Представитель Кряжевских А.Д. по до...</td>\n",
       "      <td>3.0</td>\n",
       "    </tr>\n",
       "  </tbody>\n",
       "</table>\n",
       "</div>"
      ],
      "text/plain": [
       "                                            act_name act_type  \\\n",
       "0  Решение №2-141/2018 2-141/2018 (2-5541/2017;) ...  Решение   \n",
       "\n",
       "                                               court    act_date instance  \\\n",
       "0  Ленинский районный суд г. Кирова (Кировская об...  2018-02-12   первая   \n",
       "\n",
       "                         act_info act_subject  \\\n",
       "0  Гражданские и административные         NaN   \n",
       "\n",
       "                                         act_parties  \\\n",
       "0  {'block_len': 190, 'Суд:': ['Ленинский районны...   \n",
       "\n",
       "                                       act_url  \\\n",
       "0  https://sudact.ru/regular/doc/OEVBjmP8HEx9/   \n",
       "\n",
       "                                           html_text  \\\n",
       "0  Решение № 2-141/2018 2-141/2018 (2-5541/2017;)...   \n",
       "\n",
       "                                             queries  need_morpheme  \\\n",
       "0  ['наезд на лося', 'столкновение с лосем', 'авт...             10   \n",
       "\n",
       "                           articles_list  \\\n",
       "0  ['Упущенная выгода ст. 15 ГК РФ', '']   \n",
       "\n",
       "                                     associated_acts  stop act_id  \\\n",
       "0  Решение от 3 октября 2018 г. по делу №2-141/20...   NaN   none   \n",
       "\n",
       "                                           text_head  \\\n",
       "0  Дело №2-141/2018 РЕШЕНИЕ ИМЕНЕМ РОССИЙСКОЙ ФЕД...   \n",
       "\n",
       "                                            act_text  new_stop  \n",
       "0  УСТАНОВИЛ: Представитель Кряжевских А.Д. по до...       3.0  "
      ]
     },
     "execution_count": 147,
     "metadata": {},
     "output_type": "execute_result"
    }
   ],
   "source": [
    "work.head(1)"
   ]
  },
  {
   "cell_type": "code",
   "execution_count": 150,
   "metadata": {},
   "outputs": [
    {
     "data": {
      "text/plain": [
       "https://sudact.ru/regular/doc/e0hItHG487No/    2\n",
       "https://sudact.ru/regular/doc/Yhy5v3XfkuNu/    1\n",
       "https://sudact.ru/regular/doc/anoXo75dxyUe/    1\n",
       "https://sudact.ru/regular/doc/n4sNt3rir260/    1\n",
       "https://sudact.ru/regular/doc/YIgZ8RfUt4ox/    1\n",
       "                                              ..\n",
       "https://sudact.ru/regular/doc/2WJEzXwwWJ5w/    1\n",
       "https://sudact.ru/regular/doc/nxrT4wIZMAQv/    1\n",
       "https://sudact.ru/regular/doc/1aXpbPNtVGx4/    1\n",
       "https://sudact.ru/regular/doc/zsSulyO9U7Nu/    1\n",
       "https://sudact.ru/regular/doc/xNP8xkeOz6C/     1\n",
       "Name: act_url, Length: 458, dtype: int64"
      ]
     },
     "execution_count": 150,
     "metadata": {},
     "output_type": "execute_result"
    }
   ],
   "source": [
    "work.act_url.value_counts()"
   ]
  },
  {
   "cell_type": "code",
   "execution_count": 151,
   "metadata": {},
   "outputs": [
    {
     "data": {
      "text/plain": [
       "Int64Index([170, 171], dtype='int64')"
      ]
     },
     "execution_count": 151,
     "metadata": {},
     "output_type": "execute_result"
    }
   ],
   "source": [
    "work[work.act_url == 'https://sudact.ru/regular/doc/e0hItHG487No/'].index"
   ]
  },
  {
   "cell_type": "code",
   "execution_count": 152,
   "metadata": {},
   "outputs": [],
   "source": [
    "work.drop(index=[171], inplace=True)"
   ]
  },
  {
   "cell_type": "code",
   "execution_count": 149,
   "metadata": {},
   "outputs": [],
   "source": [
    "work = work[work.new_stop != 0]"
   ]
  },
  {
   "cell_type": "code",
   "execution_count": null,
   "metadata": {},
   "outputs": [],
   "source": [
    "work.new_stop_y.value_counts()"
   ]
  },
  {
   "cell_type": "code",
   "execution_count": 153,
   "metadata": {},
   "outputs": [],
   "source": [
    "work.drop(columns=['new_stop'], inplace=True)"
   ]
  },
  {
   "cell_type": "code",
   "execution_count": null,
   "metadata": {},
   "outputs": [],
   "source": [
    "print(work.columns)"
   ]
  },
  {
   "cell_type": "code",
   "execution_count": null,
   "metadata": {},
   "outputs": [],
   "source": [
    "work = work[['act_name', 'act_type', 'court', 'act_date', 'instance', 'act_info', 'act_subject',\n",
    "       'act_parties', 'act_text', 'act_url', 'html_text', 'queries',\n",
    "       'act_text_clear', 'need_morpheme', 'articles_list', 'associated_acts',\n",
    "       'stop', 'act_id']]"
   ]
  },
  {
   "cell_type": "code",
   "execution_count": null,
   "metadata": {},
   "outputs": [],
   "source": [
    "work = work[~(\n",
    "    (work.need_morpheme == 1) &\n",
    "    (work.act_text.str.contains('лоси', case=False))    \n",
    ")]\n",
    "# .act_url\n"
   ]
  },
  {
   "cell_type": "code",
   "execution_count": null,
   "metadata": {},
   "outputs": [],
   "source": []
  },
  {
   "cell_type": "code",
   "execution_count": null,
   "metadata": {},
   "outputs": [],
   "source": []
  },
  {
   "cell_type": "code",
   "execution_count": 154,
   "metadata": {},
   "outputs": [],
   "source": [
    "work.to_csv(file_path + file_name, index=False)\n",
    "\n",
    "#work.to_excel(file_path + 'elks_temp1.xlsx', index=False)"
   ]
  },
  {
   "cell_type": "code",
   "execution_count": null,
   "metadata": {},
   "outputs": [],
   "source": [
    "work.rename(columns={'stop_x': 'stop'}, inplace=True)"
   ]
  },
  {
   "cell_type": "code",
   "execution_count": null,
   "metadata": {},
   "outputs": [],
   "source": []
  },
  {
   "cell_type": "markdown",
   "metadata": {},
   "source": [
    "### Выгружаю датасет"
   ]
  },
  {
   "cell_type": "code",
   "execution_count": null,
   "metadata": {},
   "outputs": [],
   "source": [
    "# выгружаю файл в датафрейм\n",
    "\n",
    "work = pd.read_csv(file_path + file_name)"
   ]
  },
  {
   "cell_type": "code",
   "execution_count": null,
   "metadata": {},
   "outputs": [],
   "source": [
    "# количество строк и столбцов\n",
    "\n",
    "work.shape"
   ]
  },
  {
   "cell_type": "code",
   "execution_count": null,
   "metadata": {},
   "outputs": [],
   "source": [
    "# типы данных\n",
    "\n",
    "work.dtypes"
   ]
  },
  {
   "cell_type": "code",
   "execution_count": null,
   "metadata": {},
   "outputs": [],
   "source": [
    "# проверка на пустые значения\n",
    "\n",
    "work.isnull().sum()"
   ]
  },
  {
   "cell_type": "code",
   "execution_count": null,
   "metadata": {},
   "outputs": [],
   "source": [
    "work.sample(3)"
   ]
  },
  {
   "cell_type": "code",
   "execution_count": null,
   "metadata": {},
   "outputs": [],
   "source": []
  },
  {
   "cell_type": "markdown",
   "metadata": {},
   "source": [
    "### Разделяю столбцы"
   ]
  },
  {
   "cell_type": "code",
   "execution_count": null,
   "metadata": {},
   "outputs": [],
   "source": [
    "# выделяю тип судебного акта\n",
    "\n",
    "work['act_type'] = work['act_name'].copy()\n",
    "\n",
    "work['act_type'] = work['act_type'].str.replace(r'\\s№.+', '', regex=True)\n",
    "work['act_type'] = work['act_type'].str.replace(r'\\sот\\s.+', '', regex=True)"
   ]
  },
  {
   "cell_type": "code",
   "execution_count": null,
   "metadata": {},
   "outputs": [],
   "source": [
    "# дата решения\n",
    "\n",
    "work['act_date'] = work['act_name'].str.replace(r'.+ от ', ' ', regex=True)\n",
    "work['act_date'] = work['act_date'].str.replace(r' г\\. .+', ' ', regex=True)\n",
    "work['act_date'] = work['act_date'].str.replace(r' г\\.', ' ', regex=True)\n",
    "\n",
    "# меняю месяц на число\n",
    "work['act_date'] = work['act_date'].str.replace('января', '-01-', regex=True)\n",
    "work['act_date'] = work['act_date'].str.replace('февраля', '-02-', regex=True)\n",
    "work['act_date'] = work['act_date'].str.replace('марта', '-03-', regex=True)\n",
    "work['act_date'] = work['act_date'].str.replace('апреля', '-04-', regex=True)\n",
    "work['act_date'] = work['act_date'].str.replace('мая', '-05-', regex=True)\n",
    "work['act_date'] = work['act_date'].str.replace('июня', '-06-', regex=True)\n",
    "work['act_date'] = work['act_date'].str.replace('июля', '-07-', regex=True)\n",
    "work['act_date'] = work['act_date'].str.replace('августа', '-08-', regex=True)\n",
    "work['act_date'] = work['act_date'].str.replace('сентября', '-09-', regex=True)\n",
    "work['act_date'] = work['act_date'].str.replace('октября', '-10-', regex=True)\n",
    "work['act_date'] = work['act_date'].str.replace('ноября', '-11-', regex=True)\n",
    "work['act_date'] = work['act_date'].str.replace('декабря', '-12-', regex=True)\n",
    "work['act_date'] = work['act_date'].str.replace(' ', '', regex=True)"
   ]
  },
  {
   "cell_type": "code",
   "execution_count": null,
   "metadata": {},
   "outputs": [],
   "source": [
    "# исправляю дату \n",
    "\n",
    "def correct_date(df):\n",
    "    date_obj = datetime.datetime.strptime(df['act_date'], '%d-%m-%Y')\n",
    "    return datetime.datetime.strftime(date_obj, '%Y-%m-%d')\n",
    "\n",
    "work['act_date'] = work.apply(correct_date, axis=1)"
   ]
  },
  {
   "cell_type": "code",
   "execution_count": null,
   "metadata": {},
   "outputs": [],
   "source": [
    "%%time\n",
    "\n",
    "# вытаскиваю номер дела\n",
    "\n",
    "def find_act_id(df):\n",
    "    try:\n",
    "        act_id = re.findall(r'(?<=дел[о|у] №)\\S+', work['act_text'].str.lower())[0]\n",
    "        \n",
    "    except:\n",
    "        act_id = 'none'\n",
    "        \n",
    "    return act_id\n",
    "\n",
    "work['act_id'] = work.apply(find_act_id, axis=1)"
   ]
  },
  {
   "cell_type": "code",
   "execution_count": null,
   "metadata": {},
   "outputs": [],
   "source": [
    "work.sample()"
   ]
  },
  {
   "cell_type": "code",
   "execution_count": null,
   "metadata": {},
   "outputs": [],
   "source": []
  },
  {
   "cell_type": "code",
   "execution_count": null,
   "metadata": {},
   "outputs": [],
   "source": []
  },
  {
   "cell_type": "code",
   "execution_count": null,
   "metadata": {},
   "outputs": [],
   "source": [
    "# считаю длину текста судебных решений\n",
    "\n",
    "#work['text_len'] = work['act_text'].apply(lambda text: len(text))\n",
    "#work = work.astype({'text_len': 'int32'})"
   ]
  },
  {
   "cell_type": "code",
   "execution_count": null,
   "metadata": {},
   "outputs": [],
   "source": [
    "# проверяю гипотезу о равенстве названия текста и заголовка в самом тексте\n",
    "\n",
    "#def split_title_from_act(df):\n",
    "    \n",
    "#    return df['act_text'][:len(df['act_name'])]\n",
    "\n",
    "#work['new_title'] = work.apply(split_title_from_act, axis=1)\n",
    "\n",
    "#work['test'] = work.act_name == work.new_title\n",
    "\n",
    "#work.test.value_counts()\n",
    "\n",
    "#work.drop(['new_title', 'test'], axis=1, inplace=True)"
   ]
  },
  {
   "cell_type": "code",
   "execution_count": null,
   "metadata": {},
   "outputs": [],
   "source": [
    "# удаляю заголовок из текста дела\n",
    "\n",
    "def delete_title_from_act(df):\n",
    "    \n",
    "    return df['act_text'][len(df['act_name']):]\n",
    "\n",
    "work['act_text'] = work.apply(delete_title_from_act, axis=1)\n",
    "\n",
    "work['act_text'] = work['act_text'].str.strip()"
   ]
  },
  {
   "cell_type": "code",
   "execution_count": null,
   "metadata": {},
   "outputs": [],
   "source": [
    "# проверяю гипотезу о равенстве названия текста и заголовка в самом тексте\n",
    "\n",
    "#def split_court_info_from_act(df):\n",
    "    \n",
    "#    return df['act_text'][:len(df['court_info'])]\n",
    "\n",
    "#work['new_court'] = work.apply(split_court_info_from_act, axis=1)\n",
    "\n",
    "#work['test'] = work.court_info == work.new_court\n",
    "\n",
    "#work.test.value_counts()\n",
    "\n",
    "#work.drop(['new_court', 'test'], axis=1, inplace=True)"
   ]
  },
  {
   "cell_type": "code",
   "execution_count": null,
   "metadata": {},
   "outputs": [],
   "source": [
    "# удаляю court_info из текста\n",
    "\n",
    "def delete_court_info_from_act(df):\n",
    "    \n",
    "    return df['act_text'][len(df['court_info']):]\n",
    "\n",
    "work['act_text'] = work.apply(delete_court_info_from_act, axis=1)\n",
    "\n",
    "work['act_text'] = work['act_text'].str.strip()"
   ]
  },
  {
   "cell_type": "code",
   "execution_count": null,
   "metadata": {
    "scrolled": true
   },
   "outputs": [],
   "source": [
    "work.sample()"
   ]
  },
  {
   "cell_type": "code",
   "execution_count": null,
   "metadata": {},
   "outputs": [],
   "source": [
    "# делю court_info на два столбца\n",
    "\n",
    "temp_work = work['court_info'].str.split(' - ', expand=True, n=1)\n",
    "temp_work.columns = ['court', 'act_info']\n",
    "work = pd.concat([work, temp_work], axis=1)"
   ]
  },
  {
   "cell_type": "code",
   "execution_count": null,
   "metadata": {},
   "outputs": [],
   "source": [
    "# отделяю от act_info \"суть спора\"\n",
    "\n",
    "temp_work = work['act_info'].str.split(' Суть спора: ', expand=True, n=1)\n",
    "temp_work.columns = ['act_info', 'act_subject']\n",
    "\n",
    "work.drop(columns=['act_info'], inplace=True)\n",
    "work = pd.concat([work, temp_work], axis=1)"
   ]
  },
  {
   "cell_type": "code",
   "execution_count": null,
   "metadata": {},
   "outputs": [],
   "source": []
  },
  {
   "cell_type": "code",
   "execution_count": null,
   "metadata": {},
   "outputs": [],
   "source": [
    "# отщипываю act_text судебную практику (статьи)\n",
    "\n",
    "temp_work = work['act_text'].str.split('Судебная практика по:', expand=True, n=1)\n",
    "temp_work.columns = ['act_text', 'rest']\n",
    "temp_work['rest'] = temp_work['rest'].str.strip()\n",
    "temp_work['rest'] = temp_work['rest'].str.replace(r' Судебная практика.+ нормы? ', ' ', regex=True) # убираю артефакты\n",
    "temp_work['rest'] = temp_work['rest'].str.replace('РФ', 'РФstop_word') # делю по статьям\n",
    "temp_work['rest'] = temp_work['rest'].str.split('stop_word')\n",
    "\n",
    "work.drop(columns=['act_text'], inplace=True)\n",
    "work = pd.concat([work, temp_work], axis=1)\n",
    "work.rename(columns={'rest': 'articles'}, inplace=True)"
   ]
  },
  {
   "cell_type": "code",
   "execution_count": null,
   "metadata": {},
   "outputs": [],
   "source": [
    "# отщипываю act_text другие документы по делу\n",
    "\n",
    "temp_work = work['act_text'].str.split('Последние документы по делу:', expand=True, n=1)\n",
    "temp_work.columns = ['act_text', 'rest']\n",
    "temp_work['rest'] = temp_work['rest'].str.strip()\n",
    "\n",
    "work.drop(columns=['act_text'], inplace=True)\n",
    "work = pd.concat([work, temp_work], axis=1)\n",
    "work.rename(columns={'rest': 'associated_acts'}, inplace=True)"
   ]
  },
  {
   "cell_type": "code",
   "execution_count": null,
   "metadata": {},
   "outputs": [],
   "source": [
    "# список сторон дела\n",
    "\n",
    "parties_list = ['Суд:', 'Истцы:', 'Подсудимые:', 'Ответчики:', 'Иные лица:', 'Судьи дела:']"
   ]
  },
  {
   "cell_type": "code",
   "execution_count": null,
   "metadata": {},
   "outputs": [],
   "source": [
    "# отщипываю блок с участниками дела\n",
    "\n",
    "def split_act_parties(df):\n",
    "    for item in parties_list:\n",
    "        act_parties = re.findall(f'{item}\\s.+', df['act_text'])\n",
    "        if act_parties != []:\n",
    "            break\n",
    "    \n",
    "    temp_dict = {}\n",
    "    temp_dict['block_len'] = len(act_parties[0])\n",
    "    \n",
    "    act_parties = act_parties[0].strip()\n",
    "    \n",
    "    for item in parties_list:\n",
    "        temp_dict[item] = (re.findall(f'(?<={item} ).*?(?= \\(подробнее)', act_parties))\n",
    "        \n",
    "            \n",
    "    return temp_dict\n",
    "\n",
    "work['act_parties'] = work.apply(split_act_parties, axis=1)"
   ]
  },
  {
   "cell_type": "code",
   "execution_count": null,
   "metadata": {},
   "outputs": [],
   "source": [
    "# удаляю блок из act_text\n",
    "\n",
    "def split_parties_block_from_act(df):\n",
    "    \n",
    "    return df['act_text'][:-(df['act_parties']['block_len'])]\n",
    "\n",
    "work['act_text'] = work.apply(split_parties_block_from_act, axis=1)\n",
    "\n",
    "work.drop(columns=['act_text'], inplace=True)\n",
    "work = pd.concat([work, temp_work], axis=1)\n",
    "work.rename(columns={'rest': 'associated_acts'}, inplace=True)"
   ]
  },
  {
   "cell_type": "code",
   "execution_count": null,
   "metadata": {},
   "outputs": [],
   "source": []
  },
  {
   "cell_type": "markdown",
   "metadata": {},
   "source": [
    "# Разделяю текст"
   ]
  },
  {
   "cell_type": "code",
   "execution_count": 23,
   "metadata": {},
   "outputs": [
    {
     "name": "stdout",
     "output_type": "stream",
     "text": [
      "Wall time: 0 ns\n"
     ]
    }
   ],
   "source": [
    "%time\n",
    "\n",
    "# убираю разночтения\n",
    "\n",
    "work['act_text'] = work['act_text'].str.replace(\n",
    "    r'П\\s?О\\s?С\\s?Т\\s?А\\s?Н\\s?О\\s?В\\s?Л\\s?Е\\s?Н\\s?И\\s?Е', 'ПОСТАНОВЛЕНИЕ', regex=True)\n",
    "\n",
    "work['act_text'] = work['act_text'].str.replace(\n",
    "    r'У\\s?С\\s?Т\\s?А\\s?Н\\s?О\\s?В\\s?И\\s?Л', 'УСТАНОВИЛ', regex=True)\n",
    "\n",
    "work['act_text'] = work['act_text'].str.replace(\n",
    "    r'Р\\s?Е\\s?Ш\\s?И\\s?Л\\s?:', 'РЕШИЛ:', regex=True)\n",
    "\n",
    "work['act_text'] = work['act_text'].str.replace(\n",
    "    r'П\\s?О\\s?С\\s?Т\\s?А\\s?Н\\s?О\\s?В\\s?И\\s?Л\\s?:', 'ПОСТАНОВИЛ:', regex=True)"
   ]
  },
  {
   "cell_type": "code",
   "execution_count": null,
   "metadata": {},
   "outputs": [],
   "source": [
    "# отделяю шапку решения\n",
    "\n",
    "temp_work = work['act_text'].str.split('end_first_part', expand=True, n=1)\n",
    "temp_work.columns = ['act_text', 'text_head']\n",
    "temp_work['act_text'] = temp_work['act_text'].str.strip()\n",
    "temp_work['text_head'] = temp_work['text_head'].str.strip()\n",
    "work.drop(columns=['act_text'], inplace=True)\n",
    "work = pd.concat([work, temp_work], axis=1)"
   ]
  },
  {
   "cell_type": "code",
   "execution_count": 142,
   "metadata": {},
   "outputs": [],
   "source": [
    "# отделяю судебное обоснование\n",
    "\n",
    "temp_work = work['act_text'].str.split('end_middle_part', expand=True, n=1)"
   ]
  },
  {
   "cell_type": "code",
   "execution_count": 144,
   "metadata": {},
   "outputs": [],
   "source": [
    "temp_work.to_excel(file_path + 'temp.xlsx')"
   ]
  },
  {
   "cell_type": "code",
   "execution_count": 128,
   "metadata": {},
   "outputs": [
    {
     "ename": "ValueError",
     "evalue": "Length mismatch: Expected axis has 1 elements, new values have 2 elements",
     "output_type": "error",
     "traceback": [
      "\u001b[1;31m---------------------------------------------------------------------------\u001b[0m",
      "\u001b[1;31mValueError\u001b[0m                                Traceback (most recent call last)",
      "\u001b[1;32m<ipython-input-128-421f0e8efb34>\u001b[0m in \u001b[0;36m<module>\u001b[1;34m\u001b[0m\n\u001b[0;32m      2\u001b[0m \u001b[1;33m\u001b[0m\u001b[0m\n\u001b[0;32m      3\u001b[0m \u001b[0mtemp_work\u001b[0m \u001b[1;33m=\u001b[0m \u001b[0mwork\u001b[0m\u001b[1;33m[\u001b[0m\u001b[1;34m'act_text'\u001b[0m\u001b[1;33m]\u001b[0m\u001b[1;33m.\u001b[0m\u001b[0mstr\u001b[0m\u001b[1;33m.\u001b[0m\u001b[0msplit\u001b[0m\u001b[1;33m(\u001b[0m\u001b[1;34m'end_middle_part'\u001b[0m\u001b[1;33m,\u001b[0m \u001b[0mexpand\u001b[0m\u001b[1;33m=\u001b[0m\u001b[1;32mTrue\u001b[0m\u001b[1;33m,\u001b[0m \u001b[0mn\u001b[0m\u001b[1;33m=\u001b[0m\u001b[1;36m1\u001b[0m\u001b[1;33m)\u001b[0m\u001b[1;33m\u001b[0m\u001b[1;33m\u001b[0m\u001b[0m\n\u001b[1;32m----> 4\u001b[1;33m \u001b[0mtemp_work\u001b[0m\u001b[1;33m.\u001b[0m\u001b[0mcolumns\u001b[0m \u001b[1;33m=\u001b[0m \u001b[1;33m[\u001b[0m\u001b[1;34m'text_middle'\u001b[0m\u001b[1;33m,\u001b[0m \u001b[1;34m'text_res'\u001b[0m\u001b[1;33m]\u001b[0m\u001b[1;33m\u001b[0m\u001b[1;33m\u001b[0m\u001b[0m\n\u001b[0m\u001b[0;32m      5\u001b[0m \u001b[0mtemp_work\u001b[0m\u001b[1;33m[\u001b[0m\u001b[1;34m'text_middle'\u001b[0m\u001b[1;33m]\u001b[0m \u001b[1;33m=\u001b[0m \u001b[0mtemp_work\u001b[0m\u001b[1;33m[\u001b[0m\u001b[1;34m'text_middle'\u001b[0m\u001b[1;33m]\u001b[0m\u001b[1;33m.\u001b[0m\u001b[0mstr\u001b[0m\u001b[1;33m.\u001b[0m\u001b[0mstrip\u001b[0m\u001b[1;33m(\u001b[0m\u001b[1;33m)\u001b[0m\u001b[1;33m\u001b[0m\u001b[1;33m\u001b[0m\u001b[0m\n\u001b[0;32m      6\u001b[0m \u001b[0mtemp_work\u001b[0m\u001b[1;33m[\u001b[0m\u001b[1;34m'text_res'\u001b[0m\u001b[1;33m]\u001b[0m \u001b[1;33m=\u001b[0m \u001b[0mtemp_work\u001b[0m\u001b[1;33m[\u001b[0m\u001b[1;34m'text_res'\u001b[0m\u001b[1;33m]\u001b[0m\u001b[1;33m.\u001b[0m\u001b[0mstr\u001b[0m\u001b[1;33m.\u001b[0m\u001b[0mstrip\u001b[0m\u001b[1;33m(\u001b[0m\u001b[1;33m)\u001b[0m\u001b[1;33m\u001b[0m\u001b[1;33m\u001b[0m\u001b[0m\n",
      "\u001b[1;32mC:\\ProgramData\\Anaconda3\\lib\\site-packages\\pandas\\core\\generic.py\u001b[0m in \u001b[0;36m__setattr__\u001b[1;34m(self, name, value)\u001b[0m\n\u001b[0;32m   5476\u001b[0m         \u001b[1;32mtry\u001b[0m\u001b[1;33m:\u001b[0m\u001b[1;33m\u001b[0m\u001b[1;33m\u001b[0m\u001b[0m\n\u001b[0;32m   5477\u001b[0m             \u001b[0mobject\u001b[0m\u001b[1;33m.\u001b[0m\u001b[0m__getattribute__\u001b[0m\u001b[1;33m(\u001b[0m\u001b[0mself\u001b[0m\u001b[1;33m,\u001b[0m \u001b[0mname\u001b[0m\u001b[1;33m)\u001b[0m\u001b[1;33m\u001b[0m\u001b[1;33m\u001b[0m\u001b[0m\n\u001b[1;32m-> 5478\u001b[1;33m             \u001b[1;32mreturn\u001b[0m \u001b[0mobject\u001b[0m\u001b[1;33m.\u001b[0m\u001b[0m__setattr__\u001b[0m\u001b[1;33m(\u001b[0m\u001b[0mself\u001b[0m\u001b[1;33m,\u001b[0m \u001b[0mname\u001b[0m\u001b[1;33m,\u001b[0m \u001b[0mvalue\u001b[0m\u001b[1;33m)\u001b[0m\u001b[1;33m\u001b[0m\u001b[1;33m\u001b[0m\u001b[0m\n\u001b[0m\u001b[0;32m   5479\u001b[0m         \u001b[1;32mexcept\u001b[0m \u001b[0mAttributeError\u001b[0m\u001b[1;33m:\u001b[0m\u001b[1;33m\u001b[0m\u001b[1;33m\u001b[0m\u001b[0m\n\u001b[0;32m   5480\u001b[0m             \u001b[1;32mpass\u001b[0m\u001b[1;33m\u001b[0m\u001b[1;33m\u001b[0m\u001b[0m\n",
      "\u001b[1;32mpandas\\_libs\\properties.pyx\u001b[0m in \u001b[0;36mpandas._libs.properties.AxisProperty.__set__\u001b[1;34m()\u001b[0m\n",
      "\u001b[1;32mC:\\ProgramData\\Anaconda3\\lib\\site-packages\\pandas\\core\\generic.py\u001b[0m in \u001b[0;36m_set_axis\u001b[1;34m(self, axis, labels)\u001b[0m\n\u001b[0;32m    668\u001b[0m     \u001b[1;32mdef\u001b[0m \u001b[0m_set_axis\u001b[0m\u001b[1;33m(\u001b[0m\u001b[0mself\u001b[0m\u001b[1;33m,\u001b[0m \u001b[0maxis\u001b[0m\u001b[1;33m:\u001b[0m \u001b[0mint\u001b[0m\u001b[1;33m,\u001b[0m \u001b[0mlabels\u001b[0m\u001b[1;33m:\u001b[0m \u001b[0mIndex\u001b[0m\u001b[1;33m)\u001b[0m \u001b[1;33m->\u001b[0m \u001b[1;32mNone\u001b[0m\u001b[1;33m:\u001b[0m\u001b[1;33m\u001b[0m\u001b[1;33m\u001b[0m\u001b[0m\n\u001b[0;32m    669\u001b[0m         \u001b[0mlabels\u001b[0m \u001b[1;33m=\u001b[0m \u001b[0mensure_index\u001b[0m\u001b[1;33m(\u001b[0m\u001b[0mlabels\u001b[0m\u001b[1;33m)\u001b[0m\u001b[1;33m\u001b[0m\u001b[1;33m\u001b[0m\u001b[0m\n\u001b[1;32m--> 670\u001b[1;33m         \u001b[0mself\u001b[0m\u001b[1;33m.\u001b[0m\u001b[0m_mgr\u001b[0m\u001b[1;33m.\u001b[0m\u001b[0mset_axis\u001b[0m\u001b[1;33m(\u001b[0m\u001b[0maxis\u001b[0m\u001b[1;33m,\u001b[0m \u001b[0mlabels\u001b[0m\u001b[1;33m)\u001b[0m\u001b[1;33m\u001b[0m\u001b[1;33m\u001b[0m\u001b[0m\n\u001b[0m\u001b[0;32m    671\u001b[0m         \u001b[0mself\u001b[0m\u001b[1;33m.\u001b[0m\u001b[0m_clear_item_cache\u001b[0m\u001b[1;33m(\u001b[0m\u001b[1;33m)\u001b[0m\u001b[1;33m\u001b[0m\u001b[1;33m\u001b[0m\u001b[0m\n\u001b[0;32m    672\u001b[0m \u001b[1;33m\u001b[0m\u001b[0m\n",
      "\u001b[1;32mC:\\ProgramData\\Anaconda3\\lib\\site-packages\\pandas\\core\\internals\\managers.py\u001b[0m in \u001b[0;36mset_axis\u001b[1;34m(self, axis, new_labels)\u001b[0m\n\u001b[0;32m    218\u001b[0m \u001b[1;33m\u001b[0m\u001b[0m\n\u001b[0;32m    219\u001b[0m         \u001b[1;32mif\u001b[0m \u001b[0mnew_len\u001b[0m \u001b[1;33m!=\u001b[0m \u001b[0mold_len\u001b[0m\u001b[1;33m:\u001b[0m\u001b[1;33m\u001b[0m\u001b[1;33m\u001b[0m\u001b[0m\n\u001b[1;32m--> 220\u001b[1;33m             raise ValueError(\n\u001b[0m\u001b[0;32m    221\u001b[0m                 \u001b[1;34mf\"Length mismatch: Expected axis has {old_len} elements, new \"\u001b[0m\u001b[1;33m\u001b[0m\u001b[1;33m\u001b[0m\u001b[0m\n\u001b[0;32m    222\u001b[0m                 \u001b[1;34mf\"values have {new_len} elements\"\u001b[0m\u001b[1;33m\u001b[0m\u001b[1;33m\u001b[0m\u001b[0m\n",
      "\u001b[1;31mValueError\u001b[0m: Length mismatch: Expected axis has 1 elements, new values have 2 elements"
     ]
    }
   ],
   "source": [
    "temp_work.columns = ['text_middle', 'text_res']\n",
    "temp_work['text_middle'] = temp_work['text_middle'].str.strip()\n",
    "temp_work['text_res'] = temp_work['text_res'].str.strip()\n",
    "work.drop(columns=['act_text'], inplace=True)\n",
    "work = pd.concat([work, temp_work], axis=1)"
   ]
  },
  {
   "cell_type": "code",
   "execution_count": null,
   "metadata": {},
   "outputs": [],
   "source": []
  },
  {
   "cell_type": "code",
   "execution_count": 127,
   "metadata": {},
   "outputs": [],
   "source": [
    "work.to_csv(file_path + file_name, index=False)"
   ]
  },
  {
   "cell_type": "code",
   "execution_count": 129,
   "metadata": {},
   "outputs": [
    {
     "data": {
      "text/html": [
       "<div>\n",
       "<style scoped>\n",
       "    .dataframe tbody tr th:only-of-type {\n",
       "        vertical-align: middle;\n",
       "    }\n",
       "\n",
       "    .dataframe tbody tr th {\n",
       "        vertical-align: top;\n",
       "    }\n",
       "\n",
       "    .dataframe thead th {\n",
       "        text-align: right;\n",
       "    }\n",
       "</style>\n",
       "<table border=\"1\" class=\"dataframe\">\n",
       "  <thead>\n",
       "    <tr style=\"text-align: right;\">\n",
       "      <th></th>\n",
       "      <th>act_name</th>\n",
       "      <th>act_type</th>\n",
       "      <th>court</th>\n",
       "      <th>act_date</th>\n",
       "      <th>instance</th>\n",
       "      <th>act_info</th>\n",
       "      <th>act_subject</th>\n",
       "      <th>act_parties</th>\n",
       "      <th>act_url</th>\n",
       "      <th>html_text</th>\n",
       "      <th>queries</th>\n",
       "      <th>need_morpheme</th>\n",
       "      <th>articles_list</th>\n",
       "      <th>associated_acts</th>\n",
       "      <th>stop</th>\n",
       "      <th>act_id</th>\n",
       "      <th>act_text</th>\n",
       "      <th>text_head</th>\n",
       "    </tr>\n",
       "  </thead>\n",
       "  <tbody>\n",
       "    <tr>\n",
       "      <th>0</th>\n",
       "      <td>Решение №2-141/2018 2-141/2018 (2-5541/2017;) ...</td>\n",
       "      <td>Решение</td>\n",
       "      <td>Ленинский районный суд г. Кирова (Кировская об...</td>\n",
       "      <td>2018-02-12</td>\n",
       "      <td>первая</td>\n",
       "      <td>Гражданские и административные</td>\n",
       "      <td>NaN</td>\n",
       "      <td>{'block_len': 190, 'Суд:': ['Ленинский районны...</td>\n",
       "      <td>https://sudact.ru/regular/doc/OEVBjmP8HEx9/</td>\n",
       "      <td>Решение № 2-141/2018 2-141/2018 (2-5541/2017;)...</td>\n",
       "      <td>['наезд на лося', 'столкновение с лосем', 'авт...</td>\n",
       "      <td>10</td>\n",
       "      <td>['Упущенная выгода ст. 15 ГК РФ', '']</td>\n",
       "      <td>Решение от 3 октября 2018 г. по делу №2-141/20...</td>\n",
       "      <td>NaN</td>\n",
       "      <td>none</td>\n",
       "      <td>Дело №2-141/2018 РЕШЕНИЕ ИМЕНЕМ РОССИЙСКОЙ ФЕД...</td>\n",
       "      <td>УСТАНОВИЛ: Представитель Кряжевских А.Д. по до...</td>\n",
       "    </tr>\n",
       "    <tr>\n",
       "      <th>1</th>\n",
       "      <td>Постановление №5-643/2017 от 8 декабря 2017 г....</td>\n",
       "      <td>Постановление</td>\n",
       "      <td>Егорьевский городской суд (Московская область)</td>\n",
       "      <td>2017-12-08</td>\n",
       "      <td>первая</td>\n",
       "      <td>Административные правонарушения</td>\n",
       "      <td>NaN</td>\n",
       "      <td>{'block_len': 150, 'Суд:': ['Егорьевский город...</td>\n",
       "      <td>https://sudact.ru/regular/doc/zkF94TrWH0Vl/</td>\n",
       "      <td>Постановление № 5-643/2017 от 8 декабря 2017 г...</td>\n",
       "      <td>['наезд на лося', 'автомобиль лось']</td>\n",
       "      <td>3</td>\n",
       "      <td>['По ДТП (невыполнение требований при ДТП) ст....</td>\n",
       "      <td>Постановление от 8 декабря 2017 г. по делу №5-...</td>\n",
       "      <td>NaN</td>\n",
       "      <td>none</td>\n",
       "      <td>Административное дело №5-643/2017 КОПИЯ ПОСТАН...</td>\n",
       "      <td>УСТАНОВИЛ: ДД.ММ.ГГГГ в &lt;данные изъяты&gt; часов ...</td>\n",
       "    </tr>\n",
       "    <tr>\n",
       "      <th>2</th>\n",
       "      <td>Решение №2-3632/2017 2-3632/2017~М-3135/2017 М...</td>\n",
       "      <td>Решение</td>\n",
       "      <td>Дзержинский районный суд г. Перми (Пермский край)</td>\n",
       "      <td>2017-11-16</td>\n",
       "      <td>первая</td>\n",
       "      <td>Административное</td>\n",
       "      <td>2.145 - Иски о возмещении ущерба от ДТП (кроме...</td>\n",
       "      <td>{'block_len': 232, 'Суд:': ['Дзержинский район...</td>\n",
       "      <td>https://sudact.ru/regular/doc/089VJ1BVANgu/</td>\n",
       "      <td>Решение № 2-3632/2017 2-3632/2017~М-3135/2017 ...</td>\n",
       "      <td>['наезд на лося', 'столкновение с лосем', 'авт...</td>\n",
       "      <td>3</td>\n",
       "      <td>['Ответственность за причинение вреда, залив к...</td>\n",
       "      <td>Решение от 22 декабря 2017 г. по делу №2-3632/...</td>\n",
       "      <td>NaN</td>\n",
       "      <td>none</td>\n",
       "      <td>Дело №2-3632\\17 РЕШЕНИЕ Именем Российской Феде...</td>\n",
       "      <td>УСТАНОВИЛ: Каракулов А.А. обратился в суд с ис...</td>\n",
       "    </tr>\n",
       "  </tbody>\n",
       "</table>\n",
       "</div>"
      ],
      "text/plain": [
       "                                            act_name       act_type  \\\n",
       "0  Решение №2-141/2018 2-141/2018 (2-5541/2017;) ...        Решение   \n",
       "1  Постановление №5-643/2017 от 8 декабря 2017 г....  Постановление   \n",
       "2  Решение №2-3632/2017 2-3632/2017~М-3135/2017 М...        Решение   \n",
       "\n",
       "                                               court    act_date instance  \\\n",
       "0  Ленинский районный суд г. Кирова (Кировская об...  2018-02-12   первая   \n",
       "1     Егорьевский городской суд (Московская область)  2017-12-08   первая   \n",
       "2  Дзержинский районный суд г. Перми (Пермский край)  2017-11-16   первая   \n",
       "\n",
       "                          act_info  \\\n",
       "0   Гражданские и административные   \n",
       "1  Административные правонарушения   \n",
       "2                 Административное   \n",
       "\n",
       "                                         act_subject  \\\n",
       "0                                                NaN   \n",
       "1                                                NaN   \n",
       "2  2.145 - Иски о возмещении ущерба от ДТП (кроме...   \n",
       "\n",
       "                                         act_parties  \\\n",
       "0  {'block_len': 190, 'Суд:': ['Ленинский районны...   \n",
       "1  {'block_len': 150, 'Суд:': ['Егорьевский город...   \n",
       "2  {'block_len': 232, 'Суд:': ['Дзержинский район...   \n",
       "\n",
       "                                       act_url  \\\n",
       "0  https://sudact.ru/regular/doc/OEVBjmP8HEx9/   \n",
       "1  https://sudact.ru/regular/doc/zkF94TrWH0Vl/   \n",
       "2  https://sudact.ru/regular/doc/089VJ1BVANgu/   \n",
       "\n",
       "                                           html_text  \\\n",
       "0  Решение № 2-141/2018 2-141/2018 (2-5541/2017;)...   \n",
       "1  Постановление № 5-643/2017 от 8 декабря 2017 г...   \n",
       "2  Решение № 2-3632/2017 2-3632/2017~М-3135/2017 ...   \n",
       "\n",
       "                                             queries  need_morpheme  \\\n",
       "0  ['наезд на лося', 'столкновение с лосем', 'авт...             10   \n",
       "1               ['наезд на лося', 'автомобиль лось']              3   \n",
       "2  ['наезд на лося', 'столкновение с лосем', 'авт...              3   \n",
       "\n",
       "                                       articles_list  \\\n",
       "0              ['Упущенная выгода ст. 15 ГК РФ', '']   \n",
       "1  ['По ДТП (невыполнение требований при ДТП) ст....   \n",
       "2  ['Ответственность за причинение вреда, залив к...   \n",
       "\n",
       "                                     associated_acts  stop act_id  \\\n",
       "0  Решение от 3 октября 2018 г. по делу №2-141/20...   NaN   none   \n",
       "1  Постановление от 8 декабря 2017 г. по делу №5-...   NaN   none   \n",
       "2  Решение от 22 декабря 2017 г. по делу №2-3632/...   NaN   none   \n",
       "\n",
       "                                            act_text  \\\n",
       "0  Дело №2-141/2018 РЕШЕНИЕ ИМЕНЕМ РОССИЙСКОЙ ФЕД...   \n",
       "1  Административное дело №5-643/2017 КОПИЯ ПОСТАН...   \n",
       "2  Дело №2-3632\\17 РЕШЕНИЕ Именем Российской Феде...   \n",
       "\n",
       "                                           text_head  \n",
       "0  УСТАНОВИЛ: Представитель Кряжевских А.Д. по до...  \n",
       "1  УСТАНОВИЛ: ДД.ММ.ГГГГ в <данные изъяты> часов ...  \n",
       "2  УСТАНОВИЛ: Каракулов А.А. обратился в суд с ис...  "
      ]
     },
     "execution_count": 129,
     "metadata": {},
     "output_type": "execute_result"
    }
   ],
   "source": [
    "work.head(3)"
   ]
  },
  {
   "cell_type": "code",
   "execution_count": null,
   "metadata": {},
   "outputs": [],
   "source": [
    "work.head().act_url"
   ]
  },
  {
   "cell_type": "code",
   "execution_count": 139,
   "metadata": {},
   "outputs": [],
   "source": [
    "# загружаю датасет\n",
    "\n",
    "work = pd.read_csv(file_path + file_name)"
   ]
  },
  {
   "cell_type": "code",
   "execution_count": 140,
   "metadata": {},
   "outputs": [
    {
     "data": {
      "text/plain": [
       "(0, 18)"
      ]
     },
     "execution_count": 140,
     "metadata": {},
     "output_type": "execute_result"
    }
   ],
   "source": [
    "work[~work.act_text.str.contains('end_middle_part', case=True)].shape"
   ]
  },
  {
   "cell_type": "code",
   "execution_count": 141,
   "metadata": {},
   "outputs": [
    {
     "data": {
      "text/html": [
       "<div>\n",
       "<style scoped>\n",
       "    .dataframe tbody tr th:only-of-type {\n",
       "        vertical-align: middle;\n",
       "    }\n",
       "\n",
       "    .dataframe tbody tr th {\n",
       "        vertical-align: top;\n",
       "    }\n",
       "\n",
       "    .dataframe thead th {\n",
       "        text-align: right;\n",
       "    }\n",
       "</style>\n",
       "<table border=\"1\" class=\"dataframe\">\n",
       "  <thead>\n",
       "    <tr style=\"text-align: right;\">\n",
       "      <th></th>\n",
       "      <th>act_name</th>\n",
       "      <th>act_type</th>\n",
       "      <th>court</th>\n",
       "      <th>act_date</th>\n",
       "      <th>instance</th>\n",
       "      <th>act_info</th>\n",
       "      <th>act_subject</th>\n",
       "      <th>act_parties</th>\n",
       "      <th>act_url</th>\n",
       "      <th>html_text</th>\n",
       "      <th>queries</th>\n",
       "      <th>need_morpheme</th>\n",
       "      <th>articles_list</th>\n",
       "      <th>associated_acts</th>\n",
       "      <th>stop</th>\n",
       "      <th>act_id</th>\n",
       "      <th>text_head</th>\n",
       "      <th>act_text</th>\n",
       "    </tr>\n",
       "  </thead>\n",
       "  <tbody>\n",
       "    <tr>\n",
       "      <th>0</th>\n",
       "      <td>Решение №2-141/2018 2-141/2018 (2-5541/2017;) ...</td>\n",
       "      <td>Решение</td>\n",
       "      <td>Ленинский районный суд г. Кирова (Кировская об...</td>\n",
       "      <td>2018-02-12</td>\n",
       "      <td>первая</td>\n",
       "      <td>Гражданские и административные</td>\n",
       "      <td>NaN</td>\n",
       "      <td>{'block_len': 190, 'Суд:': ['Ленинский районны...</td>\n",
       "      <td>https://sudact.ru/regular/doc/OEVBjmP8HEx9/</td>\n",
       "      <td>Решение № 2-141/2018 2-141/2018 (2-5541/2017;)...</td>\n",
       "      <td>['наезд на лося', 'столкновение с лосем', 'авт...</td>\n",
       "      <td>10</td>\n",
       "      <td>['Упущенная выгода ст. 15 ГК РФ', '']</td>\n",
       "      <td>Решение от 3 октября 2018 г. по делу №2-141/20...</td>\n",
       "      <td>NaN</td>\n",
       "      <td>none</td>\n",
       "      <td>Дело №2-141/2018 РЕШЕНИЕ ИМЕНЕМ РОССИЙСКОЙ ФЕД...</td>\n",
       "      <td>УСТАНОВИЛ: Представитель Кряжевских А.Д. по до...</td>\n",
       "    </tr>\n",
       "    <tr>\n",
       "      <th>1</th>\n",
       "      <td>Постановление №5-643/2017 от 8 декабря 2017 г....</td>\n",
       "      <td>Постановление</td>\n",
       "      <td>Егорьевский городской суд (Московская область)</td>\n",
       "      <td>2017-12-08</td>\n",
       "      <td>первая</td>\n",
       "      <td>Административные правонарушения</td>\n",
       "      <td>NaN</td>\n",
       "      <td>{'block_len': 150, 'Суд:': ['Егорьевский город...</td>\n",
       "      <td>https://sudact.ru/regular/doc/zkF94TrWH0Vl/</td>\n",
       "      <td>Постановление № 5-643/2017 от 8 декабря 2017 г...</td>\n",
       "      <td>['наезд на лося', 'автомобиль лось']</td>\n",
       "      <td>3</td>\n",
       "      <td>['По ДТП (невыполнение требований при ДТП) ст....</td>\n",
       "      <td>Постановление от 8 декабря 2017 г. по делу №5-...</td>\n",
       "      <td>NaN</td>\n",
       "      <td>none</td>\n",
       "      <td>Административное дело №5-643/2017 КОПИЯ ПОСТАН...</td>\n",
       "      <td>УСТАНОВИЛ: ДД.ММ.ГГГГ в &lt;данные изъяты&gt; часов ...</td>\n",
       "    </tr>\n",
       "    <tr>\n",
       "      <th>2</th>\n",
       "      <td>Решение №2-3632/2017 2-3632/2017~М-3135/2017 М...</td>\n",
       "      <td>Решение</td>\n",
       "      <td>Дзержинский районный суд г. Перми (Пермский край)</td>\n",
       "      <td>2017-11-16</td>\n",
       "      <td>первая</td>\n",
       "      <td>Административное</td>\n",
       "      <td>2.145 - Иски о возмещении ущерба от ДТП (кроме...</td>\n",
       "      <td>{'block_len': 232, 'Суд:': ['Дзержинский район...</td>\n",
       "      <td>https://sudact.ru/regular/doc/089VJ1BVANgu/</td>\n",
       "      <td>Решение № 2-3632/2017 2-3632/2017~М-3135/2017 ...</td>\n",
       "      <td>['наезд на лося', 'столкновение с лосем', 'авт...</td>\n",
       "      <td>3</td>\n",
       "      <td>['Ответственность за причинение вреда, залив к...</td>\n",
       "      <td>Решение от 22 декабря 2017 г. по делу №2-3632/...</td>\n",
       "      <td>NaN</td>\n",
       "      <td>none</td>\n",
       "      <td>Дело №2-3632\\17 РЕШЕНИЕ Именем Российской Феде...</td>\n",
       "      <td>УСТАНОВИЛ: Каракулов А.А. обратился в суд с ис...</td>\n",
       "    </tr>\n",
       "    <tr>\n",
       "      <th>3</th>\n",
       "      <td>Решение №2-1731/2017 2-1731/2017~М-1680/2017 М...</td>\n",
       "      <td>Решение</td>\n",
       "      <td>Пролетарский районный суд г.Тулы (Тульская обл...</td>\n",
       "      <td>2017-11-07</td>\n",
       "      <td>первая</td>\n",
       "      <td>Гражданские и административные</td>\n",
       "      <td>NaN</td>\n",
       "      <td>{'block_len': 292, 'Суд:': ['Пролетарский райо...</td>\n",
       "      <td>https://sudact.ru/regular/doc/yxg51tnGyDLa/</td>\n",
       "      <td>Решение № 2-1731/2017 2-1731/2017~М-1680/2017 ...</td>\n",
       "      <td>['наезд на лося', 'сбил лося', 'столкновение с...</td>\n",
       "      <td>31</td>\n",
       "      <td>['Упущенная выгода ст. 15 ГК РФ', '']</td>\n",
       "      <td>Решение от 7 ноября 2017 г. по делу №2-1731/20...</td>\n",
       "      <td>NaN</td>\n",
       "      <td>none</td>\n",
       "      <td>РЕШЕНИЕ Именем Российской Федерации 7 ноября 2...</td>\n",
       "      <td>УСТАНОВИЛ: 4 сентября 2017 года в Пролетарский...</td>\n",
       "    </tr>\n",
       "    <tr>\n",
       "      <th>4</th>\n",
       "      <td>Постановление №5-204/2017 от 31 августа 2017 г...</td>\n",
       "      <td>Постановление</td>\n",
       "      <td>Муромский городской суд (Владимирская область)</td>\n",
       "      <td>2017-08-31</td>\n",
       "      <td>первая</td>\n",
       "      <td>Административные правонарушения</td>\n",
       "      <td>NaN</td>\n",
       "      <td>{'block_len': 164, 'Суд:': ['Муромский городск...</td>\n",
       "      <td>https://sudact.ru/regular/doc/PCq7Rm3OGHN9/</td>\n",
       "      <td>Постановление № 5-204/2017 от 31 августа 2017 ...</td>\n",
       "      <td>['наезд на лося', 'автомобиль лось']</td>\n",
       "      <td>2</td>\n",
       "      <td>['По ДТП (причинение легкого или средней тяжес...</td>\n",
       "      <td>Постановление от 1 декабря 2017 г. по делу №5-...</td>\n",
       "      <td>NaN</td>\n",
       "      <td>none</td>\n",
       "      <td>Дело (номер) г. ПОСТАНОВЛЕНИЕ город Муром 31 а...</td>\n",
       "      <td>УСТАНОВИЛ: 16 июня 2017 г. примерно в 3 ч. 40 ...</td>\n",
       "    </tr>\n",
       "    <tr>\n",
       "      <th>...</th>\n",
       "      <td>...</td>\n",
       "      <td>...</td>\n",
       "      <td>...</td>\n",
       "      <td>...</td>\n",
       "      <td>...</td>\n",
       "      <td>...</td>\n",
       "      <td>...</td>\n",
       "      <td>...</td>\n",
       "      <td>...</td>\n",
       "      <td>...</td>\n",
       "      <td>...</td>\n",
       "      <td>...</td>\n",
       "      <td>...</td>\n",
       "      <td>...</td>\n",
       "      <td>...</td>\n",
       "      <td>...</td>\n",
       "      <td>...</td>\n",
       "      <td>...</td>\n",
       "    </tr>\n",
       "    <tr>\n",
       "      <th>458</th>\n",
       "      <td>Определение от 12 апреля 2012 г.</td>\n",
       "      <td>Определение</td>\n",
       "      <td>Свердловский районный суд г. Красноярска (Крас...</td>\n",
       "      <td>2012-04-12</td>\n",
       "      <td>первая</td>\n",
       "      <td>Гражданское</td>\n",
       "      <td>Прочие исковые дела</td>\n",
       "      <td>{'block_len': 143, 'Суд:': ['Свердловский райо...</td>\n",
       "      <td>https://sudact.ru/regular/doc/qICILqjh8FoT/</td>\n",
       "      <td>Определение от 12 апреля 2012 г.&lt;/h1&gt;&lt;div clas...</td>\n",
       "      <td>['автомобиль лось']</td>\n",
       "      <td>1</td>\n",
       "      <td>NaN</td>\n",
       "      <td>NaN</td>\n",
       "      <td>NaN</td>\n",
       "      <td>none</td>\n",
       "      <td>Свердловский районный суд г. Красноярска Сверд...</td>\n",
       "      <td>УСТАНОВИЛ: Прокурор Курагинского района Красно...</td>\n",
       "    </tr>\n",
       "    <tr>\n",
       "      <th>459</th>\n",
       "      <td>Решение №2-10031/2011 от 23 ноября 2011 г. по ...</td>\n",
       "      <td>Решение</td>\n",
       "      <td>Вологодский городской суд (Вологодская область)</td>\n",
       "      <td>2011-11-23</td>\n",
       "      <td>первая</td>\n",
       "      <td>Гражданское</td>\n",
       "      <td>Иски о возмещении ущерба от ДТП</td>\n",
       "      <td>{'block_len': 132, 'Суд:': ['Вологодский город...</td>\n",
       "      <td>https://sudact.ru/regular/doc/ycRIsTRiQabm/</td>\n",
       "      <td>Решение № 2-10031/2011 от 23 ноября 2011 г. по...</td>\n",
       "      <td>['автомобиль лось']</td>\n",
       "      <td>1</td>\n",
       "      <td>['Упущенная выгода ст. 15 ГК РФ', '']</td>\n",
       "      <td>NaN</td>\n",
       "      <td>NaN</td>\n",
       "      <td>none</td>\n",
       "      <td>Вологодский городской суд Вологодской области ...</td>\n",
       "      <td>УСТАНОВИЛ: 08.06.2011 года на произошло дорожн...</td>\n",
       "    </tr>\n",
       "    <tr>\n",
       "      <th>460</th>\n",
       "      <td>Решение №2-1446/2011 2-1446/2011~М-1381/2011 М...</td>\n",
       "      <td>Решение</td>\n",
       "      <td>Норильский городской суд (Красноярский край)</td>\n",
       "      <td>2011-07-19</td>\n",
       "      <td>первая</td>\n",
       "      <td>Гражданское</td>\n",
       "      <td>Иски о возмещении ущерба от ДТП</td>\n",
       "      <td>{'block_len': 154, 'Суд:': [], 'Истцы:': ['ООО...</td>\n",
       "      <td>https://sudact.ru/regular/doc/z6tyT0SCxVgv/</td>\n",
       "      <td>Решение № 2-1446/2011 2-1446/2011~М-1381/2011 ...</td>\n",
       "      <td>['автомобиль лось']</td>\n",
       "      <td>1</td>\n",
       "      <td>['По ДТП (причинение легкого или средней тяжес...</td>\n",
       "      <td>Решение от 26 декабря 2011 г. по делу №2-1446/...</td>\n",
       "      <td>NaN</td>\n",
       "      <td>none</td>\n",
       "      <td>Дело №2-1446/11 ЗАОЧНОЕ РЕШЕНИЕ ИМЕНЕМ РОССИЙС...</td>\n",
       "      <td>УСТАНОВИЛ: Общество с ограниченной ответственн...</td>\n",
       "    </tr>\n",
       "    <tr>\n",
       "      <th>461</th>\n",
       "      <td>Решение №2-2019/2019 2-74/2020 2-74/2020(2-201...</td>\n",
       "      <td>Решение</td>\n",
       "      <td>Кинешемский городской суд (Ивановская область)</td>\n",
       "      <td>2020-02-25</td>\n",
       "      <td>первая</td>\n",
       "      <td>Гражданские и административные</td>\n",
       "      <td>NaN</td>\n",
       "      <td>{'block_len': 125, 'Суд:': ['Кинешемский город...</td>\n",
       "      <td>https://sudact.ru/regular/doc/JQMQclStuCLE/</td>\n",
       "      <td>Решение № 2-2019/2019 2-74/2020 2-74/2020(2-20...</td>\n",
       "      <td>['автомобиль лось']</td>\n",
       "      <td>1</td>\n",
       "      <td>['Упущенная выгода ст. 15 ГК РФ', '']</td>\n",
       "      <td>Решение от 25 февраля 2020 г. по делу №2-2019/...</td>\n",
       "      <td>3.0</td>\n",
       "      <td>none</td>\n",
       "      <td>Дело №2-74/2020 РЕШЕНИЕ именем Российской Феде...</td>\n",
       "      <td>УСТАНОВИЛ: Челышев Р.Н. обратился в суд с иско...</td>\n",
       "    </tr>\n",
       "    <tr>\n",
       "      <th>462</th>\n",
       "      <td>Постановление №5-13/2014 от 7 мая 2014 г.</td>\n",
       "      <td>Постановление</td>\n",
       "      <td>Снежинский городской суд (Челябинская область)</td>\n",
       "      <td>2014-05-07</td>\n",
       "      <td>первая</td>\n",
       "      <td>Административное</td>\n",
       "      <td>NaN</td>\n",
       "      <td>{'block_len': 163, 'Суд:': ['Снежинский городс...</td>\n",
       "      <td>https://sudact.ru/regular/doc/Ph3sWHLwgor5/</td>\n",
       "      <td>Постановление № 5-13/2014 от 7 мая 2014 г.&lt;/h1...</td>\n",
       "      <td>['автомобиль лось']</td>\n",
       "      <td>4</td>\n",
       "      <td>['По ДТП (причинение легкого или средней тяжес...</td>\n",
       "      <td>NaN</td>\n",
       "      <td>NaN</td>\n",
       "      <td>none</td>\n",
       "      <td>Дело №5-13/2014 ПОСТАНОВЛЕНИЕ по делу об админ...</td>\n",
       "      <td>УСТАНОВИЛ: ДД.ММ.ГГГГ дежурным дежурной части ...</td>\n",
       "    </tr>\n",
       "  </tbody>\n",
       "</table>\n",
       "<p>463 rows × 18 columns</p>\n",
       "</div>"
      ],
      "text/plain": [
       "                                              act_name       act_type  \\\n",
       "0    Решение №2-141/2018 2-141/2018 (2-5541/2017;) ...        Решение   \n",
       "1    Постановление №5-643/2017 от 8 декабря 2017 г....  Постановление   \n",
       "2    Решение №2-3632/2017 2-3632/2017~М-3135/2017 М...        Решение   \n",
       "3    Решение №2-1731/2017 2-1731/2017~М-1680/2017 М...        Решение   \n",
       "4    Постановление №5-204/2017 от 31 августа 2017 г...  Постановление   \n",
       "..                                                 ...            ...   \n",
       "458                   Определение от 12 апреля 2012 г.    Определение   \n",
       "459  Решение №2-10031/2011 от 23 ноября 2011 г. по ...        Решение   \n",
       "460  Решение №2-1446/2011 2-1446/2011~М-1381/2011 М...        Решение   \n",
       "461  Решение №2-2019/2019 2-74/2020 2-74/2020(2-201...        Решение   \n",
       "462          Постановление №5-13/2014 от 7 мая 2014 г.  Постановление   \n",
       "\n",
       "                                                 court    act_date instance  \\\n",
       "0    Ленинский районный суд г. Кирова (Кировская об...  2018-02-12   первая   \n",
       "1       Егорьевский городской суд (Московская область)  2017-12-08   первая   \n",
       "2    Дзержинский районный суд г. Перми (Пермский край)  2017-11-16   первая   \n",
       "3    Пролетарский районный суд г.Тулы (Тульская обл...  2017-11-07   первая   \n",
       "4       Муромский городской суд (Владимирская область)  2017-08-31   первая   \n",
       "..                                                 ...         ...      ...   \n",
       "458  Свердловский районный суд г. Красноярска (Крас...  2012-04-12   первая   \n",
       "459    Вологодский городской суд (Вологодская область)  2011-11-23   первая   \n",
       "460       Норильский городской суд (Красноярский край)  2011-07-19   первая   \n",
       "461     Кинешемский городской суд (Ивановская область)  2020-02-25   первая   \n",
       "462     Снежинский городской суд (Челябинская область)  2014-05-07   первая   \n",
       "\n",
       "                            act_info  \\\n",
       "0     Гражданские и административные   \n",
       "1    Административные правонарушения   \n",
       "2                   Административное   \n",
       "3     Гражданские и административные   \n",
       "4    Административные правонарушения   \n",
       "..                               ...   \n",
       "458                      Гражданское   \n",
       "459                      Гражданское   \n",
       "460                      Гражданское   \n",
       "461   Гражданские и административные   \n",
       "462                 Административное   \n",
       "\n",
       "                                           act_subject  \\\n",
       "0                                                  NaN   \n",
       "1                                                  NaN   \n",
       "2    2.145 - Иски о возмещении ущерба от ДТП (кроме...   \n",
       "3                                                  NaN   \n",
       "4                                                  NaN   \n",
       "..                                                 ...   \n",
       "458                                Прочие исковые дела   \n",
       "459                    Иски о возмещении ущерба от ДТП   \n",
       "460                    Иски о возмещении ущерба от ДТП   \n",
       "461                                                NaN   \n",
       "462                                                NaN   \n",
       "\n",
       "                                           act_parties  \\\n",
       "0    {'block_len': 190, 'Суд:': ['Ленинский районны...   \n",
       "1    {'block_len': 150, 'Суд:': ['Егорьевский город...   \n",
       "2    {'block_len': 232, 'Суд:': ['Дзержинский район...   \n",
       "3    {'block_len': 292, 'Суд:': ['Пролетарский райо...   \n",
       "4    {'block_len': 164, 'Суд:': ['Муромский городск...   \n",
       "..                                                 ...   \n",
       "458  {'block_len': 143, 'Суд:': ['Свердловский райо...   \n",
       "459  {'block_len': 132, 'Суд:': ['Вологодский город...   \n",
       "460  {'block_len': 154, 'Суд:': [], 'Истцы:': ['ООО...   \n",
       "461  {'block_len': 125, 'Суд:': ['Кинешемский город...   \n",
       "462  {'block_len': 163, 'Суд:': ['Снежинский городс...   \n",
       "\n",
       "                                         act_url  \\\n",
       "0    https://sudact.ru/regular/doc/OEVBjmP8HEx9/   \n",
       "1    https://sudact.ru/regular/doc/zkF94TrWH0Vl/   \n",
       "2    https://sudact.ru/regular/doc/089VJ1BVANgu/   \n",
       "3    https://sudact.ru/regular/doc/yxg51tnGyDLa/   \n",
       "4    https://sudact.ru/regular/doc/PCq7Rm3OGHN9/   \n",
       "..                                           ...   \n",
       "458  https://sudact.ru/regular/doc/qICILqjh8FoT/   \n",
       "459  https://sudact.ru/regular/doc/ycRIsTRiQabm/   \n",
       "460  https://sudact.ru/regular/doc/z6tyT0SCxVgv/   \n",
       "461  https://sudact.ru/regular/doc/JQMQclStuCLE/   \n",
       "462  https://sudact.ru/regular/doc/Ph3sWHLwgor5/   \n",
       "\n",
       "                                             html_text  \\\n",
       "0    Решение № 2-141/2018 2-141/2018 (2-5541/2017;)...   \n",
       "1    Постановление № 5-643/2017 от 8 декабря 2017 г...   \n",
       "2    Решение № 2-3632/2017 2-3632/2017~М-3135/2017 ...   \n",
       "3    Решение № 2-1731/2017 2-1731/2017~М-1680/2017 ...   \n",
       "4    Постановление № 5-204/2017 от 31 августа 2017 ...   \n",
       "..                                                 ...   \n",
       "458  Определение от 12 апреля 2012 г.</h1><div clas...   \n",
       "459  Решение № 2-10031/2011 от 23 ноября 2011 г. по...   \n",
       "460  Решение № 2-1446/2011 2-1446/2011~М-1381/2011 ...   \n",
       "461  Решение № 2-2019/2019 2-74/2020 2-74/2020(2-20...   \n",
       "462  Постановление № 5-13/2014 от 7 мая 2014 г.</h1...   \n",
       "\n",
       "                                               queries  need_morpheme  \\\n",
       "0    ['наезд на лося', 'столкновение с лосем', 'авт...             10   \n",
       "1                 ['наезд на лося', 'автомобиль лось']              3   \n",
       "2    ['наезд на лося', 'столкновение с лосем', 'авт...              3   \n",
       "3    ['наезд на лося', 'сбил лося', 'столкновение с...             31   \n",
       "4                 ['наезд на лося', 'автомобиль лось']              2   \n",
       "..                                                 ...            ...   \n",
       "458                                ['автомобиль лось']              1   \n",
       "459                                ['автомобиль лось']              1   \n",
       "460                                ['автомобиль лось']              1   \n",
       "461                                ['автомобиль лось']              1   \n",
       "462                                ['автомобиль лось']              4   \n",
       "\n",
       "                                         articles_list  \\\n",
       "0                ['Упущенная выгода ст. 15 ГК РФ', '']   \n",
       "1    ['По ДТП (невыполнение требований при ДТП) ст....   \n",
       "2    ['Ответственность за причинение вреда, залив к...   \n",
       "3                ['Упущенная выгода ст. 15 ГК РФ', '']   \n",
       "4    ['По ДТП (причинение легкого или средней тяжес...   \n",
       "..                                                 ...   \n",
       "458                                                NaN   \n",
       "459              ['Упущенная выгода ст. 15 ГК РФ', '']   \n",
       "460  ['По ДТП (причинение легкого или средней тяжес...   \n",
       "461              ['Упущенная выгода ст. 15 ГК РФ', '']   \n",
       "462  ['По ДТП (причинение легкого или средней тяжес...   \n",
       "\n",
       "                                       associated_acts  stop act_id  \\\n",
       "0    Решение от 3 октября 2018 г. по делу №2-141/20...   NaN   none   \n",
       "1    Постановление от 8 декабря 2017 г. по делу №5-...   NaN   none   \n",
       "2    Решение от 22 декабря 2017 г. по делу №2-3632/...   NaN   none   \n",
       "3    Решение от 7 ноября 2017 г. по делу №2-1731/20...   NaN   none   \n",
       "4    Постановление от 1 декабря 2017 г. по делу №5-...   NaN   none   \n",
       "..                                                 ...   ...    ...   \n",
       "458                                                NaN   NaN   none   \n",
       "459                                                NaN   NaN   none   \n",
       "460  Решение от 26 декабря 2011 г. по делу №2-1446/...   NaN   none   \n",
       "461  Решение от 25 февраля 2020 г. по делу №2-2019/...   3.0   none   \n",
       "462                                                NaN   NaN   none   \n",
       "\n",
       "                                             text_head  \\\n",
       "0    Дело №2-141/2018 РЕШЕНИЕ ИМЕНЕМ РОССИЙСКОЙ ФЕД...   \n",
       "1    Административное дело №5-643/2017 КОПИЯ ПОСТАН...   \n",
       "2    Дело №2-3632\\17 РЕШЕНИЕ Именем Российской Феде...   \n",
       "3    РЕШЕНИЕ Именем Российской Федерации 7 ноября 2...   \n",
       "4    Дело (номер) г. ПОСТАНОВЛЕНИЕ город Муром 31 а...   \n",
       "..                                                 ...   \n",
       "458  Свердловский районный суд г. Красноярска Сверд...   \n",
       "459  Вологодский городской суд Вологодской области ...   \n",
       "460  Дело №2-1446/11 ЗАОЧНОЕ РЕШЕНИЕ ИМЕНЕМ РОССИЙС...   \n",
       "461  Дело №2-74/2020 РЕШЕНИЕ именем Российской Феде...   \n",
       "462  Дело №5-13/2014 ПОСТАНОВЛЕНИЕ по делу об админ...   \n",
       "\n",
       "                                              act_text  \n",
       "0    УСТАНОВИЛ: Представитель Кряжевских А.Д. по до...  \n",
       "1    УСТАНОВИЛ: ДД.ММ.ГГГГ в <данные изъяты> часов ...  \n",
       "2    УСТАНОВИЛ: Каракулов А.А. обратился в суд с ис...  \n",
       "3    УСТАНОВИЛ: 4 сентября 2017 года в Пролетарский...  \n",
       "4    УСТАНОВИЛ: 16 июня 2017 г. примерно в 3 ч. 40 ...  \n",
       "..                                                 ...  \n",
       "458  УСТАНОВИЛ: Прокурор Курагинского района Красно...  \n",
       "459  УСТАНОВИЛ: 08.06.2011 года на произошло дорожн...  \n",
       "460  УСТАНОВИЛ: Общество с ограниченной ответственн...  \n",
       "461  УСТАНОВИЛ: Челышев Р.Н. обратился в суд с иско...  \n",
       "462  УСТАНОВИЛ: ДД.ММ.ГГГГ дежурным дежурной части ...  \n",
       "\n",
       "[463 rows x 18 columns]"
      ]
     },
     "execution_count": 141,
     "metadata": {},
     "output_type": "execute_result"
    }
   ],
   "source": [
    "work"
   ]
  },
  {
   "cell_type": "code",
   "execution_count": 125,
   "metadata": {},
   "outputs": [],
   "source": [
    "work.drop(index=[309], inplace=True)"
   ]
  },
  {
   "cell_type": "code",
   "execution_count": null,
   "metadata": {},
   "outputs": [],
   "source": []
  },
  {
   "cell_type": "code",
   "execution_count": null,
   "metadata": {},
   "outputs": [],
   "source": []
  },
  {
   "cell_type": "code",
   "execution_count": null,
   "metadata": {},
   "outputs": [],
   "source": [
    "%%time\n",
    "\n",
    "work['text_des'] = work.apply(take_first_part, axis=1)"
   ]
  },
  {
   "cell_type": "code",
   "execution_count": null,
   "metadata": {},
   "outputs": [],
   "source": [
    "work[\n",
    "    (work.text_des == '[]')].shape"
   ]
  },
  {
   "cell_type": "code",
   "execution_count": null,
   "metadata": {},
   "outputs": [],
   "source": [
    "work[~\n",
    "     (work.act_text.str.contains('end_first_part', case=False))\n",
    "    ].act_url.head()"
   ]
  },
  {
   "cell_type": "code",
   "execution_count": null,
   "metadata": {},
   "outputs": [],
   "source": [
    "work[\n",
    "    (work.act_text.str.contains('end_first_part', case=False))].shape"
   ]
  },
  {
   "cell_type": "code",
   "execution_count": null,
   "metadata": {},
   "outputs": [],
   "source": [
    "work.head()"
   ]
  },
  {
   "cell_type": "code",
   "execution_count": null,
   "metadata": {},
   "outputs": [],
   "source": []
  },
  {
   "cell_type": "code",
   "execution_count": null,
   "metadata": {},
   "outputs": [],
   "source": []
  },
  {
   "cell_type": "code",
   "execution_count": null,
   "metadata": {},
   "outputs": [],
   "source": []
  },
  {
   "cell_type": "markdown",
   "metadata": {},
   "source": [
    "#### Чищу html код"
   ]
  },
  {
   "cell_type": "code",
   "execution_count": null,
   "metadata": {},
   "outputs": [],
   "source": [
    "#\n",
    "\n",
    "#work['html_text'] = work['html_text'].replace(r'.+?<h1>', '', regex=True)\n",
    "#work['html_text'] = work['html_text'].replace(r'<!--AdFox START-->', '', regex=True)\n",
    "\n"
   ]
  },
  {
   "cell_type": "code",
   "execution_count": null,
   "metadata": {},
   "outputs": [],
   "source": []
  },
  {
   "cell_type": "code",
   "execution_count": null,
   "metadata": {},
   "outputs": [],
   "source": []
  },
  {
   "cell_type": "code",
   "execution_count": null,
   "metadata": {},
   "outputs": [],
   "source": []
  },
  {
   "cell_type": "code",
   "execution_count": null,
   "metadata": {},
   "outputs": [],
   "source": []
  },
  {
   "cell_type": "code",
   "execution_count": null,
   "metadata": {},
   "outputs": [],
   "source": [
    "# считаю длину текста судебных решений\n",
    "\n",
    "temp_work['text_len'] = temp_work['act_text'].apply(lambda text: len(text))\n",
    "temp_work = temp_work.astype({'text_len': 'int32'})"
   ]
  },
  {
   "cell_type": "code",
   "execution_count": null,
   "metadata": {},
   "outputs": [],
   "source": [
    "temp_work['rest'] = temp_work['rest'].str.strip()"
   ]
  },
  {
   "cell_type": "code",
   "execution_count": null,
   "metadata": {},
   "outputs": [],
   "source": []
  },
  {
   "cell_type": "code",
   "execution_count": null,
   "metadata": {},
   "outputs": [],
   "source": [
    "work = pd.concat([work, temp_work], axis=1)"
   ]
  },
  {
   "cell_type": "code",
   "execution_count": null,
   "metadata": {},
   "outputs": [],
   "source": []
  },
  {
   "cell_type": "code",
   "execution_count": null,
   "metadata": {},
   "outputs": [],
   "source": [
    "re.findall('Последние документы по делу:',)\n",
    "\n",
    "work.act_text[1456]"
   ]
  },
  {
   "cell_type": "code",
   "execution_count": null,
   "metadata": {},
   "outputs": [],
   "source": []
  },
  {
   "cell_type": "code",
   "execution_count": null,
   "metadata": {},
   "outputs": [],
   "source": []
  },
  {
   "cell_type": "code",
   "execution_count": null,
   "metadata": {},
   "outputs": [],
   "source": [
    "work = work[['act_name', 'act_date', 'court', 'act_info', 'act_text', 'text_len', 'act_url', 'instance', 'queries']]"
   ]
  },
  {
   "cell_type": "code",
   "execution_count": null,
   "metadata": {},
   "outputs": [],
   "source": [
    "work.sample(3)"
   ]
  },
  {
   "cell_type": "code",
   "execution_count": null,
   "metadata": {},
   "outputs": [],
   "source": []
  },
  {
   "cell_type": "code",
   "execution_count": null,
   "metadata": {},
   "outputs": [],
   "source": [
    "re.search(r'Истцы:.+(подробнее)?', work.act_text[6])"
   ]
  },
  {
   "cell_type": "code",
   "execution_count": null,
   "metadata": {},
   "outputs": [],
   "source": [
    "work.act_text[1456]"
   ]
  },
  {
   "cell_type": "code",
   "execution_count": null,
   "metadata": {},
   "outputs": [],
   "source": []
  },
  {
   "cell_type": "code",
   "execution_count": null,
   "metadata": {},
   "outputs": [],
   "source": [
    "test = re.findall(r'Суд: .+\\(подробнее\\)', work.act_text[1456])"
   ]
  },
  {
   "cell_type": "code",
   "execution_count": null,
   "metadata": {},
   "outputs": [],
   "source": [
    "test[0].split(' (подробнее) ')"
   ]
  },
  {
   "cell_type": "code",
   "execution_count": null,
   "metadata": {},
   "outputs": [],
   "source": [
    "work.act_text[344]"
   ]
  },
  {
   "cell_type": "code",
   "execution_count": null,
   "metadata": {},
   "outputs": [],
   "source": [
    "# создаю датафрейм только с лосями\n",
    "\n",
    "work_elks = work[work.queries.str.contains('лос', case=False)]"
   ]
  },
  {
   "cell_type": "code",
   "execution_count": null,
   "metadata": {},
   "outputs": [],
   "source": [
    "work_elks.shape"
   ]
  },
  {
   "cell_type": "code",
   "execution_count": null,
   "metadata": {},
   "outputs": [],
   "source": [
    "work.head(1)"
   ]
  },
  {
   "cell_type": "code",
   "execution_count": null,
   "metadata": {},
   "outputs": [],
   "source": [
    "work."
   ]
  },
  {
   "cell_type": "code",
   "execution_count": null,
   "metadata": {},
   "outputs": [],
   "source": []
  },
  {
   "cell_type": "code",
   "execution_count": null,
   "metadata": {},
   "outputs": [],
   "source": []
  },
  {
   "cell_type": "code",
   "execution_count": null,
   "metadata": {},
   "outputs": [],
   "source": []
  },
  {
   "cell_type": "code",
   "execution_count": null,
   "metadata": {},
   "outputs": [],
   "source": [
    "work_temp = work[~(\n",
    "    \n",
    "    (work.act_text.str.contains(' лося', case=False)) |\n",
    "    (work.act_text.str.contains(' лосем', case=False)) |\n",
    "    (work.act_text.str.contains(' лосенка', case=False)) |\n",
    "    (work.act_text.str.contains(' лосих', case=False)) |\n",
    "    (work.act_text.str.contains(' лось', case=False)) |\n",
    "    (work.act_text.str.contains(' медвед', case=False))\n",
    "    \n",
    "    \n",
    ")]"
   ]
  },
  {
   "cell_type": "code",
   "execution_count": null,
   "metadata": {},
   "outputs": [],
   "source": [
    "work_temp"
   ]
  },
  {
   "cell_type": "code",
   "execution_count": null,
   "metadata": {},
   "outputs": [],
   "source": []
  },
  {
   "cell_type": "code",
   "execution_count": null,
   "metadata": {},
   "outputs": [],
   "source": [
    "work.sample(3)"
   ]
  },
  {
   "cell_type": "code",
   "execution_count": null,
   "metadata": {},
   "outputs": [],
   "source": [
    "work.to_csv(file_path + 'temp_666.csv')"
   ]
  },
  {
   "cell_type": "code",
   "execution_count": null,
   "metadata": {},
   "outputs": [],
   "source": []
  },
  {
   "cell_type": "code",
   "execution_count": null,
   "metadata": {},
   "outputs": [],
   "source": []
  },
  {
   "cell_type": "code",
   "execution_count": null,
   "metadata": {},
   "outputs": [],
   "source": []
  }
 ],
 "metadata": {
  "kernelspec": {
   "display_name": "Python 3",
   "language": "python",
   "name": "python3"
  },
  "language_info": {
   "codemirror_mode": {
    "name": "ipython",
    "version": 3
   },
   "file_extension": ".py",
   "mimetype": "text/x-python",
   "name": "python",
   "nbconvert_exporter": "python",
   "pygments_lexer": "ipython3",
   "version": "3.8.8"
  }
 },
 "nbformat": 4,
 "nbformat_minor": 2
}
