{
 "cells": [
  {
   "cell_type": "code",
   "execution_count": null,
   "id": "23aa097b",
   "metadata": {},
   "outputs": [],
   "source": []
  },
  {
   "cell_type": "markdown",
   "id": "6027a679",
   "metadata": {},
   "source": [
    "## Библиотеки и настройки"
   ]
  },
  {
   "cell_type": "code",
   "execution_count": 1,
   "id": "4f5c5adc",
   "metadata": {},
   "outputs": [],
   "source": [
    "# импорт библиотек\n",
    "\n",
    "import pandas as pd # панды\n",
    "pd.options.mode.chained_assignment = None  # отключаю предупреждения default='warn'\n",
    "import numpy as np\n",
    "\n",
    "import re # регулярки\n",
    "import os # для работы с папками и файлами\n",
    "\n",
    "import datetime\n",
    "\n",
    "\n",
    "import matplotlib.pyplot as plt\n",
    "import seaborn as sns\n",
    "sns.set(style='white')\n",
    "\n",
    "import squarify \n",
    "\n",
    "import statistics\n",
    "from scipy.stats import t\n",
    "from scipy.stats import norm\n",
    "from scipy import stats\n",
    "\n",
    "from scipy.stats import pearsonr\n",
    "\n",
    "from scipy.stats import shapiro\n",
    "from scipy.stats import chi2_contingency\n",
    "\n",
    "# для КА\n",
    "from sklearn import preprocessing\n",
    "from sklearn.cluster import KMeans\n",
    "\n",
    "from scipy.spatial.distance import pdist\n",
    "from scipy.cluster.hierarchy import dendrogram, linkage, fcluster\n",
    "\n",
    "\n",
    "import io\n",
    "import requests\n",
    "from IPython.display import Image\n",
    "\n",
    "%matplotlib inline"
   ]
  },
  {
   "cell_type": "code",
   "execution_count": null,
   "id": "5e57079d",
   "metadata": {},
   "outputs": [],
   "source": []
  },
  {
   "cell_type": "markdown",
   "id": "bdb887f8",
   "metadata": {},
   "source": [
    "## dtp-stat"
   ]
  },
  {
   "cell_type": "code",
   "execution_count": 2,
   "id": "7de5c973",
   "metadata": {},
   "outputs": [],
   "source": [
    "work_dtp = pd.read_csv('C:/00_Data/dtp-stat/dtp_stat_all.csv')"
   ]
  },
  {
   "cell_type": "code",
   "execution_count": 3,
   "id": "76cc198a",
   "metadata": {},
   "outputs": [],
   "source": [
    "work_dtp.rename(columns={'datetime': 'date_time'}, inplace=True)"
   ]
  },
  {
   "cell_type": "code",
   "execution_count": 4,
   "id": "bc1ef683",
   "metadata": {},
   "outputs": [
    {
     "data": {
      "text/plain": [
       "Index(['accident_id', 'accident_type', 'category', 'region', 'district',\n",
       "       'address', 'coordinates', 'type_coordinates', 'accident_lat',\n",
       "       'accident_long', 'location', 'date_time', 'day_period', 'weather',\n",
       "       'road_conditions', 'participants_count', 'participant_categories',\n",
       "       'dead_count', 'injured_count', 'severity', 'auto_type', 'auto_brand',\n",
       "       'auto_model', 'auto_year', 'auto_color', 'role', 'gender', 'violations',\n",
       "       'health_status', 'years_of_driving_experience'],\n",
       "      dtype='object')"
      ]
     },
     "execution_count": 4,
     "metadata": {},
     "output_type": "execute_result"
    }
   ],
   "source": [
    "work_dtp.columns"
   ]
  },
  {
   "cell_type": "code",
   "execution_count": 5,
   "id": "056967ee",
   "metadata": {},
   "outputs": [],
   "source": [
    "work_dtp['violations'] = work_dtp['violations'].replace('\\s+', ' ', regex=True)"
   ]
  },
  {
   "cell_type": "code",
   "execution_count": 6,
   "id": "009af061",
   "metadata": {},
   "outputs": [],
   "source": [
    "work_dtp['violations'] = work_dtp['violations'].replace(r'\\\\\\\\xa0', ' ', regex=True)"
   ]
  },
  {
   "cell_type": "code",
   "execution_count": 7,
   "id": "5072b5a0",
   "metadata": {},
   "outputs": [
    {
     "data": {
      "text/html": [
       "<div>\n",
       "<style scoped>\n",
       "    .dataframe tbody tr th:only-of-type {\n",
       "        vertical-align: middle;\n",
       "    }\n",
       "\n",
       "    .dataframe tbody tr th {\n",
       "        vertical-align: top;\n",
       "    }\n",
       "\n",
       "    .dataframe thead th {\n",
       "        text-align: right;\n",
       "    }\n",
       "</style>\n",
       "<table border=\"1\" class=\"dataframe\">\n",
       "  <thead>\n",
       "    <tr style=\"text-align: right;\">\n",
       "      <th></th>\n",
       "      <th>accident_id</th>\n",
       "      <th>accident_type</th>\n",
       "      <th>category</th>\n",
       "      <th>region</th>\n",
       "      <th>district</th>\n",
       "      <th>address</th>\n",
       "      <th>coordinates</th>\n",
       "      <th>type_coordinates</th>\n",
       "      <th>accident_lat</th>\n",
       "      <th>accident_long</th>\n",
       "      <th>...</th>\n",
       "      <th>auto_type</th>\n",
       "      <th>auto_brand</th>\n",
       "      <th>auto_model</th>\n",
       "      <th>auto_year</th>\n",
       "      <th>auto_color</th>\n",
       "      <th>role</th>\n",
       "      <th>gender</th>\n",
       "      <th>violations</th>\n",
       "      <th>health_status</th>\n",
       "      <th>years_of_driving_experience</th>\n",
       "    </tr>\n",
       "  </thead>\n",
       "  <tbody>\n",
       "    <tr>\n",
       "      <th>1548058</th>\n",
       "      <td>2301564</td>\n",
       "      <td>['Дорожно-транспортные происшествия']</td>\n",
       "      <td>Наезд на пешехода</td>\n",
       "      <td>Псковская область</td>\n",
       "      <td>Псков</td>\n",
       "      <td>г Псков, ул Николая Васильева, 69</td>\n",
       "      <td>{'lat': 57.8236, 'long': 28.397}</td>\n",
       "      <td>Point</td>\n",
       "      <td>57.8236</td>\n",
       "      <td>28.397</td>\n",
       "      <td>...</td>\n",
       "      <td>В-класс (малый) до 3,9 м</td>\n",
       "      <td>ВАЗ</td>\n",
       "      <td>ВАЗ 2110, 21101, 21102, 21103, 21108</td>\n",
       "      <td>2002.0</td>\n",
       "      <td>Серый</td>\n",
       "      <td>Водитель</td>\n",
       "      <td>Женский</td>\n",
       "      <td>[]</td>\n",
       "      <td>Раненый, находящийся (находившийся)  на амбула...</td>\n",
       "      <td>none</td>\n",
       "    </tr>\n",
       "    <tr>\n",
       "      <th>2526371</th>\n",
       "      <td>2205335</td>\n",
       "      <td>['Дорожно-транспортные происшествия']</td>\n",
       "      <td>Наезд на пешехода</td>\n",
       "      <td>Удмуртская Республика</td>\n",
       "      <td>Ижевск</td>\n",
       "      <td>г Ижевск, ул Спортивная, 31</td>\n",
       "      <td>{'lat': 56.0, 'long': 53.0}</td>\n",
       "      <td>Point</td>\n",
       "      <td>56.0000</td>\n",
       "      <td>53.000</td>\n",
       "      <td>...</td>\n",
       "      <td>Мотоциклы</td>\n",
       "      <td>Прочие марки мотоциклов</td>\n",
       "      <td>Прочие марки мотоциклов</td>\n",
       "      <td>2015.0</td>\n",
       "      <td>Иные цвета</td>\n",
       "      <td>Водитель</td>\n",
       "      <td>Мужской</td>\n",
       "      <td>['Неожиданный выход из-за ТС', 'Переход через ...</td>\n",
       "      <td>Раненый, находящийся (находившийся) на стацион...</td>\n",
       "      <td>none</td>\n",
       "    </tr>\n",
       "  </tbody>\n",
       "</table>\n",
       "<p>2 rows × 30 columns</p>\n",
       "</div>"
      ],
      "text/plain": [
       "         accident_id                          accident_type  \\\n",
       "1548058      2301564  ['Дорожно-транспортные происшествия']   \n",
       "2526371      2205335  ['Дорожно-транспортные происшествия']   \n",
       "\n",
       "                  category                 region district  \\\n",
       "1548058  Наезд на пешехода      Псковская область    Псков   \n",
       "2526371  Наезд на пешехода  Удмуртская Республика   Ижевск   \n",
       "\n",
       "                                   address                       coordinates  \\\n",
       "1548058  г Псков, ул Николая Васильева, 69  {'lat': 57.8236, 'long': 28.397}   \n",
       "2526371        г Ижевск, ул Спортивная, 31       {'lat': 56.0, 'long': 53.0}   \n",
       "\n",
       "        type_coordinates  accident_lat  accident_long  ...  \\\n",
       "1548058            Point       57.8236         28.397  ...   \n",
       "2526371            Point       56.0000         53.000  ...   \n",
       "\n",
       "                        auto_type               auto_brand  \\\n",
       "1548058  В-класс (малый) до 3,9 м                      ВАЗ   \n",
       "2526371                 Мотоциклы  Прочие марки мотоциклов   \n",
       "\n",
       "                                   auto_model auto_year  auto_color      role  \\\n",
       "1548058  ВАЗ 2110, 21101, 21102, 21103, 21108    2002.0       Серый  Водитель   \n",
       "2526371               Прочие марки мотоциклов    2015.0  Иные цвета  Водитель   \n",
       "\n",
       "          gender                                         violations  \\\n",
       "1548058  Женский                                                 []   \n",
       "2526371  Мужской  ['Неожиданный выход из-за ТС', 'Переход через ...   \n",
       "\n",
       "                                             health_status  \\\n",
       "1548058  Раненый, находящийся (находившийся)  на амбула...   \n",
       "2526371  Раненый, находящийся (находившийся) на стацион...   \n",
       "\n",
       "        years_of_driving_experience  \n",
       "1548058                        none  \n",
       "2526371                        none  \n",
       "\n",
       "[2 rows x 30 columns]"
      ]
     },
     "execution_count": 7,
     "metadata": {},
     "output_type": "execute_result"
    }
   ],
   "source": [
    "work_dtp.sample(2)"
   ]
  },
  {
   "cell_type": "code",
   "execution_count": 8,
   "id": "007589ce",
   "metadata": {},
   "outputs": [
    {
     "data": {
      "text/plain": [
       "2015-08-05 14:35:00    62\n",
       "2017-08-25 07:30:00    60\n",
       "2019-12-21 09:10:00    59\n",
       "2019-08-17 17:06:00    59\n",
       "2021-07-09 08:50:00    58\n",
       "Name: date_time, dtype: int64"
      ]
     },
     "execution_count": 8,
     "metadata": {},
     "output_type": "execute_result"
    }
   ],
   "source": [
    "work_dtp.date_time.value_counts().head()"
   ]
  },
  {
   "cell_type": "code",
   "execution_count": 9,
   "id": "add352ef",
   "metadata": {},
   "outputs": [],
   "source": [
    "work_dtp['year'] = work_dtp['date_time'].apply(lambda text_year: text_year[:4])"
   ]
  },
  {
   "cell_type": "code",
   "execution_count": 10,
   "id": "61ab93d3",
   "metadata": {},
   "outputs": [
    {
     "data": {
      "text/plain": [
       "2015    439528\n",
       "2016    419953\n",
       "2017    418165\n",
       "2018    415311\n",
       "2019    406796\n",
       "2020    354274\n",
       "2021    306759\n",
       "Name: year, dtype: int64"
      ]
     },
     "execution_count": 10,
     "metadata": {},
     "output_type": "execute_result"
    }
   ],
   "source": [
    "work_dtp['year'].value_counts()"
   ]
  },
  {
   "cell_type": "code",
   "execution_count": 11,
   "id": "4126cda3",
   "metadata": {},
   "outputs": [
    {
     "data": {
      "text/html": [
       "<div>\n",
       "<style scoped>\n",
       "    .dataframe tbody tr th:only-of-type {\n",
       "        vertical-align: middle;\n",
       "    }\n",
       "\n",
       "    .dataframe tbody tr th {\n",
       "        vertical-align: top;\n",
       "    }\n",
       "\n",
       "    .dataframe thead th {\n",
       "        text-align: right;\n",
       "    }\n",
       "</style>\n",
       "<table border=\"1\" class=\"dataframe\">\n",
       "  <thead>\n",
       "    <tr style=\"text-align: right;\">\n",
       "      <th></th>\n",
       "      <th>region</th>\n",
       "      <th>year</th>\n",
       "      <th>accident_id</th>\n",
       "    </tr>\n",
       "  </thead>\n",
       "  <tbody>\n",
       "    <tr>\n",
       "      <th>0</th>\n",
       "      <td>Алтайский край</td>\n",
       "      <td>2015</td>\n",
       "      <td>8229</td>\n",
       "    </tr>\n",
       "    <tr>\n",
       "      <th>1</th>\n",
       "      <td>Алтайский край</td>\n",
       "      <td>2016</td>\n",
       "      <td>7527</td>\n",
       "    </tr>\n",
       "    <tr>\n",
       "      <th>2</th>\n",
       "      <td>Алтайский край</td>\n",
       "      <td>2017</td>\n",
       "      <td>7447</td>\n",
       "    </tr>\n",
       "    <tr>\n",
       "      <th>3</th>\n",
       "      <td>Алтайский край</td>\n",
       "      <td>2018</td>\n",
       "      <td>7065</td>\n",
       "    </tr>\n",
       "    <tr>\n",
       "      <th>4</th>\n",
       "      <td>Алтайский край</td>\n",
       "      <td>2019</td>\n",
       "      <td>6758</td>\n",
       "    </tr>\n",
       "    <tr>\n",
       "      <th>...</th>\n",
       "      <td>...</td>\n",
       "      <td>...</td>\n",
       "      <td>...</td>\n",
       "    </tr>\n",
       "    <tr>\n",
       "      <th>590</th>\n",
       "      <td>Ярославская область</td>\n",
       "      <td>2017</td>\n",
       "      <td>4649</td>\n",
       "    </tr>\n",
       "    <tr>\n",
       "      <th>591</th>\n",
       "      <td>Ярославская область</td>\n",
       "      <td>2018</td>\n",
       "      <td>4820</td>\n",
       "    </tr>\n",
       "    <tr>\n",
       "      <th>592</th>\n",
       "      <td>Ярославская область</td>\n",
       "      <td>2019</td>\n",
       "      <td>5091</td>\n",
       "    </tr>\n",
       "    <tr>\n",
       "      <th>593</th>\n",
       "      <td>Ярославская область</td>\n",
       "      <td>2020</td>\n",
       "      <td>4097</td>\n",
       "    </tr>\n",
       "    <tr>\n",
       "      <th>594</th>\n",
       "      <td>Ярославская область</td>\n",
       "      <td>2021</td>\n",
       "      <td>3383</td>\n",
       "    </tr>\n",
       "  </tbody>\n",
       "</table>\n",
       "<p>595 rows × 3 columns</p>\n",
       "</div>"
      ],
      "text/plain": [
       "                  region  year  accident_id\n",
       "0         Алтайский край  2015         8229\n",
       "1         Алтайский край  2016         7527\n",
       "2         Алтайский край  2017         7447\n",
       "3         Алтайский край  2018         7065\n",
       "4         Алтайский край  2019         6758\n",
       "..                   ...   ...          ...\n",
       "590  Ярославская область  2017         4649\n",
       "591  Ярославская область  2018         4820\n",
       "592  Ярославская область  2019         5091\n",
       "593  Ярославская область  2020         4097\n",
       "594  Ярославская область  2021         3383\n",
       "\n",
       "[595 rows x 3 columns]"
      ]
     },
     "execution_count": 11,
     "metadata": {},
     "output_type": "execute_result"
    }
   ],
   "source": [
    "(work_dtp.groupby(['region', 'year'], as_index=False)\n",
    " .agg({'accident_id': 'count'})\n",
    ")"
   ]
  },
  {
   "cell_type": "code",
   "execution_count": 12,
   "id": "932c429b",
   "metadata": {},
   "outputs": [],
   "source": [
    "def correct_violation_list(df):\n",
    "    new_list = []\n",
    "    temp_list = (df['violations']\n",
    "                .replace('\"', '')\n",
    "                .replace('[', '')\n",
    "                .replace(']', '')\n",
    "                .replace(\", '\", \",\")\n",
    "                .split(\"',\"))\n",
    "    \n",
    "    for i in temp_list:\n",
    "        new_list.append(i.replace(\"'\", ''))\n",
    "        \n",
    "        \n",
    "    if new_list == ['']:\n",
    "        \n",
    "        new_list = ['none'] \n",
    "        \n",
    "    return new_list"
   ]
  },
  {
   "cell_type": "code",
   "execution_count": 13,
   "id": "60a3dbe4",
   "metadata": {},
   "outputs": [
    {
     "name": "stdout",
     "output_type": "stream",
     "text": [
      "Wall time: 52.5 s\n"
     ]
    }
   ],
   "source": [
    "%%time\n",
    "\n",
    "work_dtp['new_violations'] = work_dtp.apply(correct_violation_list, axis=1)"
   ]
  },
  {
   "cell_type": "code",
   "execution_count": 14,
   "id": "38f8c2c4",
   "metadata": {},
   "outputs": [
    {
     "data": {
      "text/html": [
       "<div>\n",
       "<style scoped>\n",
       "    .dataframe tbody tr th:only-of-type {\n",
       "        vertical-align: middle;\n",
       "    }\n",
       "\n",
       "    .dataframe tbody tr th {\n",
       "        vertical-align: top;\n",
       "    }\n",
       "\n",
       "    .dataframe thead th {\n",
       "        text-align: right;\n",
       "    }\n",
       "</style>\n",
       "<table border=\"1\" class=\"dataframe\">\n",
       "  <thead>\n",
       "    <tr style=\"text-align: right;\">\n",
       "      <th></th>\n",
       "      <th>accident_id</th>\n",
       "      <th>accident_type</th>\n",
       "      <th>category</th>\n",
       "      <th>region</th>\n",
       "      <th>district</th>\n",
       "      <th>address</th>\n",
       "      <th>coordinates</th>\n",
       "      <th>type_coordinates</th>\n",
       "      <th>accident_lat</th>\n",
       "      <th>accident_long</th>\n",
       "      <th>...</th>\n",
       "      <th>auto_model</th>\n",
       "      <th>auto_year</th>\n",
       "      <th>auto_color</th>\n",
       "      <th>role</th>\n",
       "      <th>gender</th>\n",
       "      <th>violations</th>\n",
       "      <th>health_status</th>\n",
       "      <th>years_of_driving_experience</th>\n",
       "      <th>year</th>\n",
       "      <th>new_violations</th>\n",
       "    </tr>\n",
       "  </thead>\n",
       "  <tbody>\n",
       "    <tr>\n",
       "      <th>0</th>\n",
       "      <td>2311491</td>\n",
       "      <td>['Дорожно-транспортные происшествия']</td>\n",
       "      <td>Наезд на препятствие</td>\n",
       "      <td>Алтайский край</td>\n",
       "      <td>Барнаул</td>\n",
       "      <td>г Барнаул, тракт Павловский, 249 а</td>\n",
       "      <td>{'lat': 53.342, 'long': 83.6903}</td>\n",
       "      <td>Point</td>\n",
       "      <td>53.342000</td>\n",
       "      <td>83.690300</td>\n",
       "      <td>...</td>\n",
       "      <td>Camry</td>\n",
       "      <td>2002.0</td>\n",
       "      <td>Черный</td>\n",
       "      <td>Водитель</td>\n",
       "      <td>Мужской</td>\n",
       "      <td>['Другие нарушения ПДД водителем', 'Нарушение ...</td>\n",
       "      <td>Не пострадал</td>\n",
       "      <td>NaN</td>\n",
       "      <td>2017</td>\n",
       "      <td>[Другие нарушения ПДД водителем, Нарушение вод...</td>\n",
       "    </tr>\n",
       "    <tr>\n",
       "      <th>1</th>\n",
       "      <td>2311491</td>\n",
       "      <td>['Дорожно-транспортные происшествия']</td>\n",
       "      <td>Наезд на препятствие</td>\n",
       "      <td>Алтайский край</td>\n",
       "      <td>Барнаул</td>\n",
       "      <td>г Барнаул, тракт Павловский, 249 а</td>\n",
       "      <td>{'lat': 53.342, 'long': 83.6903}</td>\n",
       "      <td>Point</td>\n",
       "      <td>53.342000</td>\n",
       "      <td>83.690300</td>\n",
       "      <td>...</td>\n",
       "      <td>Camry</td>\n",
       "      <td>2002.0</td>\n",
       "      <td>Черный</td>\n",
       "      <td>Пассажир</td>\n",
       "      <td>Женский</td>\n",
       "      <td>['Нарушение правил применения ремней безопасно...</td>\n",
       "      <td>Раненый, находящийся (находившийся)  на амбула...</td>\n",
       "      <td>NaN</td>\n",
       "      <td>2017</td>\n",
       "      <td>[Нарушение правил применения ремней безопаснос...</td>\n",
       "    </tr>\n",
       "    <tr>\n",
       "      <th>2</th>\n",
       "      <td>2489516</td>\n",
       "      <td>['Дорожно-транспортные происшествия', 'ДТП и п...</td>\n",
       "      <td>Столкновение</td>\n",
       "      <td>Алтайский край</td>\n",
       "      <td>Барнаул</td>\n",
       "      <td>г Барнаул, ул Юрина, 241</td>\n",
       "      <td>{'lat': 53.369248, 'long': 83.699802}</td>\n",
       "      <td>Point</td>\n",
       "      <td>53.369248</td>\n",
       "      <td>83.699802</td>\n",
       "      <td>...</td>\n",
       "      <td>Forester</td>\n",
       "      <td>2006.0</td>\n",
       "      <td>Серый</td>\n",
       "      <td>Водитель</td>\n",
       "      <td>Мужской</td>\n",
       "      <td>['Несоответствие скорости конкретным условиям ...</td>\n",
       "      <td>Раненый, находящийся (находившийся) на амбулат...</td>\n",
       "      <td>12</td>\n",
       "      <td>2020</td>\n",
       "      <td>[Несоответствие скорости конкретным условиям д...</td>\n",
       "    </tr>\n",
       "    <tr>\n",
       "      <th>3</th>\n",
       "      <td>2489516</td>\n",
       "      <td>['Дорожно-транспортные происшествия', 'ДТП и п...</td>\n",
       "      <td>Столкновение</td>\n",
       "      <td>Алтайский край</td>\n",
       "      <td>Барнаул</td>\n",
       "      <td>г Барнаул, ул Юрина, 241</td>\n",
       "      <td>{'lat': 53.369248, 'long': 83.699802}</td>\n",
       "      <td>Point</td>\n",
       "      <td>53.369248</td>\n",
       "      <td>83.699802</td>\n",
       "      <td>...</td>\n",
       "      <td>Forester</td>\n",
       "      <td>2006.0</td>\n",
       "      <td>Серый</td>\n",
       "      <td>Пассажир</td>\n",
       "      <td>Женский</td>\n",
       "      <td>[]</td>\n",
       "      <td>Раненый, находящийся (находившийся) на амбулат...</td>\n",
       "      <td>NaN</td>\n",
       "      <td>2020</td>\n",
       "      <td>[none]</td>\n",
       "    </tr>\n",
       "    <tr>\n",
       "      <th>4</th>\n",
       "      <td>2489516</td>\n",
       "      <td>['Дорожно-транспортные происшествия', 'ДТП и п...</td>\n",
       "      <td>Столкновение</td>\n",
       "      <td>Алтайский край</td>\n",
       "      <td>Барнаул</td>\n",
       "      <td>г Барнаул, ул Юрина, 241</td>\n",
       "      <td>{'lat': 53.369248, 'long': 83.699802}</td>\n",
       "      <td>Point</td>\n",
       "      <td>53.369248</td>\n",
       "      <td>83.699802</td>\n",
       "      <td>...</td>\n",
       "      <td>Pajero</td>\n",
       "      <td>2014.0</td>\n",
       "      <td>Белый</td>\n",
       "      <td>Водитель</td>\n",
       "      <td>Мужской</td>\n",
       "      <td>[]</td>\n",
       "      <td>Не пострадал</td>\n",
       "      <td>29</td>\n",
       "      <td>2020</td>\n",
       "      <td>[none]</td>\n",
       "    </tr>\n",
       "  </tbody>\n",
       "</table>\n",
       "<p>5 rows × 32 columns</p>\n",
       "</div>"
      ],
      "text/plain": [
       "   accident_id                                      accident_type  \\\n",
       "0      2311491              ['Дорожно-транспортные происшествия']   \n",
       "1      2311491              ['Дорожно-транспортные происшествия']   \n",
       "2      2489516  ['Дорожно-транспортные происшествия', 'ДТП и п...   \n",
       "3      2489516  ['Дорожно-транспортные происшествия', 'ДТП и п...   \n",
       "4      2489516  ['Дорожно-транспортные происшествия', 'ДТП и п...   \n",
       "\n",
       "               category          region district  \\\n",
       "0  Наезд на препятствие  Алтайский край  Барнаул   \n",
       "1  Наезд на препятствие  Алтайский край  Барнаул   \n",
       "2          Столкновение  Алтайский край  Барнаул   \n",
       "3          Столкновение  Алтайский край  Барнаул   \n",
       "4          Столкновение  Алтайский край  Барнаул   \n",
       "\n",
       "                              address                            coordinates  \\\n",
       "0  г Барнаул, тракт Павловский, 249 а       {'lat': 53.342, 'long': 83.6903}   \n",
       "1  г Барнаул, тракт Павловский, 249 а       {'lat': 53.342, 'long': 83.6903}   \n",
       "2            г Барнаул, ул Юрина, 241  {'lat': 53.369248, 'long': 83.699802}   \n",
       "3            г Барнаул, ул Юрина, 241  {'lat': 53.369248, 'long': 83.699802}   \n",
       "4            г Барнаул, ул Юрина, 241  {'lat': 53.369248, 'long': 83.699802}   \n",
       "\n",
       "  type_coordinates  accident_lat  accident_long  ... auto_model auto_year  \\\n",
       "0            Point     53.342000      83.690300  ...      Camry    2002.0   \n",
       "1            Point     53.342000      83.690300  ...      Camry    2002.0   \n",
       "2            Point     53.369248      83.699802  ...   Forester    2006.0   \n",
       "3            Point     53.369248      83.699802  ...   Forester    2006.0   \n",
       "4            Point     53.369248      83.699802  ...     Pajero    2014.0   \n",
       "\n",
       "  auto_color      role   gender  \\\n",
       "0     Черный  Водитель  Мужской   \n",
       "1     Черный  Пассажир  Женский   \n",
       "2      Серый  Водитель  Мужской   \n",
       "3      Серый  Пассажир  Женский   \n",
       "4      Белый  Водитель  Мужской   \n",
       "\n",
       "                                          violations  \\\n",
       "0  ['Другие нарушения ПДД водителем', 'Нарушение ...   \n",
       "1  ['Нарушение правил применения ремней безопасно...   \n",
       "2  ['Несоответствие скорости конкретным условиям ...   \n",
       "3                                                 []   \n",
       "4                                                 []   \n",
       "\n",
       "                                       health_status  \\\n",
       "0                                       Не пострадал   \n",
       "1  Раненый, находящийся (находившийся)  на амбула...   \n",
       "2  Раненый, находящийся (находившийся) на амбулат...   \n",
       "3  Раненый, находящийся (находившийся) на амбулат...   \n",
       "4                                       Не пострадал   \n",
       "\n",
       "   years_of_driving_experience  year  \\\n",
       "0                          NaN  2017   \n",
       "1                          NaN  2017   \n",
       "2                           12  2020   \n",
       "3                          NaN  2020   \n",
       "4                           29  2020   \n",
       "\n",
       "                                      new_violations  \n",
       "0  [Другие нарушения ПДД водителем, Нарушение вод...  \n",
       "1  [Нарушение правил применения ремней безопаснос...  \n",
       "2  [Несоответствие скорости конкретным условиям д...  \n",
       "3                                             [none]  \n",
       "4                                             [none]  \n",
       "\n",
       "[5 rows x 32 columns]"
      ]
     },
     "execution_count": 14,
     "metadata": {},
     "output_type": "execute_result"
    }
   ],
   "source": [
    "work_dtp.head()"
   ]
  },
  {
   "cell_type": "code",
   "execution_count": null,
   "id": "6dcd7f5a",
   "metadata": {},
   "outputs": [],
   "source": []
  },
  {
   "cell_type": "code",
   "execution_count": 15,
   "id": "3d0af39c",
   "metadata": {},
   "outputs": [
    {
     "data": {
      "text/plain": [
       "['none']"
      ]
     },
     "execution_count": 15,
     "metadata": {},
     "output_type": "execute_result"
    }
   ],
   "source": [
    "work_dtp['new_violations'][3]"
   ]
  },
  {
   "cell_type": "code",
   "execution_count": 16,
   "id": "28f7fb2f",
   "metadata": {},
   "outputs": [
    {
     "data": {
      "text/plain": [
       "list"
      ]
     },
     "execution_count": 16,
     "metadata": {},
     "output_type": "execute_result"
    }
   ],
   "source": [
    "type(work_dtp['new_violations'][3])"
   ]
  },
  {
   "cell_type": "code",
   "execution_count": null,
   "id": "211d2404",
   "metadata": {},
   "outputs": [],
   "source": []
  },
  {
   "cell_type": "code",
   "execution_count": 18,
   "id": "b060091c",
   "metadata": {},
   "outputs": [],
   "source": [
    "# список нарушений\n",
    "\n",
    "data_violations = []\n",
    "\n",
    "for violation_list in work_dtp['new_violations']:\n",
    "    for violation in violation_list:\n",
    "        data_violations.append(violation)"
   ]
  },
  {
   "cell_type": "code",
   "execution_count": 20,
   "id": "d1a0e8c6",
   "metadata": {},
   "outputs": [],
   "source": [
    "data_violations = list(set(data_violations))"
   ]
  },
  {
   "cell_type": "code",
   "execution_count": 21,
   "id": "4cbe872f",
   "metadata": {},
   "outputs": [],
   "source": [
    "data_violations.sort()"
   ]
  },
  {
   "cell_type": "code",
   "execution_count": 22,
   "id": "51501aac",
   "metadata": {},
   "outputs": [
    {
     "data": {
      "text/plain": [
       "112"
      ]
     },
     "execution_count": 22,
     "metadata": {},
     "output_type": "execute_result"
    }
   ],
   "source": [
    "len(data_violations)"
   ]
  },
  {
   "cell_type": "code",
   "execution_count": 23,
   "id": "8f2c51f5",
   "metadata": {},
   "outputs": [],
   "source": [
    "# словарь для подсчета\n",
    "\n",
    "violation_dict = {}\n",
    "\n",
    "for i in data_violations:\n",
    "    violation_dict[i] = 0"
   ]
  },
  {
   "cell_type": "code",
   "execution_count": null,
   "id": "c6de55b9",
   "metadata": {},
   "outputs": [],
   "source": []
  },
  {
   "cell_type": "code",
   "execution_count": 24,
   "id": "4459ed64",
   "metadata": {},
   "outputs": [
    {
     "name": "stdout",
     "output_type": "stream",
     "text": [
      "Wall time: 3min 31s\n"
     ]
    }
   ],
   "source": [
    "%%time\n",
    "\n",
    "# цикл для подсчета значений\n",
    "\n",
    "for item in data_violations:\n",
    "    \n",
    "    for violations_item in work_dtp['new_violations']:\n",
    "        \n",
    "        for one_violation in violations_item:\n",
    "            if item == one_violation:\n",
    "                violation_dict[item] += 1"
   ]
  },
  {
   "cell_type": "code",
   "execution_count": 25,
   "id": "1526f9da",
   "metadata": {},
   "outputs": [],
   "source": [
    "work_violations = pd.DataFrame().from_dict(violation_dict, orient='index').reset_index()"
   ]
  },
  {
   "cell_type": "code",
   "execution_count": 26,
   "id": "884905a5",
   "metadata": {},
   "outputs": [],
   "source": [
    "work_violations.columns=['violation', 'number']"
   ]
  },
  {
   "cell_type": "code",
   "execution_count": 27,
   "id": "06b6e51e",
   "metadata": {},
   "outputs": [
    {
     "data": {
      "text/html": [
       "<div>\n",
       "<style scoped>\n",
       "    .dataframe tbody tr th:only-of-type {\n",
       "        vertical-align: middle;\n",
       "    }\n",
       "\n",
       "    .dataframe tbody tr th {\n",
       "        vertical-align: top;\n",
       "    }\n",
       "\n",
       "    .dataframe thead th {\n",
       "        text-align: right;\n",
       "    }\n",
       "</style>\n",
       "<table border=\"1\" class=\"dataframe\">\n",
       "  <thead>\n",
       "    <tr style=\"text-align: right;\">\n",
       "      <th></th>\n",
       "      <th>violation</th>\n",
       "      <th>number</th>\n",
       "    </tr>\n",
       "  </thead>\n",
       "  <tbody>\n",
       "    <tr>\n",
       "      <th>0</th>\n",
       "      <td>none</td>\n",
       "      <td>1424171</td>\n",
       "    </tr>\n",
       "    <tr>\n",
       "      <th>1</th>\n",
       "      <td>Выезд на полосу встречного движения</td>\n",
       "      <td>85115</td>\n",
       "    </tr>\n",
       "    <tr>\n",
       "      <th>2</th>\n",
       "      <td>Выезд на полосу встречного движения в местах, ...</td>\n",
       "      <td>11792</td>\n",
       "    </tr>\n",
       "    <tr>\n",
       "      <th>3</th>\n",
       "      <td>Выезд на полосу встречного движения с разворот...</td>\n",
       "      <td>5581</td>\n",
       "    </tr>\n",
       "    <tr>\n",
       "      <th>4</th>\n",
       "      <td>Выезд на трамвайные пути встречного направления</td>\n",
       "      <td>54</td>\n",
       "    </tr>\n",
       "    <tr>\n",
       "      <th>...</th>\n",
       "      <td>...</td>\n",
       "      <td>...</td>\n",
       "    </tr>\n",
       "    <tr>\n",
       "      <th>107</th>\n",
       "      <td>Ходьба вдоль проезжей части попутного направле...</td>\n",
       "      <td>2756</td>\n",
       "    </tr>\n",
       "    <tr>\n",
       "      <th>108</th>\n",
       "      <td>Ходьба вдоль проезжей части при наличии и удов...</td>\n",
       "      <td>2087</td>\n",
       "    </tr>\n",
       "    <tr>\n",
       "      <th>109</th>\n",
       "      <td>Эксплуатация ТС с техническими неисправностями...</td>\n",
       "      <td>4994</td>\n",
       "    </tr>\n",
       "    <tr>\n",
       "      <th>110</th>\n",
       "      <td>Эксплуатация незарегистрированного ТС</td>\n",
       "      <td>22174</td>\n",
       "    </tr>\n",
       "    <tr>\n",
       "      <th>111</th>\n",
       "      <td>Эксплуатация технически неисправного ТС (прост...</td>\n",
       "      <td>4324</td>\n",
       "    </tr>\n",
       "  </tbody>\n",
       "</table>\n",
       "<p>112 rows × 2 columns</p>\n",
       "</div>"
      ],
      "text/plain": [
       "                                             violation   number\n",
       "0                                                 none  1424171\n",
       "1                  Выезд на полосу встречного движения    85115\n",
       "2    Выезд на полосу встречного движения в местах, ...    11792\n",
       "3    Выезд на полосу встречного движения с разворот...     5581\n",
       "4      Выезд на трамвайные пути встречного направления       54\n",
       "..                                                 ...      ...\n",
       "107  Ходьба вдоль проезжей части попутного направле...     2756\n",
       "108  Ходьба вдоль проезжей части при наличии и удов...     2087\n",
       "109  Эксплуатация ТС с техническими неисправностями...     4994\n",
       "110              Эксплуатация незарегистрированного ТС    22174\n",
       "111  Эксплуатация технически неисправного ТС (прост...     4324\n",
       "\n",
       "[112 rows x 2 columns]"
      ]
     },
     "execution_count": 27,
     "metadata": {},
     "output_type": "execute_result"
    }
   ],
   "source": [
    "work_violations.head(7)"
   ]
  },
  {
   "cell_type": "code",
   "execution_count": null,
   "id": "1683447a",
   "metadata": {},
   "outputs": [],
   "source": [
    "#work_violations.to_excel('C:/00_Projects/RIA/2022/02_elk_accidents/00_data/all_dtp.xlsx')"
   ]
  },
  {
   "cell_type": "code",
   "execution_count": null,
   "id": "e469e8c4",
   "metadata": {},
   "outputs": [],
   "source": []
  },
  {
   "cell_type": "markdown",
   "id": "cfd2f762",
   "metadata": {},
   "source": [
    "## ДТП с животными"
   ]
  },
  {
   "cell_type": "code",
   "execution_count": 28,
   "id": "1f7bf700",
   "metadata": {},
   "outputs": [
    {
     "data": {
      "text/plain": [
       "Index(['accident_id', 'accident_type', 'category', 'region', 'district',\n",
       "       'address', 'coordinates', 'type_coordinates', 'accident_lat',\n",
       "       'accident_long', 'location', 'date_time', 'day_period', 'weather',\n",
       "       'road_conditions', 'participants_count', 'participant_categories',\n",
       "       'dead_count', 'injured_count', 'severity', 'auto_type', 'auto_brand',\n",
       "       'auto_model', 'auto_year', 'auto_color', 'role', 'gender', 'violations',\n",
       "       'health_status', 'years_of_driving_experience', 'year',\n",
       "       'new_violations'],\n",
       "      dtype='object')"
      ]
     },
     "execution_count": 28,
     "metadata": {},
     "output_type": "execute_result"
    }
   ],
   "source": [
    "work_dtp.columns"
   ]
  },
  {
   "cell_type": "code",
   "execution_count": 29,
   "id": "ef125f62",
   "metadata": {},
   "outputs": [
    {
     "data": {
      "text/html": [
       "<div>\n",
       "<style scoped>\n",
       "    .dataframe tbody tr th:only-of-type {\n",
       "        vertical-align: middle;\n",
       "    }\n",
       "\n",
       "    .dataframe tbody tr th {\n",
       "        vertical-align: top;\n",
       "    }\n",
       "\n",
       "    .dataframe thead th {\n",
       "        text-align: right;\n",
       "    }\n",
       "</style>\n",
       "<table border=\"1\" class=\"dataframe\">\n",
       "  <thead>\n",
       "    <tr style=\"text-align: right;\">\n",
       "      <th></th>\n",
       "      <th>index</th>\n",
       "      <th>category</th>\n",
       "    </tr>\n",
       "  </thead>\n",
       "  <tbody>\n",
       "    <tr>\n",
       "      <th>0</th>\n",
       "      <td>Столкновение</td>\n",
       "      <td>1452653</td>\n",
       "    </tr>\n",
       "    <tr>\n",
       "      <th>1</th>\n",
       "      <td>Наезд на пешехода</td>\n",
       "      <td>672599</td>\n",
       "    </tr>\n",
       "    <tr>\n",
       "      <th>2</th>\n",
       "      <td>Опрокидывание</td>\n",
       "      <td>141775</td>\n",
       "    </tr>\n",
       "    <tr>\n",
       "      <th>3</th>\n",
       "      <td>Наезд на препятствие</td>\n",
       "      <td>125329</td>\n",
       "    </tr>\n",
       "    <tr>\n",
       "      <th>4</th>\n",
       "      <td>Съезд с дороги</td>\n",
       "      <td>100349</td>\n",
       "    </tr>\n",
       "    <tr>\n",
       "      <th>5</th>\n",
       "      <td>Наезд на стоящее ТС</td>\n",
       "      <td>96029</td>\n",
       "    </tr>\n",
       "    <tr>\n",
       "      <th>6</th>\n",
       "      <td>Падение пассажира</td>\n",
       "      <td>76143</td>\n",
       "    </tr>\n",
       "    <tr>\n",
       "      <th>7</th>\n",
       "      <td>Наезд на велосипедиста</td>\n",
       "      <td>74000</td>\n",
       "    </tr>\n",
       "    <tr>\n",
       "      <th>8</th>\n",
       "      <td>Иной вид ДТП</td>\n",
       "      <td>9402</td>\n",
       "    </tr>\n",
       "    <tr>\n",
       "      <th>9</th>\n",
       "      <td>Наезд на животное</td>\n",
       "      <td>6540</td>\n",
       "    </tr>\n",
       "    <tr>\n",
       "      <th>10</th>\n",
       "      <td>Отбрасывание предмета</td>\n",
       "      <td>1850</td>\n",
       "    </tr>\n",
       "    <tr>\n",
       "      <th>11</th>\n",
       "      <td>Наезд на лицо, не являющееся участником дорожн...</td>\n",
       "      <td>1057</td>\n",
       "    </tr>\n",
       "    <tr>\n",
       "      <th>12</th>\n",
       "      <td>Наезд на лицо, не являющееся участником дорожн...</td>\n",
       "      <td>735</td>\n",
       "    </tr>\n",
       "    <tr>\n",
       "      <th>13</th>\n",
       "      <td>Наезд на лицо, не являющееся участником дорожн...</td>\n",
       "      <td>679</td>\n",
       "    </tr>\n",
       "    <tr>\n",
       "      <th>14</th>\n",
       "      <td>Наезд на гужевой транспорт</td>\n",
       "      <td>565</td>\n",
       "    </tr>\n",
       "    <tr>\n",
       "      <th>15</th>\n",
       "      <td>Падение груза</td>\n",
       "      <td>539</td>\n",
       "    </tr>\n",
       "    <tr>\n",
       "      <th>16</th>\n",
       "      <td>Наезд на внезапно возникшее препятствие</td>\n",
       "      <td>459</td>\n",
       "    </tr>\n",
       "    <tr>\n",
       "      <th>17</th>\n",
       "      <td>Возгорание вследствие технической неисправност...</td>\n",
       "      <td>83</td>\n",
       "    </tr>\n",
       "  </tbody>\n",
       "</table>\n",
       "</div>"
      ],
      "text/plain": [
       "                                                index  category\n",
       "0                                        Столкновение   1452653\n",
       "1                                   Наезд на пешехода    672599\n",
       "2                                       Опрокидывание    141775\n",
       "3                                Наезд на препятствие    125329\n",
       "4                                      Съезд с дороги    100349\n",
       "5                                 Наезд на стоящее ТС     96029\n",
       "6                                   Падение пассажира     76143\n",
       "7                              Наезд на велосипедиста     74000\n",
       "8                                        Иной вид ДТП      9402\n",
       "9                                   Наезд на животное      6540\n",
       "10                              Отбрасывание предмета      1850\n",
       "11  Наезд на лицо, не являющееся участником дорожн...      1057\n",
       "12  Наезд на лицо, не являющееся участником дорожн...       735\n",
       "13  Наезд на лицо, не являющееся участником дорожн...       679\n",
       "14                         Наезд на гужевой транспорт       565\n",
       "15                                      Падение груза       539\n",
       "16            Наезд на внезапно возникшее препятствие       459\n",
       "17  Возгорание вследствие технической неисправност...        83"
      ]
     },
     "execution_count": 29,
     "metadata": {},
     "output_type": "execute_result"
    }
   ],
   "source": [
    "work_dtp['category'].value_counts().reset_index()"
   ]
  },
  {
   "cell_type": "code",
   "execution_count": 30,
   "id": "6a47cd19",
   "metadata": {},
   "outputs": [],
   "source": [
    "work_animals = work_dtp[work_dtp['category'] == 'Наезд на животное']"
   ]
  },
  {
   "cell_type": "code",
   "execution_count": 31,
   "id": "0e3f4107",
   "metadata": {},
   "outputs": [
    {
     "data": {
      "text/plain": [
       "(6540, 32)"
      ]
     },
     "execution_count": 31,
     "metadata": {},
     "output_type": "execute_result"
    }
   ],
   "source": [
    "work_animals.shape"
   ]
  },
  {
   "cell_type": "code",
   "execution_count": 32,
   "id": "6a8ff20e",
   "metadata": {},
   "outputs": [],
   "source": [
    "# словарь для подсчета\n",
    "\n",
    "violation_dict_animal = {}\n",
    "\n",
    "for i in data_violations:\n",
    "    violation_dict_animal[i] = 0"
   ]
  },
  {
   "cell_type": "code",
   "execution_count": 33,
   "id": "2475e2b3",
   "metadata": {},
   "outputs": [
    {
     "name": "stdout",
     "output_type": "stream",
     "text": [
      "Wall time: 761 ms\n"
     ]
    }
   ],
   "source": [
    "%%time\n",
    "\n",
    "# цикл для подсчета значений\n",
    "\n",
    "for item in violation_dict_animal:\n",
    "    \n",
    "    for violations_item in work_animals['new_violations']:\n",
    "        \n",
    "        for one_violation in violations_item:\n",
    "            if item == one_violation:\n",
    "                violation_dict_animal[item] += 1"
   ]
  },
  {
   "cell_type": "code",
   "execution_count": 34,
   "id": "8192d557",
   "metadata": {},
   "outputs": [],
   "source": [
    "work_violations_animal = pd.DataFrame().from_dict(violation_dict_animal, orient='index').reset_index()"
   ]
  },
  {
   "cell_type": "code",
   "execution_count": 35,
   "id": "795b60e0",
   "metadata": {},
   "outputs": [],
   "source": [
    "work_violations_animal.columns=['violation', 'number_animal']"
   ]
  },
  {
   "cell_type": "code",
   "execution_count": 36,
   "id": "45c140c3",
   "metadata": {},
   "outputs": [
    {
     "data": {
      "text/html": [
       "<div>\n",
       "<style scoped>\n",
       "    .dataframe tbody tr th:only-of-type {\n",
       "        vertical-align: middle;\n",
       "    }\n",
       "\n",
       "    .dataframe tbody tr th {\n",
       "        vertical-align: top;\n",
       "    }\n",
       "\n",
       "    .dataframe thead th {\n",
       "        text-align: right;\n",
       "    }\n",
       "</style>\n",
       "<table border=\"1\" class=\"dataframe\">\n",
       "  <thead>\n",
       "    <tr style=\"text-align: right;\">\n",
       "      <th></th>\n",
       "      <th>violation</th>\n",
       "      <th>number_animal</th>\n",
       "    </tr>\n",
       "  </thead>\n",
       "  <tbody>\n",
       "    <tr>\n",
       "      <th>0</th>\n",
       "      <td>none</td>\n",
       "      <td>3449</td>\n",
       "    </tr>\n",
       "    <tr>\n",
       "      <th>1</th>\n",
       "      <td>Выезд на полосу встречного движения</td>\n",
       "      <td>28</td>\n",
       "    </tr>\n",
       "    <tr>\n",
       "      <th>2</th>\n",
       "      <td>Выезд на полосу встречного движения в местах, ...</td>\n",
       "      <td>3</td>\n",
       "    </tr>\n",
       "    <tr>\n",
       "      <th>3</th>\n",
       "      <td>Выезд на полосу встречного движения с разворот...</td>\n",
       "      <td>2</td>\n",
       "    </tr>\n",
       "    <tr>\n",
       "      <th>4</th>\n",
       "      <td>Выезд на трамвайные пути встречного направления</td>\n",
       "      <td>0</td>\n",
       "    </tr>\n",
       "    <tr>\n",
       "      <th>...</th>\n",
       "      <td>...</td>\n",
       "      <td>...</td>\n",
       "    </tr>\n",
       "    <tr>\n",
       "      <th>107</th>\n",
       "      <td>Ходьба вдоль проезжей части попутного направле...</td>\n",
       "      <td>0</td>\n",
       "    </tr>\n",
       "    <tr>\n",
       "      <th>108</th>\n",
       "      <td>Ходьба вдоль проезжей части при наличии и удов...</td>\n",
       "      <td>0</td>\n",
       "    </tr>\n",
       "    <tr>\n",
       "      <th>109</th>\n",
       "      <td>Эксплуатация ТС с техническими неисправностями...</td>\n",
       "      <td>7</td>\n",
       "    </tr>\n",
       "    <tr>\n",
       "      <th>110</th>\n",
       "      <td>Эксплуатация незарегистрированного ТС</td>\n",
       "      <td>88</td>\n",
       "    </tr>\n",
       "    <tr>\n",
       "      <th>111</th>\n",
       "      <td>Эксплуатация технически неисправного ТС (прост...</td>\n",
       "      <td>2</td>\n",
       "    </tr>\n",
       "  </tbody>\n",
       "</table>\n",
       "<p>112 rows × 2 columns</p>\n",
       "</div>"
      ],
      "text/plain": [
       "                                             violation  number_animal\n",
       "0                                                 none           3449\n",
       "1                  Выезд на полосу встречного движения             28\n",
       "2    Выезд на полосу встречного движения в местах, ...              3\n",
       "3    Выезд на полосу встречного движения с разворот...              2\n",
       "4      Выезд на трамвайные пути встречного направления              0\n",
       "..                                                 ...            ...\n",
       "107  Ходьба вдоль проезжей части попутного направле...              0\n",
       "108  Ходьба вдоль проезжей части при наличии и удов...              0\n",
       "109  Эксплуатация ТС с техническими неисправностями...              7\n",
       "110              Эксплуатация незарегистрированного ТС             88\n",
       "111  Эксплуатация технически неисправного ТС (прост...              2\n",
       "\n",
       "[112 rows x 2 columns]"
      ]
     },
     "execution_count": 36,
     "metadata": {},
     "output_type": "execute_result"
    }
   ],
   "source": [
    "work_violations_animal"
   ]
  },
  {
   "cell_type": "code",
   "execution_count": 37,
   "id": "6ab5a733",
   "metadata": {},
   "outputs": [],
   "source": [
    "work_animals.to_excel('C:/00_Projects/RIA/2022/02_elk_accidents/00_data/animal_dtp.xlsx', index=False, sheet_name='original')"
   ]
  },
  {
   "cell_type": "code",
   "execution_count": null,
   "id": "a9ab326a",
   "metadata": {},
   "outputs": [],
   "source": []
  },
  {
   "cell_type": "code",
   "execution_count": null,
   "id": "6e9aee3c",
   "metadata": {},
   "outputs": [],
   "source": []
  },
  {
   "cell_type": "markdown",
   "id": "e5b986ce",
   "metadata": {},
   "source": [
    "## Дикие животные"
   ]
  },
  {
   "cell_type": "code",
   "execution_count": 38,
   "id": "1c7853ac",
   "metadata": {},
   "outputs": [],
   "source": [
    "work_animals_wild = pd.read_excel('C:/00_Projects/RIA/2022/02_elk_accidents/00_data/animal_dtp.xlsx', sheet_name='data')"
   ]
  },
  {
   "cell_type": "code",
   "execution_count": null,
   "id": "453a9eb9",
   "metadata": {},
   "outputs": [],
   "source": []
  },
  {
   "cell_type": "code",
   "execution_count": null,
   "id": "750f7d3f",
   "metadata": {},
   "outputs": [],
   "source": [
    "(work_animals[work_animals.dead_count > 0]\n",
    " .groupby('auto_brand', as_index=False)\n",
    " .agg({'accident_id': 'count'})\n",
    " .sort_values('accident_id', ascending=False)\n",
    ").head(10)"
   ]
  },
  {
   "cell_type": "code",
   "execution_count": null,
   "id": "56499dc0",
   "metadata": {},
   "outputs": [],
   "source": []
  },
  {
   "cell_type": "code",
   "execution_count": null,
   "id": "3f0d9bc0",
   "metadata": {},
   "outputs": [],
   "source": []
  },
  {
   "cell_type": "code",
   "execution_count": null,
   "id": "1b800a63",
   "metadata": {},
   "outputs": [],
   "source": []
  },
  {
   "cell_type": "code",
   "execution_count": null,
   "id": "81b6f354",
   "metadata": {},
   "outputs": [],
   "source": []
  },
  {
   "cell_type": "code",
   "execution_count": null,
   "id": "f99a3167",
   "metadata": {},
   "outputs": [],
   "source": []
  },
  {
   "cell_type": "code",
   "execution_count": null,
   "id": "facbf13b",
   "metadata": {},
   "outputs": [],
   "source": []
  }
 ],
 "metadata": {
  "kernelspec": {
   "display_name": "Python 3",
   "language": "python",
   "name": "python3"
  },
  "language_info": {
   "codemirror_mode": {
    "name": "ipython",
    "version": 3
   },
   "file_extension": ".py",
   "mimetype": "text/x-python",
   "name": "python",
   "nbconvert_exporter": "python",
   "pygments_lexer": "ipython3",
   "version": "3.8.8"
  }
 },
 "nbformat": 4,
 "nbformat_minor": 5
}
