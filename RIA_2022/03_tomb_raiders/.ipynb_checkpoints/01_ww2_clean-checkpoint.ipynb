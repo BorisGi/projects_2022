{
 "cells": [
  {
   "cell_type": "markdown",
   "metadata": {},
   "source": [
    "Объединяю и чищу объявления WW2"
   ]
  },
  {
   "cell_type": "code",
   "execution_count": null,
   "metadata": {},
   "outputs": [],
   "source": []
  },
  {
   "cell_type": "code",
   "execution_count": 64,
   "metadata": {},
   "outputs": [],
   "source": [
    "# импорт библиотек\n",
    "import pandas as pd\n",
    "pd.options.mode.chained_assignment = None  # отключаю предупреждения default='warn'\n",
    "\n",
    "import os\n",
    "\n",
    "# прогресс-бар\n",
    "from tqdm.notebook import trange, tqdm"
   ]
  },
  {
   "cell_type": "code",
   "execution_count": null,
   "metadata": {},
   "outputs": [],
   "source": []
  },
  {
   "cell_type": "markdown",
   "metadata": {},
   "source": [
    "### Объединяю файлы"
   ]
  },
  {
   "cell_type": "code",
   "execution_count": 53,
   "metadata": {},
   "outputs": [],
   "source": [
    "# путь к файлам\n",
    "\n",
    "file_path = 'C:/00_Data/temp_data/'"
   ]
  },
  {
   "cell_type": "code",
   "execution_count": 54,
   "metadata": {},
   "outputs": [],
   "source": [
    "# вытаскиваю названия файлов в список file_list\n",
    "\n",
    "file_list = []\n",
    "\n",
    "for root, dirs, files in os.walk(file_path + 'original/'):\n",
    "    \n",
    "    for filename in files:\n",
    "        file_list += [filename]"
   ]
  },
  {
   "cell_type": "code",
   "execution_count": 55,
   "metadata": {},
   "outputs": [
    {
     "data": {
      "application/vnd.jupyter.widget-view+json": {
       "model_id": "9f3265b983ae42799cc7a81909a37a53",
       "version_major": 2,
       "version_minor": 0
      },
      "text/plain": [
       "  0%|          | 0/96 [00:00<?, ?it/s]"
      ]
     },
     "metadata": {},
     "output_type": "display_data"
    },
    {
     "name": "stdout",
     "output_type": "stream",
     "text": [
      "Количество строк:  152812\n",
      "Количество строк после удаления дублей:  152812\n"
     ]
    }
   ],
   "source": [
    "# объединяю в один датафрейм\n",
    "\n",
    "new_work = pd.DataFrame() # новый датафрейм\n",
    "\n",
    "for file in tqdm(file_list):\n",
    "    temp = pd.read_excel(file_path + 'original/' + file)\n",
    "    \n",
    "    temp.drop_duplicates(subset=['topic_url'], keep='last', inplace=True)\n",
    "    \n",
    "    new_work = new_work.append(temp, ignore_index = True)\n",
    "    \n",
    "print('Количество строк: ', new_work.shape[0])\n",
    "\n",
    "# удаляю дубликаты\n",
    "new_work = new_work.drop_duplicates()\n",
    "\n",
    "print('Количество строк после удаления дублей: ', new_work.shape[0])"
   ]
  },
  {
   "cell_type": "code",
   "execution_count": 56,
   "metadata": {},
   "outputs": [],
   "source": [
    "new_work.drop_duplicates(subset=['topic_url'], keep='last', inplace=True)"
   ]
  },
  {
   "cell_type": "code",
   "execution_count": 57,
   "metadata": {},
   "outputs": [
    {
     "data": {
      "text/plain": [
       "(151904, 24)"
      ]
     },
     "execution_count": 57,
     "metadata": {},
     "output_type": "execute_result"
    }
   ],
   "source": [
    "new_work.shape"
   ]
  },
  {
   "cell_type": "code",
   "execution_count": 58,
   "metadata": {},
   "outputs": [
    {
     "data": {
      "text/html": [
       "<div>\n",
       "<style scoped>\n",
       "    .dataframe tbody tr th:only-of-type {\n",
       "        vertical-align: middle;\n",
       "    }\n",
       "\n",
       "    .dataframe tbody tr th {\n",
       "        vertical-align: top;\n",
       "    }\n",
       "\n",
       "    .dataframe thead th {\n",
       "        text-align: right;\n",
       "    }\n",
       "</style>\n",
       "<table border=\"1\" class=\"dataframe\">\n",
       "  <thead>\n",
       "    <tr style=\"text-align: right;\">\n",
       "      <th></th>\n",
       "      <th>topic_url</th>\n",
       "      <th>category</th>\n",
       "      <th>name</th>\n",
       "      <th>description</th>\n",
       "      <th>price</th>\n",
       "      <th>price_type</th>\n",
       "      <th>item_number</th>\n",
       "      <th>country</th>\n",
       "      <th>region</th>\n",
       "      <th>start_date</th>\n",
       "      <th>...</th>\n",
       "      <th>delivery</th>\n",
       "      <th>delivery_cost</th>\n",
       "      <th>payment</th>\n",
       "      <th>nickname</th>\n",
       "      <th>seller_status</th>\n",
       "      <th>seller_group</th>\n",
       "      <th>rate_pos</th>\n",
       "      <th>rate_neg</th>\n",
       "      <th>user_details</th>\n",
       "      <th>temp_dict</th>\n",
       "    </tr>\n",
       "  </thead>\n",
       "  <tbody>\n",
       "    <tr>\n",
       "      <th>55680</th>\n",
       "      <td>https://forum.ww2.ru/index.php?showtopic=4924290</td>\n",
       "      <td>ВА, Прочие 1945, Копаные, Архив</td>\n",
       "      <td>трое ножен от итальянского ш/н</td>\n",
       "      <td>Отправка только по России, кроме Калининграда....</td>\n",
       "      <td>Продано, 2100</td>\n",
       "      <td>блиц цена</td>\n",
       "      <td>none</td>\n",
       "      <td>Россия</td>\n",
       "      <td>Карелия</td>\n",
       "      <td>22 фев 2021</td>\n",
       "      <td>...</td>\n",
       "      <td>По договоренности</td>\n",
       "      <td>none</td>\n",
       "      <td>По договоренности</td>\n",
       "      <td>*******</td>\n",
       "      <td>none</td>\n",
       "      <td>Член клуба форума</td>\n",
       "      <td>58</td>\n",
       "      <td>-0</td>\n",
       "      <td>*******\\nЧлен клуба форума\\n905 сообщений\\nНа ...</td>\n",
       "      <td>{'Страна продавца': 'Россия', 'Расположение ло...</td>\n",
       "    </tr>\n",
       "    <tr>\n",
       "      <th>2072</th>\n",
       "      <td>https://forum.ww2.ru/index.php?showtopic=4948642</td>\n",
       "      <td>ВА, Германия, Erkennungsmarke, Архив</td>\n",
       "      <td>Полк связи</td>\n",
       "      <td>На аукцион</td>\n",
       "      <td>Не продано</td>\n",
       "      <td>аукцион</td>\n",
       "      <td>none</td>\n",
       "      <td>Россия</td>\n",
       "      <td>Москва</td>\n",
       "      <td>19 июн 2021</td>\n",
       "      <td>...</td>\n",
       "      <td>По договоренности</td>\n",
       "      <td>300 ₽</td>\n",
       "      <td>По договоренности</td>\n",
       "      <td>*******</td>\n",
       "      <td>none</td>\n",
       "      <td>Член клуба форума</td>\n",
       "      <td>2122</td>\n",
       "      <td>-3</td>\n",
       "      <td>*******\\nЧлен клуба форума\\n14 132 сообщений\\n...</td>\n",
       "      <td>{'Страна продавца': 'Россия', 'Расположение ло...</td>\n",
       "    </tr>\n",
       "  </tbody>\n",
       "</table>\n",
       "<p>2 rows × 24 columns</p>\n",
       "</div>"
      ],
      "text/plain": [
       "                                              topic_url  \\\n",
       "55680  https://forum.ww2.ru/index.php?showtopic=4924290   \n",
       "2072   https://forum.ww2.ru/index.php?showtopic=4948642   \n",
       "\n",
       "                                   category                            name  \\\n",
       "55680       ВА, Прочие 1945, Копаные, Архив  трое ножен от итальянского ш/н   \n",
       "2072   ВА, Германия, Erkennungsmarke, Архив                      Полк связи   \n",
       "\n",
       "                                             description          price  \\\n",
       "55680  Отправка только по России, кроме Калининграда....  Продано, 2100   \n",
       "2072                                          На аукцион     Не продано   \n",
       "\n",
       "      price_type item_number country   region   start_date  ...  \\\n",
       "55680  блиц цена        none  Россия  Карелия  22 фев 2021  ...   \n",
       "2072     аукцион        none  Россия   Москва  19 июн 2021  ...   \n",
       "\n",
       "                delivery delivery_cost            payment nickname  \\\n",
       "55680  По договоренности          none  По договоренности  *******   \n",
       "2072   По договоренности         300 ₽  По договоренности  *******   \n",
       "\n",
       "      seller_status       seller_group rate_pos rate_neg  \\\n",
       "55680          none  Член клуба форума       58       -0   \n",
       "2072           none  Член клуба форума     2122       -3   \n",
       "\n",
       "                                            user_details  \\\n",
       "55680  *******\\nЧлен клуба форума\\n905 сообщений\\nНа ...   \n",
       "2072   *******\\nЧлен клуба форума\\n14 132 сообщений\\n...   \n",
       "\n",
       "                                               temp_dict  \n",
       "55680  {'Страна продавца': 'Россия', 'Расположение ло...  \n",
       "2072   {'Страна продавца': 'Россия', 'Расположение ло...  \n",
       "\n",
       "[2 rows x 24 columns]"
      ]
     },
     "execution_count": 58,
     "metadata": {},
     "output_type": "execute_result"
    }
   ],
   "source": [
    "new_work.sample(2)"
   ]
  },
  {
   "cell_type": "code",
   "execution_count": null,
   "metadata": {},
   "outputs": [],
   "source": []
  },
  {
   "cell_type": "code",
   "execution_count": 47,
   "metadata": {},
   "outputs": [],
   "source": [
    "new_work['sale_status'] = new_work.price.copy()"
   ]
  },
  {
   "cell_type": "code",
   "execution_count": 48,
   "metadata": {},
   "outputs": [],
   "source": [
    "def find_sale_status(work):\n",
    "    \n",
    "    if 'Не продано' in work.price or 'Снято с торгов администрацией' in work.price:\n",
    "            return 0\n",
    "        \n",
    "        elif work.price == 'none':\n",
    "            return 'none'\n",
    "        \n",
    "        else:\n",
    "            return 1  "
   ]
  },
  {
   "cell_type": "code",
   "execution_count": 60,
   "metadata": {},
   "outputs": [],
   "source": [
    "new_work_actual = new_work[~new_work.category.str.contains('Архив', case=True)]\n",
    "new_work_archive = new_work[new_work.category.str.contains('Архив', case=True)]"
   ]
  },
  {
   "cell_type": "code",
   "execution_count": 61,
   "metadata": {},
   "outputs": [
    {
     "data": {
      "text/plain": [
       "True"
      ]
     },
     "execution_count": 61,
     "metadata": {},
     "output_type": "execute_result"
    }
   ],
   "source": [
    "new_work_archive.shape[0] + new_work_actual.shape[0] == new_work.shape[0]"
   ]
  },
  {
   "cell_type": "code",
   "execution_count": 62,
   "metadata": {},
   "outputs": [
    {
     "data": {
      "text/plain": [
       "(151904, 24)"
      ]
     },
     "execution_count": 62,
     "metadata": {},
     "output_type": "execute_result"
    }
   ],
   "source": [
    "new_work.shape"
   ]
  },
  {
   "cell_type": "code",
   "execution_count": 65,
   "metadata": {},
   "outputs": [],
   "source": [
    "new_work_actual['sale_status'] = 2"
   ]
  },
  {
   "cell_type": "code",
   "execution_count": null,
   "metadata": {},
   "outputs": [],
   "source": [
    "new_work_actual['sale_status'] = new_work['sale_status'].str.replace('Снято с торгов администрацией', '0')\n",
    "new_work['sale_status'] = new_work['sale_status'].str.replace(r'Продано.+', 'Продано', regex=True)"
   ]
  },
  {
   "cell_type": "code",
   "execution_count": null,
   "metadata": {},
   "outputs": [],
   "source": []
  },
  {
   "cell_type": "code",
   "execution_count": 46,
   "metadata": {},
   "outputs": [
    {
     "data": {
      "text/plain": [
       "Не продано    60189\n",
       "Продано       37851\n",
       "none          24908\n",
       "1000           3365\n",
       "500            2443\n",
       "              ...  \n",
       "13800             1\n",
       "45500             1\n",
       "1718000           1\n",
       "430               1\n",
       "1749              1\n",
       "Name: sale_status, Length: 577, dtype: int64"
      ]
     },
     "execution_count": 46,
     "metadata": {},
     "output_type": "execute_result"
    }
   ],
   "source": [
    "new_work.sale_status.value_counts()"
   ]
  },
  {
   "cell_type": "code",
   "execution_count": null,
   "metadata": {},
   "outputs": [],
   "source": []
  },
  {
   "cell_type": "code",
   "execution_count": null,
   "metadata": {},
   "outputs": [],
   "source": []
  },
  {
   "cell_type": "code",
   "execution_count": null,
   "metadata": {},
   "outputs": [],
   "source": []
  },
  {
   "cell_type": "code",
   "execution_count": null,
   "metadata": {},
   "outputs": [],
   "source": []
  },
  {
   "cell_type": "code",
   "execution_count": 33,
   "metadata": {},
   "outputs": [],
   "source": [
    "(new_work.price.value_counts().reset_index()\n",
    " .to_excel(file_path + 'sample.xlsx', index=False)\n",
    ")"
   ]
  },
  {
   "cell_type": "code",
   "execution_count": 20,
   "metadata": {},
   "outputs": [],
   "source": []
  },
  {
   "cell_type": "code",
   "execution_count": 21,
   "metadata": {},
   "outputs": [
    {
     "ename": "TypeError",
     "evalue": "argument of type 'float' is not iterable",
     "output_type": "error",
     "traceback": [
      "\u001b[1;31m---------------------------------------------------------------------------\u001b[0m",
      "\u001b[1;31mTypeError\u001b[0m                                 Traceback (most recent call last)",
      "\u001b[1;32m~\\AppData\\Local\\Temp/ipykernel_24336/3019377741.py\u001b[0m in \u001b[0;36m<module>\u001b[1;34m\u001b[0m\n\u001b[1;32m----> 1\u001b[1;33m \u001b[0mnew_work\u001b[0m\u001b[1;33m[\u001b[0m\u001b[1;34m'sale_status'\u001b[0m\u001b[1;33m]\u001b[0m \u001b[1;33m=\u001b[0m \u001b[0mnew_work\u001b[0m\u001b[1;33m.\u001b[0m\u001b[0mapply\u001b[0m\u001b[1;33m(\u001b[0m\u001b[0mfind_sale_status\u001b[0m\u001b[1;33m,\u001b[0m \u001b[0maxis\u001b[0m\u001b[1;33m=\u001b[0m\u001b[1;36m1\u001b[0m\u001b[1;33m)\u001b[0m\u001b[1;33m\u001b[0m\u001b[1;33m\u001b[0m\u001b[0m\n\u001b[0m",
      "\u001b[1;32m~\\Anaconda3\\lib\\site-packages\\pandas\\core\\frame.py\u001b[0m in \u001b[0;36mapply\u001b[1;34m(self, func, axis, raw, result_type, args, **kwargs)\u001b[0m\n\u001b[0;32m   8738\u001b[0m             \u001b[0mkwargs\u001b[0m\u001b[1;33m=\u001b[0m\u001b[0mkwargs\u001b[0m\u001b[1;33m,\u001b[0m\u001b[1;33m\u001b[0m\u001b[1;33m\u001b[0m\u001b[0m\n\u001b[0;32m   8739\u001b[0m         )\n\u001b[1;32m-> 8740\u001b[1;33m         \u001b[1;32mreturn\u001b[0m \u001b[0mop\u001b[0m\u001b[1;33m.\u001b[0m\u001b[0mapply\u001b[0m\u001b[1;33m(\u001b[0m\u001b[1;33m)\u001b[0m\u001b[1;33m\u001b[0m\u001b[1;33m\u001b[0m\u001b[0m\n\u001b[0m\u001b[0;32m   8741\u001b[0m \u001b[1;33m\u001b[0m\u001b[0m\n\u001b[0;32m   8742\u001b[0m     def applymap(\n",
      "\u001b[1;32m~\\Anaconda3\\lib\\site-packages\\pandas\\core\\apply.py\u001b[0m in \u001b[0;36mapply\u001b[1;34m(self)\u001b[0m\n\u001b[0;32m    686\u001b[0m             \u001b[1;32mreturn\u001b[0m \u001b[0mself\u001b[0m\u001b[1;33m.\u001b[0m\u001b[0mapply_raw\u001b[0m\u001b[1;33m(\u001b[0m\u001b[1;33m)\u001b[0m\u001b[1;33m\u001b[0m\u001b[1;33m\u001b[0m\u001b[0m\n\u001b[0;32m    687\u001b[0m \u001b[1;33m\u001b[0m\u001b[0m\n\u001b[1;32m--> 688\u001b[1;33m         \u001b[1;32mreturn\u001b[0m \u001b[0mself\u001b[0m\u001b[1;33m.\u001b[0m\u001b[0mapply_standard\u001b[0m\u001b[1;33m(\u001b[0m\u001b[1;33m)\u001b[0m\u001b[1;33m\u001b[0m\u001b[1;33m\u001b[0m\u001b[0m\n\u001b[0m\u001b[0;32m    689\u001b[0m \u001b[1;33m\u001b[0m\u001b[0m\n\u001b[0;32m    690\u001b[0m     \u001b[1;32mdef\u001b[0m \u001b[0magg\u001b[0m\u001b[1;33m(\u001b[0m\u001b[0mself\u001b[0m\u001b[1;33m)\u001b[0m\u001b[1;33m:\u001b[0m\u001b[1;33m\u001b[0m\u001b[1;33m\u001b[0m\u001b[0m\n",
      "\u001b[1;32m~\\Anaconda3\\lib\\site-packages\\pandas\\core\\apply.py\u001b[0m in \u001b[0;36mapply_standard\u001b[1;34m(self)\u001b[0m\n\u001b[0;32m    810\u001b[0m \u001b[1;33m\u001b[0m\u001b[0m\n\u001b[0;32m    811\u001b[0m     \u001b[1;32mdef\u001b[0m \u001b[0mapply_standard\u001b[0m\u001b[1;33m(\u001b[0m\u001b[0mself\u001b[0m\u001b[1;33m)\u001b[0m\u001b[1;33m:\u001b[0m\u001b[1;33m\u001b[0m\u001b[1;33m\u001b[0m\u001b[0m\n\u001b[1;32m--> 812\u001b[1;33m         \u001b[0mresults\u001b[0m\u001b[1;33m,\u001b[0m \u001b[0mres_index\u001b[0m \u001b[1;33m=\u001b[0m \u001b[0mself\u001b[0m\u001b[1;33m.\u001b[0m\u001b[0mapply_series_generator\u001b[0m\u001b[1;33m(\u001b[0m\u001b[1;33m)\u001b[0m\u001b[1;33m\u001b[0m\u001b[1;33m\u001b[0m\u001b[0m\n\u001b[0m\u001b[0;32m    813\u001b[0m \u001b[1;33m\u001b[0m\u001b[0m\n\u001b[0;32m    814\u001b[0m         \u001b[1;31m# wrap results\u001b[0m\u001b[1;33m\u001b[0m\u001b[1;33m\u001b[0m\u001b[0m\n",
      "\u001b[1;32m~\\Anaconda3\\lib\\site-packages\\pandas\\core\\apply.py\u001b[0m in \u001b[0;36mapply_series_generator\u001b[1;34m(self)\u001b[0m\n\u001b[0;32m    826\u001b[0m             \u001b[1;32mfor\u001b[0m \u001b[0mi\u001b[0m\u001b[1;33m,\u001b[0m \u001b[0mv\u001b[0m \u001b[1;32min\u001b[0m \u001b[0menumerate\u001b[0m\u001b[1;33m(\u001b[0m\u001b[0mseries_gen\u001b[0m\u001b[1;33m)\u001b[0m\u001b[1;33m:\u001b[0m\u001b[1;33m\u001b[0m\u001b[1;33m\u001b[0m\u001b[0m\n\u001b[0;32m    827\u001b[0m                 \u001b[1;31m# ignore SettingWithCopy here in case the user mutates\u001b[0m\u001b[1;33m\u001b[0m\u001b[1;33m\u001b[0m\u001b[0m\n\u001b[1;32m--> 828\u001b[1;33m                 \u001b[0mresults\u001b[0m\u001b[1;33m[\u001b[0m\u001b[0mi\u001b[0m\u001b[1;33m]\u001b[0m \u001b[1;33m=\u001b[0m \u001b[0mself\u001b[0m\u001b[1;33m.\u001b[0m\u001b[0mf\u001b[0m\u001b[1;33m(\u001b[0m\u001b[0mv\u001b[0m\u001b[1;33m)\u001b[0m\u001b[1;33m\u001b[0m\u001b[1;33m\u001b[0m\u001b[0m\n\u001b[0m\u001b[0;32m    829\u001b[0m                 \u001b[1;32mif\u001b[0m \u001b[0misinstance\u001b[0m\u001b[1;33m(\u001b[0m\u001b[0mresults\u001b[0m\u001b[1;33m[\u001b[0m\u001b[0mi\u001b[0m\u001b[1;33m]\u001b[0m\u001b[1;33m,\u001b[0m \u001b[0mABCSeries\u001b[0m\u001b[1;33m)\u001b[0m\u001b[1;33m:\u001b[0m\u001b[1;33m\u001b[0m\u001b[1;33m\u001b[0m\u001b[0m\n\u001b[0;32m    830\u001b[0m                     \u001b[1;31m# If we have a view on v, we need to make a copy because\u001b[0m\u001b[1;33m\u001b[0m\u001b[1;33m\u001b[0m\u001b[0m\n",
      "\u001b[1;32m~\\AppData\\Local\\Temp/ipykernel_24336/4081765971.py\u001b[0m in \u001b[0;36mfind_sale_status\u001b[1;34m(work)\u001b[0m\n\u001b[0;32m      6\u001b[0m \u001b[1;33m\u001b[0m\u001b[0m\n\u001b[0;32m      7\u001b[0m     \u001b[1;32melse\u001b[0m\u001b[1;33m:\u001b[0m\u001b[1;33m\u001b[0m\u001b[1;33m\u001b[0m\u001b[0m\n\u001b[1;32m----> 8\u001b[1;33m         \u001b[1;32mif\u001b[0m \u001b[1;34m'Не продано'\u001b[0m \u001b[1;32min\u001b[0m \u001b[0mwork\u001b[0m\u001b[1;33m.\u001b[0m\u001b[0mprice\u001b[0m \u001b[1;32mor\u001b[0m \u001b[1;34m'Снято с торгов'\u001b[0m \u001b[1;32min\u001b[0m \u001b[0mwork\u001b[0m\u001b[1;33m.\u001b[0m\u001b[0mprice\u001b[0m\u001b[1;33m:\u001b[0m\u001b[1;33m\u001b[0m\u001b[1;33m\u001b[0m\u001b[0m\n\u001b[0m\u001b[0;32m      9\u001b[0m             \u001b[1;32mreturn\u001b[0m \u001b[1;36m0\u001b[0m\u001b[1;33m\u001b[0m\u001b[1;33m\u001b[0m\u001b[0m\n\u001b[0;32m     10\u001b[0m \u001b[1;33m\u001b[0m\u001b[0m\n",
      "\u001b[1;31mTypeError\u001b[0m: argument of type 'float' is not iterable"
     ]
    }
   ],
   "source": [
    "new_work['sale_status'] = new_work.apply(find_sale_status, axis=1)"
   ]
  },
  {
   "cell_type": "code",
   "execution_count": null,
   "metadata": {},
   "outputs": [],
   "source": []
  },
  {
   "cell_type": "code",
   "execution_count": 8,
   "metadata": {},
   "outputs": [],
   "source": [
    "# убираю Архив\n",
    "\n",
    "new_work['category'] = new_work['category'].str.replace(', Архив', '')"
   ]
  },
  {
   "cell_type": "code",
   "execution_count": null,
   "metadata": {},
   "outputs": [],
   "source": [
    "#new_work.category.value_counts().reset_index()\n",
    "#.to_excel(file_path + 'temp.xlsx')"
   ]
  },
  {
   "cell_type": "code",
   "execution_count": null,
   "metadata": {},
   "outputs": [],
   "source": [
    "new_work['region'] = new_work['region'].str.replace('\\s+', ' ', regex=True )\n",
    "#new_work['region'] = new_work['region'].apply(lambda x: x.strip())\n",
    "\n",
    "new_work['region'] = new_work['region'].str.lower()\n",
    "new_work['region'] = new_work['region'].str.replace('г. ', '', regex=False)\n",
    "new_work['region'] = new_work['region'].str.replace('г.', '', regex=False)\n",
    "new_work['region'] = new_work['region'].str.replace('обл.', 'область', regex=False)"
   ]
  },
  {
   "cell_type": "code",
   "execution_count": null,
   "metadata": {},
   "outputs": [],
   "source": [
    "new_work.name.nunique()"
   ]
  },
  {
   "cell_type": "code",
   "execution_count": null,
   "metadata": {},
   "outputs": [],
   "source": []
  },
  {
   "cell_type": "code",
   "execution_count": null,
   "metadata": {},
   "outputs": [],
   "source": [
    "new_work.region.value_counts().reset_index().to_excel(file_path + 'region.xlsx')"
   ]
  },
  {
   "cell_type": "code",
   "execution_count": null,
   "metadata": {},
   "outputs": [],
   "source": []
  },
  {
   "cell_type": "code",
   "execution_count": null,
   "metadata": {},
   "outputs": [],
   "source": []
  },
  {
   "cell_type": "code",
   "execution_count": null,
   "metadata": {},
   "outputs": [],
   "source": []
  }
 ],
 "metadata": {
  "kernelspec": {
   "display_name": "Python 3 (ipykernel)",
   "language": "python",
   "name": "python3"
  },
  "language_info": {
   "codemirror_mode": {
    "name": "ipython",
    "version": 3
   },
   "file_extension": ".py",
   "mimetype": "text/x-python",
   "name": "python",
   "nbconvert_exporter": "python",
   "pygments_lexer": "ipython3",
   "version": "3.9.7"
  }
 },
 "nbformat": 4,
 "nbformat_minor": 2
}
