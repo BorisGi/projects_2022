{
 "cells": [
  {
   "cell_type": "markdown",
   "metadata": {},
   "source": [
    "Объединяю и чищу объявления WW2"
   ]
  },
  {
   "cell_type": "code",
   "execution_count": null,
   "metadata": {},
   "outputs": [],
   "source": []
  },
  {
   "cell_type": "code",
   "execution_count": 1,
   "metadata": {},
   "outputs": [],
   "source": [
    "# импорт библиотек\n",
    "import pandas as pd\n",
    "pd.options.mode.chained_assignment = None  # отключаю предупреждения default='warn'\n",
    "\n",
    "import os\n",
    "\n",
    "# прогресс-бар\n",
    "from tqdm.notebook import trange, tqdm"
   ]
  },
  {
   "cell_type": "code",
   "execution_count": null,
   "metadata": {},
   "outputs": [],
   "source": []
  },
  {
   "cell_type": "markdown",
   "metadata": {},
   "source": [
    "### Объединяю файлы"
   ]
  },
  {
   "cell_type": "code",
   "execution_count": 2,
   "metadata": {},
   "outputs": [],
   "source": [
    "# путь к файлам\n",
    "\n",
    "file_path = 'C:/00_Data/temp_data/'"
   ]
  },
  {
   "cell_type": "code",
   "execution_count": 3,
   "metadata": {},
   "outputs": [],
   "source": [
    "# вытаскиваю названия файлов в список file_list\n",
    "\n",
    "file_list = []\n",
    "\n",
    "for root, dirs, files in os.walk(file_path + 'original/'):\n",
    "    \n",
    "    for filename in files:\n",
    "        file_list += [filename]"
   ]
  },
  {
   "cell_type": "code",
   "execution_count": 4,
   "metadata": {},
   "outputs": [
    {
     "data": {
      "application/vnd.jupyter.widget-view+json": {
       "model_id": "ff6f367e18e1458a8793fa44011d77c2",
       "version_major": 2,
       "version_minor": 0
      },
      "text/plain": [
       "  0%|          | 0/100 [00:00<?, ?it/s]"
      ]
     },
     "metadata": {},
     "output_type": "display_data"
    },
    {
     "name": "stdout",
     "output_type": "stream",
     "text": [
      "Количество строк:  191927\n",
      "Количество строк после удаления дублей:  191927\n"
     ]
    }
   ],
   "source": [
    "# объединяю в один датафрейм\n",
    "\n",
    "new_work = pd.DataFrame() # новый датафрейм\n",
    "\n",
    "for file in tqdm(file_list):\n",
    "    temp = pd.read_excel(file_path + 'original/' + file)\n",
    "    \n",
    "    temp.drop_duplicates(subset=['topic_url'], keep='last', inplace=True)\n",
    "    \n",
    "    new_work = new_work.append(temp, ignore_index = True)\n",
    "    \n",
    "print('Количество строк: ', new_work.shape[0])\n",
    "\n",
    "# удаляю дубликаты\n",
    "new_work = new_work.drop_duplicates()\n",
    "\n",
    "print('Количество строк после удаления дублей: ', new_work.shape[0])"
   ]
  },
  {
   "cell_type": "code",
   "execution_count": 5,
   "metadata": {},
   "outputs": [],
   "source": [
    "new_work.drop_duplicates(subset=['topic_url'], keep='last', inplace=True)"
   ]
  },
  {
   "cell_type": "code",
   "execution_count": 6,
   "metadata": {},
   "outputs": [
    {
     "data": {
      "text/plain": [
       "(191603, 24)"
      ]
     },
     "execution_count": 6,
     "metadata": {},
     "output_type": "execute_result"
    }
   ],
   "source": [
    "new_work.shape"
   ]
  },
  {
   "cell_type": "code",
   "execution_count": 7,
   "metadata": {},
   "outputs": [
    {
     "data": {
      "text/html": [
       "<div>\n",
       "<style scoped>\n",
       "    .dataframe tbody tr th:only-of-type {\n",
       "        vertical-align: middle;\n",
       "    }\n",
       "\n",
       "    .dataframe tbody tr th {\n",
       "        vertical-align: top;\n",
       "    }\n",
       "\n",
       "    .dataframe thead th {\n",
       "        text-align: right;\n",
       "    }\n",
       "</style>\n",
       "<table border=\"1\" class=\"dataframe\">\n",
       "  <thead>\n",
       "    <tr style=\"text-align: right;\">\n",
       "      <th></th>\n",
       "      <th>topic_url</th>\n",
       "      <th>category</th>\n",
       "      <th>name</th>\n",
       "      <th>description</th>\n",
       "      <th>price</th>\n",
       "      <th>price_type</th>\n",
       "      <th>item_number</th>\n",
       "      <th>country</th>\n",
       "      <th>region</th>\n",
       "      <th>start_date</th>\n",
       "      <th>...</th>\n",
       "      <th>delivery</th>\n",
       "      <th>delivery_cost</th>\n",
       "      <th>payment</th>\n",
       "      <th>nickname</th>\n",
       "      <th>seller_status</th>\n",
       "      <th>seller_group</th>\n",
       "      <th>rate_pos</th>\n",
       "      <th>rate_neg</th>\n",
       "      <th>user_details</th>\n",
       "      <th>temp_dict</th>\n",
       "    </tr>\n",
       "  </thead>\n",
       "  <tbody>\n",
       "    <tr>\n",
       "      <th>23213</th>\n",
       "      <td>https://forum.ww2.ru/index.php?showtopic=4918661</td>\n",
       "      <td>ВА, Германия, Копаные, Архив</td>\n",
       "      <td>Большая ложка</td>\n",
       "      <td>Посеребренка с немецких позиций.\\nПересыл на п...</td>\n",
       "      <td>Не продано</td>\n",
       "      <td>блиц цена</td>\n",
       "      <td>none</td>\n",
       "      <td>Россия</td>\n",
       "      <td>Калининград</td>\n",
       "      <td>23 янв 2021</td>\n",
       "      <td>...</td>\n",
       "      <td>Почта России</td>\n",
       "      <td>300 ₽</td>\n",
       "      <td>Оплата на карту</td>\n",
       "      <td>*******</td>\n",
       "      <td>none</td>\n",
       "      <td>Пользователи</td>\n",
       "      <td>422</td>\n",
       "      <td>-0</td>\n",
       "      <td>*******\\nПользователи\\n6 094 сообщений\\nНа фор...</td>\n",
       "      <td>{'Страна продавца': 'Россия', 'Расположение ло...</td>\n",
       "    </tr>\n",
       "    <tr>\n",
       "      <th>8914</th>\n",
       "      <td>https://forum.ww2.ru/index.php?showtopic=4678871</td>\n",
       "      <td>ВА, Германия, Erkennungsmarke, Архив</td>\n",
       "      <td>Контрельефный жетон Мертвой Головы</td>\n",
       "      <td>Жетон в хорошем состоянии\\nВ представлении не ...</td>\n",
       "      <td>Продано,</td>\n",
       "      <td>аукцион</td>\n",
       "      <td>none</td>\n",
       "      <td>Россия</td>\n",
       "      <td>Москва</td>\n",
       "      <td>17 июн 2017</td>\n",
       "      <td>...</td>\n",
       "      <td>Почта России</td>\n",
       "      <td>100 ₽</td>\n",
       "      <td>Безналичный расчет</td>\n",
       "      <td>*******</td>\n",
       "      <td>none</td>\n",
       "      <td>Член клуба форума</td>\n",
       "      <td>2122</td>\n",
       "      <td>-3</td>\n",
       "      <td>*******\\nЧлен клуба форума\\n14 138 сообщений\\n...</td>\n",
       "      <td>{'Страна продавца': 'Россия', 'Расположение ло...</td>\n",
       "    </tr>\n",
       "  </tbody>\n",
       "</table>\n",
       "<p>2 rows × 24 columns</p>\n",
       "</div>"
      ],
      "text/plain": [
       "                                              topic_url  \\\n",
       "23213  https://forum.ww2.ru/index.php?showtopic=4918661   \n",
       "8914   https://forum.ww2.ru/index.php?showtopic=4678871   \n",
       "\n",
       "                                   category  \\\n",
       "23213          ВА, Германия, Копаные, Архив   \n",
       "8914   ВА, Германия, Erkennungsmarke, Архив   \n",
       "\n",
       "                                     name  \\\n",
       "23213                       Большая ложка   \n",
       "8914   Контрельефный жетон Мертвой Головы   \n",
       "\n",
       "                                             description       price  \\\n",
       "23213  Посеребренка с немецких позиций.\\nПересыл на п...  Не продано   \n",
       "8914   Жетон в хорошем состоянии\\nВ представлении не ...    Продано,   \n",
       "\n",
       "      price_type item_number country       region   start_date  ...  \\\n",
       "23213  блиц цена        none  Россия  Калининград  23 янв 2021  ...   \n",
       "8914     аукцион        none  Россия       Москва  17 июн 2017  ...   \n",
       "\n",
       "           delivery delivery_cost             payment nickname seller_status  \\\n",
       "23213  Почта России         300 ₽     Оплата на карту  *******          none   \n",
       "8914   Почта России         100 ₽  Безналичный расчет  *******          none   \n",
       "\n",
       "            seller_group rate_pos rate_neg  \\\n",
       "23213       Пользователи      422       -0   \n",
       "8914   Член клуба форума     2122       -3   \n",
       "\n",
       "                                            user_details  \\\n",
       "23213  *******\\nПользователи\\n6 094 сообщений\\nНа фор...   \n",
       "8914   *******\\nЧлен клуба форума\\n14 138 сообщений\\n...   \n",
       "\n",
       "                                               temp_dict  \n",
       "23213  {'Страна продавца': 'Россия', 'Расположение ло...  \n",
       "8914   {'Страна продавца': 'Россия', 'Расположение ло...  \n",
       "\n",
       "[2 rows x 24 columns]"
      ]
     },
     "execution_count": 7,
     "metadata": {},
     "output_type": "execute_result"
    }
   ],
   "source": [
    "new_work.sample(2)"
   ]
  },
  {
   "cell_type": "code",
   "execution_count": null,
   "metadata": {},
   "outputs": [],
   "source": []
  },
  {
   "cell_type": "code",
   "execution_count": null,
   "metadata": {},
   "outputs": [],
   "source": [
    "# для проверки скачанных объявлений\n",
    "\n",
    "temp_new_work = new_work.copy()\n",
    "temp_new_work['category'] = temp_new_work['category'].str.replace(', Архив', '')\n",
    "\n",
    "(temp_new_work.category.value_counts().reset_index()\n",
    " .to_excel(file_path + 'temp.xlsx', index=False))"
   ]
  },
  {
   "cell_type": "code",
   "execution_count": null,
   "metadata": {},
   "outputs": [],
   "source": []
  },
  {
   "cell_type": "code",
   "execution_count": null,
   "metadata": {},
   "outputs": [],
   "source": []
  },
  {
   "cell_type": "markdown",
   "metadata": {},
   "source": [
    "### Добавляю статус продажи"
   ]
  },
  {
   "cell_type": "code",
   "execution_count": 8,
   "metadata": {},
   "outputs": [],
   "source": [
    "# разделяю датасет на два\n",
    "\n",
    "new_work_actual = new_work[~new_work.category.str.contains('Архив', case=True)]\n",
    "new_work_archive = new_work[new_work.category.str.contains('Архив', case=True)]"
   ]
  },
  {
   "cell_type": "code",
   "execution_count": 9,
   "metadata": {},
   "outputs": [
    {
     "data": {
      "text/plain": [
       "True"
      ]
     },
     "execution_count": 9,
     "metadata": {},
     "output_type": "execute_result"
    }
   ],
   "source": [
    "new_work_archive.shape[0] + new_work_actual.shape[0] == new_work.shape[0]"
   ]
  },
  {
   "cell_type": "code",
   "execution_count": 10,
   "metadata": {},
   "outputs": [],
   "source": [
    "# 2 -- для вещей, которые ещё в продаже\n",
    "\n",
    "new_work_actual['sale_status'] = 2"
   ]
  },
  {
   "cell_type": "code",
   "execution_count": 11,
   "metadata": {},
   "outputs": [],
   "source": [
    "# 1 -- для проданных вещей, 0 -- для непроданных\n",
    "\n",
    "new_work_archive['sale_status'] = new_work_archive['price']\n",
    "\n",
    "new_work_archive['sale_status'] = new_work_archive['sale_status'].str.replace('Снято с торгов администрацией', '0')\n",
    "new_work_archive['sale_status'] = new_work_archive['sale_status'].str.replace('Не продано', '0')\n",
    "new_work_archive['sale_status'] = new_work_archive['sale_status'].str.replace(r'Продано.+', '1', regex=True)\n",
    "new_work_archive['sale_status'] = new_work_archive['sale_status'].str.replace(r'\\d.+', '1', regex=True)\n",
    "\n",
    "# Удаляю Продано из цен\n",
    "new_work_archive['price'] = new_work_archive['price'].str.replace('Продано, ', '')"
   ]
  },
  {
   "cell_type": "code",
   "execution_count": 12,
   "metadata": {},
   "outputs": [
    {
     "data": {
      "text/plain": [
       "0       79761\n",
       "1       53918\n",
       "none    25716\n",
       "Name: sale_status, dtype: int64"
      ]
     },
     "execution_count": 12,
     "metadata": {},
     "output_type": "execute_result"
    }
   ],
   "source": [
    "new_work_archive.sale_status.value_counts()"
   ]
  },
  {
   "cell_type": "code",
   "execution_count": 13,
   "metadata": {},
   "outputs": [],
   "source": [
    "# объединяю\n",
    "\n",
    "new_work = pd.concat([new_work_archive, new_work_actual], axis=0)"
   ]
  },
  {
   "cell_type": "code",
   "execution_count": 14,
   "metadata": {},
   "outputs": [],
   "source": [
    "# убираю Архив из категорий\n",
    "\n",
    "new_work['category'] = new_work['category'].str.replace(', Архив', '')"
   ]
  },
  {
   "cell_type": "code",
   "execution_count": null,
   "metadata": {},
   "outputs": [],
   "source": []
  },
  {
   "cell_type": "markdown",
   "metadata": {},
   "source": [
    "### Убираю лишнее"
   ]
  },
  {
   "cell_type": "code",
   "execution_count": 15,
   "metadata": {},
   "outputs": [],
   "source": [
    "new_work['name'] = new_work['name'].str.replace(r'[^\\w\\s]+', ' ', regex=True)\n",
    "new_work['name'] = new_work['name'].str.replace(r'\\s+', ' ', regex=True)\n",
    "new_work['name'] = new_work['name'].str.replace('ё', 'e', regex=True)"
   ]
  },
  {
   "cell_type": "code",
   "execution_count": 16,
   "metadata": {},
   "outputs": [],
   "source": [
    "new_work['name'].fillna('none', inplace=True)"
   ]
  },
  {
   "cell_type": "code",
   "execution_count": 17,
   "metadata": {},
   "outputs": [
    {
     "data": {
      "text/plain": [
       "(191603, 25)"
      ]
     },
     "execution_count": 17,
     "metadata": {},
     "output_type": "execute_result"
    }
   ],
   "source": [
    "new_work.shape"
   ]
  },
  {
   "cell_type": "code",
   "execution_count": 18,
   "metadata": {},
   "outputs": [],
   "source": [
    "unless_things = ['шинел', 'бурка', 'куртка', 'гимнастер', 'рубаха', 'нательное', 'белье',\n",
    "                 'брюк', 'шаровар', 'штаны', 'галиф', 'бридж', 'лампасы',\n",
    "                 'сапоги', 'ботинки', 'гамаши',\n",
    "                 'пилотка', 'кепка', 'фуражка', 'папаха',\n",
    "                 'погоны', 'воротник', 'эполет',\n",
    "                 'кубик', 'кубари', 'катушки', 'шпалы', 'треугольник', 'петлицы',\n",
    "                 'сюртук', 'френч', 'мундир', 'китель', 'маскостюм', 'халат', 'платье',\n",
    "                 'лента', 'повязка', '',\n",
    "                 'США', 'ленд лиз', \n",
    "                 'афганка', 'форма', 'униформ', 'плащ-палатка']"
   ]
  },
  {
   "cell_type": "code",
   "execution_count": 19,
   "metadata": {},
   "outputs": [
    {
     "name": "stdout",
     "output_type": "stream",
     "text": [
      "Wall time: 17.9 s\n"
     ]
    }
   ],
   "source": [
    "%%time\n",
    "\n",
    "for thing in unless_things:\n",
    "    new_work = (new_work[~\n",
    "                         (\n",
    "                             (new_work.category.str.contains('униформа', case=False)) &\n",
    "                             (new_work.name.str.contains(f'{thing}', case=False))\n",
    "                         )])"
   ]
  },
  {
   "cell_type": "code",
   "execution_count": 20,
   "metadata": {},
   "outputs": [
    {
     "data": {
      "text/plain": [
       "(184005, 25)"
      ]
     },
     "execution_count": 20,
     "metadata": {},
     "output_type": "execute_result"
    }
   ],
   "source": [
    "new_work.shape"
   ]
  },
  {
   "cell_type": "code",
   "execution_count": null,
   "metadata": {},
   "outputs": [],
   "source": []
  },
  {
   "cell_type": "code",
   "execution_count": null,
   "metadata": {},
   "outputs": [],
   "source": []
  },
  {
   "cell_type": "code",
   "execution_count": null,
   "metadata": {},
   "outputs": [],
   "source": []
  },
  {
   "cell_type": "code",
   "execution_count": null,
   "metadata": {},
   "outputs": [],
   "source": [
    "(new_work['name'].value_counts().reset_index()\n",
    ".to_excel(file_path + 'temp.xlsx', index=False)\n",
    ")"
   ]
  },
  {
   "cell_type": "code",
   "execution_count": null,
   "metadata": {},
   "outputs": [],
   "source": [
    "new_work['name'].value_counts().reset_index().to_excel(file_path + 'temp.xlsx', index=False)"
   ]
  },
  {
   "cell_type": "code",
   "execution_count": null,
   "metadata": {},
   "outputs": [],
   "source": []
  },
  {
   "cell_type": "code",
   "execution_count": null,
   "metadata": {},
   "outputs": [],
   "source": []
  },
  {
   "cell_type": "code",
   "execution_count": null,
   "metadata": {},
   "outputs": [],
   "source": [
    "new_work.sample()"
   ]
  },
  {
   "cell_type": "code",
   "execution_count": null,
   "metadata": {},
   "outputs": [],
   "source": []
  },
  {
   "cell_type": "code",
   "execution_count": null,
   "metadata": {},
   "outputs": [],
   "source": [
    "(new_work.price.value_counts().reset_index()\n",
    " .to_excel(file_path + 'sample.xlsx', index=False)\n",
    ")"
   ]
  },
  {
   "cell_type": "code",
   "execution_count": null,
   "metadata": {},
   "outputs": [],
   "source": []
  },
  {
   "cell_type": "markdown",
   "metadata": {},
   "source": [
    "### Чищу регионы"
   ]
  },
  {
   "cell_type": "code",
   "execution_count": null,
   "metadata": {},
   "outputs": [],
   "source": []
  },
  {
   "cell_type": "code",
   "execution_count": 38,
   "metadata": {},
   "outputs": [],
   "source": [
    "new_temp = new_work.copy()"
   ]
  },
  {
   "cell_type": "code",
   "execution_count": null,
   "metadata": {},
   "outputs": [],
   "source": []
  },
  {
   "cell_type": "code",
   "execution_count": 42,
   "metadata": {},
   "outputs": [],
   "source": [
    "new_temp['region'] = new_temp['region'].str.lower()\n",
    "new_temp['region'] = new_temp['region'].str.replace('г. ', '', regex=False)\n",
    "new_temp['region'] = new_temp['region'].str.replace('обл.', 'область', regex=False)\n",
    "new_temp['region'] = new_temp['region'].str.replace('спб', 'санкт-петербург', regex=False)\n",
    "\n",
    "new_temp['region'] = new_temp['region'].str.replace(r'[^\\w\\s]+', ' ', regex=True)\n",
    "new_temp['region'] = new_temp['region'].str.replace('\\s+', ' ', regex=True )\n",
    "\n",
    "new_temp['region'].fillna('none', inplace=True)"
   ]
  },
  {
   "cell_type": "code",
   "execution_count": 58,
   "metadata": {},
   "outputs": [],
   "source": [
    "new_work['region'] = new_work['region'].apply(lambda x: str(x).strip())"
   ]
  },
  {
   "cell_type": "code",
   "execution_count": 59,
   "metadata": {},
   "outputs": [
    {
     "data": {
      "text/plain": [
       "1353"
      ]
     },
     "execution_count": 59,
     "metadata": {},
     "output_type": "execute_result"
    }
   ],
   "source": [
    "new_temp.region.nunique()"
   ]
  },
  {
   "cell_type": "code",
   "execution_count": 61,
   "metadata": {},
   "outputs": [],
   "source": [
    "new_temp.region.value_counts().reset_index().to_excel(file_path + 'region.xlsx', index=False)"
   ]
  },
  {
   "cell_type": "code",
   "execution_count": null,
   "metadata": {},
   "outputs": [],
   "source": []
  },
  {
   "cell_type": "code",
   "execution_count": null,
   "metadata": {},
   "outputs": [],
   "source": []
  },
  {
   "cell_type": "code",
   "execution_count": null,
   "metadata": {},
   "outputs": [],
   "source": []
  }
 ],
 "metadata": {
  "kernelspec": {
   "display_name": "Python 3 (ipykernel)",
   "language": "python",
   "name": "python3"
  },
  "language_info": {
   "codemirror_mode": {
    "name": "ipython",
    "version": 3
   },
   "file_extension": ".py",
   "mimetype": "text/x-python",
   "name": "python",
   "nbconvert_exporter": "python",
   "pygments_lexer": "ipython3",
   "version": "3.9.7"
  }
 },
 "nbformat": 4,
 "nbformat_minor": 2
}
