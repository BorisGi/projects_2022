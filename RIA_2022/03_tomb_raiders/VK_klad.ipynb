{
 "cells": [
  {
   "cell_type": "code",
   "execution_count": 1,
   "id": "d64d3ef9",
   "metadata": {
    "scrolled": true
   },
   "outputs": [],
   "source": [
    "# для запросов\n",
    "import requests\n",
    "\n",
    "# для работы с JSON\n",
    "import json\n",
    "\n",
    "# для работы с папками\n",
    "import os\n",
    "\n",
    "from time import sleep\n",
    "\n",
    "import math\n",
    "\n",
    "# \n",
    "from datetime import timedelta, date\n",
    "\n",
    "# прогресс-бар\n",
    "from tqdm.notebook import trange, tqdm\n",
    "\n",
    "# для дафреймов\n",
    "import pandas as pd"
   ]
  },
  {
   "cell_type": "code",
   "execution_count": 2,
   "id": "a8f9feca",
   "metadata": {
    "scrolled": true
   },
   "outputs": [],
   "source": [
    "# путь к файлам\n",
    "\n",
    "file_path = 'C:/00_Data/temp_data/VK/'\n",
    "\n",
    "token_list_path = 'C:/work/keys/vk.txt' # путь к файлу с токеном"
   ]
  },
  {
   "cell_type": "code",
   "execution_count": 3,
   "id": "b0da7aa8",
   "metadata": {
    "scrolled": true
   },
   "outputs": [],
   "source": [
    "# загружаю токен\n",
    "\n",
    "with open(token_list_path, 'r') as f:\n",
    "    for line in f:\n",
    "        vk_key = line"
   ]
  },
  {
   "cell_type": "code",
   "execution_count": 4,
   "id": "72fcce91",
   "metadata": {
    "scrolled": true
   },
   "outputs": [],
   "source": [
    "# настройки для парсинга\n",
    "\n",
    "version = 5.131"
   ]
  },
  {
   "cell_type": "code",
   "execution_count": null,
   "id": "4a988f39",
   "metadata": {
    "scrolled": true
   },
   "outputs": [],
   "source": []
  },
  {
   "cell_type": "markdown",
   "id": "48ad71db",
   "metadata": {},
   "source": [
    "### Файлы"
   ]
  },
  {
   "cell_type": "code",
   "execution_count": 5,
   "id": "f5e68651",
   "metadata": {
    "scrolled": true
   },
   "outputs": [],
   "source": [
    "work_groups = pd.read_csv(file_path + 'groups_info.csv')"
   ]
  },
  {
   "cell_type": "code",
   "execution_count": 6,
   "id": "1ca8733f",
   "metadata": {
    "scrolled": true
   },
   "outputs": [],
   "source": [
    "all_followers = pd.read_csv(file_path + 'all_followers.csv')"
   ]
  },
  {
   "cell_type": "code",
   "execution_count": 7,
   "id": "ee7ad314",
   "metadata": {
    "scrolled": true
   },
   "outputs": [],
   "source": [
    "work_users = pd.read_csv(file_path + 'users_vk.csv')"
   ]
  },
  {
   "cell_type": "code",
   "execution_count": 8,
   "id": "183f133a",
   "metadata": {
    "scrolled": true
   },
   "outputs": [],
   "source": [
    "city_database = pd.read_csv(file_path + 'city_database.csv')"
   ]
  },
  {
   "cell_type": "code",
   "execution_count": null,
   "id": "a8ec9e5e",
   "metadata": {
    "scrolled": true
   },
   "outputs": [],
   "source": []
  },
  {
   "cell_type": "code",
   "execution_count": 9,
   "id": "708b5a44",
   "metadata": {
    "scrolled": true
   },
   "outputs": [],
   "source": [
    "users_unique = (all_followers[\n",
    "    (all_followers.country_id == '1') &\n",
    "    (all_followers.city_id != 'none')].user_id\n",
    "                .value_counts().reset_index()\n",
    "                .rename(columns={'user_id': 'group_number', 'index': 'user_id'}))"
   ]
  },
  {
   "cell_type": "code",
   "execution_count": 10,
   "id": "f7ec2956",
   "metadata": {
    "scrolled": true
   },
   "outputs": [],
   "source": [
    "all_followers_need = all_followers[['user_id', 'first_name', 'last_name', 'sex', 'bdate', 'city_title',\n",
    "                                    'city_id', 'country_title', 'country_id', 'education_status',\n",
    "                                    'account_type']]"
   ]
  },
  {
   "cell_type": "code",
   "execution_count": 11,
   "id": "6a8ff39d",
   "metadata": {
    "scrolled": true
   },
   "outputs": [],
   "source": [
    "users_unique = users_unique.merge(all_followers_need, how='left', on='user_id').drop_duplicates()"
   ]
  },
  {
   "cell_type": "code",
   "execution_count": 12,
   "id": "19f75244",
   "metadata": {
    "scrolled": true
   },
   "outputs": [
    {
     "data": {
      "text/plain": [
       "(303507, 12)"
      ]
     },
     "execution_count": 12,
     "metadata": {},
     "output_type": "execute_result"
    }
   ],
   "source": [
    "users_unique.shape"
   ]
  },
  {
   "cell_type": "code",
   "execution_count": 13,
   "id": "75c31811",
   "metadata": {
    "scrolled": true
   },
   "outputs": [
    {
     "data": {
      "text/plain": [
       "city_id        int64\n",
       "city_title    object\n",
       "area          object\n",
       "region        object\n",
       "dtype: object"
      ]
     },
     "execution_count": 13,
     "metadata": {},
     "output_type": "execute_result"
    }
   ],
   "source": [
    "city_database.dtypes"
   ]
  },
  {
   "cell_type": "code",
   "execution_count": 14,
   "id": "a0a7d947",
   "metadata": {
    "scrolled": true
   },
   "outputs": [
    {
     "data": {
      "text/plain": [
       "user_id              int64\n",
       "group_number         int64\n",
       "first_name          object\n",
       "last_name           object\n",
       "sex                  int64\n",
       "bdate               object\n",
       "city_title          object\n",
       "city_id             object\n",
       "country_title       object\n",
       "country_id          object\n",
       "education_status    object\n",
       "account_type        object\n",
       "dtype: object"
      ]
     },
     "execution_count": 14,
     "metadata": {},
     "output_type": "execute_result"
    }
   ],
   "source": [
    "users_unique.dtypes"
   ]
  },
  {
   "cell_type": "code",
   "execution_count": 16,
   "id": "73522627",
   "metadata": {
    "scrolled": true
   },
   "outputs": [],
   "source": [
    "users_unique = users_unique.astype({'city_id': 'int32'})"
   ]
  },
  {
   "cell_type": "code",
   "execution_count": 17,
   "id": "588134a5",
   "metadata": {
    "scrolled": true
   },
   "outputs": [],
   "source": [
    "city_database = city_database.astype({'city_id': 'int32'})"
   ]
  },
  {
   "cell_type": "code",
   "execution_count": 18,
   "id": "21afed5a",
   "metadata": {
    "scrolled": true
   },
   "outputs": [],
   "source": [
    "users_unique = users_unique.merge(city_database, how='left', on=['city_id', 'city_title'])"
   ]
  },
  {
   "cell_type": "code",
   "execution_count": 19,
   "id": "8b61b9f6",
   "metadata": {
    "scrolled": true
   },
   "outputs": [],
   "source": [
    "users_unique.region.value_counts().reset_index().to_excel(file_path + 'temp.xlsx')"
   ]
  },
  {
   "cell_type": "code",
   "execution_count": 20,
   "id": "a557516e",
   "metadata": {
    "scrolled": true
   },
   "outputs": [],
   "source": [
    "#users_unique[['city_title', 'city_id', 'area', 'region']].drop_duplicates().to_excel(file_path + 'temp.xlsx', index=False)"
   ]
  },
  {
   "cell_type": "code",
   "execution_count": 21,
   "id": "88b23297",
   "metadata": {
    "scrolled": true
   },
   "outputs": [],
   "source": [
    "new_region = pd.read_excel(file_path + 'temp.xlsx')"
   ]
  },
  {
   "cell_type": "code",
   "execution_count": 26,
   "id": "cd7bdb18",
   "metadata": {
    "scrolled": true
   },
   "outputs": [],
   "source": [
    "users_unique.drop(columns=['area', 'region'], inplace=True)"
   ]
  },
  {
   "cell_type": "code",
   "execution_count": 28,
   "id": "380c2eb4",
   "metadata": {
    "scrolled": true
   },
   "outputs": [],
   "source": [
    "users_unique = users_unique.merge(new_region, how='left', on=['city_id', 'city_title'])"
   ]
  },
  {
   "cell_type": "code",
   "execution_count": 32,
   "id": "833c10c1",
   "metadata": {
    "scrolled": true
   },
   "outputs": [],
   "source": [
    "users_unique.fillna('none', inplace=True)"
   ]
  },
  {
   "cell_type": "code",
   "execution_count": 34,
   "id": "788a25e2",
   "metadata": {},
   "outputs": [],
   "source": [
    "users_unique = users_unique[users_unique.region != 'none']"
   ]
  },
  {
   "cell_type": "code",
   "execution_count": 35,
   "id": "ae10bdfe",
   "metadata": {},
   "outputs": [
    {
     "data": {
      "text/plain": [
       "(302892, 14)"
      ]
     },
     "execution_count": 35,
     "metadata": {},
     "output_type": "execute_result"
    }
   ],
   "source": [
    "users_unique.shape"
   ]
  },
  {
   "cell_type": "code",
   "execution_count": 39,
   "id": "f7d6060b",
   "metadata": {},
   "outputs": [],
   "source": [
    "work_users.rename(columns={'group_number': 'sub_number'}, inplace=True)"
   ]
  },
  {
   "cell_type": "code",
   "execution_count": 41,
   "id": "1ff2e4aa",
   "metadata": {},
   "outputs": [
    {
     "data": {
      "text/plain": [
       "(302892, 14)"
      ]
     },
     "execution_count": 41,
     "metadata": {},
     "output_type": "execute_result"
    }
   ],
   "source": [
    "users_unique.shape"
   ]
  },
  {
   "cell_type": "code",
   "execution_count": 63,
   "id": "1e3c8e10",
   "metadata": {},
   "outputs": [],
   "source": [
    "users_unique = users_unique.merge(work_users, how='left', on='user_id')"
   ]
  },
  {
   "cell_type": "code",
   "execution_count": 64,
   "id": "9a2bffd3",
   "metadata": {},
   "outputs": [
    {
     "data": {
      "text/html": [
       "<div>\n",
       "<style scoped>\n",
       "    .dataframe tbody tr th:only-of-type {\n",
       "        vertical-align: middle;\n",
       "    }\n",
       "\n",
       "    .dataframe tbody tr th {\n",
       "        vertical-align: top;\n",
       "    }\n",
       "\n",
       "    .dataframe thead th {\n",
       "        text-align: right;\n",
       "    }\n",
       "</style>\n",
       "<table border=\"1\" class=\"dataframe\">\n",
       "  <thead>\n",
       "    <tr style=\"text-align: right;\">\n",
       "      <th></th>\n",
       "      <th>user_id</th>\n",
       "      <th>group_number</th>\n",
       "      <th>first_name</th>\n",
       "      <th>last_name</th>\n",
       "      <th>sex</th>\n",
       "      <th>bdate</th>\n",
       "      <th>city_title</th>\n",
       "      <th>city_id</th>\n",
       "      <th>country_title</th>\n",
       "      <th>country_id</th>\n",
       "      <th>education_status</th>\n",
       "      <th>account_type</th>\n",
       "      <th>area</th>\n",
       "      <th>region</th>\n",
       "      <th>deactivated</th>\n",
       "      <th>profile_closed</th>\n",
       "      <th>friend_number</th>\n",
       "      <th>sub_number</th>\n",
       "    </tr>\n",
       "  </thead>\n",
       "  <tbody>\n",
       "    <tr>\n",
       "      <th>0</th>\n",
       "      <td>556880840</td>\n",
       "      <td>106</td>\n",
       "      <td>Антон</td>\n",
       "      <td>Самойлов</td>\n",
       "      <td>2</td>\n",
       "      <td>15.8.1987</td>\n",
       "      <td>Уфа</td>\n",
       "      <td>151</td>\n",
       "      <td>Россия</td>\n",
       "      <td>1</td>\n",
       "      <td>none</td>\n",
       "      <td>False</td>\n",
       "      <td>Городской округ Уфа</td>\n",
       "      <td>Республика Башкортостан</td>\n",
       "      <td>none</td>\n",
       "      <td>False</td>\n",
       "      <td>4511</td>\n",
       "      <td>none</td>\n",
       "    </tr>\n",
       "    <tr>\n",
       "      <th>1</th>\n",
       "      <td>551853625</td>\n",
       "      <td>104</td>\n",
       "      <td>Сергей</td>\n",
       "      <td>Кладов</td>\n",
       "      <td>2</td>\n",
       "      <td>29.5.1985</td>\n",
       "      <td>Москва</td>\n",
       "      <td>1</td>\n",
       "      <td>Россия</td>\n",
       "      <td>1</td>\n",
       "      <td>none</td>\n",
       "      <td>True</td>\n",
       "      <td>none</td>\n",
       "      <td>Москва</td>\n",
       "      <td>none</td>\n",
       "      <td>True</td>\n",
       "      <td>6912</td>\n",
       "      <td>none</td>\n",
       "    </tr>\n",
       "    <tr>\n",
       "      <th>2</th>\n",
       "      <td>451723147</td>\n",
       "      <td>102</td>\n",
       "      <td>Андрей</td>\n",
       "      <td>Сорокин</td>\n",
       "      <td>2</td>\n",
       "      <td>none</td>\n",
       "      <td>Шуя</td>\n",
       "      <td>165</td>\n",
       "      <td>Россия</td>\n",
       "      <td>1</td>\n",
       "      <td>none</td>\n",
       "      <td>True</td>\n",
       "      <td>Шуйский район</td>\n",
       "      <td>Ивановская область</td>\n",
       "      <td>none</td>\n",
       "      <td>True</td>\n",
       "      <td>5455</td>\n",
       "      <td>none</td>\n",
       "    </tr>\n",
       "    <tr>\n",
       "      <th>3</th>\n",
       "      <td>12668623</td>\n",
       "      <td>99</td>\n",
       "      <td>Николай</td>\n",
       "      <td>Дегтев</td>\n",
       "      <td>2</td>\n",
       "      <td>18.9</td>\n",
       "      <td>Нижний Новгород</td>\n",
       "      <td>95</td>\n",
       "      <td>Россия</td>\n",
       "      <td>1</td>\n",
       "      <td>none</td>\n",
       "      <td>True</td>\n",
       "      <td>Городской округ Нижний Новгород</td>\n",
       "      <td>Нижегородская область</td>\n",
       "      <td>none</td>\n",
       "      <td>True</td>\n",
       "      <td>74</td>\n",
       "      <td>none</td>\n",
       "    </tr>\n",
       "    <tr>\n",
       "      <th>4</th>\n",
       "      <td>700498069</td>\n",
       "      <td>96</td>\n",
       "      <td>Максим</td>\n",
       "      <td>Суворов</td>\n",
       "      <td>2</td>\n",
       "      <td>12.9.1988</td>\n",
       "      <td>Тобольск</td>\n",
       "      <td>182</td>\n",
       "      <td>Россия</td>\n",
       "      <td>1</td>\n",
       "      <td>none</td>\n",
       "      <td>False</td>\n",
       "      <td>Городской округ город Тобольск</td>\n",
       "      <td>Тюменская область</td>\n",
       "      <td>none</td>\n",
       "      <td>False</td>\n",
       "      <td>47</td>\n",
       "      <td>224</td>\n",
       "    </tr>\n",
       "  </tbody>\n",
       "</table>\n",
       "</div>"
      ],
      "text/plain": [
       "     user_id  group_number first_name last_name  sex      bdate  \\\n",
       "0  556880840           106      Антон  Самойлов    2  15.8.1987   \n",
       "1  551853625           104     Сергей    Кладов    2  29.5.1985   \n",
       "2  451723147           102     Андрей   Сорокин    2       none   \n",
       "3   12668623            99    Николай    Дегтев    2       18.9   \n",
       "4  700498069            96     Максим   Суворов    2  12.9.1988   \n",
       "\n",
       "        city_title  city_id country_title country_id education_status  \\\n",
       "0              Уфа      151        Россия          1             none   \n",
       "1           Москва        1        Россия          1             none   \n",
       "2              Шуя      165        Россия          1             none   \n",
       "3  Нижний Новгород       95        Россия          1             none   \n",
       "4         Тобольск      182        Россия          1             none   \n",
       "\n",
       "  account_type                             area                   region  \\\n",
       "0        False              Городской округ Уфа  Республика Башкортостан   \n",
       "1         True                             none                   Москва   \n",
       "2         True                    Шуйский район       Ивановская область   \n",
       "3         True  Городской округ Нижний Новгород    Нижегородская область   \n",
       "4        False   Городской округ город Тобольск        Тюменская область   \n",
       "\n",
       "  deactivated profile_closed friend_number sub_number  \n",
       "0        none          False          4511       none  \n",
       "1        none           True          6912       none  \n",
       "2        none           True          5455       none  \n",
       "3        none           True            74       none  \n",
       "4        none          False            47        224  "
      ]
     },
     "execution_count": 64,
     "metadata": {},
     "output_type": "execute_result"
    }
   ],
   "source": [
    "users_unique.head()"
   ]
  },
  {
   "cell_type": "code",
   "execution_count": 142,
   "id": "56660f61",
   "metadata": {},
   "outputs": [],
   "source": [
    "users_unique_sample = users_unique.copy()"
   ]
  },
  {
   "cell_type": "code",
   "execution_count": 143,
   "id": "172841ac",
   "metadata": {},
   "outputs": [
    {
     "data": {
      "text/plain": [
       "(302892, 18)"
      ]
     },
     "execution_count": 143,
     "metadata": {},
     "output_type": "execute_result"
    }
   ],
   "source": [
    "users_unique.shape"
   ]
  },
  {
   "cell_type": "code",
   "execution_count": 144,
   "id": "362f2dc3",
   "metadata": {},
   "outputs": [],
   "source": [
    "# меняю строковые значения на 0\n",
    "\n",
    "users_unique_sample['friend_number'] = users_unique_sample['friend_number'].str.replace('none', '0')\n",
    "users_unique_sample['sub_number'] = users_unique_sample['sub_number'].str.replace('none', '0')\n",
    "\n",
    "users_unique_sample['friend_number'].fillna('0', inplace=True)\n",
    "users_unique_sample['sub_number'].fillna('0', inplace=True)"
   ]
  },
  {
   "cell_type": "code",
   "execution_count": 145,
   "id": "5bff8ea2",
   "metadata": {},
   "outputs": [],
   "source": [
    "users_unique_sample = users_unique_sample.astype({'friend_number': 'int32', 'sub_number': 'int32'})"
   ]
  },
  {
   "cell_type": "code",
   "execution_count": 146,
   "id": "b3e47273",
   "metadata": {},
   "outputs": [],
   "source": [
    "# убираю ботов по друзьям\n",
    "\n",
    "users_unique_sample = users_unique_sample[\n",
    "    (\n",
    "        (users_unique_sample.friend_number >= 30) &\n",
    "        (users_unique_sample.friend_number <= 2000)) |\n",
    "    (users_unique_sample.friend_number == 0)\n",
    "]"
   ]
  },
  {
   "cell_type": "code",
   "execution_count": 149,
   "id": "ca96edab",
   "metadata": {},
   "outputs": [],
   "source": [
    "users_unique_sample = users_unique_sample[(users_unique_sample.sub_number <= 4000)]"
   ]
  },
  {
   "cell_type": "code",
   "execution_count": 152,
   "id": "700628d5",
   "metadata": {},
   "outputs": [
    {
     "data": {
      "text/plain": [
       "(281037, 18)"
      ]
     },
     "execution_count": 152,
     "metadata": {},
     "output_type": "execute_result"
    }
   ],
   "source": [
    "users_unique_sample.shape"
   ]
  },
  {
   "cell_type": "code",
   "execution_count": 155,
   "id": "bda5d94a",
   "metadata": {},
   "outputs": [],
   "source": [
    "region_vk = users_unique.region.value_counts().reset_index().rename(columns={'region': 'treasure_hunters', 'index': 'region'})"
   ]
  },
  {
   "cell_type": "code",
   "execution_count": 156,
   "id": "01061ecc",
   "metadata": {},
   "outputs": [],
   "source": [
    "region_vk_clear = users_unique_sample.region.value_counts().reset_index().rename(columns={'region': 'treasure_hunters_clear', 'index': 'region'})"
   ]
  },
  {
   "cell_type": "code",
   "execution_count": 158,
   "id": "c5c1ae49",
   "metadata": {},
   "outputs": [],
   "source": [
    "region_vk = region_vk.merge(region_vk_clear, how='left', on='region')"
   ]
  },
  {
   "cell_type": "code",
   "execution_count": 159,
   "id": "6b6a3600",
   "metadata": {},
   "outputs": [],
   "source": [
    "region_vk.to_excel(file_path + 'region_vk.xlsx')"
   ]
  },
  {
   "cell_type": "code",
   "execution_count": 161,
   "id": "bb92ab56",
   "metadata": {},
   "outputs": [
    {
     "data": {
      "text/plain": [
       "2    226435\n",
       "1     54559\n",
       "0        43\n",
       "Name: sex, dtype: int64"
      ]
     },
     "execution_count": 161,
     "metadata": {},
     "output_type": "execute_result"
    }
   ],
   "source": [
    "users_unique_sample.sex.value_counts()"
   ]
  },
  {
   "cell_type": "code",
   "execution_count": null,
   "id": "e83edb6e",
   "metadata": {},
   "outputs": [],
   "source": []
  },
  {
   "cell_type": "code",
   "execution_count": null,
   "id": "ed2ac824",
   "metadata": {},
   "outputs": [],
   "source": []
  },
  {
   "cell_type": "code",
   "execution_count": null,
   "id": "9718254e",
   "metadata": {},
   "outputs": [],
   "source": []
  }
 ],
 "metadata": {
  "kernelspec": {
   "display_name": "Python 3 (ipykernel)",
   "language": "python",
   "name": "python3"
  },
  "language_info": {
   "codemirror_mode": {
    "name": "ipython",
    "version": 3
   },
   "file_extension": ".py",
   "mimetype": "text/x-python",
   "name": "python",
   "nbconvert_exporter": "python",
   "pygments_lexer": "ipython3",
   "version": "3.9.7"
  }
 },
 "nbformat": 4,
 "nbformat_minor": 5
}
