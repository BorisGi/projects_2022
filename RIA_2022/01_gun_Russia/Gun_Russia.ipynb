{
 "cells": [
  {
   "cell_type": "code",
   "execution_count": 1,
   "id": "984119b6",
   "metadata": {
    "scrolled": true
   },
   "outputs": [],
   "source": [
    "import pandas as pd\n",
    "import os "
   ]
  },
  {
   "cell_type": "code",
   "execution_count": 2,
   "id": "45825911",
   "metadata": {
    "scrolled": true
   },
   "outputs": [],
   "source": [
    "file_path = 'C:/01_Projects/01_gun_russia/'"
   ]
  },
  {
   "cell_type": "code",
   "execution_count": 3,
   "id": "55b7871f",
   "metadata": {
    "scrolled": true
   },
   "outputs": [],
   "source": [
    "rus_regions = pd.read_excel('C:/00_Data/00_General/RF_regions.xlsx', sheet_name='regions_2021')\n",
    "\n",
    "okved2 = pd.read_excel('C:/00_Data/00_General/okved2_2022_01_01.xlsx', sheet_name='data')"
   ]
  },
  {
   "cell_type": "code",
   "execution_count": 4,
   "id": "4dfb1d03",
   "metadata": {
    "scrolled": true
   },
   "outputs": [],
   "source": [
    "# вытаскиваю названия файлов в список file_list\n",
    "\n",
    "file_list = []\n",
    "\n",
    "for root, dirs, files in os.walk(file_path):\n",
    "    \n",
    "    for filename in files:\n",
    "        file_list += [filename]"
   ]
  },
  {
   "cell_type": "code",
   "execution_count": 5,
   "id": "1099ff6a",
   "metadata": {
    "scrolled": true
   },
   "outputs": [
    {
     "data": {
      "text/plain": [
       "['lic_gun_trade.xlsx',\n",
       " 'temp.xlsx',\n",
       " '~$lic_gun_trade.xlsx',\n",
       " 'criminal_222_224.xlsx',\n",
       " 'gunportal.xlsx',\n",
       " 'gun_production_minpromtorg_2022_01_15.csv',\n",
       " 'gun_russia.xlsx',\n",
       " 'hunt_profit.xlsx',\n",
       " 'СПАРК-Отчет_20220114_131100.xlsx',\n",
       " 'СПАРК-Отчет_20220114_131159.xlsx',\n",
       " 'СПАРК-Отчет_20220114_131205.xlsx',\n",
       " 'fin_report.csv',\n",
       " 'fin_report.xlsx',\n",
       " 'gen_info.csv',\n",
       " 'gen_info.xlsx']"
      ]
     },
     "execution_count": 5,
     "metadata": {},
     "output_type": "execute_result"
    }
   ],
   "source": [
    "# список файлов\n",
    "\n",
    "file_list"
   ]
  },
  {
   "cell_type": "code",
   "execution_count": 7,
   "id": "b0e0c15d",
   "metadata": {
    "scrolled": true
   },
   "outputs": [
    {
     "name": "stdout",
     "output_type": "stream",
     "text": [
      "lic_gun_trade.xlsx\n"
     ]
    }
   ],
   "source": [
    "need_file = input()"
   ]
  },
  {
   "cell_type": "code",
   "execution_count": 8,
   "id": "7ce2290c",
   "metadata": {
    "scrolled": true
   },
   "outputs": [
    {
     "data": {
      "text/plain": [
       "dict_keys(['meta', 'gun_2021_12_28', 'gun_2021_12_28_full', 'gun_2021_01_25', 'cartridges_2021_12_28', 'cartridges_2021_12_28_full', 'cartridges_2021_01_25', 'gun_production_mintorg_full', 'gun_production_mintorg_need', 'basic_dadata', 'inn_check'])"
      ]
     },
     "execution_count": 8,
     "metadata": {},
     "output_type": "execute_result"
    }
   ],
   "source": [
    "# список листов\n",
    "\n",
    "pd.read_excel(file_path + need_file, None).keys()"
   ]
  },
  {
   "cell_type": "code",
   "execution_count": 9,
   "id": "6fb803c7",
   "metadata": {
    "scrolled": true
   },
   "outputs": [
    {
     "name": "stdout",
     "output_type": "stream",
     "text": [
      "gun_2021_12_28_full\n"
     ]
    },
    {
     "data": {
      "text/plain": [
       "(1140, 30)"
      ]
     },
     "execution_count": 9,
     "metadata": {},
     "output_type": "execute_result"
    }
   ],
   "source": [
    "# загружаю лицензии на оружие\n",
    "\n",
    "need_sheet = input()\n",
    "\n",
    "work_lic_gun = pd.read_excel(file_path + need_file, sheet_name=need_sheet)\n",
    "\n",
    "work_lic_gun.shape"
   ]
  },
  {
   "cell_type": "code",
   "execution_count": 10,
   "id": "60353798",
   "metadata": {
    "scrolled": true
   },
   "outputs": [
    {
     "name": "stdout",
     "output_type": "stream",
     "text": [
      "cartridges_2021_12_28_full\n"
     ]
    },
    {
     "data": {
      "text/plain": [
       "(1007, 30)"
      ]
     },
     "execution_count": 10,
     "metadata": {},
     "output_type": "execute_result"
    }
   ],
   "source": [
    "# загружаю лицензии на патроны\n",
    "\n",
    "need_sheet_2 = input()\n",
    "\n",
    "work_lic_cartridges = pd.read_excel(file_path + need_file, sheet_name=need_sheet_2)\n",
    "\n",
    "work_lic_cartridges.shape"
   ]
  },
  {
   "cell_type": "code",
   "execution_count": null,
   "id": "c87840a9",
   "metadata": {
    "scrolled": true
   },
   "outputs": [],
   "source": []
  },
  {
   "cell_type": "markdown",
   "id": "5c4c5ae7",
   "metadata": {},
   "source": [
    "#### Оружие"
   ]
  },
  {
   "cell_type": "code",
   "execution_count": 11,
   "id": "8e5f531f",
   "metadata": {
    "scrolled": true
   },
   "outputs": [
    {
     "data": {
      "text/html": [
       "<div>\n",
       "<style scoped>\n",
       "    .dataframe tbody tr th:only-of-type {\n",
       "        vertical-align: middle;\n",
       "    }\n",
       "\n",
       "    .dataframe tbody tr th {\n",
       "        vertical-align: top;\n",
       "    }\n",
       "\n",
       "    .dataframe thead th {\n",
       "        text-align: right;\n",
       "    }\n",
       "</style>\n",
       "<table border=\"1\" class=\"dataframe\">\n",
       "  <thead>\n",
       "    <tr style=\"text-align: right;\">\n",
       "      <th></th>\n",
       "      <th>license</th>\n",
       "      <th>cartridge_lic</th>\n",
       "      <th>lic_date</th>\n",
       "      <th>lic_status</th>\n",
       "      <th>exp_date</th>\n",
       "      <th>year</th>\n",
       "      <th>name</th>\n",
       "      <th>shortname</th>\n",
       "      <th>brandname</th>\n",
       "      <th>organizational and legal form</th>\n",
       "      <th>...</th>\n",
       "      <th>order_date</th>\n",
       "      <th>division</th>\n",
       "      <th>suspension_period</th>\n",
       "      <th>termination_date</th>\n",
       "      <th>verification_date</th>\n",
       "      <th>verification_basis</th>\n",
       "      <th>act_details</th>\n",
       "      <th>prescription</th>\n",
       "      <th>regulations</th>\n",
       "      <th>entering_date</th>\n",
       "    </tr>\n",
       "  </thead>\n",
       "  <tbody>\n",
       "    <tr>\n",
       "      <th>0</th>\n",
       "      <td>№ 0340000001575</td>\n",
       "      <td>0</td>\n",
       "      <td>23.06.2014</td>\n",
       "      <td>Прекращена</td>\n",
       "      <td>31.12.2999</td>\n",
       "      <td>2999</td>\n",
       "      <td>ООО \"МИР ОХОТЫ-ВОЛГОГРАД\"</td>\n",
       "      <td>ООО \"МИР ОХОТЫ-ВОЛГОГРАД\"</td>\n",
       "      <td>МИР ОХОТЫ</td>\n",
       "      <td>Общества с ограниченной ответственностью</td>\n",
       "      <td>...</td>\n",
       "      <td>23.06.2014.1</td>\n",
       "      <td>Управление Росгвардии по Волгоградской области</td>\n",
       "      <td>NaN</td>\n",
       "      <td>18.05.2018</td>\n",
       "      <td>NaN</td>\n",
       "      <td>NaN</td>\n",
       "      <td>NaN</td>\n",
       "      <td>NaN</td>\n",
       "      <td>NaN</td>\n",
       "      <td>2018-05-18 00:00:00</td>\n",
       "    </tr>\n",
       "    <tr>\n",
       "      <th>1</th>\n",
       "      <td>№ 0008240</td>\n",
       "      <td>0</td>\n",
       "      <td>2016-09-23 00:00:00</td>\n",
       "      <td>Прекращена</td>\n",
       "      <td>31.12.2999</td>\n",
       "      <td>2999</td>\n",
       "      <td>ООО \"АРСЕНАЛ-РЯЗАНЬ\"</td>\n",
       "      <td>ООО \"АРСЕНАЛ-РЯЗАНЬ\"</td>\n",
       "      <td>ООО \"АРСЕНАЛ-РЯЗАНЬ\"</td>\n",
       "      <td>Общества с ограниченной ответственностью</td>\n",
       "      <td>...</td>\n",
       "      <td>06.06.2017</td>\n",
       "      <td>ЦЛРР Управления Росгвардии по Рязанской области</td>\n",
       "      <td>NaN</td>\n",
       "      <td>07.06.2017</td>\n",
       "      <td>03.10.2016</td>\n",
       "      <td>Внеплановая,Иное</td>\n",
       "      <td>NaN</td>\n",
       "      <td>NaN</td>\n",
       "      <td>NaN</td>\n",
       "      <td>07.06.2017</td>\n",
       "    </tr>\n",
       "  </tbody>\n",
       "</table>\n",
       "<p>2 rows × 30 columns</p>\n",
       "</div>"
      ],
      "text/plain": [
       "           license  cartridge_lic             lic_date  lic_status  \\\n",
       "0  № 0340000001575              0           23.06.2014  Прекращена   \n",
       "1        № 0008240              0  2016-09-23 00:00:00  Прекращена   \n",
       "\n",
       "     exp_date  year                        name                  shortname  \\\n",
       "0  31.12.2999  2999  ООО \"МИР ОХОТЫ-ВОЛГОГРАД\"   ООО \"МИР ОХОТЫ-ВОЛГОГРАД\"   \n",
       "1  31.12.2999  2999       ООО \"АРСЕНАЛ-РЯЗАНЬ\"        ООО \"АРСЕНАЛ-РЯЗАНЬ\"   \n",
       "\n",
       "              brandname             organizational and legal form  ...  \\\n",
       "0             МИР ОХОТЫ  Общества с ограниченной ответственностью  ...   \n",
       "1  ООО \"АРСЕНАЛ-РЯЗАНЬ\"  Общества с ограниченной ответственностью  ...   \n",
       "\n",
       "     order_date                                         division  \\\n",
       "0  23.06.2014.1   Управление Росгвардии по Волгоградской области   \n",
       "1    06.06.2017  ЦЛРР Управления Росгвардии по Рязанской области   \n",
       "\n",
       "  suspension_period termination_date verification_date verification_basis  \\\n",
       "0               NaN       18.05.2018               NaN                NaN   \n",
       "1               NaN       07.06.2017        03.10.2016   Внеплановая,Иное   \n",
       "\n",
       "  act_details prescription regulations        entering_date  \n",
       "0         NaN          NaN         NaN  2018-05-18 00:00:00  \n",
       "1         NaN          NaN         NaN           07.06.2017  \n",
       "\n",
       "[2 rows x 30 columns]"
      ]
     },
     "execution_count": 11,
     "metadata": {},
     "output_type": "execute_result"
    }
   ],
   "source": [
    "work_lic_gun.head(2)"
   ]
  },
  {
   "cell_type": "code",
   "execution_count": 12,
   "id": "5f593a34",
   "metadata": {
    "scrolled": true
   },
   "outputs": [
    {
     "data": {
      "text/plain": [
       "Index(['license', 'cartridge_lic', 'lic_date', 'lic_status', 'exp_date',\n",
       "       'year', 'name', 'shortname', 'brandname',\n",
       "       'organizational and legal form', 'address', 'federal_district',\n",
       "       'region_iso', 'region_off_name', 'region_shortname', 'ogrn', 'inn',\n",
       "       'okved', 'activities', 'odrer_number', 'order_date', 'division',\n",
       "       'suspension_period', 'termination_date', 'verification_date',\n",
       "       'verification_basis', 'act_details', 'prescription', 'regulations',\n",
       "       'entering_date'],\n",
       "      dtype='object')"
      ]
     },
     "execution_count": 12,
     "metadata": {},
     "output_type": "execute_result"
    }
   ],
   "source": [
    "work_lic_gun.columns"
   ]
  },
  {
   "cell_type": "code",
   "execution_count": 13,
   "id": "10707fd5",
   "metadata": {
    "scrolled": true
   },
   "outputs": [
    {
     "data": {
      "text/plain": [
       "ОБЩЕСТВО С ОГРАНИЧЕННОЙ ОТВЕТСТВЕННОСТЬЮ \"ОХОТНИК\"                                  34\n",
       "ОБЩЕСТВО С ОГРАНИЧЕННОЙ ОТВЕТСТВЕННОСТЬЮ \"АРСЕНАЛ\"                                  19\n",
       "ОБЩЕСТВО С ОГРАНИЧЕННОЙ ОТВЕТСТВЕННОСТЬЮ \"БЕРКУТ\"                                   12\n",
       "ОБЩЕСТВО С ОГРАНИЧЕННОЙ ОТВЕТСТВЕННОСТЬЮ \"ХАНТЕР\"                                    9\n",
       "ОБЩЕСТВО С ОГРАНИЧЕННОЙ ОТВЕТСТВЕННОСТЬЮ \"БАРС\"                                      9\n",
       "                                                                                    ..\n",
       "ОБЩЕСТВО С ОГРАНИЧЕННОЙ ОТВЕТСТВЕННОСТЬЮ \"МЕЖДУНАРОДНЫЙ ЦЕНТР ОХОТЫ И РЫБАЛКИ\"       1\n",
       "ОБЩЕСТВО С ОГРАНИЧЕННОЙ ОТВЕТСТВЕННОСТЬЮ \"ТОРГОВЫЙ ДОМ \"ЛОБАЕВ АРМС\"                 1\n",
       "ОБЩЕСТВО С ОГРАНИЧЕННОЙ ОТВЕТСТВЕННОСТЬЮ \"ОХРАННОЕ ПРЕДПРИЯТИЕ \"ГЮРЗА\"               1\n",
       "ОБЩЕСТВО С ОГРАНИЧЕННОЙ ОТВЕТСТВЕННОСТЬЮ \"АЛЬФА ПРЕСИЖЕН\"                            1\n",
       "ОБЩЕСТВО С ОГРАНИЧЕННОЙ ОТВЕТСТВЕННОСТЬЮ ЧАСТНАЯ ОХРАННАЯ ОРГАНИЗАЦИЯ \"РАДОН-СБ\"     1\n",
       "Name: name, Length: 840, dtype: int64"
      ]
     },
     "execution_count": 13,
     "metadata": {},
     "output_type": "execute_result"
    }
   ],
   "source": [
    "work_lic_gun['name'].value_counts()"
   ]
  },
  {
   "cell_type": "code",
   "execution_count": 14,
   "id": "fd64cc98",
   "metadata": {
    "scrolled": true
   },
   "outputs": [
    {
     "data": {
      "text/plain": [
       "1039"
      ]
     },
     "execution_count": 14,
     "metadata": {},
     "output_type": "execute_result"
    }
   ],
   "source": [
    "# всего организаций\n",
    "\n",
    "work_lic_gun['inn'].nunique()"
   ]
  },
  {
   "cell_type": "code",
   "execution_count": 15,
   "id": "00dc0bad",
   "metadata": {
    "scrolled": true
   },
   "outputs": [
    {
     "data": {
      "text/html": [
       "<div>\n",
       "<style scoped>\n",
       "    .dataframe tbody tr th:only-of-type {\n",
       "        vertical-align: middle;\n",
       "    }\n",
       "\n",
       "    .dataframe tbody tr th {\n",
       "        vertical-align: top;\n",
       "    }\n",
       "\n",
       "    .dataframe thead th {\n",
       "        text-align: right;\n",
       "    }\n",
       "</style>\n",
       "<table border=\"1\" class=\"dataframe\">\n",
       "  <thead>\n",
       "    <tr style=\"text-align: right;\">\n",
       "      <th></th>\n",
       "      <th>index</th>\n",
       "      <th>lic_status</th>\n",
       "    </tr>\n",
       "  </thead>\n",
       "  <tbody>\n",
       "    <tr>\n",
       "      <th>0</th>\n",
       "      <td>Действует</td>\n",
       "      <td>875</td>\n",
       "    </tr>\n",
       "    <tr>\n",
       "      <th>1</th>\n",
       "      <td>Прекращена</td>\n",
       "      <td>149</td>\n",
       "    </tr>\n",
       "    <tr>\n",
       "      <th>2</th>\n",
       "      <td>Переоформлена</td>\n",
       "      <td>58</td>\n",
       "    </tr>\n",
       "    <tr>\n",
       "      <th>3</th>\n",
       "      <td>Аннулирована</td>\n",
       "      <td>54</td>\n",
       "    </tr>\n",
       "    <tr>\n",
       "      <th>4</th>\n",
       "      <td>Продлена</td>\n",
       "      <td>4</td>\n",
       "    </tr>\n",
       "  </tbody>\n",
       "</table>\n",
       "</div>"
      ],
      "text/plain": [
       "           index  lic_status\n",
       "0      Действует         875\n",
       "1     Прекращена         149\n",
       "2  Переоформлена          58\n",
       "3   Аннулирована          54\n",
       "4       Продлена           4"
      ]
     },
     "execution_count": 15,
     "metadata": {},
     "output_type": "execute_result"
    }
   ],
   "source": [
    "work_lic_gun['lic_status'].value_counts().reset_index()"
   ]
  },
  {
   "cell_type": "code",
   "execution_count": 16,
   "id": "7b4209bf",
   "metadata": {
    "scrolled": true
   },
   "outputs": [
    {
     "data": {
      "text/plain": [
       "1    912\n",
       "0    127\n",
       "Name: cartridge_lic, dtype: int64"
      ]
     },
     "execution_count": 16,
     "metadata": {},
     "output_type": "execute_result"
    }
   ],
   "source": [
    "# лицензии на патроны\n",
    "\n",
    "work_lic_gun[['inn', 'cartridge_lic']].drop_duplicates().cartridge_lic.value_counts()"
   ]
  },
  {
   "cell_type": "code",
   "execution_count": 17,
   "id": "49525638",
   "metadata": {
    "scrolled": true
   },
   "outputs": [
    {
     "data": {
      "text/plain": [
       "1    776\n",
       "0     69\n",
       "Name: cartridge_lic, dtype: int64"
      ]
     },
     "execution_count": 17,
     "metadata": {},
     "output_type": "execute_result"
    }
   ],
   "source": [
    "# лицензии на патроны\n",
    "\n",
    "(work_lic_gun[work_lic_gun['lic_status'] == 'Действует']\n",
    " [['inn', 'cartridge_lic']].drop_duplicates().cartridge_lic.value_counts()\n",
    ")"
   ]
  },
  {
   "cell_type": "code",
   "execution_count": null,
   "id": "e3e05067",
   "metadata": {
    "scrolled": true
   },
   "outputs": [],
   "source": []
  },
  {
   "cell_type": "markdown",
   "id": "daf96749",
   "metadata": {},
   "source": [
    "#### Патроны"
   ]
  },
  {
   "cell_type": "code",
   "execution_count": 18,
   "id": "5e87a0ab",
   "metadata": {
    "scrolled": true
   },
   "outputs": [
    {
     "data": {
      "text/html": [
       "<div>\n",
       "<style scoped>\n",
       "    .dataframe tbody tr th:only-of-type {\n",
       "        vertical-align: middle;\n",
       "    }\n",
       "\n",
       "    .dataframe tbody tr th {\n",
       "        vertical-align: top;\n",
       "    }\n",
       "\n",
       "    .dataframe thead th {\n",
       "        text-align: right;\n",
       "    }\n",
       "</style>\n",
       "<table border=\"1\" class=\"dataframe\">\n",
       "  <thead>\n",
       "    <tr style=\"text-align: right;\">\n",
       "      <th></th>\n",
       "      <th>license</th>\n",
       "      <th>gun_lic</th>\n",
       "      <th>lic_date</th>\n",
       "      <th>lic_status</th>\n",
       "      <th>exp_date</th>\n",
       "      <th>name</th>\n",
       "      <th>shortname</th>\n",
       "      <th>brandname</th>\n",
       "      <th>organizational and legal form</th>\n",
       "      <th>address</th>\n",
       "      <th>...</th>\n",
       "      <th>order_date</th>\n",
       "      <th>division</th>\n",
       "      <th>suspension_period</th>\n",
       "      <th>termination_date</th>\n",
       "      <th>verification_date</th>\n",
       "      <th>verification_basis</th>\n",
       "      <th>act_details</th>\n",
       "      <th>prescription</th>\n",
       "      <th>regulations</th>\n",
       "      <th>entering_date</th>\n",
       "    </tr>\n",
       "  </thead>\n",
       "  <tbody>\n",
       "    <tr>\n",
       "      <th>0</th>\n",
       "      <td>ТП № 0001169</td>\n",
       "      <td>1</td>\n",
       "      <td>14.11.2016</td>\n",
       "      <td>Действует</td>\n",
       "      <td>31.12.2999</td>\n",
       "      <td>ОБЩЕСТВО С ОГРАНИЧЕННОЙ ОТВЕТСТВЕННОСТЬЮ \"АРТЕ...</td>\n",
       "      <td>ООО \"АРТЕМИДА\"</td>\n",
       "      <td>NaN</td>\n",
       "      <td>Общества с ограниченной ответственностью</td>\n",
       "      <td>обл. Волгоградская, г. Волгоград, пр-кт. Метал...</td>\n",
       "      <td>...</td>\n",
       "      <td>14.11.2016.1</td>\n",
       "      <td>Управление Росгвардии по Волгоградской области</td>\n",
       "      <td>NaN</td>\n",
       "      <td>NaN</td>\n",
       "      <td>NaN</td>\n",
       "      <td>NaN</td>\n",
       "      <td>NaN</td>\n",
       "      <td>NaN</td>\n",
       "      <td>NaN</td>\n",
       "      <td>16.12.2018</td>\n",
       "    </tr>\n",
       "    <tr>\n",
       "      <th>1</th>\n",
       "      <td>0001171</td>\n",
       "      <td>1</td>\n",
       "      <td>30.06.2017</td>\n",
       "      <td>Действует</td>\n",
       "      <td>31.12.2999</td>\n",
       "      <td>ОБЩЕСТВО С ОГРАНИЧЕННОЙ ОТВЕТСТВЕННОСТЬЮ \"КАЛИБР\"</td>\n",
       "      <td>ООО \"КАЛИБР\"</td>\n",
       "      <td>NaN</td>\n",
       "      <td>Общества с ограниченной ответственностью</td>\n",
       "      <td>обл. Волгоградская, г. Волгоград, пр-кт. им Ма...</td>\n",
       "      <td>...</td>\n",
       "      <td>30.06.2017</td>\n",
       "      <td>Управление Росгвардии по Волгоградской области</td>\n",
       "      <td>NaN</td>\n",
       "      <td>NaN</td>\n",
       "      <td>NaN</td>\n",
       "      <td>NaN</td>\n",
       "      <td>NaN</td>\n",
       "      <td>NaN</td>\n",
       "      <td>NaN</td>\n",
       "      <td>16.12.2018</td>\n",
       "    </tr>\n",
       "  </tbody>\n",
       "</table>\n",
       "<p>2 rows × 30 columns</p>\n",
       "</div>"
      ],
      "text/plain": [
       "        license  gun_lic    lic_date lic_status    exp_date  \\\n",
       "0  ТП № 0001169        1  14.11.2016  Действует  31.12.2999   \n",
       "1       0001171        1  30.06.2017  Действует  31.12.2999   \n",
       "\n",
       "                                                name       shortname  \\\n",
       "0  ОБЩЕСТВО С ОГРАНИЧЕННОЙ ОТВЕТСТВЕННОСТЬЮ \"АРТЕ...  ООО \"АРТЕМИДА\"   \n",
       "1  ОБЩЕСТВО С ОГРАНИЧЕННОЙ ОТВЕТСТВЕННОСТЬЮ \"КАЛИБР\"    ООО \"КАЛИБР\"   \n",
       "\n",
       "  brandname             organizational and legal form  \\\n",
       "0       NaN  Общества с ограниченной ответственностью   \n",
       "1       NaN  Общества с ограниченной ответственностью   \n",
       "\n",
       "                                             address  ...    order_date  \\\n",
       "0  обл. Волгоградская, г. Волгоград, пр-кт. Метал...  ...  14.11.2016.1   \n",
       "1  обл. Волгоградская, г. Волгоград, пр-кт. им Ма...  ...    30.06.2017   \n",
       "\n",
       "                                         division suspension_period  \\\n",
       "0  Управление Росгвардии по Волгоградской области               NaN   \n",
       "1  Управление Росгвардии по Волгоградской области               NaN   \n",
       "\n",
       "  termination_date verification_date verification_basis act_details  \\\n",
       "0              NaN               NaN                NaN         NaN   \n",
       "1              NaN               NaN                NaN         NaN   \n",
       "\n",
       "  prescription regulations entering_date  \n",
       "0          NaN         NaN    16.12.2018  \n",
       "1          NaN         NaN    16.12.2018  \n",
       "\n",
       "[2 rows x 30 columns]"
      ]
     },
     "execution_count": 18,
     "metadata": {},
     "output_type": "execute_result"
    }
   ],
   "source": [
    "work_lic_cartridges.head(2)"
   ]
  },
  {
   "cell_type": "code",
   "execution_count": 19,
   "id": "c0eb37ea",
   "metadata": {
    "scrolled": true
   },
   "outputs": [
    {
     "data": {
      "text/html": [
       "<div>\n",
       "<style scoped>\n",
       "    .dataframe tbody tr th:only-of-type {\n",
       "        vertical-align: middle;\n",
       "    }\n",
       "\n",
       "    .dataframe tbody tr th {\n",
       "        vertical-align: top;\n",
       "    }\n",
       "\n",
       "    .dataframe thead th {\n",
       "        text-align: right;\n",
       "    }\n",
       "</style>\n",
       "<table border=\"1\" class=\"dataframe\">\n",
       "  <thead>\n",
       "    <tr style=\"text-align: right;\">\n",
       "      <th></th>\n",
       "      <th>index</th>\n",
       "      <th>lic_status</th>\n",
       "    </tr>\n",
       "  </thead>\n",
       "  <tbody>\n",
       "    <tr>\n",
       "      <th>0</th>\n",
       "      <td>Действует</td>\n",
       "      <td>818</td>\n",
       "    </tr>\n",
       "    <tr>\n",
       "      <th>1</th>\n",
       "      <td>Прекращена</td>\n",
       "      <td>105</td>\n",
       "    </tr>\n",
       "    <tr>\n",
       "      <th>2</th>\n",
       "      <td>Переоформлена</td>\n",
       "      <td>45</td>\n",
       "    </tr>\n",
       "    <tr>\n",
       "      <th>3</th>\n",
       "      <td>Аннулирована</td>\n",
       "      <td>36</td>\n",
       "    </tr>\n",
       "    <tr>\n",
       "      <th>4</th>\n",
       "      <td>Продлена</td>\n",
       "      <td>3</td>\n",
       "    </tr>\n",
       "  </tbody>\n",
       "</table>\n",
       "</div>"
      ],
      "text/plain": [
       "           index  lic_status\n",
       "0      Действует         818\n",
       "1     Прекращена         105\n",
       "2  Переоформлена          45\n",
       "3   Аннулирована          36\n",
       "4       Продлена           3"
      ]
     },
     "execution_count": 19,
     "metadata": {},
     "output_type": "execute_result"
    }
   ],
   "source": [
    "work_lic_cartridges['lic_status'].value_counts().reset_index()"
   ]
  },
  {
   "cell_type": "code",
   "execution_count": 20,
   "id": "bd8c93dd",
   "metadata": {
    "scrolled": true
   },
   "outputs": [
    {
     "data": {
      "text/plain": [
       "1    912\n",
       "0     34\n",
       "Name: gun_lic, dtype: int64"
      ]
     },
     "execution_count": 20,
     "metadata": {},
     "output_type": "execute_result"
    }
   ],
   "source": [
    "work_lic_cartridges[['inn', 'gun_lic']].drop_duplicates().gun_lic.value_counts()"
   ]
  },
  {
   "cell_type": "code",
   "execution_count": 21,
   "id": "5485bbf5",
   "metadata": {
    "scrolled": true
   },
   "outputs": [
    {
     "data": {
      "text/plain": [
       "1    775\n",
       "0     23\n",
       "Name: gun_lic, dtype: int64"
      ]
     },
     "execution_count": 21,
     "metadata": {},
     "output_type": "execute_result"
    }
   ],
   "source": [
    "(work_lic_cartridges[work_lic_cartridges['lic_status'] == 'Действует']\n",
    " [['inn', 'gun_lic']].drop_duplicates().gun_lic.value_counts()\n",
    ")"
   ]
  },
  {
   "cell_type": "code",
   "execution_count": null,
   "id": "65f5fc97",
   "metadata": {
    "scrolled": true
   },
   "outputs": [],
   "source": []
  },
  {
   "cell_type": "markdown",
   "id": "a9339486",
   "metadata": {},
   "source": [
    "## Очищенные листы"
   ]
  },
  {
   "cell_type": "code",
   "execution_count": 44,
   "id": "c012868f",
   "metadata": {},
   "outputs": [
    {
     "data": {
      "text/plain": [
       "(863, 30)"
      ]
     },
     "execution_count": 44,
     "metadata": {},
     "output_type": "execute_result"
    }
   ],
   "source": [
    "# загружаю лицензии на оружие\n",
    "\n",
    "work_lic_gun = pd.read_excel(file_path + need_file, sheet_name='gun_2021_12_28')\n",
    "\n",
    "work_lic_gun.shape"
   ]
  },
  {
   "cell_type": "code",
   "execution_count": 45,
   "id": "809053bc",
   "metadata": {},
   "outputs": [
    {
     "data": {
      "text/plain": [
       "(815, 29)"
      ]
     },
     "execution_count": 45,
     "metadata": {},
     "output_type": "execute_result"
    }
   ],
   "source": [
    "# загружаю лицензии на патроны\n",
    "\n",
    "work_lic_cartridges = pd.read_excel(file_path + need_file, sheet_name='cartridges_2021_12_28')\n",
    "\n",
    "work_lic_cartridges.shape"
   ]
  },
  {
   "cell_type": "code",
   "execution_count": 46,
   "id": "5ad2457a",
   "metadata": {},
   "outputs": [
    {
     "data": {
      "text/plain": [
       "ИНН: 0104014985    1\n",
       "ИНН: 5836652505    1\n",
       "ИНН: 5837012875    1\n",
       "ИНН: 5837073194    1\n",
       "ИНН: 5904114120    1\n",
       "Name: inn, dtype: int64"
      ]
     },
     "execution_count": 46,
     "metadata": {},
     "output_type": "execute_result"
    }
   ],
   "source": [
    "work_lic_gun['inn'].value_counts().head()"
   ]
  },
  {
   "cell_type": "code",
   "execution_count": 47,
   "id": "8e241660",
   "metadata": {},
   "outputs": [
    {
     "data": {
      "text/plain": [
       "47.78.9    231\n",
       "47.78.7    132\n",
       "47.64      130\n",
       "47.7        78\n",
       "47.78       70\n",
       "          ... \n",
       "25.50        1\n",
       "95.29        1\n",
       "56.10        1\n",
       "55.90        1\n",
       "38.21        1\n",
       "Name: okved, Length: 75, dtype: int64"
      ]
     },
     "execution_count": 47,
     "metadata": {},
     "output_type": "execute_result"
    }
   ],
   "source": [
    "work_lic_gun['okved'].value_counts()"
   ]
  },
  {
   "cell_type": "code",
   "execution_count": 48,
   "id": "9754ea4d",
   "metadata": {
    "scrolled": true
   },
   "outputs": [],
   "source": [
    "work_lic_gun_need = work_lic_gun[[\n",
    "    'cartridge_lic',\n",
    "    'name', 'shortname',\n",
    "    'address', 'region_shortname',\n",
    "    'inn', 'okved']].drop_duplicates()"
   ]
  },
  {
   "cell_type": "code",
   "execution_count": 49,
   "id": "9b8f5072",
   "metadata": {
    "scrolled": true
   },
   "outputs": [
    {
     "data": {
      "text/plain": [
       "(863, 7)"
      ]
     },
     "execution_count": 49,
     "metadata": {},
     "output_type": "execute_result"
    }
   ],
   "source": [
    "work_lic_gun_need.shape"
   ]
  },
  {
   "cell_type": "code",
   "execution_count": 50,
   "id": "587c8844",
   "metadata": {
    "scrolled": true
   },
   "outputs": [
    {
     "data": {
      "text/html": [
       "<div>\n",
       "<style scoped>\n",
       "    .dataframe tbody tr th:only-of-type {\n",
       "        vertical-align: middle;\n",
       "    }\n",
       "\n",
       "    .dataframe tbody tr th {\n",
       "        vertical-align: top;\n",
       "    }\n",
       "\n",
       "    .dataframe thead th {\n",
       "        text-align: right;\n",
       "    }\n",
       "</style>\n",
       "<table border=\"1\" class=\"dataframe\">\n",
       "  <thead>\n",
       "    <tr style=\"text-align: right;\">\n",
       "      <th></th>\n",
       "      <th>cartridge_lic</th>\n",
       "      <th>name</th>\n",
       "      <th>shortname</th>\n",
       "      <th>address</th>\n",
       "      <th>region_shortname</th>\n",
       "      <th>inn</th>\n",
       "      <th>okved</th>\n",
       "    </tr>\n",
       "  </thead>\n",
       "  <tbody>\n",
       "    <tr>\n",
       "      <th>148</th>\n",
       "      <td>1</td>\n",
       "      <td>ОБЩЕСТВО С ОГРАНИЧЕННОЙ ОТВЕТСТВЕННОСТЬЮ \"ЛОВЧИЙ\"</td>\n",
       "      <td>ООО \"ЛОВЧИЙ\"</td>\n",
       "      <td>ЧУВАШСКАЯ РЕСПУБЛИКА, Чебоксары, Водопроводная...</td>\n",
       "      <td>Чувашия</td>\n",
       "      <td>ИНН: 2130036756</td>\n",
       "      <td>47.64</td>\n",
       "    </tr>\n",
       "    <tr>\n",
       "      <th>78</th>\n",
       "      <td>1</td>\n",
       "      <td>ОБЩЕСТВО С ОГРАНИЧЕННОЙ ОТВЕТСТВЕННОСТЬЮ \"АРСЕ...</td>\n",
       "      <td>ООО \"АРСЕНАЛ\"</td>\n",
       "      <td>Респ. Коми, г. Сыктывкар, ул. Северная, с65</td>\n",
       "      <td>Коми</td>\n",
       "      <td>ИНН: 1101076833</td>\n",
       "      <td>47.5</td>\n",
       "    </tr>\n",
       "  </tbody>\n",
       "</table>\n",
       "</div>"
      ],
      "text/plain": [
       "     cartridge_lic                                               name  \\\n",
       "148              1  ОБЩЕСТВО С ОГРАНИЧЕННОЙ ОТВЕТСТВЕННОСТЬЮ \"ЛОВЧИЙ\"   \n",
       "78               1  ОБЩЕСТВО С ОГРАНИЧЕННОЙ ОТВЕТСТВЕННОСТЬЮ \"АРСЕ...   \n",
       "\n",
       "         shortname                                            address  \\\n",
       "148   ООО \"ЛОВЧИЙ\"  ЧУВАШСКАЯ РЕСПУБЛИКА, Чебоксары, Водопроводная...   \n",
       "78   ООО \"АРСЕНАЛ\"        Респ. Коми, г. Сыктывкар, ул. Северная, с65   \n",
       "\n",
       "    region_shortname              inn  okved  \n",
       "148          Чувашия  ИНН: 2130036756  47.64  \n",
       "78              Коми  ИНН: 1101076833   47.5  "
      ]
     },
     "execution_count": 50,
     "metadata": {},
     "output_type": "execute_result"
    }
   ],
   "source": [
    "work_lic_gun_need.sample(2)"
   ]
  },
  {
   "cell_type": "code",
   "execution_count": 51,
   "id": "d7e026a3",
   "metadata": {},
   "outputs": [],
   "source": [
    "work_lic_gun_region = (work_lic_gun_need.groupby('region_shortname', as_index=False)\n",
    " .agg({'inn': 'count'})\n",
    " .rename(columns={'inn': 'shop_number'})\n",
    ")"
   ]
  },
  {
   "cell_type": "code",
   "execution_count": 52,
   "id": "dc4eae24",
   "metadata": {},
   "outputs": [],
   "source": [
    "work_lic_gun_region = work_lic_gun_region.merge(rus_regions, on='region_shortname', how='left')"
   ]
  },
  {
   "cell_type": "code",
   "execution_count": 70,
   "id": "a82b232e",
   "metadata": {},
   "outputs": [],
   "source": [
    "work_lic_gun_region['for_10ph'] = work_lic_gun_region['shop_number'] / work_lic_gun_region['population_th']"
   ]
  },
  {
   "cell_type": "code",
   "execution_count": 71,
   "id": "a74fbccb",
   "metadata": {},
   "outputs": [
    {
     "data": {
      "text/html": [
       "<div>\n",
       "<style scoped>\n",
       "    .dataframe tbody tr th:only-of-type {\n",
       "        vertical-align: middle;\n",
       "    }\n",
       "\n",
       "    .dataframe tbody tr th {\n",
       "        vertical-align: top;\n",
       "    }\n",
       "\n",
       "    .dataframe thead th {\n",
       "        text-align: right;\n",
       "    }\n",
       "</style>\n",
       "<table border=\"1\" class=\"dataframe\">\n",
       "  <thead>\n",
       "    <tr style=\"text-align: right;\">\n",
       "      <th></th>\n",
       "      <th>region_shortname</th>\n",
       "      <th>shop_number</th>\n",
       "      <th>federal_district</th>\n",
       "      <th>square</th>\n",
       "      <th>population_th</th>\n",
       "      <th>density</th>\n",
       "      <th>municipality_number</th>\n",
       "      <th>for_10ph</th>\n",
       "    </tr>\n",
       "  </thead>\n",
       "  <tbody>\n",
       "    <tr>\n",
       "      <th>0</th>\n",
       "      <td>Адыгея</td>\n",
       "      <td>5</td>\n",
       "      <td>Южный ФО</td>\n",
       "      <td>7.8</td>\n",
       "      <td>463.2</td>\n",
       "      <td>59.4</td>\n",
       "      <td>60</td>\n",
       "      <td>0.010794</td>\n",
       "    </tr>\n",
       "    <tr>\n",
       "      <th>1</th>\n",
       "      <td>Алтай</td>\n",
       "      <td>5</td>\n",
       "      <td>Сибирский ФО</td>\n",
       "      <td>92.9</td>\n",
       "      <td>221.0</td>\n",
       "      <td>2.4</td>\n",
       "      <td>102</td>\n",
       "      <td>0.022624</td>\n",
       "    </tr>\n",
       "    <tr>\n",
       "      <th>2</th>\n",
       "      <td>Алтайский край</td>\n",
       "      <td>16</td>\n",
       "      <td>Сибирский ФО</td>\n",
       "      <td>168.0</td>\n",
       "      <td>2296.4</td>\n",
       "      <td>13.7</td>\n",
       "      <td>717</td>\n",
       "      <td>0.006967</td>\n",
       "    </tr>\n",
       "    <tr>\n",
       "      <th>3</th>\n",
       "      <td>Амурская область</td>\n",
       "      <td>10</td>\n",
       "      <td>Дальневосточный ФО</td>\n",
       "      <td>361.9</td>\n",
       "      <td>781.9</td>\n",
       "      <td>2.2</td>\n",
       "      <td>262</td>\n",
       "      <td>0.012789</td>\n",
       "    </tr>\n",
       "    <tr>\n",
       "      <th>4</th>\n",
       "      <td>Архангельская область</td>\n",
       "      <td>8</td>\n",
       "      <td>Северо-Западный ФО</td>\n",
       "      <td>413.1</td>\n",
       "      <td>1082.7</td>\n",
       "      <td>2.6</td>\n",
       "      <td>197</td>\n",
       "      <td>0.007389</td>\n",
       "    </tr>\n",
       "    <tr>\n",
       "      <th>...</th>\n",
       "      <td>...</td>\n",
       "      <td>...</td>\n",
       "      <td>...</td>\n",
       "      <td>...</td>\n",
       "      <td>...</td>\n",
       "      <td>...</td>\n",
       "      <td>...</td>\n",
       "      <td>...</td>\n",
       "    </tr>\n",
       "    <tr>\n",
       "      <th>80</th>\n",
       "      <td>Чечня</td>\n",
       "      <td>2</td>\n",
       "      <td>Северо-Кавказский ФО</td>\n",
       "      <td>15.6</td>\n",
       "      <td>1498.0</td>\n",
       "      <td>95.7</td>\n",
       "      <td>234</td>\n",
       "      <td>0.001335</td>\n",
       "    </tr>\n",
       "    <tr>\n",
       "      <th>81</th>\n",
       "      <td>Чувашия</td>\n",
       "      <td>4</td>\n",
       "      <td>Приволжский ФО</td>\n",
       "      <td>18.3</td>\n",
       "      <td>1207.9</td>\n",
       "      <td>65.8</td>\n",
       "      <td>317</td>\n",
       "      <td>0.003312</td>\n",
       "    </tr>\n",
       "    <tr>\n",
       "      <th>82</th>\n",
       "      <td>Чукотский АО</td>\n",
       "      <td>3</td>\n",
       "      <td>Дальневосточный ФО</td>\n",
       "      <td>721.5</td>\n",
       "      <td>49.5</td>\n",
       "      <td>0.1</td>\n",
       "      <td>30</td>\n",
       "      <td>0.060606</td>\n",
       "    </tr>\n",
       "    <tr>\n",
       "      <th>83</th>\n",
       "      <td>Ямало-Ненецкий АО</td>\n",
       "      <td>3</td>\n",
       "      <td>Уральский ФО</td>\n",
       "      <td>769.3</td>\n",
       "      <td>547.0</td>\n",
       "      <td>0.7</td>\n",
       "      <td>33</td>\n",
       "      <td>0.005484</td>\n",
       "    </tr>\n",
       "    <tr>\n",
       "      <th>84</th>\n",
       "      <td>Ярославская область</td>\n",
       "      <td>6</td>\n",
       "      <td>Центральный ФО</td>\n",
       "      <td>36.2</td>\n",
       "      <td>1241.4</td>\n",
       "      <td>34.3</td>\n",
       "      <td>96</td>\n",
       "      <td>0.004833</td>\n",
       "    </tr>\n",
       "  </tbody>\n",
       "</table>\n",
       "<p>85 rows × 8 columns</p>\n",
       "</div>"
      ],
      "text/plain": [
       "         region_shortname  shop_number      federal_district  square  \\\n",
       "0                  Адыгея            5              Южный ФО     7.8   \n",
       "1                   Алтай            5          Сибирский ФО    92.9   \n",
       "2          Алтайский край           16          Сибирский ФО   168.0   \n",
       "3        Амурская область           10    Дальневосточный ФО   361.9   \n",
       "4   Архангельская область            8    Северо-Западный ФО   413.1   \n",
       "..                    ...          ...                   ...     ...   \n",
       "80                  Чечня            2  Северо-Кавказский ФО    15.6   \n",
       "81                Чувашия            4        Приволжский ФО    18.3   \n",
       "82           Чукотский АО            3    Дальневосточный ФО   721.5   \n",
       "83      Ямало-Ненецкий АО            3          Уральский ФО   769.3   \n",
       "84    Ярославская область            6        Центральный ФО    36.2   \n",
       "\n",
       "    population_th  density  municipality_number  for_10ph  \n",
       "0           463.2     59.4                   60  0.010794  \n",
       "1           221.0      2.4                  102  0.022624  \n",
       "2          2296.4     13.7                  717  0.006967  \n",
       "3           781.9      2.2                  262  0.012789  \n",
       "4          1082.7      2.6                  197  0.007389  \n",
       "..            ...      ...                  ...       ...  \n",
       "80         1498.0     95.7                  234  0.001335  \n",
       "81         1207.9     65.8                  317  0.003312  \n",
       "82           49.5      0.1                   30  0.060606  \n",
       "83          547.0      0.7                   33  0.005484  \n",
       "84         1241.4     34.3                   96  0.004833  \n",
       "\n",
       "[85 rows x 8 columns]"
      ]
     },
     "execution_count": 71,
     "metadata": {},
     "output_type": "execute_result"
    }
   ],
   "source": [
    "work_lic_gun_region"
   ]
  },
  {
   "cell_type": "code",
   "execution_count": 72,
   "id": "b9061676",
   "metadata": {
    "scrolled": true
   },
   "outputs": [],
   "source": [
    "#work_lic_gun_region.to_excel(file_path + 'temp.xlsx', index=False)"
   ]
  },
  {
   "cell_type": "code",
   "execution_count": null,
   "id": "c3d1b760",
   "metadata": {},
   "outputs": [],
   "source": []
  },
  {
   "cell_type": "markdown",
   "id": "8212efb6",
   "metadata": {},
   "source": [
    "### Магазины с ОКВЭД 47.78.7\n",
    "\n",
    "Торговля розничная оружием и боеприпасами в специализированных магазинах"
   ]
  },
  {
   "cell_type": "code",
   "execution_count": 80,
   "id": "7b0e9623",
   "metadata": {},
   "outputs": [],
   "source": [
    "work_lic_gun_shops = work_lic_gun_need[work_lic_gun_need['okved'] == '47.78.7']"
   ]
  },
  {
   "cell_type": "code",
   "execution_count": 91,
   "id": "a561a183",
   "metadata": {},
   "outputs": [],
   "source": [
    "fin_report = pd.read_excel('C:/01_Projects/01_gun_russia/Data/bo_nalog/fin_report.xlsx')"
   ]
  },
  {
   "cell_type": "code",
   "execution_count": 93,
   "id": "c31c63aa",
   "metadata": {},
   "outputs": [],
   "source": [
    "fin_report = work_lic_gun_shops[['inn']].merge(fin_report, how='left', on='inn')"
   ]
  },
  {
   "cell_type": "code",
   "execution_count": 94,
   "id": "5e7c32b7",
   "metadata": {},
   "outputs": [],
   "source": [
    "fin_report.to_excel(file_path + 'temp.xlsx', index=False)"
   ]
  },
  {
   "cell_type": "code",
   "execution_count": null,
   "id": "4482d514",
   "metadata": {},
   "outputs": [],
   "source": []
  },
  {
   "cell_type": "code",
   "execution_count": 81,
   "id": "0473384a",
   "metadata": {},
   "outputs": [],
   "source": [
    "work_lic_gun_shops_reg = (work_lic_gun_shops.groupby('region_shortname', as_index=False)\n",
    " .agg({'inn': 'count'})\n",
    " .rename(columns={'inn': 'shop_number'})\n",
    ")"
   ]
  },
  {
   "cell_type": "code",
   "execution_count": 82,
   "id": "d4608254",
   "metadata": {},
   "outputs": [],
   "source": [
    "work_lic_gun_shops_reg\n",
    "work_lic_gun_shops_reg = work_lic_gun_shops_reg.merge(rus_regions, on='region_shortname', how='left')"
   ]
  },
  {
   "cell_type": "code",
   "execution_count": 79,
   "id": "72d1be83",
   "metadata": {},
   "outputs": [],
   "source": [
    "work_lic_gun_shops_reg.to_excel(file_path + 'temp.xlsx', index=False)"
   ]
  },
  {
   "cell_type": "code",
   "execution_count": null,
   "id": "a2145494",
   "metadata": {},
   "outputs": [],
   "source": [
    "work_lic_gun_shops"
   ]
  },
  {
   "cell_type": "code",
   "execution_count": null,
   "id": "21bf2645",
   "metadata": {
    "scrolled": true
   },
   "outputs": [],
   "source": [
    "work_lic_cartridges"
   ]
  },
  {
   "cell_type": "code",
   "execution_count": null,
   "id": "d5b46996",
   "metadata": {
    "scrolled": true
   },
   "outputs": [],
   "source": [
    "work_lic_cartridges[['inn']].sort_values('inn').to_excel(file_path + 'temp3.xlsx', index=False)"
   ]
  },
  {
   "cell_type": "code",
   "execution_count": null,
   "id": "ebfb8b9c",
   "metadata": {
    "scrolled": true
   },
   "outputs": [],
   "source": [
    "temp = pd.concat(work_lic_gun[['inn']].sort_values('inn'), work_lic_cartridges[['inn']].sort_values('inn'))"
   ]
  },
  {
   "cell_type": "code",
   "execution_count": null,
   "id": "4f6f3d8b",
   "metadata": {
    "scrolled": true
   },
   "outputs": [],
   "source": [
    "work_lic_gun['lic_status'].value_counts().reset_index()"
   ]
  },
  {
   "cell_type": "code",
   "execution_count": null,
   "id": "b35852a2",
   "metadata": {
    "scrolled": true
   },
   "outputs": [],
   "source": [
    "okved_2 = pd.read_excel(file_path + 'okved2_2022_01_01.xlsx')"
   ]
  },
  {
   "cell_type": "code",
   "execution_count": null,
   "id": "72bb6400",
   "metadata": {
    "scrolled": true
   },
   "outputs": [],
   "source": [
    "work_okved = (work_lic_gun[work_lic_gun['lic_status'] == 'Действует']\n",
    " ['okved'].value_counts().reset_index()\n",
    " .rename(columns={'index': 'code', 'okved': 'lic_number'})\n",
    ")"
   ]
  },
  {
   "cell_type": "code",
   "execution_count": null,
   "id": "247e0d5b",
   "metadata": {
    "scrolled": true
   },
   "outputs": [],
   "source": [
    "work_okved = work_okved.merge(okved_2, on='code', how='left')"
   ]
  },
  {
   "cell_type": "code",
   "execution_count": null,
   "id": "b83d73da",
   "metadata": {
    "scrolled": true
   },
   "outputs": [],
   "source": [
    "work_okved.to_excel(file_path + 'temp.xlsx', index=False)"
   ]
  },
  {
   "cell_type": "code",
   "execution_count": null,
   "id": "c7fd6f9d",
   "metadata": {
    "scrolled": true
   },
   "outputs": [],
   "source": [
    "work_lic_gun.head()"
   ]
  },
  {
   "cell_type": "code",
   "execution_count": null,
   "id": "a0d4a469",
   "metadata": {
    "scrolled": true
   },
   "outputs": [],
   "source": [
    "work_lic_gun_2 = work_lic_gun[['name', 'lic_status', 'inn']]\n",
    "\n",
    "work_lic_catr_2 = work_lic_catr[['name', 'lic_status', 'inn']]"
   ]
  },
  {
   "cell_type": "code",
   "execution_count": null,
   "id": "95cac29b",
   "metadata": {
    "scrolled": true
   },
   "outputs": [],
   "source": []
  },
  {
   "cell_type": "code",
   "execution_count": null,
   "id": "1fb0dc57",
   "metadata": {
    "scrolled": true
   },
   "outputs": [],
   "source": [
    "work_lic_gun.columns"
   ]
  },
  {
   "cell_type": "code",
   "execution_count": null,
   "id": "7b66119b",
   "metadata": {
    "scrolled": true
   },
   "outputs": [],
   "source": [
    "work_lic_gun_2.merge(work_lic_catr_2, how='left', on='inn').to_excel(file_path + 'temp.xlsx')"
   ]
  },
  {
   "cell_type": "code",
   "execution_count": null,
   "id": "b83f3fbd",
   "metadata": {
    "scrolled": true
   },
   "outputs": [],
   "source": [
    "# количество лицензий по регионам\n",
    "\n",
    "(work_lic_gun\n",
    " .groupby(['region_short_name', 'lic_status'], as_index=False)\n",
    " .agg({'name':'count'})\n",
    " .rename(columns={'name':'lic_number'})\n",
    " .sort_values('lic_number', ascending=False)\n",
    ")\n",
    "\n",
    "\n",
    "#.to_excel(file_path + 'temp.xlsx')"
   ]
  },
  {
   "cell_type": "code",
   "execution_count": null,
   "id": "7ab42723",
   "metadata": {
    "scrolled": true
   },
   "outputs": [],
   "source": [
    "work_okved.to_excel(file_path + 'temp.xlsx', index=False)"
   ]
  },
  {
   "cell_type": "code",
   "execution_count": null,
   "id": "000c15fd",
   "metadata": {
    "scrolled": true
   },
   "outputs": [],
   "source": []
  },
  {
   "cell_type": "code",
   "execution_count": null,
   "id": "df127b33",
   "metadata": {
    "scrolled": true
   },
   "outputs": [],
   "source": [
    "okved_2.sample(3)"
   ]
  },
  {
   "cell_type": "code",
   "execution_count": null,
   "id": "d7d50ce8",
   "metadata": {
    "scrolled": true
   },
   "outputs": [],
   "source": []
  },
  {
   "cell_type": "code",
   "execution_count": null,
   "id": "53c6036a",
   "metadata": {
    "scrolled": true
   },
   "outputs": [],
   "source": []
  },
  {
   "cell_type": "code",
   "execution_count": null,
   "id": "ca0f5f37",
   "metadata": {
    "scrolled": true
   },
   "outputs": [],
   "source": []
  },
  {
   "cell_type": "code",
   "execution_count": null,
   "id": "59bb7372",
   "metadata": {
    "scrolled": true
   },
   "outputs": [],
   "source": [
    "# статус лицензий\n",
    "\n",
    "work['lic_status'].value_counts().reset_index()"
   ]
  },
  {
   "cell_type": "code",
   "execution_count": null,
   "id": "8838a22e",
   "metadata": {
    "scrolled": true
   },
   "outputs": [],
   "source": [
    "# количество лицензий по регионам\n",
    "\n",
    "(work[work['lic_status'] == 'Действует']\n",
    " .groupby('region_short_name', as_index=False)\n",
    " .agg({'name':'count'})\n",
    " .rename(columns={'name':'lic_number'})\n",
    " .sort_values('lic_number', ascending=False)\n",
    ").head(10)"
   ]
  },
  {
   "cell_type": "code",
   "execution_count": null,
   "id": "82024620",
   "metadata": {
    "scrolled": true
   },
   "outputs": [],
   "source": [
    "# количество лицензий по регионам\n",
    "\n",
    "(work\n",
    " .groupby(['region_short_name', 'lic_status'], as_index=False)\n",
    " .agg({'name':'count'})\n",
    " .rename(columns={'name':'lic_number'})\n",
    " .sort_values('lic_number', ascending=False)\n",
    ").to_excel(file_path + 'temp.xlsx')"
   ]
  },
  {
   "cell_type": "code",
   "execution_count": null,
   "id": "f747c321",
   "metadata": {
    "scrolled": true
   },
   "outputs": [],
   "source": []
  },
  {
   "cell_type": "code",
   "execution_count": null,
   "id": "f91df929",
   "metadata": {
    "scrolled": true
   },
   "outputs": [],
   "source": [
    "work['inn'].nunique()"
   ]
  },
  {
   "cell_type": "code",
   "execution_count": null,
   "id": "a3f8a0a4",
   "metadata": {
    "scrolled": true
   },
   "outputs": [],
   "source": [
    "work['exp_date'].value_counts().reset_index()"
   ]
  },
  {
   "cell_type": "code",
   "execution_count": null,
   "id": "24812177",
   "metadata": {
    "scrolled": true
   },
   "outputs": [],
   "source": []
  },
  {
   "cell_type": "code",
   "execution_count": null,
   "id": "28e7a09f",
   "metadata": {
    "scrolled": true
   },
   "outputs": [],
   "source": []
  },
  {
   "cell_type": "code",
   "execution_count": null,
   "id": "3e59cfd9",
   "metadata": {
    "scrolled": true
   },
   "outputs": [],
   "source": [
    "work_222 = pd.read_excel(file_path + '222.xlsx')"
   ]
  },
  {
   "cell_type": "code",
   "execution_count": null,
   "id": "414a6351",
   "metadata": {
    "scrolled": true
   },
   "outputs": [],
   "source": [
    "work_222[work_222['Статья'] == '222ч.4']"
   ]
  },
  {
   "cell_type": "code",
   "execution_count": null,
   "id": "5b2f02d7",
   "metadata": {
    "scrolled": true
   },
   "outputs": [],
   "source": []
  },
  {
   "cell_type": "code",
   "execution_count": null,
   "id": "90d6f30b",
   "metadata": {
    "scrolled": true
   },
   "outputs": [],
   "source": [
    "work_minpromtorg = pd.read_excel('C:/01_Projects/gun_russia/Data/minpromtorg_gun_2022_01_12.xlsx', sheet_name='data')"
   ]
  },
  {
   "cell_type": "code",
   "execution_count": null,
   "id": "b4f931cb",
   "metadata": {
    "scrolled": true
   },
   "outputs": [],
   "source": [
    "temp = work_lic_gun.merge(work_minpromtorg, on='inn')"
   ]
  },
  {
   "cell_type": "code",
   "execution_count": null,
   "id": "4252b1a3",
   "metadata": {
    "scrolled": true
   },
   "outputs": [],
   "source": [
    "temp.to_excel(file_path + 'temp.xlsx', index=False)"
   ]
  },
  {
   "cell_type": "code",
   "execution_count": null,
   "id": "c9edbb95",
   "metadata": {
    "scrolled": true
   },
   "outputs": [],
   "source": []
  }
 ],
 "metadata": {
  "kernelspec": {
   "display_name": "Python 3 (ipykernel)",
   "language": "python",
   "name": "python3"
  },
  "language_info": {
   "codemirror_mode": {
    "name": "ipython",
    "version": 3
   },
   "file_extension": ".py",
   "mimetype": "text/x-python",
   "name": "python",
   "nbconvert_exporter": "python",
   "pygments_lexer": "ipython3",
   "version": "3.9.7"
  }
 },
 "nbformat": 4,
 "nbformat_minor": 5
}
